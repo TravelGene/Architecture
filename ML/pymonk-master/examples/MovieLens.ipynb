{
 "metadata": {
  "name": "",
  "signature": "sha256:977167960cc74f87a86e9e4bda70ff3859dfe034457e927037b92a2334498ada"
 },
 "nbformat": 3,
 "nbformat_minor": 0,
 "worksheets": [
  {
   "cells": [
    {
     "cell_type": "code",
     "collapsed": false,
     "input": [
      "import monk.core.api as monkapi"
     ],
     "language": "python",
     "metadata": {},
     "outputs": [],
     "prompt_number": 1
    },
    {
     "cell_type": "code",
     "collapsed": false,
     "input": [
      "from monk.roles.configuration import get_config"
     ],
     "language": "python",
     "metadata": {},
     "outputs": [],
     "prompt_number": 2
    },
    {
     "cell_type": "code",
     "collapsed": false,
     "input": [
      "config = get_config('monk_config.yml', 'console', '')"
     ],
     "language": "python",
     "metadata": {},
     "outputs": [
      {
       "output_type": "stream",
       "stream": "stdout",
       "text": [
        "[2015-01-25 08:40:26,663][3007 ][monk.roles.configuration][INFO    ][93  ][configuration.py] : configuration done\n"
       ]
      }
     ],
     "prompt_number": 3
    },
    {
     "cell_type": "code",
     "collapsed": true,
     "input": [
      "from monk.roles.administrator import AdminBroker as AB"
     ],
     "language": "python",
     "metadata": {},
     "outputs": [
      {
       "output_type": "stream",
       "stream": "stdout",
       "text": [
        "[2015-01-25 08:40:27,348][3007 ][monk.network.server][DEBUG   ][34  ][server.py] : className Echo is registering\n"
       ]
      },
      {
       "output_type": "stream",
       "stream": "stdout",
       "text": [
        "[2015-01-25 08:40:27,585][3007 ][monk.network.server][DEBUG   ][34  ][server.py] : className Track is registering\n"
       ]
      },
      {
       "output_type": "stream",
       "stream": "stdout",
       "text": [
        "[2015-01-25 08:40:27,586][3007 ][monk.network.server][DEBUG   ][34  ][server.py] : className ResetTracker is registering\n"
       ]
      },
      {
       "output_type": "stream",
       "stream": "stdout",
       "text": [
        "[2015-01-25 08:40:27,586][3007 ][monk.network.server][DEBUG   ][34  ][server.py] : className RenameTracker is registering\n"
       ]
      },
      {
       "output_type": "stream",
       "stream": "stdout",
       "text": [
        "[2015-01-25 08:40:27,587][3007 ][monk.network.server][DEBUG   ][34  ][server.py] : className AnnotateTracker is registering\n"
       ]
      },
      {
       "output_type": "stream",
       "stream": "stdout",
       "text": [
        "[2015-01-25 08:40:27,587][3007 ][monk.network.server][DEBUG   ][34  ][server.py] : className Aggregate is registering\n"
       ]
      },
      {
       "output_type": "stream",
       "stream": "stdout",
       "text": [
        "[2015-01-25 08:40:27,587][3007 ][monk.network.server][DEBUG   ][34  ][server.py] : className ResetAggregator is registering\n"
       ]
      },
      {
       "output_type": "stream",
       "stream": "stdout",
       "text": [
        "[2015-01-25 08:40:27,588][3007 ][monk.network.server][DEBUG   ][34  ][server.py] : className RenameAggregator is registering\n"
       ]
      },
      {
       "output_type": "stream",
       "stream": "stdout",
       "text": [
        "[2015-01-25 08:40:27,588][3007 ][monk.network.server][DEBUG   ][34  ][server.py] : className Measure is registering\n"
       ]
      },
      {
       "output_type": "stream",
       "stream": "stdout",
       "text": [
        "[2015-01-25 08:40:27,589][3007 ][monk.network.server][DEBUG   ][34  ][server.py] : className ResetMeasurer is registering\n"
       ]
      },
      {
       "output_type": "stream",
       "stream": "stdout",
       "text": [
        "[2015-01-25 08:40:27,589][3007 ][monk.network.server][DEBUG   ][34  ][server.py] : className RenameMeasurer is registering\n"
       ]
      },
      {
       "output_type": "stream",
       "stream": "stdout",
       "text": [
        "[2015-01-25 08:40:27,590][3007 ][monk.network.server][DEBUG   ][34  ][server.py] : className AddUser is registering\n"
       ]
      },
      {
       "output_type": "stream",
       "stream": "stdout",
       "text": [
        "[2015-01-25 08:40:27,590][3007 ][monk.network.server][DEBUG   ][34  ][server.py] : className DeleteUser is registering\n"
       ]
      },
      {
       "output_type": "stream",
       "stream": "stdout",
       "text": [
        "[2015-01-25 08:40:27,590][3007 ][monk.network.server][DEBUG   ][34  ][server.py] : className UpdateUser is registering\n"
       ]
      },
      {
       "output_type": "stream",
       "stream": "stdout",
       "text": [
        "[2015-01-25 08:40:27,591][3007 ][monk.network.server][DEBUG   ][34  ][server.py] : className RebalanceUsers is registering\n"
       ]
      },
      {
       "output_type": "stream",
       "stream": "stdout",
       "text": [
        "[2015-01-25 08:40:27,591][3007 ][monk.network.server][DEBUG   ][34  ][server.py] : className RegisterWorker is registering\n"
       ]
      },
      {
       "output_type": "stream",
       "stream": "stdout",
       "text": [
        "[2015-01-25 08:40:27,591][3007 ][monk.network.server][DEBUG   ][34  ][server.py] : className UpdateWorker is registering\n"
       ]
      },
      {
       "output_type": "stream",
       "stream": "stdout",
       "text": [
        "[2015-01-25 08:40:27,592][3007 ][monk.network.server][DEBUG   ][34  ][server.py] : className UnregisterWorker is registering\n"
       ]
      }
     ],
     "prompt_number": 4
    },
    {
     "cell_type": "code",
     "collapsed": false,
     "input": [
      "import monk.roles.worker as mrw\n",
      "import monk.network.partitioner as mnp\n",
      "import monk.network.broker as mnb"
     ],
     "language": "python",
     "metadata": {},
     "outputs": [],
     "prompt_number": 5
    },
    {
     "cell_type": "code",
     "collapsed": false,
     "input": [
      "reload(mnp)"
     ],
     "language": "python",
     "metadata": {},
     "outputs": [
      {
       "metadata": {},
       "output_type": "pyout",
       "prompt_number": 6,
       "text": [
        "<module 'monk.network.partitioner' from '/home/xm/Workspace/pymonk/monk/network/partitioner.pyc'>"
       ]
      }
     ],
     "prompt_number": 6
    },
    {
     "cell_type": "code",
     "collapsed": false,
     "input": [
      "reload(mrw)"
     ],
     "language": "python",
     "metadata": {},
     "outputs": [
      {
       "metadata": {},
       "output_type": "pyout",
       "prompt_number": 7,
       "text": [
        "<module 'monk.roles.worker' from '/home/xm/Workspace/pymonk/monk/roles/worker.pyc'>"
       ]
      }
     ],
     "prompt_number": 7
    },
    {
     "cell_type": "code",
     "collapsed": false,
     "input": [
      "reload(mnb)"
     ],
     "language": "python",
     "metadata": {},
     "outputs": [
      {
       "metadata": {},
       "output_type": "pyout",
       "prompt_number": 8,
       "text": [
        "<module 'monk.network.broker' from '/home/xm/Workspace/pymonk/monk/network/broker.pyc'>"
       ]
      }
     ],
     "prompt_number": 8
    },
    {
     "cell_type": "code",
     "collapsed": false,
     "input": [
      "from monk.roles.worker import WorkerBroker as WB"
     ],
     "language": "python",
     "metadata": {},
     "outputs": [
      {
       "output_type": "stream",
       "stream": "stdout",
       "text": [
        "[2015-01-25 08:16:37,633][2845 ][monk.network.server][DEBUG   ][34  ][server.py] : className Train is registering\n"
       ]
      },
      {
       "output_type": "stream",
       "stream": "stdout",
       "text": [
        "[2015-01-25 08:16:37,635][2845 ][monk.network.server][DEBUG   ][34  ][server.py] : className Merge is registering\n"
       ]
      },
      {
       "output_type": "stream",
       "stream": "stdout",
       "text": [
        "[2015-01-25 08:16:37,636][2845 ][monk.network.server][DEBUG   ][34  ][server.py] : className Reset is registering\n"
       ]
      },
      {
       "output_type": "stream",
       "stream": "stdout",
       "text": [
        "[2015-01-25 08:16:37,637][2845 ][monk.network.server][DEBUG   ][34  ][server.py] : className SaveTurtle is registering\n"
       ]
      },
      {
       "output_type": "stream",
       "stream": "stdout",
       "text": [
        "[2015-01-25 08:16:37,639][2845 ][monk.network.server][DEBUG   ][34  ][server.py] : className ResetAllData is registering\n"
       ]
      },
      {
       "output_type": "stream",
       "stream": "stdout",
       "text": [
        "[2015-01-25 08:16:37,640][2845 ][monk.network.server][DEBUG   ][34  ][server.py] : className OffsetCommit is registering\n"
       ]
      },
      {
       "output_type": "stream",
       "stream": "stdout",
       "text": [
        "[2015-01-25 08:16:37,641][2845 ][monk.network.server][DEBUG   ][34  ][server.py] : className SetMantisParameter is registering\n"
       ]
      },
      {
       "output_type": "stream",
       "stream": "stdout",
       "text": [
        "[2015-01-25 08:16:37,642][2845 ][monk.network.server][DEBUG   ][34  ][server.py] : className MonkReload is registering\n"
       ]
      },
      {
       "output_type": "stream",
       "stream": "stdout",
       "text": [
        "[2015-01-25 08:16:37,644][2845 ][monk.network.server][DEBUG   ][34  ][server.py] : className Follow is registering\n"
       ]
      },
      {
       "output_type": "stream",
       "stream": "stdout",
       "text": [
        "[2015-01-25 08:16:37,645][2845 ][monk.network.server][DEBUG   ][34  ][server.py] : className UnFollow is registering\n"
       ]
      },
      {
       "output_type": "stream",
       "stream": "stdout",
       "text": [
        "[2015-01-25 08:16:37,646][2845 ][monk.network.server][DEBUG   ][34  ][server.py] : className AddClone is registering\n"
       ]
      },
      {
       "output_type": "stream",
       "stream": "stdout",
       "text": [
        "[2015-01-25 08:16:37,647][2845 ][monk.network.server][DEBUG   ][34  ][server.py] : className RemoveClone is registering\n"
       ]
      },
      {
       "output_type": "stream",
       "stream": "stdout",
       "text": [
        "[2015-01-25 08:16:37,648][2845 ][monk.network.server][DEBUG   ][34  ][server.py] : className AddData is registering\n"
       ]
      },
      {
       "output_type": "stream",
       "stream": "stdout",
       "text": [
        "[2015-01-25 08:16:37,649][2845 ][monk.network.server][DEBUG   ][34  ][server.py] : className Predict is registering\n"
       ]
      },
      {
       "output_type": "stream",
       "stream": "stdout",
       "text": [
        "[2015-01-25 08:16:37,650][2845 ][monk.network.server][DEBUG   ][34  ][server.py] : className AcknowledgeRegistration is registering\n"
       ]
      }
     ],
     "prompt_number": 5
    },
    {
     "cell_type": "code",
     "collapsed": false,
     "input": [],
     "language": "python",
     "metadata": {},
     "outputs": [],
     "prompt_number": 9
    },
    {
     "cell_type": "code",
     "collapsed": false,
     "input": [
      "from monk.roles.monitor import MonitorBroker as MB"
     ],
     "language": "python",
     "metadata": {},
     "outputs": [],
     "prompt_number": 6
    },
    {
     "cell_type": "code",
     "collapsed": false,
     "input": [
      "ab = AB(config.kafkaConnectionString, config.administratorGroup, config.administratorTopic, producerType=AB.FIXED_PRODUCER, producerPartitions=[0])"
     ],
     "language": "python",
     "metadata": {},
     "outputs": [],
     "prompt_number": 7
    },
    {
     "cell_type": "code",
     "collapsed": false,
     "input": [
      "wb = WB(config.kafkaConnectionString, config.workerGroup, config.workerTopic, producerType=WB.USER_PRODUCER)"
     ],
     "language": "python",
     "metadata": {},
     "outputs": [],
     "prompt_number": 8
    },
    {
     "cell_type": "code",
     "collapsed": false,
     "input": [
      "mb = MB(config.kafkaConnectionString, config.monitorGroup, config.monitorTopic, producerType=MB.FIXED_PRODUCER, producerPartitions=[0])"
     ],
     "language": "python",
     "metadata": {},
     "outputs": [],
     "prompt_number": 9
    },
    {
     "cell_type": "code",
     "collapsed": false,
     "input": [
      "ls"
     ],
     "language": "python",
     "metadata": {},
     "outputs": [
      {
       "output_type": "stream",
       "stream": "stdout",
       "text": [
        "exper.py   log_config.yml    ml-1m-0.train.txt  monk_config.yml   MONK tutorial.ipynb  \u001b[0m\u001b[01;34mturtle_scripts\u001b[0m/\r\n",
        "exper.pyc  ml-1m-0.test.txt  ml1m-bmf-80.model  monk.console.log  MovieLens.ipynb      xumiao.ipynb\r\n"
       ]
      }
     ],
     "prompt_number": 11
    },
    {
     "cell_type": "code",
     "collapsed": false,
     "input": [
      "import exper"
     ],
     "language": "python",
     "metadata": {},
     "outputs": [],
     "prompt_number": 10
    },
    {
     "cell_type": "code",
     "collapsed": false,
     "input": [
      "userFactors, itemFactors = exper.readModel(\"ml1m-bmf-80.model\")"
     ],
     "language": "python",
     "metadata": {},
     "outputs": [],
     "prompt_number": 11
    },
    {
     "cell_type": "code",
     "collapsed": false,
     "input": [
      "userFactors.shape"
     ],
     "language": "python",
     "metadata": {},
     "outputs": [
      {
       "metadata": {},
       "output_type": "pyout",
       "prompt_number": 12,
       "text": [
        "(6040, 80)"
       ]
      }
     ],
     "prompt_number": 12
    },
    {
     "cell_type": "code",
     "collapsed": false,
     "input": [
      "itemFactors.shape"
     ],
     "language": "python",
     "metadata": {},
     "outputs": [
      {
       "metadata": {},
       "output_type": "pyout",
       "prompt_number": 13,
       "text": [
        "(3685, 80)"
       ]
      }
     ],
     "prompt_number": 13
    },
    {
     "cell_type": "code",
     "collapsed": false,
     "input": [
      "monkapi.exits()"
     ],
     "language": "python",
     "metadata": {},
     "outputs": [
      {
       "metadata": {},
       "output_type": "pyout",
       "prompt_number": 14,
       "text": [
        "False"
       ]
      }
     ],
     "prompt_number": 14
    },
    {
     "cell_type": "code",
     "collapsed": false,
     "input": [
      "monkapi.initialize(config)"
     ],
     "language": "python",
     "metadata": {},
     "outputs": [
      {
       "output_type": "stream",
       "stream": "stdout",
       "text": [
        "[2015-01-25 08:17:41,473][2845 ][monk.api    ][INFO    ][40  ][api.py  ] : ------start up------\n"
       ]
      },
      {
       "output_type": "stream",
       "stream": "stdout",
       "text": [
        "[2015-01-25 08:17:41,564][2845 ][monk.uid    ][INFO    ][32  ][uid.py  ] : initializing uid store\n"
       ]
      },
      {
       "output_type": "stream",
       "stream": "stdout",
       "text": [
        "[2015-01-25 08:17:41,639][2845 ][monk.crane  ][INFO    ][48  ][crane.py] : initializing EntityStore \n"
       ]
      },
      {
       "output_type": "stream",
       "stream": "stdout",
       "text": [
        "[2015-01-25 08:17:41,640][2845 ][monk.crane  ][INFO    ][48  ][crane.py] : initializing UserStore \n"
       ]
      },
      {
       "output_type": "stream",
       "stream": "stdout",
       "text": [
        "[2015-01-25 08:17:41,641][2845 ][monk.crane  ][INFO    ][48  ][crane.py] : initializing EngineStore \n"
       ]
      },
      {
       "output_type": "stream",
       "stream": "stdout",
       "text": [
        "[2015-01-25 08:17:41,643][2845 ][monk.crane  ][INFO    ][48  ][crane.py] : initializing PandaStore \n"
       ]
      },
      {
       "output_type": "stream",
       "stream": "stdout",
       "text": [
        "[2015-01-25 08:17:41,644][2845 ][monk.crane  ][INFO    ][48  ][crane.py] : initializing MantisStore \n"
       ]
      },
      {
       "output_type": "stream",
       "stream": "stdout",
       "text": [
        "[2015-01-25 08:17:41,646][2845 ][monk.crane  ][INFO    ][48  ][crane.py] : initializing TurtleStore \n"
       ]
      },
      {
       "output_type": "stream",
       "stream": "stdout",
       "text": [
        "[2015-01-25 08:17:41,647][2845 ][monk.crane  ][INFO    ][48  ][crane.py] : initializing TigressStore \n"
       ]
      },
      {
       "metadata": {},
       "output_type": "pyout",
       "prompt_number": 15,
       "text": [
        "True"
       ]
      }
     ],
     "prompt_number": 15
    },
    {
     "cell_type": "code",
     "collapsed": false,
     "input": [
      "users = monkapi.crane.userStore.load_all({}, ['name', 'partition'])"
     ],
     "language": "python",
     "metadata": {},
     "outputs": [],
     "prompt_number": 16
    },
    {
     "cell_type": "code",
     "collapsed": false,
     "input": [
      "partitions = set()\n",
      "for user in users:\n",
      "    partitions.add(user[u'partition'])\n",
      "print partitions"
     ],
     "language": "python",
     "metadata": {},
     "outputs": [
      {
       "output_type": "stream",
       "stream": "stdout",
       "text": [
        "set([1, 2, 3, 4, 5, 6, 7])\n"
       ]
      }
     ],
     "prompt_number": 17
    },
    {
     "cell_type": "code",
     "collapsed": false,
     "input": [
      "users[0]"
     ],
     "language": "python",
     "metadata": {},
     "outputs": [
      {
       "metadata": {},
       "output_type": "pyout",
       "prompt_number": 20,
       "text": [
        "{u'_id': ObjectId('54b7e9fbef15e78469de5b6a'),\n",
        " u'name': u'testuser1',\n",
        " u'partition': 6}"
       ]
      }
     ],
     "prompt_number": 20
    },
    {
     "cell_type": "code",
     "collapsed": false,
     "input": [
      "mlTurtle = monkapi.load_turtle('movielens-binary', 'monk')"
     ],
     "language": "python",
     "metadata": {},
     "outputs": [],
     "prompt_number": 18
    },
    {
     "cell_type": "code",
     "collapsed": false,
     "input": [
      "mlTurtle.generic()"
     ],
     "language": "python",
     "metadata": {},
     "outputs": [
      {
       "metadata": {},
       "output_type": "pyout",
       "prompt_number": 19,
       "text": [
        "{'createdTime': datetime.datetime(2015, 1, 18, 11, 56, 22, 126000),\n",
        " 'creator': u'monk',\n",
        " 'description': u'classify if the user likes the movie (rating > 3 is like, otherwise unlike)',\n",
        " 'entityCollectionName': '',\n",
        " 'followers': [u'mluser1', u'mluser2'],\n",
        " 'lastModified': datetime.datetime(2015, 1, 25, 8, 18, 4, 107101),\n",
        " 'leader': None,\n",
        " 'mapping': {u'like': [1]},\n",
        " 'monkType': u'SingleTurtle',\n",
        " 'name': u'movielens-binary',\n",
        " 'pEPS': 1e-06,\n",
        " 'pMaxInferenceSteps': 1000,\n",
        " 'pMaxPathLength': 1,\n",
        " 'pMergeClock': 0,\n",
        " 'pPartialBarrier': 50,\n",
        " 'pPenalty': 1.0,\n",
        " 'pTrainClock': 0,\n",
        " 'pandas': [{'creator': u'monk', 'name': u'movielens'}],\n",
        " 'requires': {u'uids': u'range(1,81)'},\n",
        " 'tigress': {'creator': u'monk', 'name': u'movielens-binary'}}"
       ]
      }
     ],
     "prompt_number": 19
    },
    {
     "cell_type": "code",
     "collapsed": false,
     "input": [
      "wb.reconnect()\n",
      "for i in range(6400):\n",
      "    wb.add_clone(mlTurtle.creator, mlTurtle.name, 'mluser'+str(i))"
     ],
     "language": "python",
     "metadata": {},
     "outputs": [
      {
       "output_type": "stream",
       "stream": "stdout",
       "text": [
        "[2015-01-25 08:19:50,396][2845 ][monk.network.partitioner][DEBUG   ][38  ][partitioner.py] : key monk\n"
       ]
      },
      {
       "output_type": "stream",
       "stream": "stdout",
       "text": [
        "[2015-01-25 08:19:50,442][2845 ][monk.network.producer][INFO    ][66  ][producer.py] : sending message ('{\"turtleName\": \"movielens-binary\", \"follower\": \"mluser0\", \"name\": \"monk\", \"op\": \"AddClone\"}',) at monkTestWorker@2\n"
       ]
      },
      {
       "output_type": "stream",
       "stream": "stdout",
       "text": [
        "[2015-01-25 08:19:50,516][2845 ][monk.network.partitioner][DEBUG   ][38  ][partitioner.py] : key monk\n"
       ]
      },
      {
       "output_type": "stream",
       "stream": "stdout",
       "text": [
        "[2015-01-25 08:19:50,546][2845 ][monk.network.producer][INFO    ][66  ][producer.py] : sending message ('{\"turtleName\": \"movielens-binary\", \"follower\": \"mluser1\", \"name\": \"monk\", \"op\": \"AddClone\"}',) at monkTestWorker@2\n"
       ]
      },
      {
       "output_type": "stream",
       "stream": "stdout",
       "text": [
        "[2015-01-25 08:19:50,563][2845 ][monk.network.partitioner][DEBUG   ][38  ][partitioner.py] : key monk\n"
       ]
      },
      {
       "output_type": "stream",
       "stream": "stdout",
       "text": [
        "[2015-01-25 08:19:50,588][2845 ][monk.network.producer][INFO    ][66  ][producer.py] : sending message ('{\"turtleName\": \"movielens-binary\", \"follower\": \"mluser2\", \"name\": \"monk\", \"op\": \"AddClone\"}',) at monkTestWorker@2\n"
       ]
      },
      {
       "output_type": "stream",
       "stream": "stdout",
       "text": [
        "[2015-01-25 08:19:50,606][2845 ][monk.network.partitioner][DEBUG   ][38  ][partitioner.py] : key monk\n"
       ]
      },
      {
       "output_type": "stream",
       "stream": "stdout",
       "text": [
        "[2015-01-25 08:19:50,639][2845 ][monk.network.producer][INFO    ][66  ][producer.py] : sending message ('{\"turtleName\": \"movielens-binary\", \"follower\": \"mluser3\", \"name\": \"monk\", \"op\": \"AddClone\"}',) at monkTestWorker@2\n"
       ]
      },
      {
       "output_type": "stream",
       "stream": "stdout",
       "text": [
        "[2015-01-25 08:19:50,658][2845 ][monk.network.partitioner][DEBUG   ][38  ][partitioner.py] : key monk\n"
       ]
      },
      {
       "output_type": "stream",
       "stream": "stdout",
       "text": [
        "[2015-01-25 08:19:50,688][2845 ][monk.network.producer][INFO    ][66  ][producer.py] : sending message ('{\"turtleName\": \"movielens-binary\", \"follower\": \"mluser4\", \"name\": \"monk\", \"op\": \"AddClone\"}',) at monkTestWorker@2\n"
       ]
      },
      {
       "output_type": "stream",
       "stream": "stdout",
       "text": [
        "[2015-01-25 08:19:50,707][2845 ][monk.network.partitioner][DEBUG   ][38  ][partitioner.py] : key monk\n"
       ]
      },
      {
       "output_type": "stream",
       "stream": "stdout",
       "text": [
        "[2015-01-25 08:19:50,732][2845 ][monk.network.producer][INFO    ][66  ][producer.py] : sending message ('{\"turtleName\": \"movielens-binary\", \"follower\": \"mluser5\", \"name\": \"monk\", \"op\": \"AddClone\"}',) at monkTestWorker@2\n"
       ]
      },
      {
       "output_type": "stream",
       "stream": "stdout",
       "text": [
        "[2015-01-25 08:19:50,750][2845 ][monk.network.partitioner][DEBUG   ][38  ][partitioner.py] : key monk\n"
       ]
      },
      {
       "output_type": "stream",
       "stream": "stdout",
       "text": [
        "[2015-01-25 08:19:50,781][2845 ][monk.network.producer][INFO    ][66  ][producer.py] : sending message ('{\"turtleName\": \"movielens-binary\", \"follower\": \"mluser6\", \"name\": \"monk\", \"op\": \"AddClone\"}',) at monkTestWorker@2\n"
       ]
      },
      {
       "output_type": "stream",
       "stream": "stdout",
       "text": [
        "[2015-01-25 08:19:50,798][2845 ][monk.network.partitioner][DEBUG   ][38  ][partitioner.py] : key monk\n"
       ]
      },
      {
       "output_type": "stream",
       "stream": "stdout",
       "text": [
        "[2015-01-25 08:19:50,829][2845 ][monk.network.producer][INFO    ][66  ][producer.py] : sending message ('{\"turtleName\": \"movielens-binary\", \"follower\": \"mluser7\", \"name\": \"monk\", \"op\": \"AddClone\"}',) at monkTestWorker@2\n"
       ]
      },
      {
       "output_type": "stream",
       "stream": "stdout",
       "text": [
        "[2015-01-25 08:19:50,848][2845 ][monk.network.partitioner][DEBUG   ][38  ][partitioner.py] : key monk\n"
       ]
      },
      {
       "output_type": "stream",
       "stream": "stdout",
       "text": [
        "[2015-01-25 08:19:50,875][2845 ][monk.network.producer][INFO    ][66  ][producer.py] : sending message ('{\"turtleName\": \"movielens-binary\", \"follower\": \"mluser8\", \"name\": \"monk\", \"op\": \"AddClone\"}',) at monkTestWorker@2\n"
       ]
      },
      {
       "output_type": "stream",
       "stream": "stdout",
       "text": [
        "[2015-01-25 08:19:50,892][2845 ][monk.network.partitioner][DEBUG   ][38  ][partitioner.py] : key monk\n"
       ]
      },
      {
       "output_type": "stream",
       "stream": "stdout",
       "text": [
        "[2015-01-25 08:19:50,922][2845 ][monk.network.producer][INFO    ][66  ][producer.py] : sending message ('{\"turtleName\": \"movielens-binary\", \"follower\": \"mluser9\", \"name\": \"monk\", \"op\": \"AddClone\"}',) at monkTestWorker@2\n"
       ]
      },
      {
       "output_type": "stream",
       "stream": "stdout",
       "text": [
        "[2015-01-25 08:19:50,940][2845 ][monk.network.partitioner][DEBUG   ][38  ][partitioner.py] : key monk\n"
       ]
      },
      {
       "output_type": "stream",
       "stream": "stdout",
       "text": [
        "[2015-01-25 08:19:50,970][2845 ][monk.network.producer][INFO    ][66  ][producer.py] : sending message ('{\"turtleName\": \"movielens-binary\", \"follower\": \"mluser10\", \"name\": \"monk\", \"op\": \"AddClone\"}',) at monkTestWorker@2\n"
       ]
      },
      {
       "output_type": "stream",
       "stream": "stdout",
       "text": [
        "[2015-01-25 08:19:50,991][2845 ][monk.network.partitioner][DEBUG   ][38  ][partitioner.py] : key monk\n"
       ]
      },
      {
       "output_type": "stream",
       "stream": "stdout",
       "text": [
        "[2015-01-25 08:19:51,018][2845 ][monk.network.producer][INFO    ][66  ][producer.py] : sending message ('{\"turtleName\": \"movielens-binary\", \"follower\": \"mluser11\", \"name\": \"monk\", \"op\": \"AddClone\"}',) at monkTestWorker@2\n"
       ]
      },
      {
       "output_type": "stream",
       "stream": "stdout",
       "text": [
        "[2015-01-25 08:19:51,036][2845 ][monk.network.partitioner][DEBUG   ][38  ][partitioner.py] : key monk\n"
       ]
      },
      {
       "output_type": "stream",
       "stream": "stdout",
       "text": [
        "[2015-01-25 08:19:51,065][2845 ][monk.network.producer][INFO    ][66  ][producer.py] : sending message ('{\"turtleName\": \"movielens-binary\", \"follower\": \"mluser12\", \"name\": \"monk\", \"op\": \"AddClone\"}',) at monkTestWorker@2\n"
       ]
      },
      {
       "output_type": "stream",
       "stream": "stdout",
       "text": [
        "[2015-01-25 08:19:51,083][2845 ][monk.network.partitioner][DEBUG   ][38  ][partitioner.py] : key monk\n"
       ]
      },
      {
       "output_type": "stream",
       "stream": "stdout",
       "text": [
        "[2015-01-25 08:19:51,110][2845 ][monk.network.producer][INFO    ][66  ][producer.py] : sending message ('{\"turtleName\": \"movielens-binary\", \"follower\": \"mluser13\", \"name\": \"monk\", \"op\": \"AddClone\"}',) at monkTestWorker@2\n"
       ]
      },
      {
       "output_type": "stream",
       "stream": "stdout",
       "text": [
        "[2015-01-25 08:19:51,126][2845 ][monk.network.partitioner][DEBUG   ][38  ][partitioner.py] : key monk\n"
       ]
      },
      {
       "output_type": "stream",
       "stream": "stdout",
       "text": [
        "[2015-01-25 08:19:51,157][2845 ][monk.network.producer][INFO    ][66  ][producer.py] : sending message ('{\"turtleName\": \"movielens-binary\", \"follower\": \"mluser14\", \"name\": \"monk\", \"op\": \"AddClone\"}',) at monkTestWorker@2\n"
       ]
      },
      {
       "output_type": "stream",
       "stream": "stdout",
       "text": [
        "[2015-01-25 08:19:51,209][2845 ][monk.network.partitioner][DEBUG   ][38  ][partitioner.py] : key monk\n"
       ]
      },
      {
       "output_type": "stream",
       "stream": "stdout",
       "text": [
        "[2015-01-25 08:19:51,236][2845 ][monk.network.producer][INFO    ][66  ][producer.py] : sending message ('{\"turtleName\": \"movielens-binary\", \"follower\": \"mluser15\", \"name\": \"monk\", \"op\": \"AddClone\"}',) at monkTestWorker@2\n"
       ]
      },
      {
       "output_type": "stream",
       "stream": "stdout",
       "text": [
        "[2015-01-25 08:19:51,254][2845 ][monk.network.partitioner][DEBUG   ][38  ][partitioner.py] : key monk\n"
       ]
      },
      {
       "output_type": "stream",
       "stream": "stdout",
       "text": [
        "[2015-01-25 08:19:51,285][2845 ][monk.network.producer][INFO    ][66  ][producer.py] : sending message ('{\"turtleName\": \"movielens-binary\", \"follower\": \"mluser16\", \"name\": \"monk\", \"op\": \"AddClone\"}',) at monkTestWorker@2\n"
       ]
      },
      {
       "output_type": "stream",
       "stream": "stdout",
       "text": [
        "[2015-01-25 08:19:51,302][2845 ][monk.network.partitioner][DEBUG   ][38  ][partitioner.py] : key monk\n"
       ]
      },
      {
       "output_type": "stream",
       "stream": "stdout",
       "text": [
        "[2015-01-25 08:19:51,329][2845 ][monk.network.producer][INFO    ][66  ][producer.py] : sending message ('{\"turtleName\": \"movielens-binary\", \"follower\": \"mluser17\", \"name\": \"monk\", \"op\": \"AddClone\"}',) at monkTestWorker@2\n"
       ]
      },
      {
       "output_type": "stream",
       "stream": "stdout",
       "text": [
        "[2015-01-25 08:19:51,346][2845 ][monk.network.partitioner][DEBUG   ][38  ][partitioner.py] : key monk\n"
       ]
      },
      {
       "output_type": "stream",
       "stream": "stdout",
       "text": [
        "[2015-01-25 08:19:51,375][2845 ][monk.network.producer][INFO    ][66  ][producer.py] : sending message ('{\"turtleName\": \"movielens-binary\", \"follower\": \"mluser18\", \"name\": \"monk\", \"op\": \"AddClone\"}',) at monkTestWorker@2\n"
       ]
      },
      {
       "output_type": "stream",
       "stream": "stdout",
       "text": [
        "[2015-01-25 08:19:51,394][2845 ][monk.network.partitioner][DEBUG   ][38  ][partitioner.py] : key monk\n"
       ]
      },
      {
       "output_type": "stream",
       "stream": "stdout",
       "text": [
        "[2015-01-25 08:19:51,420][2845 ][monk.network.producer][INFO    ][66  ][producer.py] : sending message ('{\"turtleName\": \"movielens-binary\", \"follower\": \"mluser19\", \"name\": \"monk\", \"op\": \"AddClone\"}',) at monkTestWorker@2\n"
       ]
      },
      {
       "output_type": "stream",
       "stream": "stdout",
       "text": [
        "[2015-01-25 08:19:51,438][2845 ][monk.network.partitioner][DEBUG   ][38  ][partitioner.py] : key monk\n"
       ]
      },
      {
       "output_type": "stream",
       "stream": "stdout",
       "text": [
        "[2015-01-25 08:19:51,467][2845 ][monk.network.producer][INFO    ][66  ][producer.py] : sending message ('{\"turtleName\": \"movielens-binary\", \"follower\": \"mluser20\", \"name\": \"monk\", \"op\": \"AddClone\"}',) at monkTestWorker@2\n"
       ]
      },
      {
       "output_type": "stream",
       "stream": "stdout",
       "text": [
        "[2015-01-25 08:19:51,485][2845 ][monk.network.partitioner][DEBUG   ][38  ][partitioner.py] : key monk\n"
       ]
      },
      {
       "output_type": "stream",
       "stream": "stdout",
       "text": [
        "[2015-01-25 08:19:51,511][2845 ][monk.network.producer][INFO    ][66  ][producer.py] : sending message ('{\"turtleName\": \"movielens-binary\", \"follower\": \"mluser21\", \"name\": \"monk\", \"op\": \"AddClone\"}',) at monkTestWorker@2\n"
       ]
      },
      {
       "output_type": "stream",
       "stream": "stdout",
       "text": [
        "[2015-01-25 08:19:51,530][2845 ][monk.network.partitioner][DEBUG   ][38  ][partitioner.py] : key monk\n"
       ]
      },
      {
       "output_type": "stream",
       "stream": "stdout",
       "text": [
        "[2015-01-25 08:19:51,560][2845 ][monk.network.producer][INFO    ][66  ][producer.py] : sending message ('{\"turtleName\": \"movielens-binary\", \"follower\": \"mluser22\", \"name\": \"monk\", \"op\": \"AddClone\"}',) at monkTestWorker@2\n"
       ]
      },
      {
       "output_type": "stream",
       "stream": "stdout",
       "text": [
        "[2015-01-25 08:19:51,580][2845 ][monk.network.partitioner][DEBUG   ][38  ][partitioner.py] : key monk\n"
       ]
      },
      {
       "output_type": "stream",
       "stream": "stdout",
       "text": [
        "[2015-01-25 08:19:51,619][2845 ][monk.network.producer][INFO    ][66  ][producer.py] : sending message ('{\"turtleName\": \"movielens-binary\", \"follower\": \"mluser23\", \"name\": \"monk\", \"op\": \"AddClone\"}',) at monkTestWorker@2\n"
       ]
      },
      {
       "output_type": "stream",
       "stream": "stdout",
       "text": [
        "[2015-01-25 08:19:51,638][2845 ][monk.network.partitioner][DEBUG   ][38  ][partitioner.py] : key monk\n"
       ]
      },
      {
       "output_type": "stream",
       "stream": "stdout",
       "text": [
        "[2015-01-25 08:19:51,668][2845 ][monk.network.producer][INFO    ][66  ][producer.py] : sending message ('{\"turtleName\": \"movielens-binary\", \"follower\": \"mluser24\", \"name\": \"monk\", \"op\": \"AddClone\"}',) at monkTestWorker@2\n"
       ]
      },
      {
       "output_type": "stream",
       "stream": "stdout",
       "text": [
        "[2015-01-25 08:19:51,688][2845 ][monk.network.partitioner][DEBUG   ][38  ][partitioner.py] : key monk\n"
       ]
      },
      {
       "output_type": "stream",
       "stream": "stdout",
       "text": [
        "[2015-01-25 08:19:51,715][2845 ][monk.network.producer][INFO    ][66  ][producer.py] : sending message ('{\"turtleName\": \"movielens-binary\", \"follower\": \"mluser25\", \"name\": \"monk\", \"op\": \"AddClone\"}',) at monkTestWorker@2\n"
       ]
      },
      {
       "output_type": "stream",
       "stream": "stdout",
       "text": [
        "[2015-01-25 08:19:51,734][2845 ][monk.network.partitioner][DEBUG   ][38  ][partitioner.py] : key monk\n"
       ]
      },
      {
       "output_type": "stream",
       "stream": "stdout",
       "text": [
        "[2015-01-25 08:19:51,764][2845 ][monk.network.producer][INFO    ][66  ][producer.py] : sending message ('{\"turtleName\": \"movielens-binary\", \"follower\": \"mluser26\", \"name\": \"monk\", \"op\": \"AddClone\"}',) at monkTestWorker@2\n"
       ]
      },
      {
       "output_type": "stream",
       "stream": "stdout",
       "text": [
        "[2015-01-25 08:19:51,781][2845 ][monk.network.partitioner][DEBUG   ][38  ][partitioner.py] : key monk\n"
       ]
      },
      {
       "output_type": "stream",
       "stream": "stdout",
       "text": [
        "[2015-01-25 08:19:51,806][2845 ][monk.network.producer][INFO    ][66  ][producer.py] : sending message ('{\"turtleName\": \"movielens-binary\", \"follower\": \"mluser27\", \"name\": \"monk\", \"op\": \"AddClone\"}',) at monkTestWorker@2\n"
       ]
      },
      {
       "output_type": "stream",
       "stream": "stdout",
       "text": [
        "[2015-01-25 08:19:51,823][2845 ][monk.network.partitioner][DEBUG   ][38  ][partitioner.py] : key monk\n"
       ]
      },
      {
       "output_type": "stream",
       "stream": "stdout",
       "text": [
        "[2015-01-25 08:19:51,853][2845 ][monk.network.producer][INFO    ][66  ][producer.py] : sending message ('{\"turtleName\": \"movielens-binary\", \"follower\": \"mluser28\", \"name\": \"monk\", \"op\": \"AddClone\"}',) at monkTestWorker@2\n"
       ]
      },
      {
       "output_type": "stream",
       "stream": "stdout",
       "text": [
        "[2015-01-25 08:19:51,871][2845 ][monk.network.partitioner][DEBUG   ][38  ][partitioner.py] : key monk\n"
       ]
      },
      {
       "output_type": "stream",
       "stream": "stdout",
       "text": [
        "[2015-01-25 08:19:51,897][2845 ][monk.network.producer][INFO    ][66  ][producer.py] : sending message ('{\"turtleName\": \"movielens-binary\", \"follower\": \"mluser29\", \"name\": \"monk\", \"op\": \"AddClone\"}',) at monkTestWorker@2\n"
       ]
      },
      {
       "output_type": "stream",
       "stream": "stdout",
       "text": [
        "[2015-01-25 08:19:51,919][2845 ][monk.network.partitioner][DEBUG   ][38  ][partitioner.py] : key monk\n"
       ]
      },
      {
       "output_type": "stream",
       "stream": "stdout",
       "text": [
        "[2015-01-25 08:19:51,949][2845 ][monk.network.producer][INFO    ][66  ][producer.py] : sending message ('{\"turtleName\": \"movielens-binary\", \"follower\": \"mluser30\", \"name\": \"monk\", \"op\": \"AddClone\"}',) at monkTestWorker@2\n"
       ]
      },
      {
       "output_type": "stream",
       "stream": "stdout",
       "text": [
        "[2015-01-25 08:19:51,968][2845 ][monk.network.partitioner][DEBUG   ][38  ][partitioner.py] : key monk\n"
       ]
      },
      {
       "output_type": "stream",
       "stream": "stdout",
       "text": [
        "[2015-01-25 08:19:51,995][2845 ][monk.network.producer][INFO    ][66  ][producer.py] : sending message ('{\"turtleName\": \"movielens-binary\", \"follower\": \"mluser31\", \"name\": \"monk\", \"op\": \"AddClone\"}',) at monkTestWorker@2\n"
       ]
      },
      {
       "output_type": "stream",
       "stream": "stdout",
       "text": [
        "[2015-01-25 08:19:52,014][2845 ][monk.network.partitioner][DEBUG   ][38  ][partitioner.py] : key monk\n"
       ]
      },
      {
       "output_type": "stream",
       "stream": "stdout",
       "text": [
        "[2015-01-25 08:19:52,044][2845 ][monk.network.producer][INFO    ][66  ][producer.py] : sending message ('{\"turtleName\": \"movielens-binary\", \"follower\": \"mluser32\", \"name\": \"monk\", \"op\": \"AddClone\"}',) at monkTestWorker@2\n"
       ]
      },
      {
       "output_type": "stream",
       "stream": "stdout",
       "text": [
        "[2015-01-25 08:19:52,060][2845 ][monk.network.partitioner][DEBUG   ][38  ][partitioner.py] : key monk\n"
       ]
      },
      {
       "output_type": "stream",
       "stream": "stdout",
       "text": [
        "[2015-01-25 08:19:52,086][2845 ][monk.network.producer][INFO    ][66  ][producer.py] : sending message ('{\"turtleName\": \"movielens-binary\", \"follower\": \"mluser33\", \"name\": \"monk\", \"op\": \"AddClone\"}',) at monkTestWorker@2\n"
       ]
      },
      {
       "output_type": "stream",
       "stream": "stdout",
       "text": [
        "[2015-01-25 08:19:52,105][2845 ][monk.network.partitioner][DEBUG   ][38  ][partitioner.py] : key monk\n"
       ]
      },
      {
       "output_type": "stream",
       "stream": "stdout",
       "text": [
        "[2015-01-25 08:19:52,136][2845 ][monk.network.producer][INFO    ][66  ][producer.py] : sending message ('{\"turtleName\": \"movielens-binary\", \"follower\": \"mluser34\", \"name\": \"monk\", \"op\": \"AddClone\"}',) at monkTestWorker@2\n"
       ]
      },
      {
       "output_type": "stream",
       "stream": "stdout",
       "text": [
        "[2015-01-25 08:19:52,154][2845 ][monk.network.partitioner][DEBUG   ][38  ][partitioner.py] : key monk\n"
       ]
      },
      {
       "output_type": "stream",
       "stream": "stdout",
       "text": [
        "[2015-01-25 08:19:52,180][2845 ][monk.network.producer][INFO    ][66  ][producer.py] : sending message ('{\"turtleName\": \"movielens-binary\", \"follower\": \"mluser35\", \"name\": \"monk\", \"op\": \"AddClone\"}',) at monkTestWorker@2\n"
       ]
      },
      {
       "output_type": "stream",
       "stream": "stdout",
       "text": [
        "[2015-01-25 08:19:52,198][2845 ][monk.network.partitioner][DEBUG   ][38  ][partitioner.py] : key monk\n"
       ]
      },
      {
       "output_type": "stream",
       "stream": "stdout",
       "text": [
        "[2015-01-25 08:19:52,228][2845 ][monk.network.producer][INFO    ][66  ][producer.py] : sending message ('{\"turtleName\": \"movielens-binary\", \"follower\": \"mluser36\", \"name\": \"monk\", \"op\": \"AddClone\"}',) at monkTestWorker@2\n"
       ]
      },
      {
       "output_type": "stream",
       "stream": "stdout",
       "text": [
        "[2015-01-25 08:19:52,246][2845 ][monk.network.partitioner][DEBUG   ][38  ][partitioner.py] : key monk\n"
       ]
      },
      {
       "output_type": "stream",
       "stream": "stdout",
       "text": [
        "[2015-01-25 08:19:52,271][2845 ][monk.network.producer][INFO    ][66  ][producer.py] : sending message ('{\"turtleName\": \"movielens-binary\", \"follower\": \"mluser37\", \"name\": \"monk\", \"op\": \"AddClone\"}',) at monkTestWorker@2\n"
       ]
      },
      {
       "output_type": "stream",
       "stream": "stdout",
       "text": [
        "[2015-01-25 08:19:52,291][2845 ][monk.network.partitioner][DEBUG   ][38  ][partitioner.py] : key monk\n"
       ]
      },
      {
       "output_type": "stream",
       "stream": "stdout",
       "text": [
        "[2015-01-25 08:19:52,324][2845 ][monk.network.producer][INFO    ][66  ][producer.py] : sending message ('{\"turtleName\": \"movielens-binary\", \"follower\": \"mluser38\", \"name\": \"monk\", \"op\": \"AddClone\"}',) at monkTestWorker@2\n"
       ]
      },
      {
       "output_type": "stream",
       "stream": "stdout",
       "text": [
        "[2015-01-25 08:19:52,343][2845 ][monk.network.partitioner][DEBUG   ][38  ][partitioner.py] : key monk\n"
       ]
      },
      {
       "output_type": "stream",
       "stream": "stdout",
       "text": [
        "[2015-01-25 08:19:52,368][2845 ][monk.network.producer][INFO    ][66  ][producer.py] : sending message ('{\"turtleName\": \"movielens-binary\", \"follower\": \"mluser39\", \"name\": \"monk\", \"op\": \"AddClone\"}',) at monkTestWorker@2\n"
       ]
      },
      {
       "output_type": "stream",
       "stream": "stdout",
       "text": [
        "[2015-01-25 08:19:52,385][2845 ][monk.network.partitioner][DEBUG   ][38  ][partitioner.py] : key monk\n"
       ]
      },
      {
       "output_type": "stream",
       "stream": "stdout",
       "text": [
        "[2015-01-25 08:19:52,411][2845 ][monk.network.producer][INFO    ][66  ][producer.py] : sending message ('{\"turtleName\": \"movielens-binary\", \"follower\": \"mluser40\", \"name\": \"monk\", \"op\": \"AddClone\"}',) at monkTestWorker@2\n"
       ]
      },
      {
       "output_type": "stream",
       "stream": "stdout",
       "text": [
        "[2015-01-25 08:19:52,429][2845 ][monk.network.partitioner][DEBUG   ][38  ][partitioner.py] : key monk\n"
       ]
      },
      {
       "output_type": "stream",
       "stream": "stdout",
       "text": [
        "[2015-01-25 08:19:52,455][2845 ][monk.network.producer][INFO    ][66  ][producer.py] : sending message ('{\"turtleName\": \"movielens-binary\", \"follower\": \"mluser41\", \"name\": \"monk\", \"op\": \"AddClone\"}',) at monkTestWorker@2\n"
       ]
      },
      {
       "output_type": "stream",
       "stream": "stdout",
       "text": [
        "[2015-01-25 08:19:52,472][2845 ][monk.network.partitioner][DEBUG   ][38  ][partitioner.py] : key monk\n"
       ]
      },
      {
       "output_type": "stream",
       "stream": "stdout",
       "text": [
        "[2015-01-25 08:19:52,503][2845 ][monk.network.producer][INFO    ][66  ][producer.py] : sending message ('{\"turtleName\": \"movielens-binary\", \"follower\": \"mluser42\", \"name\": \"monk\", \"op\": \"AddClone\"}',) at monkTestWorker@2\n"
       ]
      },
      {
       "output_type": "stream",
       "stream": "stdout",
       "text": [
        "[2015-01-25 08:19:52,520][2845 ][monk.network.partitioner][DEBUG   ][38  ][partitioner.py] : key monk\n"
       ]
      },
      {
       "output_type": "stream",
       "stream": "stdout",
       "text": [
        "[2015-01-25 08:19:52,546][2845 ][monk.network.producer][INFO    ][66  ][producer.py] : sending message ('{\"turtleName\": \"movielens-binary\", \"follower\": \"mluser43\", \"name\": \"monk\", \"op\": \"AddClone\"}',) at monkTestWorker@2\n"
       ]
      },
      {
       "output_type": "stream",
       "stream": "stdout",
       "text": [
        "[2015-01-25 08:19:52,563][2845 ][monk.network.partitioner][DEBUG   ][38  ][partitioner.py] : key monk\n"
       ]
      },
      {
       "output_type": "stream",
       "stream": "stdout",
       "text": [
        "[2015-01-25 08:19:52,593][2845 ][monk.network.producer][INFO    ][66  ][producer.py] : sending message ('{\"turtleName\": \"movielens-binary\", \"follower\": \"mluser44\", \"name\": \"monk\", \"op\": \"AddClone\"}',) at monkTestWorker@2\n"
       ]
      },
      {
       "output_type": "stream",
       "stream": "stdout",
       "text": [
        "[2015-01-25 08:19:52,610][2845 ][monk.network.partitioner][DEBUG   ][38  ][partitioner.py] : key monk\n"
       ]
      },
      {
       "output_type": "stream",
       "stream": "stdout",
       "text": [
        "[2015-01-25 08:19:52,637][2845 ][monk.network.producer][INFO    ][66  ][producer.py] : sending message ('{\"turtleName\": \"movielens-binary\", \"follower\": \"mluser45\", \"name\": \"monk\", \"op\": \"AddClone\"}',) at monkTestWorker@2\n"
       ]
      },
      {
       "output_type": "stream",
       "stream": "stdout",
       "text": [
        "[2015-01-25 08:19:52,654][2845 ][monk.network.partitioner][DEBUG   ][38  ][partitioner.py] : key monk\n"
       ]
      },
      {
       "output_type": "stream",
       "stream": "stdout",
       "text": [
        "[2015-01-25 08:19:52,684][2845 ][monk.network.producer][INFO    ][66  ][producer.py] : sending message ('{\"turtleName\": \"movielens-binary\", \"follower\": \"mluser46\", \"name\": \"monk\", \"op\": \"AddClone\"}',) at monkTestWorker@2\n"
       ]
      },
      {
       "output_type": "stream",
       "stream": "stdout",
       "text": [
        "[2015-01-25 08:19:52,700][2845 ][monk.network.partitioner][DEBUG   ][38  ][partitioner.py] : key monk\n"
       ]
      },
      {
       "output_type": "stream",
       "stream": "stdout",
       "text": [
        "[2015-01-25 08:19:52,726][2845 ][monk.network.producer][INFO    ][66  ][producer.py] : sending message ('{\"turtleName\": \"movielens-binary\", \"follower\": \"mluser47\", \"name\": \"monk\", \"op\": \"AddClone\"}',) at monkTestWorker@2\n"
       ]
      },
      {
       "output_type": "stream",
       "stream": "stdout",
       "text": [
        "[2015-01-25 08:19:52,743][2845 ][monk.network.partitioner][DEBUG   ][38  ][partitioner.py] : key monk\n"
       ]
      },
      {
       "output_type": "stream",
       "stream": "stdout",
       "text": [
        "[2015-01-25 08:19:52,770][2845 ][monk.network.producer][INFO    ][66  ][producer.py] : sending message ('{\"turtleName\": \"movielens-binary\", \"follower\": \"mluser48\", \"name\": \"monk\", \"op\": \"AddClone\"}',) at monkTestWorker@2\n"
       ]
      },
      {
       "output_type": "stream",
       "stream": "stdout",
       "text": [
        "[2015-01-25 08:19:52,788][2845 ][monk.network.partitioner][DEBUG   ][38  ][partitioner.py] : key monk\n"
       ]
      },
      {
       "output_type": "stream",
       "stream": "stdout",
       "text": [
        "[2015-01-25 08:19:52,817][2845 ][monk.network.producer][INFO    ][66  ][producer.py] : sending message ('{\"turtleName\": \"movielens-binary\", \"follower\": \"mluser49\", \"name\": \"monk\", \"op\": \"AddClone\"}',) at monkTestWorker@2\n"
       ]
      },
      {
       "output_type": "stream",
       "stream": "stdout",
       "text": [
        "[2015-01-25 08:19:52,834][2845 ][monk.network.partitioner][DEBUG   ][38  ][partitioner.py] : key monk\n"
       ]
      },
      {
       "output_type": "stream",
       "stream": "stdout",
       "text": [
        "[2015-01-25 08:19:52,859][2845 ][monk.network.producer][INFO    ][66  ][producer.py] : sending message ('{\"turtleName\": \"movielens-binary\", \"follower\": \"mluser50\", \"name\": \"monk\", \"op\": \"AddClone\"}',) at monkTestWorker@2\n"
       ]
      },
      {
       "output_type": "stream",
       "stream": "stdout",
       "text": [
        "[2015-01-25 08:19:52,877][2845 ][monk.network.partitioner][DEBUG   ][38  ][partitioner.py] : key monk\n"
       ]
      },
      {
       "output_type": "stream",
       "stream": "stdout",
       "text": [
        "[2015-01-25 08:19:52,906][2845 ][monk.network.producer][INFO    ][66  ][producer.py] : sending message ('{\"turtleName\": \"movielens-binary\", \"follower\": \"mluser51\", \"name\": \"monk\", \"op\": \"AddClone\"}',) at monkTestWorker@2\n"
       ]
      },
      {
       "output_type": "stream",
       "stream": "stdout",
       "text": [
        "[2015-01-25 08:19:52,924][2845 ][monk.network.partitioner][DEBUG   ][38  ][partitioner.py] : key monk\n"
       ]
      },
      {
       "output_type": "stream",
       "stream": "stdout",
       "text": [
        "[2015-01-25 08:19:52,950][2845 ][monk.network.producer][INFO    ][66  ][producer.py] : sending message ('{\"turtleName\": \"movielens-binary\", \"follower\": \"mluser52\", \"name\": \"monk\", \"op\": \"AddClone\"}',) at monkTestWorker@2\n"
       ]
      },
      {
       "output_type": "stream",
       "stream": "stdout",
       "text": [
        "[2015-01-25 08:19:52,969][2845 ][monk.network.partitioner][DEBUG   ][38  ][partitioner.py] : key monk\n"
       ]
      },
      {
       "output_type": "stream",
       "stream": "stdout",
       "text": [
        "[2015-01-25 08:19:52,995][2845 ][monk.network.producer][INFO    ][66  ][producer.py] : sending message ('{\"turtleName\": \"movielens-binary\", \"follower\": \"mluser53\", \"name\": \"monk\", \"op\": \"AddClone\"}',) at monkTestWorker@2\n"
       ]
      },
      {
       "output_type": "stream",
       "stream": "stdout",
       "text": [
        "[2015-01-25 08:19:53,013][2845 ][monk.network.partitioner][DEBUG   ][38  ][partitioner.py] : key monk\n"
       ]
      },
      {
       "output_type": "stream",
       "stream": "stdout",
       "text": [
        "[2015-01-25 08:19:53,043][2845 ][monk.network.producer][INFO    ][66  ][producer.py] : sending message ('{\"turtleName\": \"movielens-binary\", \"follower\": \"mluser54\", \"name\": \"monk\", \"op\": \"AddClone\"}',) at monkTestWorker@2\n"
       ]
      },
      {
       "output_type": "stream",
       "stream": "stdout",
       "text": [
        "[2015-01-25 08:19:53,060][2845 ][monk.network.partitioner][DEBUG   ][38  ][partitioner.py] : key monk\n"
       ]
      },
      {
       "output_type": "stream",
       "stream": "stdout",
       "text": [
        "[2015-01-25 08:19:53,085][2845 ][monk.network.producer][INFO    ][66  ][producer.py] : sending message ('{\"turtleName\": \"movielens-binary\", \"follower\": \"mluser55\", \"name\": \"monk\", \"op\": \"AddClone\"}',) at monkTestWorker@2\n"
       ]
      },
      {
       "output_type": "stream",
       "stream": "stdout",
       "text": [
        "[2015-01-25 08:19:53,102][2845 ][monk.network.partitioner][DEBUG   ][38  ][partitioner.py] : key monk\n"
       ]
      },
      {
       "output_type": "stream",
       "stream": "stdout",
       "text": [
        "[2015-01-25 08:19:53,131][2845 ][monk.network.producer][INFO    ][66  ][producer.py] : sending message ('{\"turtleName\": \"movielens-binary\", \"follower\": \"mluser56\", \"name\": \"monk\", \"op\": \"AddClone\"}',) at monkTestWorker@2\n"
       ]
      },
      {
       "output_type": "stream",
       "stream": "stdout",
       "text": [
        "[2015-01-25 08:19:53,147][2845 ][monk.network.partitioner][DEBUG   ][38  ][partitioner.py] : key monk\n"
       ]
      },
      {
       "output_type": "stream",
       "stream": "stdout",
       "text": [
        "[2015-01-25 08:19:53,178][2845 ][monk.network.producer][INFO    ][66  ][producer.py] : sending message ('{\"turtleName\": \"movielens-binary\", \"follower\": \"mluser57\", \"name\": \"monk\", \"op\": \"AddClone\"}',) at monkTestWorker@2\n"
       ]
      },
      {
       "output_type": "stream",
       "stream": "stdout",
       "text": [
        "[2015-01-25 08:19:53,195][2845 ][monk.network.partitioner][DEBUG   ][38  ][partitioner.py] : key monk\n"
       ]
      },
      {
       "output_type": "stream",
       "stream": "stdout",
       "text": [
        "[2015-01-25 08:19:53,222][2845 ][monk.network.producer][INFO    ][66  ][producer.py] : sending message ('{\"turtleName\": \"movielens-binary\", \"follower\": \"mluser58\", \"name\": \"monk\", \"op\": \"AddClone\"}',) at monkTestWorker@2\n"
       ]
      },
      {
       "output_type": "stream",
       "stream": "stdout",
       "text": [
        "[2015-01-25 08:19:53,238][2845 ][monk.network.partitioner][DEBUG   ][38  ][partitioner.py] : key monk\n"
       ]
      },
      {
       "output_type": "stream",
       "stream": "stdout",
       "text": [
        "[2015-01-25 08:19:53,268][2845 ][monk.network.producer][INFO    ][66  ][producer.py] : sending message ('{\"turtleName\": \"movielens-binary\", \"follower\": \"mluser59\", \"name\": \"monk\", \"op\": \"AddClone\"}',) at monkTestWorker@2\n"
       ]
      },
      {
       "output_type": "stream",
       "stream": "stdout",
       "text": [
        "[2015-01-25 08:19:53,287][2845 ][monk.network.partitioner][DEBUG   ][38  ][partitioner.py] : key monk\n"
       ]
      },
      {
       "output_type": "stream",
       "stream": "stdout",
       "text": [
        "[2015-01-25 08:19:53,313][2845 ][monk.network.producer][INFO    ][66  ][producer.py] : sending message ('{\"turtleName\": \"movielens-binary\", \"follower\": \"mluser60\", \"name\": \"monk\", \"op\": \"AddClone\"}',) at monkTestWorker@2\n"
       ]
      },
      {
       "output_type": "stream",
       "stream": "stdout",
       "text": [
        "[2015-01-25 08:19:53,331][2845 ][monk.network.partitioner][DEBUG   ][38  ][partitioner.py] : key monk\n"
       ]
      },
      {
       "output_type": "stream",
       "stream": "stdout",
       "text": [
        "[2015-01-25 08:19:53,360][2845 ][monk.network.producer][INFO    ][66  ][producer.py] : sending message ('{\"turtleName\": \"movielens-binary\", \"follower\": \"mluser61\", \"name\": \"monk\", \"op\": \"AddClone\"}',) at monkTestWorker@2\n"
       ]
      },
      {
       "output_type": "stream",
       "stream": "stdout",
       "text": [
        "[2015-01-25 08:19:53,379][2845 ][monk.network.partitioner][DEBUG   ][38  ][partitioner.py] : key monk\n"
       ]
      },
      {
       "output_type": "stream",
       "stream": "stdout",
       "text": [
        "[2015-01-25 08:19:53,408][2845 ][monk.network.producer][INFO    ][66  ][producer.py] : sending message ('{\"turtleName\": \"movielens-binary\", \"follower\": \"mluser62\", \"name\": \"monk\", \"op\": \"AddClone\"}',) at monkTestWorker@2\n"
       ]
      },
      {
       "output_type": "stream",
       "stream": "stdout",
       "text": [
        "[2015-01-25 08:19:53,425][2845 ][monk.network.partitioner][DEBUG   ][38  ][partitioner.py] : key monk\n"
       ]
      },
      {
       "output_type": "stream",
       "stream": "stdout",
       "text": [
        "[2015-01-25 08:19:53,455][2845 ][monk.network.producer][INFO    ][66  ][producer.py] : sending message ('{\"turtleName\": \"movielens-binary\", \"follower\": \"mluser63\", \"name\": \"monk\", \"op\": \"AddClone\"}',) at monkTestWorker@2\n"
       ]
      },
      {
       "output_type": "stream",
       "stream": "stdout",
       "text": [
        "[2015-01-25 08:19:53,474][2845 ][monk.network.partitioner][DEBUG   ][38  ][partitioner.py] : key monk\n"
       ]
      },
      {
       "output_type": "stream",
       "stream": "stdout",
       "text": [
        "[2015-01-25 08:19:53,503][2845 ][monk.network.producer][INFO    ][66  ][producer.py] : sending message ('{\"turtleName\": \"movielens-binary\", \"follower\": \"mluser64\", \"name\": \"monk\", \"op\": \"AddClone\"}',) at monkTestWorker@2\n"
       ]
      },
      {
       "output_type": "stream",
       "stream": "stdout",
       "text": [
        "[2015-01-25 08:19:53,520][2845 ][monk.network.partitioner][DEBUG   ][38  ][partitioner.py] : key monk\n"
       ]
      },
      {
       "output_type": "stream",
       "stream": "stdout",
       "text": [
        "[2015-01-25 08:19:53,550][2845 ][monk.network.producer][INFO    ][66  ][producer.py] : sending message ('{\"turtleName\": \"movielens-binary\", \"follower\": \"mluser65\", \"name\": \"monk\", \"op\": \"AddClone\"}',) at monkTestWorker@2\n"
       ]
      },
      {
       "output_type": "stream",
       "stream": "stdout",
       "text": [
        "[2015-01-25 08:19:53,567][2845 ][monk.network.partitioner][DEBUG   ][38  ][partitioner.py] : key monk\n"
       ]
      },
      {
       "output_type": "stream",
       "stream": "stdout",
       "text": [
        "[2015-01-25 08:19:53,597][2845 ][monk.network.producer][INFO    ][66  ][producer.py] : sending message ('{\"turtleName\": \"movielens-binary\", \"follower\": \"mluser66\", \"name\": \"monk\", \"op\": \"AddClone\"}',) at monkTestWorker@2\n"
       ]
      },
      {
       "output_type": "stream",
       "stream": "stdout",
       "text": [
        "[2015-01-25 08:19:53,613][2845 ][monk.network.partitioner][DEBUG   ][38  ][partitioner.py] : key monk\n"
       ]
      },
      {
       "output_type": "stream",
       "stream": "stdout",
       "text": [
        "[2015-01-25 08:19:53,645][2845 ][monk.network.producer][INFO    ][66  ][producer.py] : sending message ('{\"turtleName\": \"movielens-binary\", \"follower\": \"mluser67\", \"name\": \"monk\", \"op\": \"AddClone\"}',) at monkTestWorker@2\n"
       ]
      },
      {
       "output_type": "stream",
       "stream": "stdout",
       "text": [
        "[2015-01-25 08:19:53,661][2845 ][monk.network.partitioner][DEBUG   ][38  ][partitioner.py] : key monk\n"
       ]
      },
      {
       "output_type": "stream",
       "stream": "stdout",
       "text": [
        "[2015-01-25 08:19:53,692][2845 ][monk.network.producer][INFO    ][66  ][producer.py] : sending message ('{\"turtleName\": \"movielens-binary\", \"follower\": \"mluser68\", \"name\": \"monk\", \"op\": \"AddClone\"}',) at monkTestWorker@2\n"
       ]
      },
      {
       "output_type": "stream",
       "stream": "stdout",
       "text": [
        "[2015-01-25 08:19:53,709][2845 ][monk.network.partitioner][DEBUG   ][38  ][partitioner.py] : key monk\n"
       ]
      },
      {
       "output_type": "stream",
       "stream": "stdout",
       "text": [
        "[2015-01-25 08:19:53,735][2845 ][monk.network.producer][INFO    ][66  ][producer.py] : sending message ('{\"turtleName\": \"movielens-binary\", \"follower\": \"mluser69\", \"name\": \"monk\", \"op\": \"AddClone\"}',) at monkTestWorker@2\n"
       ]
      },
      {
       "output_type": "stream",
       "stream": "stdout",
       "text": [
        "[2015-01-25 08:19:53,753][2845 ][monk.network.partitioner][DEBUG   ][38  ][partitioner.py] : key monk\n"
       ]
      },
      {
       "output_type": "stream",
       "stream": "stdout",
       "text": [
        "[2015-01-25 08:19:53,781][2845 ][monk.network.producer][INFO    ][66  ][producer.py] : sending message ('{\"turtleName\": \"movielens-binary\", \"follower\": \"mluser70\", \"name\": \"monk\", \"op\": \"AddClone\"}',) at monkTestWorker@2\n"
       ]
      },
      {
       "output_type": "stream",
       "stream": "stdout",
       "text": [
        "[2015-01-25 08:19:53,798][2845 ][monk.network.partitioner][DEBUG   ][38  ][partitioner.py] : key monk\n"
       ]
      },
      {
       "output_type": "stream",
       "stream": "stdout",
       "text": [
        "[2015-01-25 08:19:53,829][2845 ][monk.network.producer][INFO    ][66  ][producer.py] : sending message ('{\"turtleName\": \"movielens-binary\", \"follower\": \"mluser71\", \"name\": \"monk\", \"op\": \"AddClone\"}',) at monkTestWorker@2\n"
       ]
      },
      {
       "output_type": "stream",
       "stream": "stdout",
       "text": [
        "[2015-01-25 08:19:53,846][2845 ][monk.network.partitioner][DEBUG   ][38  ][partitioner.py] : key monk\n"
       ]
      },
      {
       "output_type": "stream",
       "stream": "stdout",
       "text": [
        "[2015-01-25 08:19:53,876][2845 ][monk.network.producer][INFO    ][66  ][producer.py] : sending message ('{\"turtleName\": \"movielens-binary\", \"follower\": \"mluser72\", \"name\": \"monk\", \"op\": \"AddClone\"}',) at monkTestWorker@2\n"
       ]
      },
      {
       "output_type": "stream",
       "stream": "stdout",
       "text": [
        "[2015-01-25 08:19:53,894][2845 ][monk.network.partitioner][DEBUG   ][38  ][partitioner.py] : key monk\n"
       ]
      },
      {
       "output_type": "stream",
       "stream": "stdout",
       "text": [
        "[2015-01-25 08:19:53,920][2845 ][monk.network.producer][INFO    ][66  ][producer.py] : sending message ('{\"turtleName\": \"movielens-binary\", \"follower\": \"mluser73\", \"name\": \"monk\", \"op\": \"AddClone\"}',) at monkTestWorker@2\n"
       ]
      },
      {
       "output_type": "stream",
       "stream": "stdout",
       "text": [
        "[2015-01-25 08:19:53,940][2845 ][monk.network.partitioner][DEBUG   ][38  ][partitioner.py] : key monk\n"
       ]
      },
      {
       "output_type": "stream",
       "stream": "stdout",
       "text": [
        "[2015-01-25 08:19:53,970][2845 ][monk.network.producer][INFO    ][66  ][producer.py] : sending message ('{\"turtleName\": \"movielens-binary\", \"follower\": \"mluser74\", \"name\": \"monk\", \"op\": \"AddClone\"}',) at monkTestWorker@2\n"
       ]
      },
      {
       "output_type": "stream",
       "stream": "stdout",
       "text": [
        "[2015-01-25 08:19:53,987][2845 ][monk.network.partitioner][DEBUG   ][38  ][partitioner.py] : key monk\n"
       ]
      },
      {
       "output_type": "stream",
       "stream": "stdout",
       "text": [
        "[2015-01-25 08:19:54,013][2845 ][monk.network.producer][INFO    ][66  ][producer.py] : sending message ('{\"turtleName\": \"movielens-binary\", \"follower\": \"mluser75\", \"name\": \"monk\", \"op\": \"AddClone\"}',) at monkTestWorker@2\n"
       ]
      },
      {
       "output_type": "stream",
       "stream": "stdout",
       "text": [
        "[2015-01-25 08:19:54,030][2845 ][monk.network.partitioner][DEBUG   ][38  ][partitioner.py] : key monk\n"
       ]
      },
      {
       "output_type": "stream",
       "stream": "stdout",
       "text": [
        "[2015-01-25 08:19:54,056][2845 ][monk.network.producer][INFO    ][66  ][producer.py] : sending message ('{\"turtleName\": \"movielens-binary\", \"follower\": \"mluser76\", \"name\": \"monk\", \"op\": \"AddClone\"}',) at monkTestWorker@2\n"
       ]
      },
      {
       "output_type": "stream",
       "stream": "stdout",
       "text": [
        "[2015-01-25 08:19:54,074][2845 ][monk.network.partitioner][DEBUG   ][38  ][partitioner.py] : key monk\n"
       ]
      },
      {
       "output_type": "stream",
       "stream": "stdout",
       "text": [
        "[2015-01-25 08:19:54,103][2845 ][monk.network.producer][INFO    ][66  ][producer.py] : sending message ('{\"turtleName\": \"movielens-binary\", \"follower\": \"mluser77\", \"name\": \"monk\", \"op\": \"AddClone\"}',) at monkTestWorker@2\n"
       ]
      },
      {
       "output_type": "stream",
       "stream": "stdout",
       "text": [
        "[2015-01-25 08:19:54,120][2845 ][monk.network.partitioner][DEBUG   ][38  ][partitioner.py] : key monk\n"
       ]
      },
      {
       "output_type": "stream",
       "stream": "stdout",
       "text": [
        "[2015-01-25 08:19:54,146][2845 ][monk.network.producer][INFO    ][66  ][producer.py] : sending message ('{\"turtleName\": \"movielens-binary\", \"follower\": \"mluser78\", \"name\": \"monk\", \"op\": \"AddClone\"}',) at monkTestWorker@2\n"
       ]
      },
      {
       "output_type": "stream",
       "stream": "stdout",
       "text": [
        "[2015-01-25 08:19:54,165][2845 ][monk.network.partitioner][DEBUG   ][38  ][partitioner.py] : key monk\n"
       ]
      },
      {
       "output_type": "stream",
       "stream": "stdout",
       "text": [
        "[2015-01-25 08:19:54,194][2845 ][monk.network.producer][INFO    ][66  ][producer.py] : sending message ('{\"turtleName\": \"movielens-binary\", \"follower\": \"mluser79\", \"name\": \"monk\", \"op\": \"AddClone\"}',) at monkTestWorker@2\n"
       ]
      },
      {
       "output_type": "stream",
       "stream": "stdout",
       "text": [
        "[2015-01-25 08:19:54,210][2845 ][monk.network.partitioner][DEBUG   ][38  ][partitioner.py] : key monk\n"
       ]
      },
      {
       "output_type": "stream",
       "stream": "stdout",
       "text": [
        "[2015-01-25 08:19:54,236][2845 ][monk.network.producer][INFO    ][66  ][producer.py] : sending message ('{\"turtleName\": \"movielens-binary\", \"follower\": \"mluser80\", \"name\": \"monk\", \"op\": \"AddClone\"}',) at monkTestWorker@2\n"
       ]
      },
      {
       "output_type": "stream",
       "stream": "stdout",
       "text": [
        "[2015-01-25 08:19:54,253][2845 ][monk.network.partitioner][DEBUG   ][38  ][partitioner.py] : key monk\n"
       ]
      },
      {
       "output_type": "stream",
       "stream": "stdout",
       "text": [
        "[2015-01-25 08:19:54,283][2845 ][monk.network.producer][INFO    ][66  ][producer.py] : sending message ('{\"turtleName\": \"movielens-binary\", \"follower\": \"mluser81\", \"name\": \"monk\", \"op\": \"AddClone\"}',) at monkTestWorker@2\n"
       ]
      },
      {
       "output_type": "stream",
       "stream": "stdout",
       "text": [
        "[2015-01-25 08:19:54,301][2845 ][monk.network.partitioner][DEBUG   ][38  ][partitioner.py] : key monk\n"
       ]
      },
      {
       "output_type": "stream",
       "stream": "stdout",
       "text": [
        "[2015-01-25 08:19:54,327][2845 ][monk.network.producer][INFO    ][66  ][producer.py] : sending message ('{\"turtleName\": \"movielens-binary\", \"follower\": \"mluser82\", \"name\": \"monk\", \"op\": \"AddClone\"}',) at monkTestWorker@2\n"
       ]
      },
      {
       "output_type": "stream",
       "stream": "stdout",
       "text": [
        "[2015-01-25 08:19:54,345][2845 ][monk.network.partitioner][DEBUG   ][38  ][partitioner.py] : key monk\n"
       ]
      },
      {
       "output_type": "stream",
       "stream": "stdout",
       "text": [
        "[2015-01-25 08:19:54,375][2845 ][monk.network.producer][INFO    ][66  ][producer.py] : sending message ('{\"turtleName\": \"movielens-binary\", \"follower\": \"mluser83\", \"name\": \"monk\", \"op\": \"AddClone\"}',) at monkTestWorker@2\n"
       ]
      },
      {
       "output_type": "stream",
       "stream": "stdout",
       "text": [
        "[2015-01-25 08:19:54,393][2845 ][monk.network.partitioner][DEBUG   ][38  ][partitioner.py] : key monk\n"
       ]
      },
      {
       "output_type": "stream",
       "stream": "stdout",
       "text": [
        "[2015-01-25 08:19:54,422][2845 ][monk.network.producer][INFO    ][66  ][producer.py] : sending message ('{\"turtleName\": \"movielens-binary\", \"follower\": \"mluser84\", \"name\": \"monk\", \"op\": \"AddClone\"}',) at monkTestWorker@2\n"
       ]
      },
      {
       "output_type": "stream",
       "stream": "stdout",
       "text": [
        "[2015-01-25 08:19:54,440][2845 ][monk.network.partitioner][DEBUG   ][38  ][partitioner.py] : key monk\n"
       ]
      },
      {
       "output_type": "stream",
       "stream": "stdout",
       "text": [
        "[2015-01-25 08:19:54,466][2845 ][monk.network.producer][INFO    ][66  ][producer.py] : sending message ('{\"turtleName\": \"movielens-binary\", \"follower\": \"mluser85\", \"name\": \"monk\", \"op\": \"AddClone\"}',) at monkTestWorker@2\n"
       ]
      },
      {
       "output_type": "stream",
       "stream": "stdout",
       "text": [
        "[2015-01-25 08:19:54,484][2845 ][monk.network.partitioner][DEBUG   ][38  ][partitioner.py] : key monk\n"
       ]
      },
      {
       "output_type": "stream",
       "stream": "stdout",
       "text": [
        "[2015-01-25 08:19:54,510][2845 ][monk.network.producer][INFO    ][66  ][producer.py] : sending message ('{\"turtleName\": \"movielens-binary\", \"follower\": \"mluser86\", \"name\": \"monk\", \"op\": \"AddClone\"}',) at monkTestWorker@2\n"
       ]
      },
      {
       "output_type": "stream",
       "stream": "stdout",
       "text": [
        "[2015-01-25 08:19:54,526][2845 ][monk.network.partitioner][DEBUG   ][38  ][partitioner.py] : key monk\n"
       ]
      },
      {
       "output_type": "stream",
       "stream": "stdout",
       "text": [
        "[2015-01-25 08:19:54,553][2845 ][monk.network.producer][INFO    ][66  ][producer.py] : sending message ('{\"turtleName\": \"movielens-binary\", \"follower\": \"mluser87\", \"name\": \"monk\", \"op\": \"AddClone\"}',) at monkTestWorker@2\n"
       ]
      },
      {
       "output_type": "stream",
       "stream": "stdout",
       "text": [
        "[2015-01-25 08:19:54,571][2845 ][monk.network.partitioner][DEBUG   ][38  ][partitioner.py] : key monk\n"
       ]
      },
      {
       "output_type": "stream",
       "stream": "stdout",
       "text": [
        "[2015-01-25 08:19:54,597][2845 ][monk.network.producer][INFO    ][66  ][producer.py] : sending message ('{\"turtleName\": \"movielens-binary\", \"follower\": \"mluser88\", \"name\": \"monk\", \"op\": \"AddClone\"}',) at monkTestWorker@2\n"
       ]
      },
      {
       "output_type": "stream",
       "stream": "stdout",
       "text": [
        "[2015-01-25 08:19:54,613][2845 ][monk.network.partitioner][DEBUG   ][38  ][partitioner.py] : key monk\n"
       ]
      },
      {
       "output_type": "stream",
       "stream": "stdout",
       "text": [
        "[2015-01-25 08:19:54,638][2845 ][monk.network.producer][INFO    ][66  ][producer.py] : sending message ('{\"turtleName\": \"movielens-binary\", \"follower\": \"mluser89\", \"name\": \"monk\", \"op\": \"AddClone\"}',) at monkTestWorker@2\n"
       ]
      },
      {
       "output_type": "stream",
       "stream": "stdout",
       "text": [
        "[2015-01-25 08:19:54,656][2845 ][monk.network.partitioner][DEBUG   ][38  ][partitioner.py] : key monk\n"
       ]
      },
      {
       "output_type": "stream",
       "stream": "stdout",
       "text": [
        "[2015-01-25 08:19:54,687][2845 ][monk.network.producer][INFO    ][66  ][producer.py] : sending message ('{\"turtleName\": \"movielens-binary\", \"follower\": \"mluser90\", \"name\": \"monk\", \"op\": \"AddClone\"}',) at monkTestWorker@2\n"
       ]
      },
      {
       "output_type": "stream",
       "stream": "stdout",
       "text": [
        "[2015-01-25 08:19:54,703][2845 ][monk.network.partitioner][DEBUG   ][38  ][partitioner.py] : key monk\n"
       ]
      },
      {
       "output_type": "stream",
       "stream": "stdout",
       "text": [
        "[2015-01-25 08:19:54,730][2845 ][monk.network.producer][INFO    ][66  ][producer.py] : sending message ('{\"turtleName\": \"movielens-binary\", \"follower\": \"mluser91\", \"name\": \"monk\", \"op\": \"AddClone\"}',) at monkTestWorker@2\n"
       ]
      },
      {
       "output_type": "stream",
       "stream": "stdout",
       "text": [
        "[2015-01-25 08:19:54,747][2845 ][monk.network.partitioner][DEBUG   ][38  ][partitioner.py] : key monk\n"
       ]
      },
      {
       "output_type": "stream",
       "stream": "stdout",
       "text": [
        "[2015-01-25 08:19:54,779][2845 ][monk.network.producer][INFO    ][66  ][producer.py] : sending message ('{\"turtleName\": \"movielens-binary\", \"follower\": \"mluser92\", \"name\": \"monk\", \"op\": \"AddClone\"}',) at monkTestWorker@2\n"
       ]
      },
      {
       "output_type": "stream",
       "stream": "stdout",
       "text": [
        "[2015-01-25 08:19:54,796][2845 ][monk.network.partitioner][DEBUG   ][38  ][partitioner.py] : key monk\n"
       ]
      },
      {
       "output_type": "stream",
       "stream": "stdout",
       "text": [
        "[2015-01-25 08:19:54,827][2845 ][monk.network.producer][INFO    ][66  ][producer.py] : sending message ('{\"turtleName\": \"movielens-binary\", \"follower\": \"mluser93\", \"name\": \"monk\", \"op\": \"AddClone\"}',) at monkTestWorker@2\n"
       ]
      },
      {
       "output_type": "stream",
       "stream": "stdout",
       "text": [
        "[2015-01-25 08:19:54,844][2845 ][monk.network.partitioner][DEBUG   ][38  ][partitioner.py] : key monk\n"
       ]
      },
      {
       "output_type": "stream",
       "stream": "stdout",
       "text": [
        "[2015-01-25 08:19:54,870][2845 ][monk.network.producer][INFO    ][66  ][producer.py] : sending message ('{\"turtleName\": \"movielens-binary\", \"follower\": \"mluser94\", \"name\": \"monk\", \"op\": \"AddClone\"}',) at monkTestWorker@2\n"
       ]
      },
      {
       "output_type": "stream",
       "stream": "stdout",
       "text": [
        "[2015-01-25 08:19:54,888][2845 ][monk.network.partitioner][DEBUG   ][38  ][partitioner.py] : key monk\n"
       ]
      },
      {
       "output_type": "stream",
       "stream": "stdout",
       "text": [
        "[2015-01-25 08:19:54,917][2845 ][monk.network.producer][INFO    ][66  ][producer.py] : sending message ('{\"turtleName\": \"movielens-binary\", \"follower\": \"mluser95\", \"name\": \"monk\", \"op\": \"AddClone\"}',) at monkTestWorker@2\n"
       ]
      },
      {
       "output_type": "stream",
       "stream": "stdout",
       "text": [
        "[2015-01-25 08:19:54,935][2845 ][monk.network.partitioner][DEBUG   ][38  ][partitioner.py] : key monk\n"
       ]
      },
      {
       "output_type": "stream",
       "stream": "stdout",
       "text": [
        "[2015-01-25 08:19:54,960][2845 ][monk.network.producer][INFO    ][66  ][producer.py] : sending message ('{\"turtleName\": \"movielens-binary\", \"follower\": \"mluser96\", \"name\": \"monk\", \"op\": \"AddClone\"}',) at monkTestWorker@2\n"
       ]
      },
      {
       "output_type": "stream",
       "stream": "stdout",
       "text": [
        "[2015-01-25 08:19:54,977][2845 ][monk.network.partitioner][DEBUG   ][38  ][partitioner.py] : key monk\n"
       ]
      },
      {
       "output_type": "stream",
       "stream": "stdout",
       "text": [
        "[2015-01-25 08:19:55,006][2845 ][monk.network.producer][INFO    ][66  ][producer.py] : sending message ('{\"turtleName\": \"movielens-binary\", \"follower\": \"mluser97\", \"name\": \"monk\", \"op\": \"AddClone\"}',) at monkTestWorker@2\n"
       ]
      },
      {
       "output_type": "stream",
       "stream": "stdout",
       "text": [
        "[2015-01-25 08:19:55,024][2845 ][monk.network.partitioner][DEBUG   ][38  ][partitioner.py] : key monk\n"
       ]
      },
      {
       "output_type": "stream",
       "stream": "stdout",
       "text": [
        "[2015-01-25 08:19:55,050][2845 ][monk.network.producer][INFO    ][66  ][producer.py] : sending message ('{\"turtleName\": \"movielens-binary\", \"follower\": \"mluser98\", \"name\": \"monk\", \"op\": \"AddClone\"}',) at monkTestWorker@2\n"
       ]
      },
      {
       "output_type": "stream",
       "stream": "stdout",
       "text": [
        "[2015-01-25 08:19:55,067][2845 ][monk.network.partitioner][DEBUG   ][38  ][partitioner.py] : key monk\n"
       ]
      },
      {
       "output_type": "stream",
       "stream": "stdout",
       "text": [
        "[2015-01-25 08:19:55,097][2845 ][monk.network.producer][INFO    ][66  ][producer.py] : sending message ('{\"turtleName\": \"movielens-binary\", \"follower\": \"mluser99\", \"name\": \"monk\", \"op\": \"AddClone\"}',) at monkTestWorker@2\n"
       ]
      },
      {
       "output_type": "stream",
       "stream": "stdout",
       "text": [
        "[2015-01-25 08:19:55,116][2845 ][monk.network.partitioner][DEBUG   ][38  ][partitioner.py] : key monk\n"
       ]
      },
      {
       "output_type": "stream",
       "stream": "stdout",
       "text": [
        "[2015-01-25 08:19:55,144][2845 ][monk.network.producer][INFO    ][66  ][producer.py] : sending message ('{\"turtleName\": \"movielens-binary\", \"follower\": \"mluser100\", \"name\": \"monk\", \"op\": \"AddClone\"}',) at monkTestWorker@2\n"
       ]
      },
      {
       "output_type": "stream",
       "stream": "stdout",
       "text": [
        "[2015-01-25 08:19:55,161][2845 ][monk.network.partitioner][DEBUG   ][38  ][partitioner.py] : key monk\n"
       ]
      },
      {
       "output_type": "stream",
       "stream": "stdout",
       "text": [
        "[2015-01-25 08:19:55,190][2845 ][monk.network.producer][INFO    ][66  ][producer.py] : sending message ('{\"turtleName\": \"movielens-binary\", \"follower\": \"mluser101\", \"name\": \"monk\", \"op\": \"AddClone\"}',) at monkTestWorker@2\n"
       ]
      },
      {
       "output_type": "stream",
       "stream": "stdout",
       "text": [
        "[2015-01-25 08:19:55,208][2845 ][monk.network.partitioner][DEBUG   ][38  ][partitioner.py] : key monk\n"
       ]
      },
      {
       "output_type": "stream",
       "stream": "stdout",
       "text": [
        "[2015-01-25 08:19:55,235][2845 ][monk.network.producer][INFO    ][66  ][producer.py] : sending message ('{\"turtleName\": \"movielens-binary\", \"follower\": \"mluser102\", \"name\": \"monk\", \"op\": \"AddClone\"}',) at monkTestWorker@2\n"
       ]
      },
      {
       "output_type": "stream",
       "stream": "stdout",
       "text": [
        "[2015-01-25 08:19:55,252][2845 ][monk.network.partitioner][DEBUG   ][38  ][partitioner.py] : key monk\n"
       ]
      },
      {
       "output_type": "stream",
       "stream": "stdout",
       "text": [
        "[2015-01-25 08:19:55,281][2845 ][monk.network.producer][INFO    ][66  ][producer.py] : sending message ('{\"turtleName\": \"movielens-binary\", \"follower\": \"mluser103\", \"name\": \"monk\", \"op\": \"AddClone\"}',) at monkTestWorker@2\n"
       ]
      },
      {
       "output_type": "stream",
       "stream": "stdout",
       "text": [
        "[2015-01-25 08:19:55,299][2845 ][monk.network.partitioner][DEBUG   ][38  ][partitioner.py] : key monk\n"
       ]
      },
      {
       "output_type": "stream",
       "stream": "stdout",
       "text": [
        "[2015-01-25 08:19:55,325][2845 ][monk.network.producer][INFO    ][66  ][producer.py] : sending message ('{\"turtleName\": \"movielens-binary\", \"follower\": \"mluser104\", \"name\": \"monk\", \"op\": \"AddClone\"}',) at monkTestWorker@2\n"
       ]
      },
      {
       "output_type": "stream",
       "stream": "stdout",
       "text": [
        "[2015-01-25 08:19:55,341][2845 ][monk.network.partitioner][DEBUG   ][38  ][partitioner.py] : key monk\n"
       ]
      },
      {
       "output_type": "stream",
       "stream": "stdout",
       "text": [
        "[2015-01-25 08:19:55,371][2845 ][monk.network.producer][INFO    ][66  ][producer.py] : sending message ('{\"turtleName\": \"movielens-binary\", \"follower\": \"mluser105\", \"name\": \"monk\", \"op\": \"AddClone\"}',) at monkTestWorker@2\n"
       ]
      },
      {
       "output_type": "stream",
       "stream": "stdout",
       "text": [
        "[2015-01-25 08:19:55,389][2845 ][monk.network.partitioner][DEBUG   ][38  ][partitioner.py] : key monk\n"
       ]
      },
      {
       "output_type": "stream",
       "stream": "stdout",
       "text": [
        "[2015-01-25 08:19:55,423][2845 ][monk.network.producer][INFO    ][66  ][producer.py] : sending message ('{\"turtleName\": \"movielens-binary\", \"follower\": \"mluser106\", \"name\": \"monk\", \"op\": \"AddClone\"}',) at monkTestWorker@2\n"
       ]
      },
      {
       "output_type": "stream",
       "stream": "stdout",
       "text": [
        "[2015-01-25 08:19:55,441][2845 ][monk.network.partitioner][DEBUG   ][38  ][partitioner.py] : key monk\n"
       ]
      },
      {
       "output_type": "stream",
       "stream": "stdout",
       "text": [
        "[2015-01-25 08:19:55,467][2845 ][monk.network.producer][INFO    ][66  ][producer.py] : sending message ('{\"turtleName\": \"movielens-binary\", \"follower\": \"mluser107\", \"name\": \"monk\", \"op\": \"AddClone\"}',) at monkTestWorker@2\n"
       ]
      },
      {
       "output_type": "stream",
       "stream": "stdout",
       "text": [
        "[2015-01-25 08:19:55,484][2845 ][monk.network.partitioner][DEBUG   ][38  ][partitioner.py] : key monk\n"
       ]
      },
      {
       "output_type": "stream",
       "stream": "stdout",
       "text": [
        "[2015-01-25 08:19:55,519][2845 ][monk.network.producer][INFO    ][66  ][producer.py] : sending message ('{\"turtleName\": \"movielens-binary\", \"follower\": \"mluser108\", \"name\": \"monk\", \"op\": \"AddClone\"}',) at monkTestWorker@2\n"
       ]
      },
      {
       "output_type": "stream",
       "stream": "stdout",
       "text": [
        "[2015-01-25 08:19:55,536][2845 ][monk.network.partitioner][DEBUG   ][38  ][partitioner.py] : key monk\n"
       ]
      },
      {
       "output_type": "stream",
       "stream": "stdout",
       "text": [
        "[2015-01-25 08:19:55,561][2845 ][monk.network.producer][INFO    ][66  ][producer.py] : sending message ('{\"turtleName\": \"movielens-binary\", \"follower\": \"mluser109\", \"name\": \"monk\", \"op\": \"AddClone\"}',) at monkTestWorker@2\n"
       ]
      },
      {
       "output_type": "stream",
       "stream": "stdout",
       "text": [
        "[2015-01-25 08:19:55,577][2845 ][monk.network.partitioner][DEBUG   ][38  ][partitioner.py] : key monk\n"
       ]
      },
      {
       "output_type": "stream",
       "stream": "stdout",
       "text": [
        "[2015-01-25 08:19:55,607][2845 ][monk.network.producer][INFO    ][66  ][producer.py] : sending message ('{\"turtleName\": \"movielens-binary\", \"follower\": \"mluser110\", \"name\": \"monk\", \"op\": \"AddClone\"}',) at monkTestWorker@2\n"
       ]
      },
      {
       "output_type": "stream",
       "stream": "stdout",
       "text": [
        "[2015-01-25 08:19:55,625][2845 ][monk.network.partitioner][DEBUG   ][38  ][partitioner.py] : key monk\n"
       ]
      },
      {
       "output_type": "stream",
       "stream": "stdout",
       "text": [
        "[2015-01-25 08:19:55,650][2845 ][monk.network.producer][INFO    ][66  ][producer.py] : sending message ('{\"turtleName\": \"movielens-binary\", \"follower\": \"mluser111\", \"name\": \"monk\", \"op\": \"AddClone\"}',) at monkTestWorker@2\n"
       ]
      },
      {
       "output_type": "stream",
       "stream": "stdout",
       "text": [
        "[2015-01-25 08:19:55,667][2845 ][monk.network.partitioner][DEBUG   ][38  ][partitioner.py] : key monk\n"
       ]
      },
      {
       "output_type": "stream",
       "stream": "stdout",
       "text": [
        "[2015-01-25 08:19:55,696][2845 ][monk.network.producer][INFO    ][66  ][producer.py] : sending message ('{\"turtleName\": \"movielens-binary\", \"follower\": \"mluser112\", \"name\": \"monk\", \"op\": \"AddClone\"}',) at monkTestWorker@2\n"
       ]
      },
      {
       "output_type": "stream",
       "stream": "stdout",
       "text": [
        "[2015-01-25 08:19:55,713][2845 ][monk.network.partitioner][DEBUG   ][38  ][partitioner.py] : key monk\n"
       ]
      },
      {
       "output_type": "stream",
       "stream": "stdout",
       "text": [
        "[2015-01-25 08:19:55,739][2845 ][monk.network.producer][INFO    ][66  ][producer.py] : sending message ('{\"turtleName\": \"movielens-binary\", \"follower\": \"mluser113\", \"name\": \"monk\", \"op\": \"AddClone\"}',) at monkTestWorker@2\n"
       ]
      },
      {
       "output_type": "stream",
       "stream": "stdout",
       "text": [
        "[2015-01-25 08:19:55,757][2845 ][monk.network.partitioner][DEBUG   ][38  ][partitioner.py] : key monk\n"
       ]
      },
      {
       "output_type": "stream",
       "stream": "stdout",
       "text": [
        "[2015-01-25 08:19:55,789][2845 ][monk.network.producer][INFO    ][66  ][producer.py] : sending message ('{\"turtleName\": \"movielens-binary\", \"follower\": \"mluser114\", \"name\": \"monk\", \"op\": \"AddClone\"}',) at monkTestWorker@2\n"
       ]
      },
      {
       "output_type": "stream",
       "stream": "stdout",
       "text": [
        "[2015-01-25 08:19:55,808][2845 ][monk.network.partitioner][DEBUG   ][38  ][partitioner.py] : key monk\n"
       ]
      },
      {
       "output_type": "stream",
       "stream": "stdout",
       "text": [
        "[2015-01-25 08:19:55,838][2845 ][monk.network.producer][INFO    ][66  ][producer.py] : sending message ('{\"turtleName\": \"movielens-binary\", \"follower\": \"mluser115\", \"name\": \"monk\", \"op\": \"AddClone\"}',) at monkTestWorker@2\n"
       ]
      },
      {
       "output_type": "stream",
       "stream": "stdout",
       "text": [
        "[2015-01-25 08:19:55,857][2845 ][monk.network.partitioner][DEBUG   ][38  ][partitioner.py] : key monk\n"
       ]
      },
      {
       "output_type": "stream",
       "stream": "stdout",
       "text": [
        "[2015-01-25 08:19:55,882][2845 ][monk.network.producer][INFO    ][66  ][producer.py] : sending message ('{\"turtleName\": \"movielens-binary\", \"follower\": \"mluser116\", \"name\": \"monk\", \"op\": \"AddClone\"}',) at monkTestWorker@2\n"
       ]
      },
      {
       "output_type": "stream",
       "stream": "stdout",
       "text": [
        "[2015-01-25 08:19:55,899][2845 ][monk.network.partitioner][DEBUG   ][38  ][partitioner.py] : key monk\n"
       ]
      },
      {
       "output_type": "stream",
       "stream": "stdout",
       "text": [
        "[2015-01-25 08:19:55,926][2845 ][monk.network.producer][INFO    ][66  ][producer.py] : sending message ('{\"turtleName\": \"movielens-binary\", \"follower\": \"mluser117\", \"name\": \"monk\", \"op\": \"AddClone\"}',) at monkTestWorker@2\n"
       ]
      },
      {
       "output_type": "stream",
       "stream": "stdout",
       "text": [
        "[2015-01-25 08:19:55,943][2845 ][monk.network.partitioner][DEBUG   ][38  ][partitioner.py] : key monk\n"
       ]
      },
      {
       "output_type": "stream",
       "stream": "stdout",
       "text": [
        "[2015-01-25 08:19:55,972][2845 ][monk.network.producer][INFO    ][66  ][producer.py] : sending message ('{\"turtleName\": \"movielens-binary\", \"follower\": \"mluser118\", \"name\": \"monk\", \"op\": \"AddClone\"}',) at monkTestWorker@2\n"
       ]
      },
      {
       "output_type": "stream",
       "stream": "stdout",
       "text": [
        "[2015-01-25 08:19:55,989][2845 ][monk.network.partitioner][DEBUG   ][38  ][partitioner.py] : key monk\n"
       ]
      },
      {
       "output_type": "stream",
       "stream": "stdout",
       "text": [
        "[2015-01-25 08:19:56,014][2845 ][monk.network.producer][INFO    ][66  ][producer.py] : sending message ('{\"turtleName\": \"movielens-binary\", \"follower\": \"mluser119\", \"name\": \"monk\", \"op\": \"AddClone\"}',) at monkTestWorker@2\n"
       ]
      },
      {
       "output_type": "stream",
       "stream": "stdout",
       "text": [
        "[2015-01-25 08:19:56,031][2845 ][monk.network.partitioner][DEBUG   ][38  ][partitioner.py] : key monk\n"
       ]
      },
      {
       "output_type": "stream",
       "stream": "stdout",
       "text": [
        "[2015-01-25 08:19:56,058][2845 ][monk.network.producer][INFO    ][66  ][producer.py] : sending message ('{\"turtleName\": \"movielens-binary\", \"follower\": \"mluser120\", \"name\": \"monk\", \"op\": \"AddClone\"}',) at monkTestWorker@2\n"
       ]
      },
      {
       "output_type": "stream",
       "stream": "stdout",
       "text": [
        "[2015-01-25 08:19:56,082][2845 ][monk.network.partitioner][DEBUG   ][38  ][partitioner.py] : key monk\n"
       ]
      },
      {
       "output_type": "stream",
       "stream": "stdout",
       "text": [
        "[2015-01-25 08:19:56,112][2845 ][monk.network.producer][INFO    ][66  ][producer.py] : sending message ('{\"turtleName\": \"movielens-binary\", \"follower\": \"mluser121\", \"name\": \"monk\", \"op\": \"AddClone\"}',) at monkTestWorker@2\n"
       ]
      },
      {
       "output_type": "stream",
       "stream": "stdout",
       "text": [
        "[2015-01-25 08:19:56,129][2845 ][monk.network.partitioner][DEBUG   ][38  ][partitioner.py] : key monk\n"
       ]
      },
      {
       "output_type": "stream",
       "stream": "stdout",
       "text": [
        "[2015-01-25 08:19:56,156][2845 ][monk.network.producer][INFO    ][66  ][producer.py] : sending message ('{\"turtleName\": \"movielens-binary\", \"follower\": \"mluser122\", \"name\": \"monk\", \"op\": \"AddClone\"}',) at monkTestWorker@2\n"
       ]
      },
      {
       "output_type": "stream",
       "stream": "stdout",
       "text": [
        "[2015-01-25 08:19:56,174][2845 ][monk.network.partitioner][DEBUG   ][38  ][partitioner.py] : key monk\n"
       ]
      },
      {
       "output_type": "stream",
       "stream": "stdout",
       "text": [
        "[2015-01-25 08:19:56,204][2845 ][monk.network.producer][INFO    ][66  ][producer.py] : sending message ('{\"turtleName\": \"movielens-binary\", \"follower\": \"mluser123\", \"name\": \"monk\", \"op\": \"AddClone\"}',) at monkTestWorker@2\n"
       ]
      },
      {
       "output_type": "stream",
       "stream": "stdout",
       "text": [
        "[2015-01-25 08:19:56,221][2845 ][monk.network.partitioner][DEBUG   ][38  ][partitioner.py] : key monk\n"
       ]
      },
      {
       "output_type": "stream",
       "stream": "stdout",
       "text": [
        "[2015-01-25 08:19:56,248][2845 ][monk.network.producer][INFO    ][66  ][producer.py] : sending message ('{\"turtleName\": \"movielens-binary\", \"follower\": \"mluser124\", \"name\": \"monk\", \"op\": \"AddClone\"}',) at monkTestWorker@2\n"
       ]
      },
      {
       "output_type": "stream",
       "stream": "stdout",
       "text": [
        "[2015-01-25 08:19:56,266][2845 ][monk.network.partitioner][DEBUG   ][38  ][partitioner.py] : key monk\n"
       ]
      },
      {
       "output_type": "stream",
       "stream": "stdout",
       "text": [
        "[2015-01-25 08:19:56,297][2845 ][monk.network.producer][INFO    ][66  ][producer.py] : sending message ('{\"turtleName\": \"movielens-binary\", \"follower\": \"mluser125\", \"name\": \"monk\", \"op\": \"AddClone\"}',) at monkTestWorker@2\n"
       ]
      },
      {
       "output_type": "stream",
       "stream": "stdout",
       "text": [
        "[2015-01-25 08:19:56,315][2845 ][monk.network.partitioner][DEBUG   ][38  ][partitioner.py] : key monk\n"
       ]
      },
      {
       "output_type": "stream",
       "stream": "stdout",
       "text": [
        "[2015-01-25 08:19:56,346][2845 ][monk.network.producer][INFO    ][66  ][producer.py] : sending message ('{\"turtleName\": \"movielens-binary\", \"follower\": \"mluser126\", \"name\": \"monk\", \"op\": \"AddClone\"}',) at monkTestWorker@2\n"
       ]
      },
      {
       "output_type": "stream",
       "stream": "stdout",
       "text": [
        "[2015-01-25 08:19:56,363][2845 ][monk.network.partitioner][DEBUG   ][38  ][partitioner.py] : key monk\n"
       ]
      },
      {
       "output_type": "stream",
       "stream": "stdout",
       "text": [
        "[2015-01-25 08:19:56,390][2845 ][monk.network.producer][INFO    ][66  ][producer.py] : sending message ('{\"turtleName\": \"movielens-binary\", \"follower\": \"mluser127\", \"name\": \"monk\", \"op\": \"AddClone\"}',) at monkTestWorker@2\n"
       ]
      },
      {
       "output_type": "stream",
       "stream": "stdout",
       "text": [
        "[2015-01-25 08:19:56,408][2845 ][monk.network.partitioner][DEBUG   ][38  ][partitioner.py] : key monk\n"
       ]
      },
      {
       "output_type": "stream",
       "stream": "stdout",
       "text": [
        "[2015-01-25 08:19:56,435][2845 ][monk.network.producer][INFO    ][66  ][producer.py] : sending message ('{\"turtleName\": \"movielens-binary\", \"follower\": \"mluser128\", \"name\": \"monk\", \"op\": \"AddClone\"}',) at monkTestWorker@2\n"
       ]
      },
      {
       "output_type": "stream",
       "stream": "stdout",
       "text": [
        "[2015-01-25 08:19:56,452][2845 ][monk.network.partitioner][DEBUG   ][38  ][partitioner.py] : key monk\n"
       ]
      },
      {
       "output_type": "stream",
       "stream": "stdout",
       "text": [
        "[2015-01-25 08:19:56,484][2845 ][monk.network.producer][INFO    ][66  ][producer.py] : sending message ('{\"turtleName\": \"movielens-binary\", \"follower\": \"mluser129\", \"name\": \"monk\", \"op\": \"AddClone\"}',) at monkTestWorker@2\n"
       ]
      },
      {
       "output_type": "stream",
       "stream": "stdout",
       "text": [
        "[2015-01-25 08:19:56,501][2845 ][monk.network.partitioner][DEBUG   ][38  ][partitioner.py] : key monk\n"
       ]
      },
      {
       "output_type": "stream",
       "stream": "stdout",
       "text": [
        "[2015-01-25 08:19:56,527][2845 ][monk.network.producer][INFO    ][66  ][producer.py] : sending message ('{\"turtleName\": \"movielens-binary\", \"follower\": \"mluser130\", \"name\": \"monk\", \"op\": \"AddClone\"}',) at monkTestWorker@2\n"
       ]
      },
      {
       "output_type": "stream",
       "stream": "stdout",
       "text": [
        "[2015-01-25 08:19:56,544][2845 ][monk.network.partitioner][DEBUG   ][38  ][partitioner.py] : key monk\n"
       ]
      },
      {
       "output_type": "stream",
       "stream": "stdout",
       "text": [
        "[2015-01-25 08:19:56,573][2845 ][monk.network.producer][INFO    ][66  ][producer.py] : sending message ('{\"turtleName\": \"movielens-binary\", \"follower\": \"mluser131\", \"name\": \"monk\", \"op\": \"AddClone\"}',) at monkTestWorker@2\n"
       ]
      },
      {
       "output_type": "stream",
       "stream": "stdout",
       "text": [
        "[2015-01-25 08:19:56,592][2845 ][monk.network.partitioner][DEBUG   ][38  ][partitioner.py] : key monk\n"
       ]
      },
      {
       "output_type": "stream",
       "stream": "stdout",
       "text": [
        "[2015-01-25 08:19:56,618][2845 ][monk.network.producer][INFO    ][66  ][producer.py] : sending message ('{\"turtleName\": \"movielens-binary\", \"follower\": \"mluser132\", \"name\": \"monk\", \"op\": \"AddClone\"}',) at monkTestWorker@2\n"
       ]
      },
      {
       "output_type": "stream",
       "stream": "stdout",
       "text": [
        "[2015-01-25 08:19:56,635][2845 ][monk.network.partitioner][DEBUG   ][38  ][partitioner.py] : key monk\n"
       ]
      },
      {
       "output_type": "stream",
       "stream": "stdout",
       "text": [
        "[2015-01-25 08:19:56,664][2845 ][monk.network.producer][INFO    ][66  ][producer.py] : sending message ('{\"turtleName\": \"movielens-binary\", \"follower\": \"mluser133\", \"name\": \"monk\", \"op\": \"AddClone\"}',) at monkTestWorker@2\n"
       ]
      },
      {
       "output_type": "stream",
       "stream": "stdout",
       "text": [
        "[2015-01-25 08:19:56,680][2845 ][monk.network.partitioner][DEBUG   ][38  ][partitioner.py] : key monk\n"
       ]
      },
      {
       "output_type": "stream",
       "stream": "stdout",
       "text": [
        "[2015-01-25 08:19:56,708][2845 ][monk.network.producer][INFO    ][66  ][producer.py] : sending message ('{\"turtleName\": \"movielens-binary\", \"follower\": \"mluser134\", \"name\": \"monk\", \"op\": \"AddClone\"}',) at monkTestWorker@2\n"
       ]
      },
      {
       "output_type": "stream",
       "stream": "stdout",
       "text": [
        "[2015-01-25 08:19:56,726][2845 ][monk.network.partitioner][DEBUG   ][38  ][partitioner.py] : key monk\n"
       ]
      },
      {
       "output_type": "stream",
       "stream": "stdout",
       "text": [
        "[2015-01-25 08:19:56,756][2845 ][monk.network.producer][INFO    ][66  ][producer.py] : sending message ('{\"turtleName\": \"movielens-binary\", \"follower\": \"mluser135\", \"name\": \"monk\", \"op\": \"AddClone\"}',) at monkTestWorker@2\n"
       ]
      },
      {
       "output_type": "stream",
       "stream": "stdout",
       "text": [
        "[2015-01-25 08:19:56,774][2845 ][monk.network.partitioner][DEBUG   ][38  ][partitioner.py] : key monk\n"
       ]
      },
      {
       "output_type": "stream",
       "stream": "stdout",
       "text": [
        "[2015-01-25 08:19:56,800][2845 ][monk.network.producer][INFO    ][66  ][producer.py] : sending message ('{\"turtleName\": \"movielens-binary\", \"follower\": \"mluser136\", \"name\": \"monk\", \"op\": \"AddClone\"}',) at monkTestWorker@2\n"
       ]
      },
      {
       "output_type": "stream",
       "stream": "stdout",
       "text": [
        "[2015-01-25 08:19:56,819][2845 ][monk.network.partitioner][DEBUG   ][38  ][partitioner.py] : key monk\n"
       ]
      },
      {
       "output_type": "stream",
       "stream": "stdout",
       "text": [
        "[2015-01-25 08:19:56,848][2845 ][monk.network.producer][INFO    ][66  ][producer.py] : sending message ('{\"turtleName\": \"movielens-binary\", \"follower\": \"mluser137\", \"name\": \"monk\", \"op\": \"AddClone\"}',) at monkTestWorker@2\n"
       ]
      },
      {
       "output_type": "stream",
       "stream": "stdout",
       "text": [
        "[2015-01-25 08:19:56,866][2845 ][monk.network.partitioner][DEBUG   ][38  ][partitioner.py] : key monk\n"
       ]
      },
      {
       "output_type": "stream",
       "stream": "stdout",
       "text": [
        "[2015-01-25 08:19:56,894][2845 ][monk.network.producer][INFO    ][66  ][producer.py] : sending message ('{\"turtleName\": \"movielens-binary\", \"follower\": \"mluser138\", \"name\": \"monk\", \"op\": \"AddClone\"}',) at monkTestWorker@2\n"
       ]
      },
      {
       "output_type": "stream",
       "stream": "stdout",
       "text": [
        "[2015-01-25 08:19:56,911][2845 ][monk.network.partitioner][DEBUG   ][38  ][partitioner.py] : key monk\n"
       ]
      },
      {
       "output_type": "stream",
       "stream": "stdout",
       "text": [
        "[2015-01-25 08:19:56,937][2845 ][monk.network.producer][INFO    ][66  ][producer.py] : sending message ('{\"turtleName\": \"movielens-binary\", \"follower\": \"mluser139\", \"name\": \"monk\", \"op\": \"AddClone\"}',) at monkTestWorker@2\n"
       ]
      },
      {
       "output_type": "stream",
       "stream": "stdout",
       "text": [
        "[2015-01-25 08:19:56,955][2845 ][monk.network.partitioner][DEBUG   ][38  ][partitioner.py] : key monk\n"
       ]
      },
      {
       "output_type": "stream",
       "stream": "stdout",
       "text": [
        "[2015-01-25 08:19:56,984][2845 ][monk.network.producer][INFO    ][66  ][producer.py] : sending message ('{\"turtleName\": \"movielens-binary\", \"follower\": \"mluser140\", \"name\": \"monk\", \"op\": \"AddClone\"}',) at monkTestWorker@2\n"
       ]
      },
      {
       "output_type": "stream",
       "stream": "stdout",
       "text": [
        "[2015-01-25 08:19:57,001][2845 ][monk.network.partitioner][DEBUG   ][38  ][partitioner.py] : key monk\n"
       ]
      },
      {
       "output_type": "stream",
       "stream": "stdout",
       "text": [
        "[2015-01-25 08:19:57,027][2845 ][monk.network.producer][INFO    ][66  ][producer.py] : sending message ('{\"turtleName\": \"movielens-binary\", \"follower\": \"mluser141\", \"name\": \"monk\", \"op\": \"AddClone\"}',) at monkTestWorker@2\n"
       ]
      },
      {
       "output_type": "stream",
       "stream": "stdout",
       "text": [
        "[2015-01-25 08:19:57,043][2845 ][monk.network.partitioner][DEBUG   ][38  ][partitioner.py] : key monk\n"
       ]
      },
      {
       "output_type": "stream",
       "stream": "stdout",
       "text": [
        "[2015-01-25 08:19:57,072][2845 ][monk.network.producer][INFO    ][66  ][producer.py] : sending message ('{\"turtleName\": \"movielens-binary\", \"follower\": \"mluser142\", \"name\": \"monk\", \"op\": \"AddClone\"}',) at monkTestWorker@2\n"
       ]
      },
      {
       "output_type": "stream",
       "stream": "stdout",
       "text": [
        "[2015-01-25 08:19:57,089][2845 ][monk.network.partitioner][DEBUG   ][38  ][partitioner.py] : key monk\n"
       ]
      },
      {
       "output_type": "stream",
       "stream": "stdout",
       "text": [
        "[2015-01-25 08:19:57,115][2845 ][monk.network.producer][INFO    ][66  ][producer.py] : sending message ('{\"turtleName\": \"movielens-binary\", \"follower\": \"mluser143\", \"name\": \"monk\", \"op\": \"AddClone\"}',) at monkTestWorker@2\n"
       ]
      },
      {
       "output_type": "stream",
       "stream": "stdout",
       "text": [
        "[2015-01-25 08:19:57,132][2845 ][monk.network.partitioner][DEBUG   ][38  ][partitioner.py] : key monk\n"
       ]
      },
      {
       "output_type": "stream",
       "stream": "stdout",
       "text": [
        "[2015-01-25 08:19:57,163][2845 ][monk.network.producer][INFO    ][66  ][producer.py] : sending message ('{\"turtleName\": \"movielens-binary\", \"follower\": \"mluser144\", \"name\": \"monk\", \"op\": \"AddClone\"}',) at monkTestWorker@2\n"
       ]
      },
      {
       "output_type": "stream",
       "stream": "stdout",
       "text": [
        "[2015-01-25 08:19:57,179][2845 ][monk.network.partitioner][DEBUG   ][38  ][partitioner.py] : key monk\n"
       ]
      },
      {
       "output_type": "stream",
       "stream": "stdout",
       "text": [
        "[2015-01-25 08:19:57,205][2845 ][monk.network.producer][INFO    ][66  ][producer.py] : sending message ('{\"turtleName\": \"movielens-binary\", \"follower\": \"mluser145\", \"name\": \"monk\", \"op\": \"AddClone\"}',) at monkTestWorker@2\n"
       ]
      },
      {
       "output_type": "stream",
       "stream": "stdout",
       "text": [
        "[2015-01-25 08:19:57,222][2845 ][monk.network.partitioner][DEBUG   ][38  ][partitioner.py] : key monk\n"
       ]
      },
      {
       "output_type": "stream",
       "stream": "stdout",
       "text": [
        "[2015-01-25 08:19:57,252][2845 ][monk.network.producer][INFO    ][66  ][producer.py] : sending message ('{\"turtleName\": \"movielens-binary\", \"follower\": \"mluser146\", \"name\": \"monk\", \"op\": \"AddClone\"}',) at monkTestWorker@2\n"
       ]
      },
      {
       "output_type": "stream",
       "stream": "stdout",
       "text": [
        "[2015-01-25 08:19:57,269][2845 ][monk.network.partitioner][DEBUG   ][38  ][partitioner.py] : key monk\n"
       ]
      },
      {
       "output_type": "stream",
       "stream": "stdout",
       "text": [
        "[2015-01-25 08:19:57,302][2845 ][monk.network.producer][INFO    ][66  ][producer.py] : sending message ('{\"turtleName\": \"movielens-binary\", \"follower\": \"mluser147\", \"name\": \"monk\", \"op\": \"AddClone\"}',) at monkTestWorker@2\n"
       ]
      },
      {
       "output_type": "stream",
       "stream": "stdout",
       "text": [
        "[2015-01-25 08:19:57,320][2845 ][monk.network.partitioner][DEBUG   ][38  ][partitioner.py] : key monk\n"
       ]
      },
      {
       "output_type": "stream",
       "stream": "stdout",
       "text": [
        "[2015-01-25 08:19:57,345][2845 ][monk.network.producer][INFO    ][66  ][producer.py] : sending message ('{\"turtleName\": \"movielens-binary\", \"follower\": \"mluser148\", \"name\": \"monk\", \"op\": \"AddClone\"}',) at monkTestWorker@2\n"
       ]
      },
      {
       "output_type": "stream",
       "stream": "stdout",
       "text": [
        "[2015-01-25 08:19:57,362][2845 ][monk.network.partitioner][DEBUG   ][38  ][partitioner.py] : key monk\n"
       ]
      },
      {
       "output_type": "stream",
       "stream": "stdout",
       "text": [
        "[2015-01-25 08:19:57,388][2845 ][monk.network.producer][INFO    ][66  ][producer.py] : sending message ('{\"turtleName\": \"movielens-binary\", \"follower\": \"mluser149\", \"name\": \"monk\", \"op\": \"AddClone\"}',) at monkTestWorker@2\n"
       ]
      },
      {
       "output_type": "stream",
       "stream": "stdout",
       "text": [
        "[2015-01-25 08:19:57,405][2845 ][monk.network.partitioner][DEBUG   ][38  ][partitioner.py] : key monk\n"
       ]
      },
      {
       "output_type": "stream",
       "stream": "stdout",
       "text": [
        "[2015-01-25 08:19:57,435][2845 ][monk.network.producer][INFO    ][66  ][producer.py] : sending message ('{\"turtleName\": \"movielens-binary\", \"follower\": \"mluser150\", \"name\": \"monk\", \"op\": \"AddClone\"}',) at monkTestWorker@2\n"
       ]
      },
      {
       "output_type": "stream",
       "stream": "stdout",
       "text": [
        "[2015-01-25 08:19:57,452][2845 ][monk.network.partitioner][DEBUG   ][38  ][partitioner.py] : key monk\n"
       ]
      },
      {
       "output_type": "stream",
       "stream": "stdout",
       "text": [
        "[2015-01-25 08:19:57,481][2845 ][monk.network.producer][INFO    ][66  ][producer.py] : sending message ('{\"turtleName\": \"movielens-binary\", \"follower\": \"mluser151\", \"name\": \"monk\", \"op\": \"AddClone\"}',) at monkTestWorker@2\n"
       ]
      },
      {
       "output_type": "stream",
       "stream": "stdout",
       "text": [
        "[2015-01-25 08:19:57,497][2845 ][monk.network.partitioner][DEBUG   ][38  ][partitioner.py] : key monk\n"
       ]
      },
      {
       "output_type": "stream",
       "stream": "stdout",
       "text": [
        "[2015-01-25 08:19:57,524][2845 ][monk.network.producer][INFO    ][66  ][producer.py] : sending message ('{\"turtleName\": \"movielens-binary\", \"follower\": \"mluser152\", \"name\": \"monk\", \"op\": \"AddClone\"}',) at monkTestWorker@2\n"
       ]
      },
      {
       "output_type": "stream",
       "stream": "stdout",
       "text": [
        "[2015-01-25 08:19:57,540][2845 ][monk.network.partitioner][DEBUG   ][38  ][partitioner.py] : key monk\n"
       ]
      },
      {
       "output_type": "stream",
       "stream": "stdout",
       "text": [
        "[2015-01-25 08:19:57,566][2845 ][monk.network.producer][INFO    ][66  ][producer.py] : sending message ('{\"turtleName\": \"movielens-binary\", \"follower\": \"mluser153\", \"name\": \"monk\", \"op\": \"AddClone\"}',) at monkTestWorker@2\n"
       ]
      },
      {
       "output_type": "stream",
       "stream": "stdout",
       "text": [
        "[2015-01-25 08:19:57,583][2845 ][monk.network.partitioner][DEBUG   ][38  ][partitioner.py] : key monk\n"
       ]
      },
      {
       "output_type": "stream",
       "stream": "stdout",
       "text": [
        "[2015-01-25 08:19:57,612][2845 ][monk.network.producer][INFO    ][66  ][producer.py] : sending message ('{\"turtleName\": \"movielens-binary\", \"follower\": \"mluser154\", \"name\": \"monk\", \"op\": \"AddClone\"}',) at monkTestWorker@2\n"
       ]
      },
      {
       "output_type": "stream",
       "stream": "stdout",
       "text": [
        "[2015-01-25 08:19:57,628][2845 ][monk.network.partitioner][DEBUG   ][38  ][partitioner.py] : key monk\n"
       ]
      },
      {
       "output_type": "stream",
       "stream": "stdout",
       "text": [
        "[2015-01-25 08:19:57,656][2845 ][monk.network.producer][INFO    ][66  ][producer.py] : sending message ('{\"turtleName\": \"movielens-binary\", \"follower\": \"mluser155\", \"name\": \"monk\", \"op\": \"AddClone\"}',) at monkTestWorker@2\n"
       ]
      },
      {
       "output_type": "stream",
       "stream": "stdout",
       "text": [
        "[2015-01-25 08:19:57,672][2845 ][monk.network.partitioner][DEBUG   ][38  ][partitioner.py] : key monk\n"
       ]
      },
      {
       "output_type": "stream",
       "stream": "stdout",
       "text": [
        "[2015-01-25 08:19:57,701][2845 ][monk.network.producer][INFO    ][66  ][producer.py] : sending message ('{\"turtleName\": \"movielens-binary\", \"follower\": \"mluser156\", \"name\": \"monk\", \"op\": \"AddClone\"}',) at monkTestWorker@2\n"
       ]
      },
      {
       "output_type": "stream",
       "stream": "stdout",
       "text": [
        "[2015-01-25 08:19:57,719][2845 ][monk.network.partitioner][DEBUG   ][38  ][partitioner.py] : key monk\n"
       ]
      },
      {
       "output_type": "stream",
       "stream": "stdout",
       "text": [
        "[2015-01-25 08:19:57,745][2845 ][monk.network.producer][INFO    ][66  ][producer.py] : sending message ('{\"turtleName\": \"movielens-binary\", \"follower\": \"mluser157\", \"name\": \"monk\", \"op\": \"AddClone\"}',) at monkTestWorker@2\n"
       ]
      },
      {
       "output_type": "stream",
       "stream": "stdout",
       "text": [
        "[2015-01-25 08:19:57,762][2845 ][monk.network.partitioner][DEBUG   ][38  ][partitioner.py] : key monk\n"
       ]
      },
      {
       "output_type": "stream",
       "stream": "stdout",
       "text": [
        "[2015-01-25 08:19:57,789][2845 ][monk.network.producer][INFO    ][66  ][producer.py] : sending message ('{\"turtleName\": \"movielens-binary\", \"follower\": \"mluser158\", \"name\": \"monk\", \"op\": \"AddClone\"}',) at monkTestWorker@2\n"
       ]
      },
      {
       "output_type": "stream",
       "stream": "stdout",
       "text": [
        "[2015-01-25 08:19:57,807][2845 ][monk.network.partitioner][DEBUG   ][38  ][partitioner.py] : key monk\n"
       ]
      },
      {
       "output_type": "stream",
       "stream": "stdout",
       "text": [
        "[2015-01-25 08:19:57,839][2845 ][monk.network.producer][INFO    ][66  ][producer.py] : sending message ('{\"turtleName\": \"movielens-binary\", \"follower\": \"mluser159\", \"name\": \"monk\", \"op\": \"AddClone\"}',) at monkTestWorker@2\n"
       ]
      },
      {
       "output_type": "stream",
       "stream": "stdout",
       "text": [
        "[2015-01-25 08:19:57,856][2845 ][monk.network.partitioner][DEBUG   ][38  ][partitioner.py] : key monk\n"
       ]
      },
      {
       "output_type": "stream",
       "stream": "stdout",
       "text": [
        "[2015-01-25 08:19:57,882][2845 ][monk.network.producer][INFO    ][66  ][producer.py] : sending message ('{\"turtleName\": \"movielens-binary\", \"follower\": \"mluser160\", \"name\": \"monk\", \"op\": \"AddClone\"}',) at monkTestWorker@2\n"
       ]
      },
      {
       "output_type": "stream",
       "stream": "stdout",
       "text": [
        "[2015-01-25 08:19:57,900][2845 ][monk.network.partitioner][DEBUG   ][38  ][partitioner.py] : key monk\n"
       ]
      },
      {
       "output_type": "stream",
       "stream": "stdout",
       "text": [
        "[2015-01-25 08:19:57,930][2845 ][monk.network.producer][INFO    ][66  ][producer.py] : sending message ('{\"turtleName\": \"movielens-binary\", \"follower\": \"mluser161\", \"name\": \"monk\", \"op\": \"AddClone\"}',) at monkTestWorker@2\n"
       ]
      },
      {
       "output_type": "stream",
       "stream": "stdout",
       "text": [
        "[2015-01-25 08:19:57,948][2845 ][monk.network.partitioner][DEBUG   ][38  ][partitioner.py] : key monk\n"
       ]
      },
      {
       "output_type": "stream",
       "stream": "stdout",
       "text": [
        "[2015-01-25 08:19:57,975][2845 ][monk.network.producer][INFO    ][66  ][producer.py] : sending message ('{\"turtleName\": \"movielens-binary\", \"follower\": \"mluser162\", \"name\": \"monk\", \"op\": \"AddClone\"}',) at monkTestWorker@2\n"
       ]
      },
      {
       "output_type": "stream",
       "stream": "stdout",
       "text": [
        "[2015-01-25 08:19:57,993][2845 ][monk.network.partitioner][DEBUG   ][38  ][partitioner.py] : key monk\n"
       ]
      },
      {
       "output_type": "stream",
       "stream": "stdout",
       "text": [
        "[2015-01-25 08:19:58,019][2845 ][monk.network.producer][INFO    ][66  ][producer.py] : sending message ('{\"turtleName\": \"movielens-binary\", \"follower\": \"mluser163\", \"name\": \"monk\", \"op\": \"AddClone\"}',) at monkTestWorker@2\n"
       ]
      },
      {
       "output_type": "stream",
       "stream": "stdout",
       "text": [
        "[2015-01-25 08:19:58,037][2845 ][monk.network.partitioner][DEBUG   ][38  ][partitioner.py] : key monk\n"
       ]
      },
      {
       "output_type": "stream",
       "stream": "stdout",
       "text": [
        "[2015-01-25 08:19:58,063][2845 ][monk.network.producer][INFO    ][66  ][producer.py] : sending message ('{\"turtleName\": \"movielens-binary\", \"follower\": \"mluser164\", \"name\": \"monk\", \"op\": \"AddClone\"}',) at monkTestWorker@2\n"
       ]
      },
      {
       "output_type": "stream",
       "stream": "stdout",
       "text": [
        "[2015-01-25 08:19:58,080][2845 ][monk.network.partitioner][DEBUG   ][38  ][partitioner.py] : key monk\n"
       ]
      },
      {
       "output_type": "stream",
       "stream": "stdout",
       "text": [
        "[2015-01-25 08:19:58,105][2845 ][monk.network.producer][INFO    ][66  ][producer.py] : sending message ('{\"turtleName\": \"movielens-binary\", \"follower\": \"mluser165\", \"name\": \"monk\", \"op\": \"AddClone\"}',) at monkTestWorker@2\n"
       ]
      },
      {
       "output_type": "stream",
       "stream": "stdout",
       "text": [
        "[2015-01-25 08:19:58,122][2845 ][monk.network.partitioner][DEBUG   ][38  ][partitioner.py] : key monk\n"
       ]
      },
      {
       "output_type": "stream",
       "stream": "stdout",
       "text": [
        "[2015-01-25 08:19:58,149][2845 ][monk.network.producer][INFO    ][66  ][producer.py] : sending message ('{\"turtleName\": \"movielens-binary\", \"follower\": \"mluser166\", \"name\": \"monk\", \"op\": \"AddClone\"}',) at monkTestWorker@2\n"
       ]
      },
      {
       "output_type": "stream",
       "stream": "stdout",
       "text": [
        "[2015-01-25 08:19:58,168][2845 ][monk.network.partitioner][DEBUG   ][38  ][partitioner.py] : key monk\n"
       ]
      },
      {
       "output_type": "stream",
       "stream": "stdout",
       "text": [
        "[2015-01-25 08:19:58,196][2845 ][monk.network.producer][INFO    ][66  ][producer.py] : sending message ('{\"turtleName\": \"movielens-binary\", \"follower\": \"mluser167\", \"name\": \"monk\", \"op\": \"AddClone\"}',) at monkTestWorker@2\n"
       ]
      },
      {
       "output_type": "stream",
       "stream": "stdout",
       "text": [
        "[2015-01-25 08:19:58,215][2845 ][monk.network.partitioner][DEBUG   ][38  ][partitioner.py] : key monk\n"
       ]
      },
      {
       "output_type": "stream",
       "stream": "stdout",
       "text": [
        "[2015-01-25 08:19:58,245][2845 ][monk.network.producer][INFO    ][66  ][producer.py] : sending message ('{\"turtleName\": \"movielens-binary\", \"follower\": \"mluser168\", \"name\": \"monk\", \"op\": \"AddClone\"}',) at monkTestWorker@2\n"
       ]
      },
      {
       "output_type": "stream",
       "stream": "stdout",
       "text": [
        "[2015-01-25 08:19:58,262][2845 ][monk.network.partitioner][DEBUG   ][38  ][partitioner.py] : key monk\n"
       ]
      },
      {
       "output_type": "stream",
       "stream": "stdout",
       "text": [
        "[2015-01-25 08:19:58,289][2845 ][monk.network.producer][INFO    ][66  ][producer.py] : sending message ('{\"turtleName\": \"movielens-binary\", \"follower\": \"mluser169\", \"name\": \"monk\", \"op\": \"AddClone\"}',) at monkTestWorker@2\n"
       ]
      },
      {
       "output_type": "stream",
       "stream": "stdout",
       "text": [
        "[2015-01-25 08:19:58,306][2845 ][monk.network.partitioner][DEBUG   ][38  ][partitioner.py] : key monk\n"
       ]
      },
      {
       "output_type": "stream",
       "stream": "stdout",
       "text": [
        "[2015-01-25 08:19:58,335][2845 ][monk.network.producer][INFO    ][66  ][producer.py] : sending message ('{\"turtleName\": \"movielens-binary\", \"follower\": \"mluser170\", \"name\": \"monk\", \"op\": \"AddClone\"}',) at monkTestWorker@2\n"
       ]
      },
      {
       "output_type": "stream",
       "stream": "stdout",
       "text": [
        "[2015-01-25 08:19:58,352][2845 ][monk.network.partitioner][DEBUG   ][38  ][partitioner.py] : key monk\n"
       ]
      },
      {
       "output_type": "stream",
       "stream": "stdout",
       "text": [
        "[2015-01-25 08:19:58,382][2845 ][monk.network.producer][INFO    ][66  ][producer.py] : sending message ('{\"turtleName\": \"movielens-binary\", \"follower\": \"mluser171\", \"name\": \"monk\", \"op\": \"AddClone\"}',) at monkTestWorker@2\n"
       ]
      },
      {
       "output_type": "stream",
       "stream": "stdout",
       "text": [
        "[2015-01-25 08:19:58,399][2845 ][monk.network.partitioner][DEBUG   ][38  ][partitioner.py] : key monk\n"
       ]
      },
      {
       "output_type": "stream",
       "stream": "stdout",
       "text": [
        "[2015-01-25 08:19:58,428][2845 ][monk.network.producer][INFO    ][66  ][producer.py] : sending message ('{\"turtleName\": \"movielens-binary\", \"follower\": \"mluser172\", \"name\": \"monk\", \"op\": \"AddClone\"}',) at monkTestWorker@2\n"
       ]
      },
      {
       "output_type": "stream",
       "stream": "stdout",
       "text": [
        "[2015-01-25 08:19:58,444][2845 ][monk.network.partitioner][DEBUG   ][38  ][partitioner.py] : key monk\n"
       ]
      },
      {
       "output_type": "stream",
       "stream": "stdout",
       "text": [
        "[2015-01-25 08:19:58,470][2845 ][monk.network.producer][INFO    ][66  ][producer.py] : sending message ('{\"turtleName\": \"movielens-binary\", \"follower\": \"mluser173\", \"name\": \"monk\", \"op\": \"AddClone\"}',) at monkTestWorker@2\n"
       ]
      },
      {
       "output_type": "stream",
       "stream": "stdout",
       "text": [
        "[2015-01-25 08:19:58,488][2845 ][monk.network.partitioner][DEBUG   ][38  ][partitioner.py] : key monk\n"
       ]
      },
      {
       "output_type": "stream",
       "stream": "stdout",
       "text": [
        "[2015-01-25 08:19:58,520][2845 ][monk.network.producer][INFO    ][66  ][producer.py] : sending message ('{\"turtleName\": \"movielens-binary\", \"follower\": \"mluser174\", \"name\": \"monk\", \"op\": \"AddClone\"}',) at monkTestWorker@2\n"
       ]
      },
      {
       "output_type": "stream",
       "stream": "stdout",
       "text": [
        "[2015-01-25 08:19:58,537][2845 ][monk.network.partitioner][DEBUG   ][38  ][partitioner.py] : key monk\n"
       ]
      },
      {
       "output_type": "stream",
       "stream": "stdout",
       "text": [
        "[2015-01-25 08:19:58,562][2845 ][monk.network.producer][INFO    ][66  ][producer.py] : sending message ('{\"turtleName\": \"movielens-binary\", \"follower\": \"mluser175\", \"name\": \"monk\", \"op\": \"AddClone\"}',) at monkTestWorker@2\n"
       ]
      },
      {
       "output_type": "stream",
       "stream": "stdout",
       "text": [
        "[2015-01-25 08:19:58,579][2845 ][monk.network.partitioner][DEBUG   ][38  ][partitioner.py] : key monk\n"
       ]
      },
      {
       "output_type": "stream",
       "stream": "stdout",
       "text": [
        "[2015-01-25 08:19:58,610][2845 ][monk.network.producer][INFO    ][66  ][producer.py] : sending message ('{\"turtleName\": \"movielens-binary\", \"follower\": \"mluser176\", \"name\": \"monk\", \"op\": \"AddClone\"}',) at monkTestWorker@2\n"
       ]
      },
      {
       "output_type": "stream",
       "stream": "stdout",
       "text": [
        "[2015-01-25 08:19:58,630][2845 ][monk.network.partitioner][DEBUG   ][38  ][partitioner.py] : key monk\n"
       ]
      },
      {
       "output_type": "stream",
       "stream": "stdout",
       "text": [
        "[2015-01-25 08:19:58,656][2845 ][monk.network.producer][INFO    ][66  ][producer.py] : sending message ('{\"turtleName\": \"movielens-binary\", \"follower\": \"mluser177\", \"name\": \"monk\", \"op\": \"AddClone\"}',) at monkTestWorker@2\n"
       ]
      },
      {
       "output_type": "stream",
       "stream": "stdout",
       "text": [
        "[2015-01-25 08:19:58,672][2845 ][monk.network.partitioner][DEBUG   ][38  ][partitioner.py] : key monk\n"
       ]
      },
      {
       "output_type": "stream",
       "stream": "stdout",
       "text": [
        "[2015-01-25 08:19:58,698][2845 ][monk.network.producer][INFO    ][66  ][producer.py] : sending message ('{\"turtleName\": \"movielens-binary\", \"follower\": \"mluser178\", \"name\": \"monk\", \"op\": \"AddClone\"}',) at monkTestWorker@2\n"
       ]
      },
      {
       "output_type": "stream",
       "stream": "stdout",
       "text": [
        "[2015-01-25 08:19:58,716][2845 ][monk.network.partitioner][DEBUG   ][38  ][partitioner.py] : key monk\n"
       ]
      },
      {
       "output_type": "stream",
       "stream": "stdout",
       "text": [
        "[2015-01-25 08:19:58,748][2845 ][monk.network.producer][INFO    ][66  ][producer.py] : sending message ('{\"turtleName\": \"movielens-binary\", \"follower\": \"mluser179\", \"name\": \"monk\", \"op\": \"AddClone\"}',) at monkTestWorker@2\n"
       ]
      },
      {
       "output_type": "stream",
       "stream": "stdout",
       "text": [
        "[2015-01-25 08:19:58,765][2845 ][monk.network.partitioner][DEBUG   ][38  ][partitioner.py] : key monk\n"
       ]
      },
      {
       "output_type": "stream",
       "stream": "stdout",
       "text": [
        "[2015-01-25 08:19:58,791][2845 ][monk.network.producer][INFO    ][66  ][producer.py] : sending message ('{\"turtleName\": \"movielens-binary\", \"follower\": \"mluser180\", \"name\": \"monk\", \"op\": \"AddClone\"}',) at monkTestWorker@2\n"
       ]
      },
      {
       "output_type": "stream",
       "stream": "stdout",
       "text": [
        "[2015-01-25 08:19:58,809][2845 ][monk.network.partitioner][DEBUG   ][38  ][partitioner.py] : key monk\n"
       ]
      },
      {
       "output_type": "stream",
       "stream": "stdout",
       "text": [
        "[2015-01-25 08:19:58,838][2845 ][monk.network.producer][INFO    ][66  ][producer.py] : sending message ('{\"turtleName\": \"movielens-binary\", \"follower\": \"mluser181\", \"name\": \"monk\", \"op\": \"AddClone\"}',) at monkTestWorker@2\n"
       ]
      },
      {
       "output_type": "stream",
       "stream": "stdout",
       "text": [
        "[2015-01-25 08:19:58,857][2845 ][monk.network.partitioner][DEBUG   ][38  ][partitioner.py] : key monk\n"
       ]
      },
      {
       "output_type": "stream",
       "stream": "stdout",
       "text": [
        "[2015-01-25 08:19:58,885][2845 ][monk.network.producer][INFO    ][66  ][producer.py] : sending message ('{\"turtleName\": \"movielens-binary\", \"follower\": \"mluser182\", \"name\": \"monk\", \"op\": \"AddClone\"}',) at monkTestWorker@2\n"
       ]
      },
      {
       "output_type": "stream",
       "stream": "stdout",
       "text": [
        "[2015-01-25 08:19:58,904][2845 ][monk.network.partitioner][DEBUG   ][38  ][partitioner.py] : key monk\n"
       ]
      },
      {
       "output_type": "stream",
       "stream": "stdout",
       "text": [
        "[2015-01-25 08:19:58,937][2845 ][monk.network.producer][INFO    ][66  ][producer.py] : sending message ('{\"turtleName\": \"movielens-binary\", \"follower\": \"mluser183\", \"name\": \"monk\", \"op\": \"AddClone\"}',) at monkTestWorker@2\n"
       ]
      },
      {
       "output_type": "stream",
       "stream": "stdout",
       "text": [
        "[2015-01-25 08:19:58,955][2845 ][monk.network.partitioner][DEBUG   ][38  ][partitioner.py] : key monk\n"
       ]
      },
      {
       "output_type": "stream",
       "stream": "stdout",
       "text": [
        "[2015-01-25 08:19:58,983][2845 ][monk.network.producer][INFO    ][66  ][producer.py] : sending message ('{\"turtleName\": \"movielens-binary\", \"follower\": \"mluser184\", \"name\": \"monk\", \"op\": \"AddClone\"}',) at monkTestWorker@2\n"
       ]
      },
      {
       "output_type": "stream",
       "stream": "stdout",
       "text": [
        "[2015-01-25 08:19:59,001][2845 ][monk.network.partitioner][DEBUG   ][38  ][partitioner.py] : key monk\n"
       ]
      },
      {
       "output_type": "stream",
       "stream": "stdout",
       "text": [
        "[2015-01-25 08:19:59,031][2845 ][monk.network.producer][INFO    ][66  ][producer.py] : sending message ('{\"turtleName\": \"movielens-binary\", \"follower\": \"mluser185\", \"name\": \"monk\", \"op\": \"AddClone\"}',) at monkTestWorker@2\n"
       ]
      },
      {
       "output_type": "stream",
       "stream": "stdout",
       "text": [
        "[2015-01-25 08:19:59,048][2845 ][monk.network.partitioner][DEBUG   ][38  ][partitioner.py] : key monk\n"
       ]
      },
      {
       "output_type": "stream",
       "stream": "stdout",
       "text": [
        "[2015-01-25 08:19:59,073][2845 ][monk.network.producer][INFO    ][66  ][producer.py] : sending message ('{\"turtleName\": \"movielens-binary\", \"follower\": \"mluser186\", \"name\": \"monk\", \"op\": \"AddClone\"}',) at monkTestWorker@2\n"
       ]
      },
      {
       "output_type": "stream",
       "stream": "stdout",
       "text": [
        "[2015-01-25 08:19:59,090][2845 ][monk.network.partitioner][DEBUG   ][38  ][partitioner.py] : key monk\n"
       ]
      },
      {
       "output_type": "stream",
       "stream": "stdout",
       "text": [
        "[2015-01-25 08:19:59,119][2845 ][monk.network.producer][INFO    ][66  ][producer.py] : sending message ('{\"turtleName\": \"movielens-binary\", \"follower\": \"mluser187\", \"name\": \"monk\", \"op\": \"AddClone\"}',) at monkTestWorker@2\n"
       ]
      },
      {
       "output_type": "stream",
       "stream": "stdout",
       "text": [
        "[2015-01-25 08:19:59,135][2845 ][monk.network.partitioner][DEBUG   ][38  ][partitioner.py] : key monk\n"
       ]
      },
      {
       "output_type": "stream",
       "stream": "stdout",
       "text": [
        "[2015-01-25 08:19:59,160][2845 ][monk.network.producer][INFO    ][66  ][producer.py] : sending message ('{\"turtleName\": \"movielens-binary\", \"follower\": \"mluser188\", \"name\": \"monk\", \"op\": \"AddClone\"}',) at monkTestWorker@2\n"
       ]
      },
      {
       "output_type": "stream",
       "stream": "stdout",
       "text": [
        "[2015-01-25 08:19:59,177][2845 ][monk.network.partitioner][DEBUG   ][38  ][partitioner.py] : key monk\n"
       ]
      },
      {
       "output_type": "stream",
       "stream": "stdout",
       "text": [
        "[2015-01-25 08:19:59,207][2845 ][monk.network.producer][INFO    ][66  ][producer.py] : sending message ('{\"turtleName\": \"movielens-binary\", \"follower\": \"mluser189\", \"name\": \"monk\", \"op\": \"AddClone\"}',) at monkTestWorker@2\n"
       ]
      },
      {
       "output_type": "stream",
       "stream": "stdout",
       "text": [
        "[2015-01-25 08:19:59,224][2845 ][monk.network.partitioner][DEBUG   ][38  ][partitioner.py] : key monk\n"
       ]
      },
      {
       "output_type": "stream",
       "stream": "stdout",
       "text": [
        "[2015-01-25 08:19:59,250][2845 ][monk.network.producer][INFO    ][66  ][producer.py] : sending message ('{\"turtleName\": \"movielens-binary\", \"follower\": \"mluser190\", \"name\": \"monk\", \"op\": \"AddClone\"}',) at monkTestWorker@2\n"
       ]
      },
      {
       "output_type": "stream",
       "stream": "stdout",
       "text": [
        "[2015-01-25 08:19:59,267][2845 ][monk.network.partitioner][DEBUG   ][38  ][partitioner.py] : key monk\n"
       ]
      },
      {
       "output_type": "stream",
       "stream": "stdout",
       "text": [
        "[2015-01-25 08:19:59,297][2845 ][monk.network.producer][INFO    ][66  ][producer.py] : sending message ('{\"turtleName\": \"movielens-binary\", \"follower\": \"mluser191\", \"name\": \"monk\", \"op\": \"AddClone\"}',) at monkTestWorker@2\n"
       ]
      },
      {
       "output_type": "stream",
       "stream": "stdout",
       "text": [
        "[2015-01-25 08:19:59,313][2845 ][monk.network.partitioner][DEBUG   ][38  ][partitioner.py] : key monk\n"
       ]
      },
      {
       "output_type": "stream",
       "stream": "stdout",
       "text": [
        "[2015-01-25 08:19:59,360][2845 ][monk.network.producer][INFO    ][66  ][producer.py] : sending message ('{\"turtleName\": \"movielens-binary\", \"follower\": \"mluser192\", \"name\": \"monk\", \"op\": \"AddClone\"}',) at monkTestWorker@2\n"
       ]
      },
      {
       "output_type": "stream",
       "stream": "stdout",
       "text": [
        "[2015-01-25 08:19:59,377][2845 ][monk.network.partitioner][DEBUG   ][38  ][partitioner.py] : key monk\n"
       ]
      },
      {
       "output_type": "stream",
       "stream": "stdout",
       "text": [
        "[2015-01-25 08:19:59,406][2845 ][monk.network.producer][INFO    ][66  ][producer.py] : sending message ('{\"turtleName\": \"movielens-binary\", \"follower\": \"mluser193\", \"name\": \"monk\", \"op\": \"AddClone\"}',) at monkTestWorker@2\n"
       ]
      },
      {
       "output_type": "stream",
       "stream": "stdout",
       "text": [
        "[2015-01-25 08:19:59,424][2845 ][monk.network.partitioner][DEBUG   ][38  ][partitioner.py] : key monk\n"
       ]
      },
      {
       "output_type": "stream",
       "stream": "stdout",
       "text": [
        "[2015-01-25 08:19:59,451][2845 ][monk.network.producer][INFO    ][66  ][producer.py] : sending message ('{\"turtleName\": \"movielens-binary\", \"follower\": \"mluser194\", \"name\": \"monk\", \"op\": \"AddClone\"}',) at monkTestWorker@2\n"
       ]
      },
      {
       "output_type": "stream",
       "stream": "stdout",
       "text": [
        "[2015-01-25 08:19:59,467][2845 ][monk.network.partitioner][DEBUG   ][38  ][partitioner.py] : key monk\n"
       ]
      },
      {
       "output_type": "stream",
       "stream": "stdout",
       "text": [
        "[2015-01-25 08:19:59,498][2845 ][monk.network.producer][INFO    ][66  ][producer.py] : sending message ('{\"turtleName\": \"movielens-binary\", \"follower\": \"mluser195\", \"name\": \"monk\", \"op\": \"AddClone\"}',) at monkTestWorker@2\n"
       ]
      },
      {
       "output_type": "stream",
       "stream": "stdout",
       "text": [
        "[2015-01-25 08:19:59,514][2845 ][monk.network.partitioner][DEBUG   ][38  ][partitioner.py] : key monk\n"
       ]
      },
      {
       "output_type": "stream",
       "stream": "stdout",
       "text": [
        "[2015-01-25 08:19:59,544][2845 ][monk.network.producer][INFO    ][66  ][producer.py] : sending message ('{\"turtleName\": \"movielens-binary\", \"follower\": \"mluser196\", \"name\": \"monk\", \"op\": \"AddClone\"}',) at monkTestWorker@2\n"
       ]
      },
      {
       "output_type": "stream",
       "stream": "stdout",
       "text": [
        "[2015-01-25 08:19:59,562][2845 ][monk.network.partitioner][DEBUG   ][38  ][partitioner.py] : key monk\n"
       ]
      },
      {
       "output_type": "stream",
       "stream": "stdout",
       "text": [
        "[2015-01-25 08:19:59,588][2845 ][monk.network.producer][INFO    ][66  ][producer.py] : sending message ('{\"turtleName\": \"movielens-binary\", \"follower\": \"mluser197\", \"name\": \"monk\", \"op\": \"AddClone\"}',) at monkTestWorker@2\n"
       ]
      },
      {
       "output_type": "stream",
       "stream": "stdout",
       "text": [
        "[2015-01-25 08:19:59,608][2845 ][monk.network.partitioner][DEBUG   ][38  ][partitioner.py] : key monk\n"
       ]
      },
      {
       "output_type": "stream",
       "stream": "stdout",
       "text": [
        "[2015-01-25 08:19:59,638][2845 ][monk.network.producer][INFO    ][66  ][producer.py] : sending message ('{\"turtleName\": \"movielens-binary\", \"follower\": \"mluser198\", \"name\": \"monk\", \"op\": \"AddClone\"}',) at monkTestWorker@2\n"
       ]
      },
      {
       "output_type": "stream",
       "stream": "stdout",
       "text": [
        "[2015-01-25 08:19:59,655][2845 ][monk.network.partitioner][DEBUG   ][38  ][partitioner.py] : key monk\n"
       ]
      },
      {
       "output_type": "stream",
       "stream": "stdout",
       "text": [
        "[2015-01-25 08:19:59,682][2845 ][monk.network.producer][INFO    ][66  ][producer.py] : sending message ('{\"turtleName\": \"movielens-binary\", \"follower\": \"mluser199\", \"name\": \"monk\", \"op\": \"AddClone\"}',) at monkTestWorker@2\n"
       ]
      },
      {
       "output_type": "stream",
       "stream": "stdout",
       "text": [
        "[2015-01-25 08:19:59,701][2845 ][monk.network.partitioner][DEBUG   ][38  ][partitioner.py] : key monk\n"
       ]
      },
      {
       "output_type": "stream",
       "stream": "stdout",
       "text": [
        "[2015-01-25 08:19:59,732][2845 ][monk.network.producer][INFO    ][66  ][producer.py] : sending message ('{\"turtleName\": \"movielens-binary\", \"follower\": \"mluser200\", \"name\": \"monk\", \"op\": \"AddClone\"}',) at monkTestWorker@2\n"
       ]
      },
      {
       "output_type": "stream",
       "stream": "stdout",
       "text": [
        "[2015-01-25 08:19:59,749][2845 ][monk.network.partitioner][DEBUG   ][38  ][partitioner.py] : key monk\n"
       ]
      },
      {
       "output_type": "stream",
       "stream": "stdout",
       "text": [
        "[2015-01-25 08:19:59,776][2845 ][monk.network.producer][INFO    ][66  ][producer.py] : sending message ('{\"turtleName\": \"movielens-binary\", \"follower\": \"mluser201\", \"name\": \"monk\", \"op\": \"AddClone\"}',) at monkTestWorker@2\n"
       ]
      },
      {
       "output_type": "stream",
       "stream": "stdout",
       "text": [
        "[2015-01-25 08:19:59,799][2845 ][monk.network.partitioner][DEBUG   ][38  ][partitioner.py] : key monk\n"
       ]
      },
      {
       "output_type": "stream",
       "stream": "stdout",
       "text": [
        "[2015-01-25 08:19:59,830][2845 ][monk.network.producer][INFO    ][66  ][producer.py] : sending message ('{\"turtleName\": \"movielens-binary\", \"follower\": \"mluser202\", \"name\": \"monk\", \"op\": \"AddClone\"}',) at monkTestWorker@2\n"
       ]
      },
      {
       "output_type": "stream",
       "stream": "stdout",
       "text": [
        "[2015-01-25 08:19:59,851][2845 ][monk.network.partitioner][DEBUG   ][38  ][partitioner.py] : key monk\n"
       ]
      },
      {
       "output_type": "stream",
       "stream": "stdout",
       "text": [
        "[2015-01-25 08:19:59,880][2845 ][monk.network.producer][INFO    ][66  ][producer.py] : sending message ('{\"turtleName\": \"movielens-binary\", \"follower\": \"mluser203\", \"name\": \"monk\", \"op\": \"AddClone\"}',) at monkTestWorker@2\n"
       ]
      },
      {
       "output_type": "stream",
       "stream": "stdout",
       "text": [
        "[2015-01-25 08:19:59,899][2845 ][monk.network.partitioner][DEBUG   ][38  ][partitioner.py] : key monk\n"
       ]
      },
      {
       "output_type": "stream",
       "stream": "stdout",
       "text": [
        "[2015-01-25 08:19:59,931][2845 ][monk.network.producer][INFO    ][66  ][producer.py] : sending message ('{\"turtleName\": \"movielens-binary\", \"follower\": \"mluser204\", \"name\": \"monk\", \"op\": \"AddClone\"}',) at monkTestWorker@2\n"
       ]
      },
      {
       "output_type": "stream",
       "stream": "stdout",
       "text": [
        "[2015-01-25 08:19:59,948][2845 ][monk.network.partitioner][DEBUG   ][38  ][partitioner.py] : key monk\n"
       ]
      },
      {
       "output_type": "stream",
       "stream": "stdout",
       "text": [
        "[2015-01-25 08:19:59,977][2845 ][monk.network.producer][INFO    ][66  ][producer.py] : sending message ('{\"turtleName\": \"movielens-binary\", \"follower\": \"mluser205\", \"name\": \"monk\", \"op\": \"AddClone\"}',) at monkTestWorker@2\n"
       ]
      },
      {
       "output_type": "stream",
       "stream": "stdout",
       "text": [
        "[2015-01-25 08:19:59,994][2845 ][monk.network.partitioner][DEBUG   ][38  ][partitioner.py] : key monk\n"
       ]
      },
      {
       "output_type": "stream",
       "stream": "stdout",
       "text": [
        "[2015-01-25 08:20:00,020][2845 ][monk.network.producer][INFO    ][66  ][producer.py] : sending message ('{\"turtleName\": \"movielens-binary\", \"follower\": \"mluser206\", \"name\": \"monk\", \"op\": \"AddClone\"}',) at monkTestWorker@2\n"
       ]
      },
      {
       "output_type": "stream",
       "stream": "stdout",
       "text": [
        "[2015-01-25 08:20:00,037][2845 ][monk.network.partitioner][DEBUG   ][38  ][partitioner.py] : key monk\n"
       ]
      },
      {
       "output_type": "stream",
       "stream": "stdout",
       "text": [
        "[2015-01-25 08:20:00,067][2845 ][monk.network.producer][INFO    ][66  ][producer.py] : sending message ('{\"turtleName\": \"movielens-binary\", \"follower\": \"mluser207\", \"name\": \"monk\", \"op\": \"AddClone\"}',) at monkTestWorker@2\n"
       ]
      },
      {
       "output_type": "stream",
       "stream": "stdout",
       "text": [
        "[2015-01-25 08:20:00,085][2845 ][monk.network.partitioner][DEBUG   ][38  ][partitioner.py] : key monk\n"
       ]
      },
      {
       "output_type": "stream",
       "stream": "stdout",
       "text": [
        "[2015-01-25 08:20:00,110][2845 ][monk.network.producer][INFO    ][66  ][producer.py] : sending message ('{\"turtleName\": \"movielens-binary\", \"follower\": \"mluser208\", \"name\": \"monk\", \"op\": \"AddClone\"}',) at monkTestWorker@2\n"
       ]
      },
      {
       "output_type": "stream",
       "stream": "stdout",
       "text": [
        "[2015-01-25 08:20:00,127][2845 ][monk.network.partitioner][DEBUG   ][38  ][partitioner.py] : key monk\n"
       ]
      },
      {
       "output_type": "stream",
       "stream": "stdout",
       "text": [
        "[2015-01-25 08:20:00,158][2845 ][monk.network.producer][INFO    ][66  ][producer.py] : sending message ('{\"turtleName\": \"movielens-binary\", \"follower\": \"mluser209\", \"name\": \"monk\", \"op\": \"AddClone\"}',) at monkTestWorker@2\n"
       ]
      },
      {
       "output_type": "stream",
       "stream": "stdout",
       "text": [
        "[2015-01-25 08:20:00,174][2845 ][monk.network.partitioner][DEBUG   ][38  ][partitioner.py] : key monk\n"
       ]
      },
      {
       "output_type": "stream",
       "stream": "stdout",
       "text": [
        "[2015-01-25 08:20:00,203][2845 ][monk.network.producer][INFO    ][66  ][producer.py] : sending message ('{\"turtleName\": \"movielens-binary\", \"follower\": \"mluser210\", \"name\": \"monk\", \"op\": \"AddClone\"}',) at monkTestWorker@2\n"
       ]
      },
      {
       "output_type": "stream",
       "stream": "stdout",
       "text": [
        "[2015-01-25 08:20:00,222][2845 ][monk.network.partitioner][DEBUG   ][38  ][partitioner.py] : key monk\n"
       ]
      },
      {
       "output_type": "stream",
       "stream": "stdout",
       "text": [
        "[2015-01-25 08:20:00,252][2845 ][monk.network.producer][INFO    ][66  ][producer.py] : sending message ('{\"turtleName\": \"movielens-binary\", \"follower\": \"mluser211\", \"name\": \"monk\", \"op\": \"AddClone\"}',) at monkTestWorker@2\n"
       ]
      },
      {
       "output_type": "stream",
       "stream": "stdout",
       "text": [
        "[2015-01-25 08:20:00,270][2845 ][monk.network.partitioner][DEBUG   ][38  ][partitioner.py] : key monk\n"
       ]
      },
      {
       "output_type": "stream",
       "stream": "stdout",
       "text": [
        "[2015-01-25 08:20:00,295][2845 ][monk.network.producer][INFO    ][66  ][producer.py] : sending message ('{\"turtleName\": \"movielens-binary\", \"follower\": \"mluser212\", \"name\": \"monk\", \"op\": \"AddClone\"}',) at monkTestWorker@2\n"
       ]
      },
      {
       "output_type": "stream",
       "stream": "stdout",
       "text": [
        "[2015-01-25 08:20:00,312][2845 ][monk.network.partitioner][DEBUG   ][38  ][partitioner.py] : key monk\n"
       ]
      },
      {
       "output_type": "stream",
       "stream": "stdout",
       "text": [
        "[2015-01-25 08:20:00,337][2845 ][monk.network.producer][INFO    ][66  ][producer.py] : sending message ('{\"turtleName\": \"movielens-binary\", \"follower\": \"mluser213\", \"name\": \"monk\", \"op\": \"AddClone\"}',) at monkTestWorker@2\n"
       ]
      },
      {
       "output_type": "stream",
       "stream": "stdout",
       "text": [
        "[2015-01-25 08:20:00,354][2845 ][monk.network.partitioner][DEBUG   ][38  ][partitioner.py] : key monk\n"
       ]
      },
      {
       "output_type": "stream",
       "stream": "stdout",
       "text": [
        "[2015-01-25 08:20:00,384][2845 ][monk.network.producer][INFO    ][66  ][producer.py] : sending message ('{\"turtleName\": \"movielens-binary\", \"follower\": \"mluser214\", \"name\": \"monk\", \"op\": \"AddClone\"}',) at monkTestWorker@2\n"
       ]
      },
      {
       "output_type": "stream",
       "stream": "stdout",
       "text": [
        "[2015-01-25 08:20:00,401][2845 ][monk.network.partitioner][DEBUG   ][38  ][partitioner.py] : key monk\n"
       ]
      },
      {
       "output_type": "stream",
       "stream": "stdout",
       "text": [
        "[2015-01-25 08:20:00,426][2845 ][monk.network.producer][INFO    ][66  ][producer.py] : sending message ('{\"turtleName\": \"movielens-binary\", \"follower\": \"mluser215\", \"name\": \"monk\", \"op\": \"AddClone\"}',) at monkTestWorker@2\n"
       ]
      },
      {
       "output_type": "stream",
       "stream": "stdout",
       "text": [
        "[2015-01-25 08:20:00,443][2845 ][monk.network.partitioner][DEBUG   ][38  ][partitioner.py] : key monk\n"
       ]
      },
      {
       "output_type": "stream",
       "stream": "stdout",
       "text": [
        "[2015-01-25 08:20:00,472][2845 ][monk.network.producer][INFO    ][66  ][producer.py] : sending message ('{\"turtleName\": \"movielens-binary\", \"follower\": \"mluser216\", \"name\": \"monk\", \"op\": \"AddClone\"}',) at monkTestWorker@2\n"
       ]
      },
      {
       "output_type": "stream",
       "stream": "stdout",
       "text": [
        "[2015-01-25 08:20:00,489][2845 ][monk.network.partitioner][DEBUG   ][38  ][partitioner.py] : key monk\n"
       ]
      },
      {
       "output_type": "stream",
       "stream": "stdout",
       "text": [
        "[2015-01-25 08:20:00,514][2845 ][monk.network.producer][INFO    ][66  ][producer.py] : sending message ('{\"turtleName\": \"movielens-binary\", \"follower\": \"mluser217\", \"name\": \"monk\", \"op\": \"AddClone\"}',) at monkTestWorker@2\n"
       ]
      },
      {
       "output_type": "stream",
       "stream": "stdout",
       "text": [
        "[2015-01-25 08:20:00,531][2845 ][monk.network.partitioner][DEBUG   ][38  ][partitioner.py] : key monk\n"
       ]
      },
      {
       "output_type": "stream",
       "stream": "stdout",
       "text": [
        "[2015-01-25 08:20:00,560][2845 ][monk.network.producer][INFO    ][66  ][producer.py] : sending message ('{\"turtleName\": \"movielens-binary\", \"follower\": \"mluser218\", \"name\": \"monk\", \"op\": \"AddClone\"}',) at monkTestWorker@2\n"
       ]
      },
      {
       "output_type": "stream",
       "stream": "stdout",
       "text": [
        "[2015-01-25 08:20:00,577][2845 ][monk.network.partitioner][DEBUG   ][38  ][partitioner.py] : key monk\n"
       ]
      },
      {
       "output_type": "stream",
       "stream": "stdout",
       "text": [
        "[2015-01-25 08:20:00,603][2845 ][monk.network.producer][INFO    ][66  ][producer.py] : sending message ('{\"turtleName\": \"movielens-binary\", \"follower\": \"mluser219\", \"name\": \"monk\", \"op\": \"AddClone\"}',) at monkTestWorker@2\n"
       ]
      },
      {
       "output_type": "stream",
       "stream": "stdout",
       "text": [
        "[2015-01-25 08:20:00,620][2845 ][monk.network.partitioner][DEBUG   ][38  ][partitioner.py] : key monk\n"
       ]
      },
      {
       "output_type": "stream",
       "stream": "stdout",
       "text": [
        "[2015-01-25 08:20:00,648][2845 ][monk.network.producer][INFO    ][66  ][producer.py] : sending message ('{\"turtleName\": \"movielens-binary\", \"follower\": \"mluser220\", \"name\": \"monk\", \"op\": \"AddClone\"}',) at monkTestWorker@2\n"
       ]
      },
      {
       "output_type": "stream",
       "stream": "stdout",
       "text": [
        "[2015-01-25 08:20:00,664][2845 ][monk.network.partitioner][DEBUG   ][38  ][partitioner.py] : key monk\n"
       ]
      },
      {
       "output_type": "stream",
       "stream": "stdout",
       "text": [
        "[2015-01-25 08:20:00,691][2845 ][monk.network.producer][INFO    ][66  ][producer.py] : sending message ('{\"turtleName\": \"movielens-binary\", \"follower\": \"mluser221\", \"name\": \"monk\", \"op\": \"AddClone\"}',) at monkTestWorker@2\n"
       ]
      },
      {
       "output_type": "stream",
       "stream": "stdout",
       "text": [
        "[2015-01-25 08:20:00,708][2845 ][monk.network.partitioner][DEBUG   ][38  ][partitioner.py] : key monk\n"
       ]
      },
      {
       "output_type": "stream",
       "stream": "stdout",
       "text": [
        "[2015-01-25 08:20:00,735][2845 ][monk.network.producer][INFO    ][66  ][producer.py] : sending message ('{\"turtleName\": \"movielens-binary\", \"follower\": \"mluser222\", \"name\": \"monk\", \"op\": \"AddClone\"}',) at monkTestWorker@2\n"
       ]
      },
      {
       "output_type": "stream",
       "stream": "stdout",
       "text": [
        "[2015-01-25 08:20:00,752][2845 ][monk.network.partitioner][DEBUG   ][38  ][partitioner.py] : key monk\n"
       ]
      },
      {
       "output_type": "stream",
       "stream": "stdout",
       "text": [
        "[2015-01-25 08:20:00,782][2845 ][monk.network.producer][INFO    ][66  ][producer.py] : sending message ('{\"turtleName\": \"movielens-binary\", \"follower\": \"mluser223\", \"name\": \"monk\", \"op\": \"AddClone\"}',) at monkTestWorker@2\n"
       ]
      },
      {
       "output_type": "stream",
       "stream": "stdout",
       "text": [
        "[2015-01-25 08:20:00,800][2845 ][monk.network.partitioner][DEBUG   ][38  ][partitioner.py] : key monk\n"
       ]
      },
      {
       "output_type": "stream",
       "stream": "stdout",
       "text": [
        "[2015-01-25 08:20:00,830][2845 ][monk.network.producer][INFO    ][66  ][producer.py] : sending message ('{\"turtleName\": \"movielens-binary\", \"follower\": \"mluser224\", \"name\": \"monk\", \"op\": \"AddClone\"}',) at monkTestWorker@2\n"
       ]
      },
      {
       "output_type": "stream",
       "stream": "stdout",
       "text": [
        "[2015-01-25 08:20:00,847][2845 ][monk.network.partitioner][DEBUG   ][38  ][partitioner.py] : key monk\n"
       ]
      },
      {
       "output_type": "stream",
       "stream": "stdout",
       "text": [
        "[2015-01-25 08:20:00,873][2845 ][monk.network.producer][INFO    ][66  ][producer.py] : sending message ('{\"turtleName\": \"movielens-binary\", \"follower\": \"mluser225\", \"name\": \"monk\", \"op\": \"AddClone\"}',) at monkTestWorker@2\n"
       ]
      },
      {
       "output_type": "stream",
       "stream": "stdout",
       "text": [
        "[2015-01-25 08:20:00,890][2845 ][monk.network.partitioner][DEBUG   ][38  ][partitioner.py] : key monk\n"
       ]
      },
      {
       "output_type": "stream",
       "stream": "stdout",
       "text": [
        "[2015-01-25 08:20:00,920][2845 ][monk.network.producer][INFO    ][66  ][producer.py] : sending message ('{\"turtleName\": \"movielens-binary\", \"follower\": \"mluser226\", \"name\": \"monk\", \"op\": \"AddClone\"}',) at monkTestWorker@2\n"
       ]
      },
      {
       "output_type": "stream",
       "stream": "stdout",
       "text": [
        "[2015-01-25 08:20:00,938][2845 ][monk.network.partitioner][DEBUG   ][38  ][partitioner.py] : key monk\n"
       ]
      },
      {
       "output_type": "stream",
       "stream": "stdout",
       "text": [
        "[2015-01-25 08:20:00,964][2845 ][monk.network.producer][INFO    ][66  ][producer.py] : sending message ('{\"turtleName\": \"movielens-binary\", \"follower\": \"mluser227\", \"name\": \"monk\", \"op\": \"AddClone\"}',) at monkTestWorker@2\n"
       ]
      },
      {
       "output_type": "stream",
       "stream": "stdout",
       "text": [
        "[2015-01-25 08:20:00,981][2845 ][monk.network.partitioner][DEBUG   ][38  ][partitioner.py] : key monk\n"
       ]
      },
      {
       "output_type": "stream",
       "stream": "stdout",
       "text": [
        "[2015-01-25 08:20:01,010][2845 ][monk.network.producer][INFO    ][66  ][producer.py] : sending message ('{\"turtleName\": \"movielens-binary\", \"follower\": \"mluser228\", \"name\": \"monk\", \"op\": \"AddClone\"}',) at monkTestWorker@2\n"
       ]
      },
      {
       "output_type": "stream",
       "stream": "stdout",
       "text": [
        "[2015-01-25 08:20:01,027][2845 ][monk.network.partitioner][DEBUG   ][38  ][partitioner.py] : key monk\n"
       ]
      },
      {
       "output_type": "stream",
       "stream": "stdout",
       "text": [
        "[2015-01-25 08:20:01,052][2845 ][monk.network.producer][INFO    ][66  ][producer.py] : sending message ('{\"turtleName\": \"movielens-binary\", \"follower\": \"mluser229\", \"name\": \"monk\", \"op\": \"AddClone\"}',) at monkTestWorker@2\n"
       ]
      },
      {
       "output_type": "stream",
       "stream": "stdout",
       "text": [
        "[2015-01-25 08:20:01,069][2845 ][monk.network.partitioner][DEBUG   ][38  ][partitioner.py] : key monk\n"
       ]
      },
      {
       "output_type": "stream",
       "stream": "stdout",
       "text": [
        "[2015-01-25 08:20:01,099][2845 ][monk.network.producer][INFO    ][66  ][producer.py] : sending message ('{\"turtleName\": \"movielens-binary\", \"follower\": \"mluser230\", \"name\": \"monk\", \"op\": \"AddClone\"}',) at monkTestWorker@2\n"
       ]
      },
      {
       "output_type": "stream",
       "stream": "stdout",
       "text": [
        "[2015-01-25 08:20:01,116][2845 ][monk.network.partitioner][DEBUG   ][38  ][partitioner.py] : key monk\n"
       ]
      },
      {
       "output_type": "stream",
       "stream": "stdout",
       "text": [
        "[2015-01-25 08:20:01,141][2845 ][monk.network.producer][INFO    ][66  ][producer.py] : sending message ('{\"turtleName\": \"movielens-binary\", \"follower\": \"mluser231\", \"name\": \"monk\", \"op\": \"AddClone\"}',) at monkTestWorker@2\n"
       ]
      },
      {
       "output_type": "stream",
       "stream": "stdout",
       "text": [
        "[2015-01-25 08:20:01,158][2845 ][monk.network.partitioner][DEBUG   ][38  ][partitioner.py] : key monk\n"
       ]
      },
      {
       "output_type": "stream",
       "stream": "stdout",
       "text": [
        "[2015-01-25 08:20:01,187][2845 ][monk.network.producer][INFO    ][66  ][producer.py] : sending message ('{\"turtleName\": \"movielens-binary\", \"follower\": \"mluser232\", \"name\": \"monk\", \"op\": \"AddClone\"}',) at monkTestWorker@2\n"
       ]
      },
      {
       "output_type": "stream",
       "stream": "stdout",
       "text": [
        "[2015-01-25 08:20:01,205][2845 ][monk.network.partitioner][DEBUG   ][38  ][partitioner.py] : key monk\n"
       ]
      },
      {
       "output_type": "stream",
       "stream": "stdout",
       "text": [
        "[2015-01-25 08:20:01,231][2845 ][monk.network.producer][INFO    ][66  ][producer.py] : sending message ('{\"turtleName\": \"movielens-binary\", \"follower\": \"mluser233\", \"name\": \"monk\", \"op\": \"AddClone\"}',) at monkTestWorker@2\n"
       ]
      },
      {
       "output_type": "stream",
       "stream": "stdout",
       "text": [
        "[2015-01-25 08:20:01,252][2845 ][monk.network.partitioner][DEBUG   ][38  ][partitioner.py] : key monk\n"
       ]
      },
      {
       "output_type": "stream",
       "stream": "stdout",
       "text": [
        "[2015-01-25 08:20:01,281][2845 ][monk.network.producer][INFO    ][66  ][producer.py] : sending message ('{\"turtleName\": \"movielens-binary\", \"follower\": \"mluser234\", \"name\": \"monk\", \"op\": \"AddClone\"}',) at monkTestWorker@2\n"
       ]
      },
      {
       "output_type": "stream",
       "stream": "stdout",
       "text": [
        "[2015-01-25 08:20:01,299][2845 ][monk.network.partitioner][DEBUG   ][38  ][partitioner.py] : key monk\n"
       ]
      },
      {
       "output_type": "stream",
       "stream": "stdout",
       "text": [
        "[2015-01-25 08:20:01,326][2845 ][monk.network.producer][INFO    ][66  ][producer.py] : sending message ('{\"turtleName\": \"movielens-binary\", \"follower\": \"mluser235\", \"name\": \"monk\", \"op\": \"AddClone\"}',) at monkTestWorker@2\n"
       ]
      },
      {
       "output_type": "stream",
       "stream": "stdout",
       "text": [
        "[2015-01-25 08:20:01,344][2845 ][monk.network.partitioner][DEBUG   ][38  ][partitioner.py] : key monk\n"
       ]
      },
      {
       "output_type": "stream",
       "stream": "stdout",
       "text": [
        "[2015-01-25 08:20:01,377][2845 ][monk.network.producer][INFO    ][66  ][producer.py] : sending message ('{\"turtleName\": \"movielens-binary\", \"follower\": \"mluser236\", \"name\": \"monk\", \"op\": \"AddClone\"}',) at monkTestWorker@2\n"
       ]
      },
      {
       "output_type": "stream",
       "stream": "stdout",
       "text": [
        "[2015-01-25 08:20:01,395][2845 ][monk.network.partitioner][DEBUG   ][38  ][partitioner.py] : key monk\n"
       ]
      },
      {
       "output_type": "stream",
       "stream": "stdout",
       "text": [
        "[2015-01-25 08:20:01,425][2845 ][monk.network.producer][INFO    ][66  ][producer.py] : sending message ('{\"turtleName\": \"movielens-binary\", \"follower\": \"mluser237\", \"name\": \"monk\", \"op\": \"AddClone\"}',) at monkTestWorker@2\n"
       ]
      },
      {
       "output_type": "stream",
       "stream": "stdout",
       "text": [
        "[2015-01-25 08:20:01,441][2845 ][monk.network.partitioner][DEBUG   ][38  ][partitioner.py] : key monk\n"
       ]
      },
      {
       "output_type": "stream",
       "stream": "stdout",
       "text": [
        "[2015-01-25 08:20:01,467][2845 ][monk.network.producer][INFO    ][66  ][producer.py] : sending message ('{\"turtleName\": \"movielens-binary\", \"follower\": \"mluser238\", \"name\": \"monk\", \"op\": \"AddClone\"}',) at monkTestWorker@2\n"
       ]
      },
      {
       "output_type": "stream",
       "stream": "stdout",
       "text": [
        "[2015-01-25 08:20:01,484][2845 ][monk.network.partitioner][DEBUG   ][38  ][partitioner.py] : key monk\n"
       ]
      },
      {
       "output_type": "stream",
       "stream": "stdout",
       "text": [
        "[2015-01-25 08:20:01,514][2845 ][monk.network.producer][INFO    ][66  ][producer.py] : sending message ('{\"turtleName\": \"movielens-binary\", \"follower\": \"mluser239\", \"name\": \"monk\", \"op\": \"AddClone\"}',) at monkTestWorker@2\n"
       ]
      },
      {
       "output_type": "stream",
       "stream": "stdout",
       "text": [
        "[2015-01-25 08:20:01,530][2845 ][monk.network.partitioner][DEBUG   ][38  ][partitioner.py] : key monk\n"
       ]
      },
      {
       "output_type": "stream",
       "stream": "stdout",
       "text": [
        "[2015-01-25 08:20:01,556][2845 ][monk.network.producer][INFO    ][66  ][producer.py] : sending message ('{\"turtleName\": \"movielens-binary\", \"follower\": \"mluser240\", \"name\": \"monk\", \"op\": \"AddClone\"}',) at monkTestWorker@2\n"
       ]
      },
      {
       "output_type": "stream",
       "stream": "stdout",
       "text": [
        "[2015-01-25 08:20:01,574][2845 ][monk.network.partitioner][DEBUG   ][38  ][partitioner.py] : key monk\n"
       ]
      },
      {
       "output_type": "stream",
       "stream": "stdout",
       "text": [
        "[2015-01-25 08:20:01,600][2845 ][monk.network.producer][INFO    ][66  ][producer.py] : sending message ('{\"turtleName\": \"movielens-binary\", \"follower\": \"mluser241\", \"name\": \"monk\", \"op\": \"AddClone\"}',) at monkTestWorker@2\n"
       ]
      },
      {
       "output_type": "stream",
       "stream": "stdout",
       "text": [
        "[2015-01-25 08:20:01,616][2845 ][monk.network.partitioner][DEBUG   ][38  ][partitioner.py] : key monk\n"
       ]
      },
      {
       "output_type": "stream",
       "stream": "stdout",
       "text": [
        "[2015-01-25 08:20:01,647][2845 ][monk.network.producer][INFO    ][66  ][producer.py] : sending message ('{\"turtleName\": \"movielens-binary\", \"follower\": \"mluser242\", \"name\": \"monk\", \"op\": \"AddClone\"}',) at monkTestWorker@2\n"
       ]
      },
      {
       "output_type": "stream",
       "stream": "stdout",
       "text": [
        "[2015-01-25 08:20:01,664][2845 ][monk.network.partitioner][DEBUG   ][38  ][partitioner.py] : key monk\n"
       ]
      },
      {
       "output_type": "stream",
       "stream": "stdout",
       "text": [
        "[2015-01-25 08:20:01,693][2845 ][monk.network.producer][INFO    ][66  ][producer.py] : sending message ('{\"turtleName\": \"movielens-binary\", \"follower\": \"mluser243\", \"name\": \"monk\", \"op\": \"AddClone\"}',) at monkTestWorker@2\n"
       ]
      },
      {
       "output_type": "stream",
       "stream": "stdout",
       "text": [
        "[2015-01-25 08:20:01,710][2845 ][monk.network.partitioner][DEBUG   ][38  ][partitioner.py] : key monk\n"
       ]
      },
      {
       "output_type": "stream",
       "stream": "stdout",
       "text": [
        "[2015-01-25 08:20:01,736][2845 ][monk.network.producer][INFO    ][66  ][producer.py] : sending message ('{\"turtleName\": \"movielens-binary\", \"follower\": \"mluser244\", \"name\": \"monk\", \"op\": \"AddClone\"}',) at monkTestWorker@2\n"
       ]
      },
      {
       "output_type": "stream",
       "stream": "stdout",
       "text": [
        "[2015-01-25 08:20:01,755][2845 ][monk.network.partitioner][DEBUG   ][38  ][partitioner.py] : key monk\n"
       ]
      },
      {
       "output_type": "stream",
       "stream": "stdout",
       "text": [
        "[2015-01-25 08:20:01,780][2845 ][monk.network.producer][INFO    ][66  ][producer.py] : sending message ('{\"turtleName\": \"movielens-binary\", \"follower\": \"mluser245\", \"name\": \"monk\", \"op\": \"AddClone\"}',) at monkTestWorker@2\n"
       ]
      },
      {
       "output_type": "stream",
       "stream": "stdout",
       "text": [
        "[2015-01-25 08:20:01,802][2845 ][monk.network.partitioner][DEBUG   ][38  ][partitioner.py] : key monk\n"
       ]
      },
      {
       "output_type": "stream",
       "stream": "stdout",
       "text": [
        "[2015-01-25 08:20:01,829][2845 ][monk.network.producer][INFO    ][66  ][producer.py] : sending message ('{\"turtleName\": \"movielens-binary\", \"follower\": \"mluser246\", \"name\": \"monk\", \"op\": \"AddClone\"}',) at monkTestWorker@2\n"
       ]
      },
      {
       "output_type": "stream",
       "stream": "stdout",
       "text": [
        "[2015-01-25 08:20:01,846][2845 ][monk.network.partitioner][DEBUG   ][38  ][partitioner.py] : key monk\n"
       ]
      },
      {
       "output_type": "stream",
       "stream": "stdout",
       "text": [
        "[2015-01-25 08:20:01,871][2845 ][monk.network.producer][INFO    ][66  ][producer.py] : sending message ('{\"turtleName\": \"movielens-binary\", \"follower\": \"mluser247\", \"name\": \"monk\", \"op\": \"AddClone\"}',) at monkTestWorker@2\n"
       ]
      },
      {
       "output_type": "stream",
       "stream": "stdout",
       "text": [
        "[2015-01-25 08:20:01,889][2845 ][monk.network.partitioner][DEBUG   ][38  ][partitioner.py] : key monk\n"
       ]
      },
      {
       "output_type": "stream",
       "stream": "stdout",
       "text": [
        "[2015-01-25 08:20:01,918][2845 ][monk.network.producer][INFO    ][66  ][producer.py] : sending message ('{\"turtleName\": \"movielens-binary\", \"follower\": \"mluser248\", \"name\": \"monk\", \"op\": \"AddClone\"}',) at monkTestWorker@2\n"
       ]
      },
      {
       "output_type": "stream",
       "stream": "stdout",
       "text": [
        "[2015-01-25 08:20:01,935][2845 ][monk.network.partitioner][DEBUG   ][38  ][partitioner.py] : key monk\n"
       ]
      },
      {
       "output_type": "stream",
       "stream": "stdout",
       "text": [
        "[2015-01-25 08:20:01,960][2845 ][monk.network.producer][INFO    ][66  ][producer.py] : sending message ('{\"turtleName\": \"movielens-binary\", \"follower\": \"mluser249\", \"name\": \"monk\", \"op\": \"AddClone\"}',) at monkTestWorker@2\n"
       ]
      },
      {
       "output_type": "stream",
       "stream": "stdout",
       "text": [
        "[2015-01-25 08:20:01,977][2845 ][monk.network.partitioner][DEBUG   ][38  ][partitioner.py] : key monk\n"
       ]
      },
      {
       "output_type": "stream",
       "stream": "stdout",
       "text": [
        "[2015-01-25 08:20:02,009][2845 ][monk.network.producer][INFO    ][66  ][producer.py] : sending message ('{\"turtleName\": \"movielens-binary\", \"follower\": \"mluser250\", \"name\": \"monk\", \"op\": \"AddClone\"}',) at monkTestWorker@2\n"
       ]
      },
      {
       "output_type": "stream",
       "stream": "stdout",
       "text": [
        "[2015-01-25 08:20:02,026][2845 ][monk.network.partitioner][DEBUG   ][38  ][partitioner.py] : key monk\n"
       ]
      },
      {
       "output_type": "stream",
       "stream": "stdout",
       "text": [
        "[2015-01-25 08:20:02,052][2845 ][monk.network.producer][INFO    ][66  ][producer.py] : sending message ('{\"turtleName\": \"movielens-binary\", \"follower\": \"mluser251\", \"name\": \"monk\", \"op\": \"AddClone\"}',) at monkTestWorker@2\n"
       ]
      },
      {
       "output_type": "stream",
       "stream": "stdout",
       "text": [
        "[2015-01-25 08:20:02,068][2845 ][monk.network.partitioner][DEBUG   ][38  ][partitioner.py] : key monk\n"
       ]
      },
      {
       "output_type": "stream",
       "stream": "stdout",
       "text": [
        "[2015-01-25 08:20:02,097][2845 ][monk.network.producer][INFO    ][66  ][producer.py] : sending message ('{\"turtleName\": \"movielens-binary\", \"follower\": \"mluser252\", \"name\": \"monk\", \"op\": \"AddClone\"}',) at monkTestWorker@2\n"
       ]
      },
      {
       "output_type": "stream",
       "stream": "stdout",
       "text": [
        "[2015-01-25 08:20:02,118][2845 ][monk.network.partitioner][DEBUG   ][38  ][partitioner.py] : key monk\n"
       ]
      },
      {
       "output_type": "stream",
       "stream": "stdout",
       "text": [
        "[2015-01-25 08:20:02,144][2845 ][monk.network.producer][INFO    ][66  ][producer.py] : sending message ('{\"turtleName\": \"movielens-binary\", \"follower\": \"mluser253\", \"name\": \"monk\", \"op\": \"AddClone\"}',) at monkTestWorker@2\n"
       ]
      },
      {
       "output_type": "stream",
       "stream": "stdout",
       "text": [
        "[2015-01-25 08:20:02,161][2845 ][monk.network.partitioner][DEBUG   ][38  ][partitioner.py] : key monk\n"
       ]
      },
      {
       "output_type": "stream",
       "stream": "stdout",
       "text": [
        "[2015-01-25 08:20:02,192][2845 ][monk.network.producer][INFO    ][66  ][producer.py] : sending message ('{\"turtleName\": \"movielens-binary\", \"follower\": \"mluser254\", \"name\": \"monk\", \"op\": \"AddClone\"}',) at monkTestWorker@2\n"
       ]
      },
      {
       "output_type": "stream",
       "stream": "stdout",
       "text": [
        "[2015-01-25 08:20:02,208][2845 ][monk.network.partitioner][DEBUG   ][38  ][partitioner.py] : key monk\n"
       ]
      },
      {
       "output_type": "stream",
       "stream": "stdout",
       "text": [
        "[2015-01-25 08:20:02,239][2845 ][monk.network.producer][INFO    ][66  ][producer.py] : sending message ('{\"turtleName\": \"movielens-binary\", \"follower\": \"mluser255\", \"name\": \"monk\", \"op\": \"AddClone\"}',) at monkTestWorker@2\n"
       ]
      },
      {
       "output_type": "stream",
       "stream": "stdout",
       "text": [
        "[2015-01-25 08:20:02,255][2845 ][monk.network.partitioner][DEBUG   ][38  ][partitioner.py] : key monk\n"
       ]
      },
      {
       "output_type": "stream",
       "stream": "stdout",
       "text": [
        "[2015-01-25 08:20:02,282][2845 ][monk.network.producer][INFO    ][66  ][producer.py] : sending message ('{\"turtleName\": \"movielens-binary\", \"follower\": \"mluser256\", \"name\": \"monk\", \"op\": \"AddClone\"}',) at monkTestWorker@2\n"
       ]
      },
      {
       "output_type": "stream",
       "stream": "stdout",
       "text": [
        "[2015-01-25 08:20:02,299][2845 ][monk.network.partitioner][DEBUG   ][38  ][partitioner.py] : key monk\n"
       ]
      },
      {
       "output_type": "stream",
       "stream": "stdout",
       "text": [
        "[2015-01-25 08:20:02,332][2845 ][monk.network.producer][INFO    ][66  ][producer.py] : sending message ('{\"turtleName\": \"movielens-binary\", \"follower\": \"mluser257\", \"name\": \"monk\", \"op\": \"AddClone\"}',) at monkTestWorker@2\n"
       ]
      },
      {
       "output_type": "stream",
       "stream": "stdout",
       "text": [
        "[2015-01-25 08:20:02,348][2845 ][monk.network.partitioner][DEBUG   ][38  ][partitioner.py] : key monk\n"
       ]
      },
      {
       "output_type": "stream",
       "stream": "stdout",
       "text": [
        "[2015-01-25 08:20:02,375][2845 ][monk.network.producer][INFO    ][66  ][producer.py] : sending message ('{\"turtleName\": \"movielens-binary\", \"follower\": \"mluser258\", \"name\": \"monk\", \"op\": \"AddClone\"}',) at monkTestWorker@2\n"
       ]
      },
      {
       "output_type": "stream",
       "stream": "stdout",
       "text": [
        "[2015-01-25 08:20:02,392][2845 ][monk.network.partitioner][DEBUG   ][38  ][partitioner.py] : key monk\n"
       ]
      },
      {
       "output_type": "stream",
       "stream": "stdout",
       "text": [
        "[2015-01-25 08:20:02,419][2845 ][monk.network.producer][INFO    ][66  ][producer.py] : sending message ('{\"turtleName\": \"movielens-binary\", \"follower\": \"mluser259\", \"name\": \"monk\", \"op\": \"AddClone\"}',) at monkTestWorker@2\n"
       ]
      },
      {
       "output_type": "stream",
       "stream": "stdout",
       "text": [
        "[2015-01-25 08:20:02,436][2845 ][monk.network.partitioner][DEBUG   ][38  ][partitioner.py] : key monk\n"
       ]
      },
      {
       "output_type": "stream",
       "stream": "stdout",
       "text": [
        "[2015-01-25 08:20:02,463][2845 ][monk.network.producer][INFO    ][66  ][producer.py] : sending message ('{\"turtleName\": \"movielens-binary\", \"follower\": \"mluser260\", \"name\": \"monk\", \"op\": \"AddClone\"}',) at monkTestWorker@2\n"
       ]
      },
      {
       "output_type": "stream",
       "stream": "stdout",
       "text": [
        "[2015-01-25 08:20:02,480][2845 ][monk.network.partitioner][DEBUG   ][38  ][partitioner.py] : key monk\n"
       ]
      },
      {
       "output_type": "stream",
       "stream": "stdout",
       "text": [
        "[2015-01-25 08:20:02,510][2845 ][monk.network.producer][INFO    ][66  ][producer.py] : sending message ('{\"turtleName\": \"movielens-binary\", \"follower\": \"mluser261\", \"name\": \"monk\", \"op\": \"AddClone\"}',) at monkTestWorker@2\n"
       ]
      },
      {
       "output_type": "stream",
       "stream": "stdout",
       "text": [
        "[2015-01-25 08:20:02,526][2845 ][monk.network.partitioner][DEBUG   ][38  ][partitioner.py] : key monk\n"
       ]
      },
      {
       "output_type": "stream",
       "stream": "stdout",
       "text": [
        "[2015-01-25 08:20:02,556][2845 ][monk.network.producer][INFO    ][66  ][producer.py] : sending message ('{\"turtleName\": \"movielens-binary\", \"follower\": \"mluser262\", \"name\": \"monk\", \"op\": \"AddClone\"}',) at monkTestWorker@2\n"
       ]
      },
      {
       "output_type": "stream",
       "stream": "stdout",
       "text": [
        "[2015-01-25 08:20:02,572][2845 ][monk.network.partitioner][DEBUG   ][38  ][partitioner.py] : key monk\n"
       ]
      },
      {
       "output_type": "stream",
       "stream": "stdout",
       "text": [
        "[2015-01-25 08:20:02,598][2845 ][monk.network.producer][INFO    ][66  ][producer.py] : sending message ('{\"turtleName\": \"movielens-binary\", \"follower\": \"mluser263\", \"name\": \"monk\", \"op\": \"AddClone\"}',) at monkTestWorker@2\n"
       ]
      },
      {
       "output_type": "stream",
       "stream": "stdout",
       "text": [
        "[2015-01-25 08:20:02,615][2845 ][monk.network.partitioner][DEBUG   ][38  ][partitioner.py] : key monk\n"
       ]
      },
      {
       "output_type": "stream",
       "stream": "stdout",
       "text": [
        "[2015-01-25 08:20:02,645][2845 ][monk.network.producer][INFO    ][66  ][producer.py] : sending message ('{\"turtleName\": \"movielens-binary\", \"follower\": \"mluser264\", \"name\": \"monk\", \"op\": \"AddClone\"}',) at monkTestWorker@2\n"
       ]
      },
      {
       "output_type": "stream",
       "stream": "stdout",
       "text": [
        "[2015-01-25 08:20:02,665][2845 ][monk.network.partitioner][DEBUG   ][38  ][partitioner.py] : key monk\n"
       ]
      },
      {
       "output_type": "stream",
       "stream": "stdout",
       "text": [
        "[2015-01-25 08:20:02,690][2845 ][monk.network.producer][INFO    ][66  ][producer.py] : sending message ('{\"turtleName\": \"movielens-binary\", \"follower\": \"mluser265\", \"name\": \"monk\", \"op\": \"AddClone\"}',) at monkTestWorker@2\n"
       ]
      },
      {
       "output_type": "stream",
       "stream": "stdout",
       "text": [
        "[2015-01-25 08:20:02,707][2845 ][monk.network.partitioner][DEBUG   ][38  ][partitioner.py] : key monk\n"
       ]
      },
      {
       "output_type": "stream",
       "stream": "stdout",
       "text": [
        "[2015-01-25 08:20:02,736][2845 ][monk.network.producer][INFO    ][66  ][producer.py] : sending message ('{\"turtleName\": \"movielens-binary\", \"follower\": \"mluser266\", \"name\": \"monk\", \"op\": \"AddClone\"}',) at monkTestWorker@2\n"
       ]
      },
      {
       "output_type": "stream",
       "stream": "stdout",
       "text": [
        "[2015-01-25 08:20:02,753][2845 ][monk.network.partitioner][DEBUG   ][38  ][partitioner.py] : key monk\n"
       ]
      },
      {
       "output_type": "stream",
       "stream": "stdout",
       "text": [
        "[2015-01-25 08:20:02,778][2845 ][monk.network.producer][INFO    ][66  ][producer.py] : sending message ('{\"turtleName\": \"movielens-binary\", \"follower\": \"mluser267\", \"name\": \"monk\", \"op\": \"AddClone\"}',) at monkTestWorker@2\n"
       ]
      },
      {
       "output_type": "stream",
       "stream": "stdout",
       "text": [
        "[2015-01-25 08:20:02,795][2845 ][monk.network.partitioner][DEBUG   ][38  ][partitioner.py] : key monk\n"
       ]
      },
      {
       "output_type": "stream",
       "stream": "stdout",
       "text": [
        "[2015-01-25 08:20:02,824][2845 ][monk.network.producer][INFO    ][66  ][producer.py] : sending message ('{\"turtleName\": \"movielens-binary\", \"follower\": \"mluser268\", \"name\": \"monk\", \"op\": \"AddClone\"}',) at monkTestWorker@2\n"
       ]
      },
      {
       "output_type": "stream",
       "stream": "stdout",
       "text": [
        "[2015-01-25 08:20:02,841][2845 ][monk.network.partitioner][DEBUG   ][38  ][partitioner.py] : key monk\n"
       ]
      },
      {
       "output_type": "stream",
       "stream": "stdout",
       "text": [
        "[2015-01-25 08:20:02,867][2845 ][monk.network.producer][INFO    ][66  ][producer.py] : sending message ('{\"turtleName\": \"movielens-binary\", \"follower\": \"mluser269\", \"name\": \"monk\", \"op\": \"AddClone\"}',) at monkTestWorker@2\n"
       ]
      },
      {
       "output_type": "stream",
       "stream": "stdout",
       "text": [
        "[2015-01-25 08:20:02,884][2845 ][monk.network.partitioner][DEBUG   ][38  ][partitioner.py] : key monk\n"
       ]
      },
      {
       "output_type": "stream",
       "stream": "stdout",
       "text": [
        "[2015-01-25 08:20:02,914][2845 ][monk.network.producer][INFO    ][66  ][producer.py] : sending message ('{\"turtleName\": \"movielens-binary\", \"follower\": \"mluser270\", \"name\": \"monk\", \"op\": \"AddClone\"}',) at monkTestWorker@2\n"
       ]
      },
      {
       "output_type": "stream",
       "stream": "stdout",
       "text": [
        "[2015-01-25 08:20:02,931][2845 ][monk.network.partitioner][DEBUG   ][38  ][partitioner.py] : key monk\n"
       ]
      },
      {
       "output_type": "stream",
       "stream": "stdout",
       "text": [
        "[2015-01-25 08:20:02,960][2845 ][monk.network.producer][INFO    ][66  ][producer.py] : sending message ('{\"turtleName\": \"movielens-binary\", \"follower\": \"mluser271\", \"name\": \"monk\", \"op\": \"AddClone\"}',) at monkTestWorker@2\n"
       ]
      },
      {
       "output_type": "stream",
       "stream": "stdout",
       "text": [
        "[2015-01-25 08:20:02,977][2845 ][monk.network.partitioner][DEBUG   ][38  ][partitioner.py] : key monk\n"
       ]
      },
      {
       "output_type": "stream",
       "stream": "stdout",
       "text": [
        "[2015-01-25 08:20:03,002][2845 ][monk.network.producer][INFO    ][66  ][producer.py] : sending message ('{\"turtleName\": \"movielens-binary\", \"follower\": \"mluser272\", \"name\": \"monk\", \"op\": \"AddClone\"}',) at monkTestWorker@2\n"
       ]
      },
      {
       "output_type": "stream",
       "stream": "stdout",
       "text": [
        "[2015-01-25 08:20:03,018][2845 ][monk.network.partitioner][DEBUG   ][38  ][partitioner.py] : key monk\n"
       ]
      },
      {
       "output_type": "stream",
       "stream": "stdout",
       "text": [
        "[2015-01-25 08:20:03,049][2845 ][monk.network.producer][INFO    ][66  ][producer.py] : sending message ('{\"turtleName\": \"movielens-binary\", \"follower\": \"mluser273\", \"name\": \"monk\", \"op\": \"AddClone\"}',) at monkTestWorker@2\n"
       ]
      },
      {
       "output_type": "stream",
       "stream": "stdout",
       "text": [
        "[2015-01-25 08:20:03,067][2845 ][monk.network.partitioner][DEBUG   ][38  ][partitioner.py] : key monk\n"
       ]
      },
      {
       "output_type": "stream",
       "stream": "stdout",
       "text": [
        "[2015-01-25 08:20:03,092][2845 ][monk.network.producer][INFO    ][66  ][producer.py] : sending message ('{\"turtleName\": \"movielens-binary\", \"follower\": \"mluser274\", \"name\": \"monk\", \"op\": \"AddClone\"}',) at monkTestWorker@2\n"
       ]
      },
      {
       "output_type": "stream",
       "stream": "stdout",
       "text": [
        "[2015-01-25 08:20:03,111][2845 ][monk.network.partitioner][DEBUG   ][38  ][partitioner.py] : key monk\n"
       ]
      },
      {
       "output_type": "stream",
       "stream": "stdout",
       "text": [
        "[2015-01-25 08:20:03,140][2845 ][monk.network.producer][INFO    ][66  ][producer.py] : sending message ('{\"turtleName\": \"movielens-binary\", \"follower\": \"mluser275\", \"name\": \"monk\", \"op\": \"AddClone\"}',) at monkTestWorker@2\n"
       ]
      },
      {
       "output_type": "stream",
       "stream": "stdout",
       "text": [
        "[2015-01-25 08:20:03,156][2845 ][monk.network.partitioner][DEBUG   ][38  ][partitioner.py] : key monk\n"
       ]
      },
      {
       "output_type": "stream",
       "stream": "stdout",
       "text": [
        "[2015-01-25 08:20:03,182][2845 ][monk.network.producer][INFO    ][66  ][producer.py] : sending message ('{\"turtleName\": \"movielens-binary\", \"follower\": \"mluser276\", \"name\": \"monk\", \"op\": \"AddClone\"}',) at monkTestWorker@2\n"
       ]
      },
      {
       "output_type": "stream",
       "stream": "stdout",
       "text": [
        "[2015-01-25 08:20:03,199][2845 ][monk.network.partitioner][DEBUG   ][38  ][partitioner.py] : key monk\n"
       ]
      },
      {
       "output_type": "stream",
       "stream": "stdout",
       "text": [
        "[2015-01-25 08:20:03,228][2845 ][monk.network.producer][INFO    ][66  ][producer.py] : sending message ('{\"turtleName\": \"movielens-binary\", \"follower\": \"mluser277\", \"name\": \"monk\", \"op\": \"AddClone\"}',) at monkTestWorker@2\n"
       ]
      },
      {
       "output_type": "stream",
       "stream": "stdout",
       "text": [
        "[2015-01-25 08:20:03,244][2845 ][monk.network.partitioner][DEBUG   ][38  ][partitioner.py] : key monk\n"
       ]
      },
      {
       "output_type": "stream",
       "stream": "stdout",
       "text": [
        "[2015-01-25 08:20:03,270][2845 ][monk.network.producer][INFO    ][66  ][producer.py] : sending message ('{\"turtleName\": \"movielens-binary\", \"follower\": \"mluser278\", \"name\": \"monk\", \"op\": \"AddClone\"}',) at monkTestWorker@2\n"
       ]
      },
      {
       "output_type": "stream",
       "stream": "stdout",
       "text": [
        "[2015-01-25 08:20:03,286][2845 ][monk.network.partitioner][DEBUG   ][38  ][partitioner.py] : key monk\n"
       ]
      },
      {
       "output_type": "stream",
       "stream": "stdout",
       "text": [
        "[2015-01-25 08:20:03,314][2845 ][monk.network.producer][INFO    ][66  ][producer.py] : sending message ('{\"turtleName\": \"movielens-binary\", \"follower\": \"mluser279\", \"name\": \"monk\", \"op\": \"AddClone\"}',) at monkTestWorker@2\n"
       ]
      },
      {
       "output_type": "stream",
       "stream": "stdout",
       "text": [
        "[2015-01-25 08:20:03,330][2845 ][monk.network.partitioner][DEBUG   ][38  ][partitioner.py] : key monk\n"
       ]
      },
      {
       "output_type": "stream",
       "stream": "stdout",
       "text": [
        "[2015-01-25 08:20:03,356][2845 ][monk.network.producer][INFO    ][66  ][producer.py] : sending message ('{\"turtleName\": \"movielens-binary\", \"follower\": \"mluser280\", \"name\": \"monk\", \"op\": \"AddClone\"}',) at monkTestWorker@2\n"
       ]
      },
      {
       "output_type": "stream",
       "stream": "stdout",
       "text": [
        "[2015-01-25 08:20:03,373][2845 ][monk.network.partitioner][DEBUG   ][38  ][partitioner.py] : key monk\n"
       ]
      },
      {
       "output_type": "stream",
       "stream": "stdout",
       "text": [
        "[2015-01-25 08:20:03,403][2845 ][monk.network.producer][INFO    ][66  ][producer.py] : sending message ('{\"turtleName\": \"movielens-binary\", \"follower\": \"mluser281\", \"name\": \"monk\", \"op\": \"AddClone\"}',) at monkTestWorker@2\n"
       ]
      },
      {
       "output_type": "stream",
       "stream": "stdout",
       "text": [
        "[2015-01-25 08:20:03,419][2845 ][monk.network.partitioner][DEBUG   ][38  ][partitioner.py] : key monk\n"
       ]
      },
      {
       "output_type": "stream",
       "stream": "stdout",
       "text": [
        "[2015-01-25 08:20:03,445][2845 ][monk.network.producer][INFO    ][66  ][producer.py] : sending message ('{\"turtleName\": \"movielens-binary\", \"follower\": \"mluser282\", \"name\": \"monk\", \"op\": \"AddClone\"}',) at monkTestWorker@2\n"
       ]
      },
      {
       "output_type": "stream",
       "stream": "stdout",
       "text": [
        "[2015-01-25 08:20:03,463][2845 ][monk.network.partitioner][DEBUG   ][38  ][partitioner.py] : key monk\n"
       ]
      },
      {
       "output_type": "stream",
       "stream": "stdout",
       "text": [
        "[2015-01-25 08:20:03,492][2845 ][monk.network.producer][INFO    ][66  ][producer.py] : sending message ('{\"turtleName\": \"movielens-binary\", \"follower\": \"mluser283\", \"name\": \"monk\", \"op\": \"AddClone\"}',) at monkTestWorker@2\n"
       ]
      },
      {
       "output_type": "stream",
       "stream": "stdout",
       "text": [
        "[2015-01-25 08:20:03,521][2845 ][monk.network.partitioner][DEBUG   ][38  ][partitioner.py] : key monk\n"
       ]
      },
      {
       "output_type": "stream",
       "stream": "stdout",
       "text": [
        "[2015-01-25 08:20:03,546][2845 ][monk.network.producer][INFO    ][66  ][producer.py] : sending message ('{\"turtleName\": \"movielens-binary\", \"follower\": \"mluser284\", \"name\": \"monk\", \"op\": \"AddClone\"}',) at monkTestWorker@2\n"
       ]
      },
      {
       "output_type": "stream",
       "stream": "stdout",
       "text": [
        "[2015-01-25 08:20:03,563][2845 ][monk.network.partitioner][DEBUG   ][38  ][partitioner.py] : key monk\n"
       ]
      },
      {
       "output_type": "stream",
       "stream": "stdout",
       "text": [
        "[2015-01-25 08:20:03,594][2845 ][monk.network.producer][INFO    ][66  ][producer.py] : sending message ('{\"turtleName\": \"movielens-binary\", \"follower\": \"mluser285\", \"name\": \"monk\", \"op\": \"AddClone\"}',) at monkTestWorker@2\n"
       ]
      },
      {
       "output_type": "stream",
       "stream": "stdout",
       "text": [
        "[2015-01-25 08:20:03,610][2845 ][monk.network.partitioner][DEBUG   ][38  ][partitioner.py] : key monk\n"
       ]
      },
      {
       "output_type": "stream",
       "stream": "stdout",
       "text": [
        "[2015-01-25 08:20:03,640][2845 ][monk.network.producer][INFO    ][66  ][producer.py] : sending message ('{\"turtleName\": \"movielens-binary\", \"follower\": \"mluser286\", \"name\": \"monk\", \"op\": \"AddClone\"}',) at monkTestWorker@2\n"
       ]
      },
      {
       "output_type": "stream",
       "stream": "stdout",
       "text": [
        "[2015-01-25 08:20:03,657][2845 ][monk.network.partitioner][DEBUG   ][38  ][partitioner.py] : key monk\n"
       ]
      },
      {
       "output_type": "stream",
       "stream": "stdout",
       "text": [
        "[2015-01-25 08:20:03,683][2845 ][monk.network.producer][INFO    ][66  ][producer.py] : sending message ('{\"turtleName\": \"movielens-binary\", \"follower\": \"mluser287\", \"name\": \"monk\", \"op\": \"AddClone\"}',) at monkTestWorker@2\n"
       ]
      },
      {
       "output_type": "stream",
       "stream": "stdout",
       "text": [
        "[2015-01-25 08:20:03,701][2845 ][monk.network.partitioner][DEBUG   ][38  ][partitioner.py] : key monk\n"
       ]
      },
      {
       "output_type": "stream",
       "stream": "stdout",
       "text": [
        "[2015-01-25 08:20:03,738][2845 ][monk.network.producer][INFO    ][66  ][producer.py] : sending message ('{\"turtleName\": \"movielens-binary\", \"follower\": \"mluser288\", \"name\": \"monk\", \"op\": \"AddClone\"}',) at monkTestWorker@2\n"
       ]
      },
      {
       "output_type": "stream",
       "stream": "stdout",
       "text": [
        "[2015-01-25 08:20:03,757][2845 ][monk.network.partitioner][DEBUG   ][38  ][partitioner.py] : key monk\n"
       ]
      },
      {
       "output_type": "stream",
       "stream": "stdout",
       "text": [
        "[2015-01-25 08:20:03,782][2845 ][monk.network.producer][INFO    ][66  ][producer.py] : sending message ('{\"turtleName\": \"movielens-binary\", \"follower\": \"mluser289\", \"name\": \"monk\", \"op\": \"AddClone\"}',) at monkTestWorker@2\n"
       ]
      },
      {
       "output_type": "stream",
       "stream": "stdout",
       "text": [
        "[2015-01-25 08:20:03,798][2845 ][monk.network.partitioner][DEBUG   ][38  ][partitioner.py] : key monk\n"
       ]
      },
      {
       "output_type": "stream",
       "stream": "stdout",
       "text": [
        "[2015-01-25 08:20:03,828][2845 ][monk.network.producer][INFO    ][66  ][producer.py] : sending message ('{\"turtleName\": \"movielens-binary\", \"follower\": \"mluser290\", \"name\": \"monk\", \"op\": \"AddClone\"}',) at monkTestWorker@2\n"
       ]
      },
      {
       "output_type": "stream",
       "stream": "stdout",
       "text": [
        "[2015-01-25 08:20:03,844][2845 ][monk.network.partitioner][DEBUG   ][38  ][partitioner.py] : key monk\n"
       ]
      },
      {
       "output_type": "stream",
       "stream": "stdout",
       "text": [
        "[2015-01-25 08:20:03,870][2845 ][monk.network.producer][INFO    ][66  ][producer.py] : sending message ('{\"turtleName\": \"movielens-binary\", \"follower\": \"mluser291\", \"name\": \"monk\", \"op\": \"AddClone\"}',) at monkTestWorker@2\n"
       ]
      },
      {
       "output_type": "stream",
       "stream": "stdout",
       "text": [
        "[2015-01-25 08:20:03,887][2845 ][monk.network.partitioner][DEBUG   ][38  ][partitioner.py] : key monk\n"
       ]
      },
      {
       "output_type": "stream",
       "stream": "stdout",
       "text": [
        "[2015-01-25 08:20:03,914][2845 ][monk.network.producer][INFO    ][66  ][producer.py] : sending message ('{\"turtleName\": \"movielens-binary\", \"follower\": \"mluser292\", \"name\": \"monk\", \"op\": \"AddClone\"}',) at monkTestWorker@2\n"
       ]
      },
      {
       "output_type": "stream",
       "stream": "stdout",
       "text": [
        "[2015-01-25 08:20:03,930][2845 ][monk.network.partitioner][DEBUG   ][38  ][partitioner.py] : key monk\n"
       ]
      },
      {
       "output_type": "stream",
       "stream": "stdout",
       "text": [
        "[2015-01-25 08:20:03,961][2845 ][monk.network.producer][INFO    ][66  ][producer.py] : sending message ('{\"turtleName\": \"movielens-binary\", \"follower\": \"mluser293\", \"name\": \"monk\", \"op\": \"AddClone\"}',) at monkTestWorker@2\n"
       ]
      },
      {
       "output_type": "stream",
       "stream": "stdout",
       "text": [
        "[2015-01-25 08:20:03,977][2845 ][monk.network.partitioner][DEBUG   ][38  ][partitioner.py] : key monk\n"
       ]
      },
      {
       "output_type": "stream",
       "stream": "stdout",
       "text": [
        "[2015-01-25 08:20:04,003][2845 ][monk.network.producer][INFO    ][66  ][producer.py] : sending message ('{\"turtleName\": \"movielens-binary\", \"follower\": \"mluser294\", \"name\": \"monk\", \"op\": \"AddClone\"}',) at monkTestWorker@2\n"
       ]
      },
      {
       "output_type": "stream",
       "stream": "stdout",
       "text": [
        "[2015-01-25 08:20:04,019][2845 ][monk.network.partitioner][DEBUG   ][38  ][partitioner.py] : key monk\n"
       ]
      },
      {
       "output_type": "stream",
       "stream": "stdout",
       "text": [
        "[2015-01-25 08:20:04,050][2845 ][monk.network.producer][INFO    ][66  ][producer.py] : sending message ('{\"turtleName\": \"movielens-binary\", \"follower\": \"mluser295\", \"name\": \"monk\", \"op\": \"AddClone\"}',) at monkTestWorker@2\n"
       ]
      },
      {
       "output_type": "stream",
       "stream": "stdout",
       "text": [
        "[2015-01-25 08:20:04,066][2845 ][monk.network.partitioner][DEBUG   ][38  ][partitioner.py] : key monk\n"
       ]
      },
      {
       "output_type": "stream",
       "stream": "stdout",
       "text": [
        "[2015-01-25 08:20:04,092][2845 ][monk.network.producer][INFO    ][66  ][producer.py] : sending message ('{\"turtleName\": \"movielens-binary\", \"follower\": \"mluser296\", \"name\": \"monk\", \"op\": \"AddClone\"}',) at monkTestWorker@2\n"
       ]
      },
      {
       "output_type": "stream",
       "stream": "stdout",
       "text": [
        "[2015-01-25 08:20:04,108][2845 ][monk.network.partitioner][DEBUG   ][38  ][partitioner.py] : key monk\n"
       ]
      },
      {
       "output_type": "stream",
       "stream": "stdout",
       "text": [
        "[2015-01-25 08:20:04,138][2845 ][monk.network.producer][INFO    ][66  ][producer.py] : sending message ('{\"turtleName\": \"movielens-binary\", \"follower\": \"mluser297\", \"name\": \"monk\", \"op\": \"AddClone\"}',) at monkTestWorker@2\n"
       ]
      },
      {
       "output_type": "stream",
       "stream": "stdout",
       "text": [
        "[2015-01-25 08:20:04,155][2845 ][monk.network.partitioner][DEBUG   ][38  ][partitioner.py] : key monk\n"
       ]
      },
      {
       "output_type": "stream",
       "stream": "stdout",
       "text": [
        "[2015-01-25 08:20:04,185][2845 ][monk.network.producer][INFO    ][66  ][producer.py] : sending message ('{\"turtleName\": \"movielens-binary\", \"follower\": \"mluser298\", \"name\": \"monk\", \"op\": \"AddClone\"}',) at monkTestWorker@2\n"
       ]
      },
      {
       "output_type": "stream",
       "stream": "stdout",
       "text": [
        "[2015-01-25 08:20:04,202][2845 ][monk.network.partitioner][DEBUG   ][38  ][partitioner.py] : key monk\n"
       ]
      },
      {
       "output_type": "stream",
       "stream": "stdout",
       "text": [
        "[2015-01-25 08:20:04,228][2845 ][monk.network.producer][INFO    ][66  ][producer.py] : sending message ('{\"turtleName\": \"movielens-binary\", \"follower\": \"mluser299\", \"name\": \"monk\", \"op\": \"AddClone\"}',) at monkTestWorker@2\n"
       ]
      },
      {
       "output_type": "stream",
       "stream": "stdout",
       "text": [
        "[2015-01-25 08:20:04,245][2845 ][monk.network.partitioner][DEBUG   ][38  ][partitioner.py] : key monk\n"
       ]
      },
      {
       "output_type": "stream",
       "stream": "stdout",
       "text": [
        "[2015-01-25 08:20:04,271][2845 ][monk.network.producer][INFO    ][66  ][producer.py] : sending message ('{\"turtleName\": \"movielens-binary\", \"follower\": \"mluser300\", \"name\": \"monk\", \"op\": \"AddClone\"}',) at monkTestWorker@2\n"
       ]
      },
      {
       "output_type": "stream",
       "stream": "stdout",
       "text": [
        "[2015-01-25 08:20:04,288][2845 ][monk.network.partitioner][DEBUG   ][38  ][partitioner.py] : key monk\n"
       ]
      },
      {
       "output_type": "stream",
       "stream": "stdout",
       "text": [
        "[2015-01-25 08:20:04,315][2845 ][monk.network.producer][INFO    ][66  ][producer.py] : sending message ('{\"turtleName\": \"movielens-binary\", \"follower\": \"mluser301\", \"name\": \"monk\", \"op\": \"AddClone\"}',) at monkTestWorker@2\n"
       ]
      },
      {
       "output_type": "stream",
       "stream": "stdout",
       "text": [
        "[2015-01-25 08:20:04,332][2845 ][monk.network.partitioner][DEBUG   ][38  ][partitioner.py] : key monk\n"
       ]
      },
      {
       "output_type": "stream",
       "stream": "stdout",
       "text": [
        "[2015-01-25 08:20:04,361][2845 ][monk.network.producer][INFO    ][66  ][producer.py] : sending message ('{\"turtleName\": \"movielens-binary\", \"follower\": \"mluser302\", \"name\": \"monk\", \"op\": \"AddClone\"}',) at monkTestWorker@2\n"
       ]
      },
      {
       "output_type": "stream",
       "stream": "stdout",
       "text": [
        "[2015-01-25 08:20:04,380][2845 ][monk.network.partitioner][DEBUG   ][38  ][partitioner.py] : key monk\n"
       ]
      },
      {
       "output_type": "stream",
       "stream": "stdout",
       "text": [
        "[2015-01-25 08:20:04,405][2845 ][monk.network.producer][INFO    ][66  ][producer.py] : sending message ('{\"turtleName\": \"movielens-binary\", \"follower\": \"mluser303\", \"name\": \"monk\", \"op\": \"AddClone\"}',) at monkTestWorker@2\n"
       ]
      },
      {
       "output_type": "stream",
       "stream": "stdout",
       "text": [
        "[2015-01-25 08:20:04,572][2845 ][monk.network.partitioner][DEBUG   ][38  ][partitioner.py] : key monk\n"
       ]
      },
      {
       "output_type": "stream",
       "stream": "stdout",
       "text": [
        "[2015-01-25 08:20:04,599][2845 ][monk.network.producer][INFO    ][66  ][producer.py] : sending message ('{\"turtleName\": \"movielens-binary\", \"follower\": \"mluser304\", \"name\": \"monk\", \"op\": \"AddClone\"}',) at monkTestWorker@2\n"
       ]
      },
      {
       "output_type": "stream",
       "stream": "stdout",
       "text": [
        "[2015-01-25 08:20:04,617][2845 ][monk.network.partitioner][DEBUG   ][38  ][partitioner.py] : key monk\n"
       ]
      },
      {
       "output_type": "stream",
       "stream": "stdout",
       "text": [
        "[2015-01-25 08:20:04,911][2845 ][monk.network.producer][INFO    ][66  ][producer.py] : sending message ('{\"turtleName\": \"movielens-binary\", \"follower\": \"mluser305\", \"name\": \"monk\", \"op\": \"AddClone\"}',) at monkTestWorker@2\n"
       ]
      },
      {
       "output_type": "stream",
       "stream": "stdout",
       "text": [
        "[2015-01-25 08:20:04,930][2845 ][monk.network.partitioner][DEBUG   ][38  ][partitioner.py] : key monk\n"
       ]
      },
      {
       "output_type": "stream",
       "stream": "stdout",
       "text": [
        "[2015-01-25 08:20:05,186][2845 ][monk.network.producer][INFO    ][66  ][producer.py] : sending message ('{\"turtleName\": \"movielens-binary\", \"follower\": \"mluser306\", \"name\": \"monk\", \"op\": \"AddClone\"}',) at monkTestWorker@2\n"
       ]
      },
      {
       "output_type": "stream",
       "stream": "stdout",
       "text": [
        "[2015-01-25 08:20:05,204][2845 ][monk.network.partitioner][DEBUG   ][38  ][partitioner.py] : key monk\n"
       ]
      },
      {
       "output_type": "stream",
       "stream": "stdout",
       "text": [
        "[2015-01-25 08:20:05,236][2845 ][monk.network.producer][INFO    ][66  ][producer.py] : sending message ('{\"turtleName\": \"movielens-binary\", \"follower\": \"mluser307\", \"name\": \"monk\", \"op\": \"AddClone\"}',) at monkTestWorker@2\n"
       ]
      },
      {
       "output_type": "stream",
       "stream": "stdout",
       "text": [
        "[2015-01-25 08:20:05,253][2845 ][monk.network.partitioner][DEBUG   ][38  ][partitioner.py] : key monk\n"
       ]
      },
      {
       "output_type": "stream",
       "stream": "stdout",
       "text": [
        "[2015-01-25 08:20:05,279][2845 ][monk.network.producer][INFO    ][66  ][producer.py] : sending message ('{\"turtleName\": \"movielens-binary\", \"follower\": \"mluser308\", \"name\": \"monk\", \"op\": \"AddClone\"}',) at monkTestWorker@2\n"
       ]
      },
      {
       "output_type": "stream",
       "stream": "stdout",
       "text": [
        "[2015-01-25 08:20:05,296][2845 ][monk.network.partitioner][DEBUG   ][38  ][partitioner.py] : key monk\n"
       ]
      },
      {
       "output_type": "stream",
       "stream": "stdout",
       "text": [
        "[2015-01-25 08:20:05,326][2845 ][monk.network.producer][INFO    ][66  ][producer.py] : sending message ('{\"turtleName\": \"movielens-binary\", \"follower\": \"mluser309\", \"name\": \"monk\", \"op\": \"AddClone\"}',) at monkTestWorker@2\n"
       ]
      },
      {
       "output_type": "stream",
       "stream": "stdout",
       "text": [
        "[2015-01-25 08:20:05,344][2845 ][monk.network.partitioner][DEBUG   ][38  ][partitioner.py] : key monk\n"
       ]
      },
      {
       "output_type": "stream",
       "stream": "stdout",
       "text": [
        "[2015-01-25 08:20:05,370][2845 ][monk.network.producer][INFO    ][66  ][producer.py] : sending message ('{\"turtleName\": \"movielens-binary\", \"follower\": \"mluser310\", \"name\": \"monk\", \"op\": \"AddClone\"}',) at monkTestWorker@2\n"
       ]
      },
      {
       "output_type": "stream",
       "stream": "stdout",
       "text": [
        "[2015-01-25 08:20:05,388][2845 ][monk.network.partitioner][DEBUG   ][38  ][partitioner.py] : key monk\n"
       ]
      },
      {
       "output_type": "stream",
       "stream": "stdout",
       "text": [
        "[2015-01-25 08:20:05,418][2845 ][monk.network.producer][INFO    ][66  ][producer.py] : sending message ('{\"turtleName\": \"movielens-binary\", \"follower\": \"mluser311\", \"name\": \"monk\", \"op\": \"AddClone\"}',) at monkTestWorker@2\n"
       ]
      },
      {
       "output_type": "stream",
       "stream": "stdout",
       "text": [
        "[2015-01-25 08:20:05,435][2845 ][monk.network.partitioner][DEBUG   ][38  ][partitioner.py] : key monk\n"
       ]
      },
      {
       "output_type": "stream",
       "stream": "stdout",
       "text": [
        "[2015-01-25 08:20:05,462][2845 ][monk.network.producer][INFO    ][66  ][producer.py] : sending message ('{\"turtleName\": \"movielens-binary\", \"follower\": \"mluser312\", \"name\": \"monk\", \"op\": \"AddClone\"}',) at monkTestWorker@2\n"
       ]
      },
      {
       "output_type": "stream",
       "stream": "stdout",
       "text": [
        "[2015-01-25 08:20:05,479][2845 ][monk.network.partitioner][DEBUG   ][38  ][partitioner.py] : key monk\n"
       ]
      },
      {
       "output_type": "stream",
       "stream": "stdout",
       "text": [
        "[2015-01-25 08:20:05,509][2845 ][monk.network.producer][INFO    ][66  ][producer.py] : sending message ('{\"turtleName\": \"movielens-binary\", \"follower\": \"mluser313\", \"name\": \"monk\", \"op\": \"AddClone\"}',) at monkTestWorker@2\n"
       ]
      },
      {
       "output_type": "stream",
       "stream": "stdout",
       "text": [
        "[2015-01-25 08:20:05,526][2845 ][monk.network.partitioner][DEBUG   ][38  ][partitioner.py] : key monk\n"
       ]
      },
      {
       "output_type": "stream",
       "stream": "stdout",
       "text": [
        "[2015-01-25 08:20:05,551][2845 ][monk.network.producer][INFO    ][66  ][producer.py] : sending message ('{\"turtleName\": \"movielens-binary\", \"follower\": \"mluser314\", \"name\": \"monk\", \"op\": \"AddClone\"}',) at monkTestWorker@2\n"
       ]
      },
      {
       "output_type": "stream",
       "stream": "stdout",
       "text": [
        "[2015-01-25 08:20:05,568][2845 ][monk.network.partitioner][DEBUG   ][38  ][partitioner.py] : key monk\n"
       ]
      },
      {
       "output_type": "stream",
       "stream": "stdout",
       "text": [
        "[2015-01-25 08:20:05,594][2845 ][monk.network.producer][INFO    ][66  ][producer.py] : sending message ('{\"turtleName\": \"movielens-binary\", \"follower\": \"mluser315\", \"name\": \"monk\", \"op\": \"AddClone\"}',) at monkTestWorker@2\n"
       ]
      },
      {
       "output_type": "stream",
       "stream": "stdout",
       "text": [
        "[2015-01-25 08:20:05,611][2845 ][monk.network.partitioner][DEBUG   ][38  ][partitioner.py] : key monk\n"
       ]
      },
      {
       "output_type": "stream",
       "stream": "stdout",
       "text": [
        "[2015-01-25 08:20:05,636][2845 ][monk.network.producer][INFO    ][66  ][producer.py] : sending message ('{\"turtleName\": \"movielens-binary\", \"follower\": \"mluser316\", \"name\": \"monk\", \"op\": \"AddClone\"}',) at monkTestWorker@2\n"
       ]
      },
      {
       "output_type": "stream",
       "stream": "stdout",
       "text": [
        "[2015-01-25 08:20:05,653][2845 ][monk.network.partitioner][DEBUG   ][38  ][partitioner.py] : key monk\n"
       ]
      },
      {
       "output_type": "stream",
       "stream": "stdout",
       "text": [
        "[2015-01-25 08:20:05,681][2845 ][monk.network.producer][INFO    ][66  ][producer.py] : sending message ('{\"turtleName\": \"movielens-binary\", \"follower\": \"mluser317\", \"name\": \"monk\", \"op\": \"AddClone\"}',) at monkTestWorker@2\n"
       ]
      },
      {
       "output_type": "stream",
       "stream": "stdout",
       "text": [
        "[2015-01-25 08:20:05,698][2845 ][monk.network.partitioner][DEBUG   ][38  ][partitioner.py] : key monk\n"
       ]
      },
      {
       "output_type": "stream",
       "stream": "stdout",
       "text": [
        "[2015-01-25 08:20:05,725][2845 ][monk.network.producer][INFO    ][66  ][producer.py] : sending message ('{\"turtleName\": \"movielens-binary\", \"follower\": \"mluser318\", \"name\": \"monk\", \"op\": \"AddClone\"}',) at monkTestWorker@2\n"
       ]
      },
      {
       "output_type": "stream",
       "stream": "stdout",
       "text": [
        "[2015-01-25 08:20:05,741][2845 ][monk.network.partitioner][DEBUG   ][38  ][partitioner.py] : key monk\n"
       ]
      },
      {
       "output_type": "stream",
       "stream": "stdout",
       "text": [
        "[2015-01-25 08:20:05,771][2845 ][monk.network.producer][INFO    ][66  ][producer.py] : sending message ('{\"turtleName\": \"movielens-binary\", \"follower\": \"mluser319\", \"name\": \"monk\", \"op\": \"AddClone\"}',) at monkTestWorker@2\n"
       ]
      },
      {
       "output_type": "stream",
       "stream": "stdout",
       "text": [
        "[2015-01-25 08:20:05,788][2845 ][monk.network.partitioner][DEBUG   ][38  ][partitioner.py] : key monk\n"
       ]
      },
      {
       "output_type": "stream",
       "stream": "stdout",
       "text": [
        "[2015-01-25 08:20:05,814][2845 ][monk.network.producer][INFO    ][66  ][producer.py] : sending message ('{\"turtleName\": \"movielens-binary\", \"follower\": \"mluser320\", \"name\": \"monk\", \"op\": \"AddClone\"}',) at monkTestWorker@2\n"
       ]
      },
      {
       "output_type": "stream",
       "stream": "stdout",
       "text": [
        "[2015-01-25 08:20:05,830][2845 ][monk.network.partitioner][DEBUG   ][38  ][partitioner.py] : key monk\n"
       ]
      },
      {
       "output_type": "stream",
       "stream": "stdout",
       "text": [
        "[2015-01-25 08:20:05,856][2845 ][monk.network.producer][INFO    ][66  ][producer.py] : sending message ('{\"turtleName\": \"movielens-binary\", \"follower\": \"mluser321\", \"name\": \"monk\", \"op\": \"AddClone\"}',) at monkTestWorker@2\n"
       ]
      },
      {
       "output_type": "stream",
       "stream": "stdout",
       "text": [
        "[2015-01-25 08:20:05,873][2845 ][monk.network.partitioner][DEBUG   ][38  ][partitioner.py] : key monk\n"
       ]
      },
      {
       "output_type": "stream",
       "stream": "stdout",
       "text": [
        "[2015-01-25 08:20:05,909][2845 ][monk.network.producer][INFO    ][66  ][producer.py] : sending message ('{\"turtleName\": \"movielens-binary\", \"follower\": \"mluser322\", \"name\": \"monk\", \"op\": \"AddClone\"}',) at monkTestWorker@2\n"
       ]
      },
      {
       "output_type": "stream",
       "stream": "stdout",
       "text": [
        "[2015-01-25 08:20:05,926][2845 ][monk.network.partitioner][DEBUG   ][38  ][partitioner.py] : key monk\n"
       ]
      },
      {
       "output_type": "stream",
       "stream": "stdout",
       "text": [
        "[2015-01-25 08:20:05,952][2845 ][monk.network.producer][INFO    ][66  ][producer.py] : sending message ('{\"turtleName\": \"movielens-binary\", \"follower\": \"mluser323\", \"name\": \"monk\", \"op\": \"AddClone\"}',) at monkTestWorker@2\n"
       ]
      },
      {
       "output_type": "stream",
       "stream": "stdout",
       "text": [
        "[2015-01-25 08:20:05,968][2845 ][monk.network.partitioner][DEBUG   ][38  ][partitioner.py] : key monk\n"
       ]
      },
      {
       "output_type": "stream",
       "stream": "stdout",
       "text": [
        "[2015-01-25 08:20:05,994][2845 ][monk.network.producer][INFO    ][66  ][producer.py] : sending message ('{\"turtleName\": \"movielens-binary\", \"follower\": \"mluser324\", \"name\": \"monk\", \"op\": \"AddClone\"}',) at monkTestWorker@2\n"
       ]
      },
      {
       "output_type": "stream",
       "stream": "stdout",
       "text": [
        "[2015-01-25 08:20:06,010][2845 ][monk.network.partitioner][DEBUG   ][38  ][partitioner.py] : key monk\n"
       ]
      },
      {
       "output_type": "stream",
       "stream": "stdout",
       "text": [
        "[2015-01-25 08:20:06,040][2845 ][monk.network.producer][INFO    ][66  ][producer.py] : sending message ('{\"turtleName\": \"movielens-binary\", \"follower\": \"mluser325\", \"name\": \"monk\", \"op\": \"AddClone\"}',) at monkTestWorker@2\n"
       ]
      },
      {
       "output_type": "stream",
       "stream": "stdout",
       "text": [
        "[2015-01-25 08:20:06,059][2845 ][monk.network.partitioner][DEBUG   ][38  ][partitioner.py] : key monk\n"
       ]
      },
      {
       "output_type": "stream",
       "stream": "stdout",
       "text": [
        "[2015-01-25 08:20:06,084][2845 ][monk.network.producer][INFO    ][66  ][producer.py] : sending message ('{\"turtleName\": \"movielens-binary\", \"follower\": \"mluser326\", \"name\": \"monk\", \"op\": \"AddClone\"}',) at monkTestWorker@2\n"
       ]
      },
      {
       "output_type": "stream",
       "stream": "stdout",
       "text": [
        "[2015-01-25 08:20:06,102][2845 ][monk.network.partitioner][DEBUG   ][38  ][partitioner.py] : key monk\n"
       ]
      },
      {
       "output_type": "stream",
       "stream": "stdout",
       "text": [
        "[2015-01-25 08:20:06,132][2845 ][monk.network.producer][INFO    ][66  ][producer.py] : sending message ('{\"turtleName\": \"movielens-binary\", \"follower\": \"mluser327\", \"name\": \"monk\", \"op\": \"AddClone\"}',) at monkTestWorker@2\n"
       ]
      },
      {
       "output_type": "stream",
       "stream": "stdout",
       "text": [
        "[2015-01-25 08:20:06,149][2845 ][monk.network.partitioner][DEBUG   ][38  ][partitioner.py] : key monk\n"
       ]
      },
      {
       "output_type": "stream",
       "stream": "stdout",
       "text": [
        "[2015-01-25 08:20:06,177][2845 ][monk.network.producer][INFO    ][66  ][producer.py] : sending message ('{\"turtleName\": \"movielens-binary\", \"follower\": \"mluser328\", \"name\": \"monk\", \"op\": \"AddClone\"}',) at monkTestWorker@2\n"
       ]
      },
      {
       "output_type": "stream",
       "stream": "stdout",
       "text": [
        "[2015-01-25 08:20:06,195][2845 ][monk.network.partitioner][DEBUG   ][38  ][partitioner.py] : key monk\n"
       ]
      },
      {
       "output_type": "stream",
       "stream": "stdout",
       "text": [
        "[2015-01-25 08:20:06,231][2845 ][monk.network.producer][INFO    ][66  ][producer.py] : sending message ('{\"turtleName\": \"movielens-binary\", \"follower\": \"mluser329\", \"name\": \"monk\", \"op\": \"AddClone\"}',) at monkTestWorker@2\n"
       ]
      },
      {
       "output_type": "stream",
       "stream": "stdout",
       "text": [
        "[2015-01-25 08:20:06,249][2845 ][monk.network.partitioner][DEBUG   ][38  ][partitioner.py] : key monk\n"
       ]
      },
      {
       "output_type": "stream",
       "stream": "stdout",
       "text": [
        "[2015-01-25 08:20:06,274][2845 ][monk.network.producer][INFO    ][66  ][producer.py] : sending message ('{\"turtleName\": \"movielens-binary\", \"follower\": \"mluser330\", \"name\": \"monk\", \"op\": \"AddClone\"}',) at monkTestWorker@2\n"
       ]
      },
      {
       "output_type": "stream",
       "stream": "stdout",
       "text": [
        "[2015-01-25 08:20:06,292][2845 ][monk.network.partitioner][DEBUG   ][38  ][partitioner.py] : key monk\n"
       ]
      },
      {
       "output_type": "stream",
       "stream": "stdout",
       "text": [
        "[2015-01-25 08:20:06,323][2845 ][monk.network.producer][INFO    ][66  ][producer.py] : sending message ('{\"turtleName\": \"movielens-binary\", \"follower\": \"mluser331\", \"name\": \"monk\", \"op\": \"AddClone\"}',) at monkTestWorker@2\n"
       ]
      },
      {
       "output_type": "stream",
       "stream": "stdout",
       "text": [
        "[2015-01-25 08:20:06,343][2845 ][monk.network.partitioner][DEBUG   ][38  ][partitioner.py] : key monk\n"
       ]
      },
      {
       "output_type": "stream",
       "stream": "stdout",
       "text": [
        "[2015-01-25 08:20:06,418][2845 ][monk.network.producer][INFO    ][66  ][producer.py] : sending message ('{\"turtleName\": \"movielens-binary\", \"follower\": \"mluser332\", \"name\": \"monk\", \"op\": \"AddClone\"}',) at monkTestWorker@2\n"
       ]
      },
      {
       "output_type": "stream",
       "stream": "stdout",
       "text": [
        "[2015-01-25 08:20:06,442][2845 ][monk.network.partitioner][DEBUG   ][38  ][partitioner.py] : key monk\n"
       ]
      },
      {
       "output_type": "stream",
       "stream": "stdout",
       "text": [
        "[2015-01-25 08:20:06,493][2845 ][monk.network.producer][INFO    ][66  ][producer.py] : sending message ('{\"turtleName\": \"movielens-binary\", \"follower\": \"mluser333\", \"name\": \"monk\", \"op\": \"AddClone\"}',) at monkTestWorker@2\n"
       ]
      },
      {
       "output_type": "stream",
       "stream": "stdout",
       "text": [
        "[2015-01-25 08:20:06,511][2845 ][monk.network.partitioner][DEBUG   ][38  ][partitioner.py] : key monk\n"
       ]
      },
      {
       "output_type": "stream",
       "stream": "stdout",
       "text": [
        "[2015-01-25 08:20:06,569][2845 ][monk.network.producer][INFO    ][66  ][producer.py] : sending message ('{\"turtleName\": \"movielens-binary\", \"follower\": \"mluser334\", \"name\": \"monk\", \"op\": \"AddClone\"}',) at monkTestWorker@2\n"
       ]
      },
      {
       "output_type": "stream",
       "stream": "stdout",
       "text": [
        "[2015-01-25 08:20:06,586][2845 ][monk.network.partitioner][DEBUG   ][38  ][partitioner.py] : key monk\n"
       ]
      },
      {
       "output_type": "stream",
       "stream": "stdout",
       "text": [
        "[2015-01-25 08:20:06,618][2845 ][monk.network.producer][INFO    ][66  ][producer.py] : sending message ('{\"turtleName\": \"movielens-binary\", \"follower\": \"mluser335\", \"name\": \"monk\", \"op\": \"AddClone\"}',) at monkTestWorker@2\n"
       ]
      },
      {
       "output_type": "stream",
       "stream": "stdout",
       "text": [
        "[2015-01-25 08:20:06,642][2845 ][monk.network.partitioner][DEBUG   ][38  ][partitioner.py] : key monk\n"
       ]
      },
      {
       "output_type": "stream",
       "stream": "stdout",
       "text": [
        "[2015-01-25 08:20:06,682][2845 ][monk.network.producer][INFO    ][66  ][producer.py] : sending message ('{\"turtleName\": \"movielens-binary\", \"follower\": \"mluser336\", \"name\": \"monk\", \"op\": \"AddClone\"}',) at monkTestWorker@2\n"
       ]
      },
      {
       "output_type": "stream",
       "stream": "stdout",
       "text": [
        "[2015-01-25 08:20:06,729][2845 ][monk.network.partitioner][DEBUG   ][38  ][partitioner.py] : key monk\n"
       ]
      },
      {
       "output_type": "stream",
       "stream": "stdout",
       "text": [
        "[2015-01-25 08:20:06,757][2845 ][monk.network.producer][INFO    ][66  ][producer.py] : sending message ('{\"turtleName\": \"movielens-binary\", \"follower\": \"mluser337\", \"name\": \"monk\", \"op\": \"AddClone\"}',) at monkTestWorker@2\n"
       ]
      },
      {
       "output_type": "stream",
       "stream": "stdout",
       "text": [
        "[2015-01-25 08:20:06,782][2845 ][monk.network.partitioner][DEBUG   ][38  ][partitioner.py] : key monk\n"
       ]
      },
      {
       "output_type": "stream",
       "stream": "stdout",
       "text": [
        "[2015-01-25 08:20:06,817][2845 ][monk.network.producer][INFO    ][66  ][producer.py] : sending message ('{\"turtleName\": \"movielens-binary\", \"follower\": \"mluser338\", \"name\": \"monk\", \"op\": \"AddClone\"}',) at monkTestWorker@2\n"
       ]
      },
      {
       "output_type": "stream",
       "stream": "stdout",
       "text": [
        "[2015-01-25 08:20:06,838][2845 ][monk.network.partitioner][DEBUG   ][38  ][partitioner.py] : key monk\n"
       ]
      },
      {
       "output_type": "stream",
       "stream": "stdout",
       "text": [
        "[2015-01-25 08:20:06,865][2845 ][monk.network.producer][INFO    ][66  ][producer.py] : sending message ('{\"turtleName\": \"movielens-binary\", \"follower\": \"mluser339\", \"name\": \"monk\", \"op\": \"AddClone\"}',) at monkTestWorker@2\n"
       ]
      },
      {
       "output_type": "stream",
       "stream": "stdout",
       "text": [
        "[2015-01-25 08:20:06,882][2845 ][monk.network.partitioner][DEBUG   ][38  ][partitioner.py] : key monk\n"
       ]
      },
      {
       "output_type": "stream",
       "stream": "stdout",
       "text": [
        "[2015-01-25 08:20:06,932][2845 ][monk.network.producer][INFO    ][66  ][producer.py] : sending message ('{\"turtleName\": \"movielens-binary\", \"follower\": \"mluser340\", \"name\": \"monk\", \"op\": \"AddClone\"}',) at monkTestWorker@2\n"
       ]
      },
      {
       "output_type": "stream",
       "stream": "stdout",
       "text": [
        "[2015-01-25 08:20:06,951][2845 ][monk.network.partitioner][DEBUG   ][38  ][partitioner.py] : key monk\n"
       ]
      },
      {
       "output_type": "stream",
       "stream": "stdout",
       "text": [
        "[2015-01-25 08:20:06,977][2845 ][monk.network.producer][INFO    ][66  ][producer.py] : sending message ('{\"turtleName\": \"movielens-binary\", \"follower\": \"mluser341\", \"name\": \"monk\", \"op\": \"AddClone\"}',) at monkTestWorker@2\n"
       ]
      },
      {
       "output_type": "stream",
       "stream": "stdout",
       "text": [
        "[2015-01-25 08:20:07,006][2845 ][monk.network.partitioner][DEBUG   ][38  ][partitioner.py] : key monk\n"
       ]
      },
      {
       "output_type": "stream",
       "stream": "stdout",
       "text": [
        "[2015-01-25 08:20:07,038][2845 ][monk.network.producer][INFO    ][66  ][producer.py] : sending message ('{\"turtleName\": \"movielens-binary\", \"follower\": \"mluser342\", \"name\": \"monk\", \"op\": \"AddClone\"}',) at monkTestWorker@2\n"
       ]
      },
      {
       "output_type": "stream",
       "stream": "stdout",
       "text": [
        "[2015-01-25 08:20:07,063][2845 ][monk.network.partitioner][DEBUG   ][38  ][partitioner.py] : key monk\n"
       ]
      },
      {
       "output_type": "stream",
       "stream": "stdout",
       "text": [
        "[2015-01-25 08:20:07,092][2845 ][monk.network.producer][INFO    ][66  ][producer.py] : sending message ('{\"turtleName\": \"movielens-binary\", \"follower\": \"mluser343\", \"name\": \"monk\", \"op\": \"AddClone\"}',) at monkTestWorker@2\n"
       ]
      },
      {
       "output_type": "stream",
       "stream": "stdout",
       "text": [
        "[2015-01-25 08:20:07,130][2845 ][monk.network.partitioner][DEBUG   ][38  ][partitioner.py] : key monk\n"
       ]
      },
      {
       "output_type": "stream",
       "stream": "stdout",
       "text": [
        "[2015-01-25 08:20:07,157][2845 ][monk.network.producer][INFO    ][66  ][producer.py] : sending message ('{\"turtleName\": \"movielens-binary\", \"follower\": \"mluser344\", \"name\": \"monk\", \"op\": \"AddClone\"}',) at monkTestWorker@2\n"
       ]
      },
      {
       "output_type": "stream",
       "stream": "stdout",
       "text": [
        "[2015-01-25 08:20:07,173][2845 ][monk.network.partitioner][DEBUG   ][38  ][partitioner.py] : key monk\n"
       ]
      },
      {
       "output_type": "stream",
       "stream": "stdout",
       "text": [
        "[2015-01-25 08:20:07,202][2845 ][monk.network.producer][INFO    ][66  ][producer.py] : sending message ('{\"turtleName\": \"movielens-binary\", \"follower\": \"mluser345\", \"name\": \"monk\", \"op\": \"AddClone\"}',) at monkTestWorker@2\n"
       ]
      },
      {
       "output_type": "stream",
       "stream": "stdout",
       "text": [
        "[2015-01-25 08:20:07,218][2845 ][monk.network.partitioner][DEBUG   ][38  ][partitioner.py] : key monk\n"
       ]
      },
      {
       "output_type": "stream",
       "stream": "stdout",
       "text": [
        "[2015-01-25 08:20:07,244][2845 ][monk.network.producer][INFO    ][66  ][producer.py] : sending message ('{\"turtleName\": \"movielens-binary\", \"follower\": \"mluser346\", \"name\": \"monk\", \"op\": \"AddClone\"}',) at monkTestWorker@2\n"
       ]
      },
      {
       "output_type": "stream",
       "stream": "stdout",
       "text": [
        "[2015-01-25 08:20:07,261][2845 ][monk.network.partitioner][DEBUG   ][38  ][partitioner.py] : key monk\n"
       ]
      },
      {
       "output_type": "stream",
       "stream": "stdout",
       "text": [
        "[2015-01-25 08:20:07,290][2845 ][monk.network.producer][INFO    ][66  ][producer.py] : sending message ('{\"turtleName\": \"movielens-binary\", \"follower\": \"mluser347\", \"name\": \"monk\", \"op\": \"AddClone\"}',) at monkTestWorker@2\n"
       ]
      },
      {
       "output_type": "stream",
       "stream": "stdout",
       "text": [
        "[2015-01-25 08:20:07,307][2845 ][monk.network.partitioner][DEBUG   ][38  ][partitioner.py] : key monk\n"
       ]
      },
      {
       "output_type": "stream",
       "stream": "stdout",
       "text": [
        "[2015-01-25 08:20:07,334][2845 ][monk.network.producer][INFO    ][66  ][producer.py] : sending message ('{\"turtleName\": \"movielens-binary\", \"follower\": \"mluser348\", \"name\": \"monk\", \"op\": \"AddClone\"}',) at monkTestWorker@2\n"
       ]
      },
      {
       "output_type": "stream",
       "stream": "stdout",
       "text": [
        "[2015-01-25 08:20:07,351][2845 ][monk.network.partitioner][DEBUG   ][38  ][partitioner.py] : key monk\n"
       ]
      },
      {
       "output_type": "stream",
       "stream": "stdout",
       "text": [
        "[2015-01-25 08:20:07,380][2845 ][monk.network.producer][INFO    ][66  ][producer.py] : sending message ('{\"turtleName\": \"movielens-binary\", \"follower\": \"mluser349\", \"name\": \"monk\", \"op\": \"AddClone\"}',) at monkTestWorker@2\n"
       ]
      },
      {
       "output_type": "stream",
       "stream": "stdout",
       "text": [
        "[2015-01-25 08:20:07,397][2845 ][monk.network.partitioner][DEBUG   ][38  ][partitioner.py] : key monk\n"
       ]
      },
      {
       "output_type": "stream",
       "stream": "stdout",
       "text": [
        "[2015-01-25 08:20:07,422][2845 ][monk.network.producer][INFO    ][66  ][producer.py] : sending message ('{\"turtleName\": \"movielens-binary\", \"follower\": \"mluser350\", \"name\": \"monk\", \"op\": \"AddClone\"}',) at monkTestWorker@2\n"
       ]
      },
      {
       "output_type": "stream",
       "stream": "stdout",
       "text": [
        "[2015-01-25 08:20:07,439][2845 ][monk.network.partitioner][DEBUG   ][38  ][partitioner.py] : key monk\n"
       ]
      },
      {
       "output_type": "stream",
       "stream": "stdout",
       "text": [
        "[2015-01-25 08:20:07,464][2845 ][monk.network.producer][INFO    ][66  ][producer.py] : sending message ('{\"turtleName\": \"movielens-binary\", \"follower\": \"mluser351\", \"name\": \"monk\", \"op\": \"AddClone\"}',) at monkTestWorker@2\n"
       ]
      },
      {
       "output_type": "stream",
       "stream": "stdout",
       "text": [
        "[2015-01-25 08:20:07,481][2845 ][monk.network.partitioner][DEBUG   ][38  ][partitioner.py] : key monk\n"
       ]
      },
      {
       "output_type": "stream",
       "stream": "stdout",
       "text": [
        "[2015-01-25 08:20:07,507][2845 ][monk.network.producer][INFO    ][66  ][producer.py] : sending message ('{\"turtleName\": \"movielens-binary\", \"follower\": \"mluser352\", \"name\": \"monk\", \"op\": \"AddClone\"}',) at monkTestWorker@2\n"
       ]
      },
      {
       "output_type": "stream",
       "stream": "stdout",
       "text": [
        "[2015-01-25 08:20:07,524][2845 ][monk.network.partitioner][DEBUG   ][38  ][partitioner.py] : key monk\n"
       ]
      },
      {
       "output_type": "stream",
       "stream": "stdout",
       "text": [
        "[2015-01-25 08:20:07,553][2845 ][monk.network.producer][INFO    ][66  ][producer.py] : sending message ('{\"turtleName\": \"movielens-binary\", \"follower\": \"mluser353\", \"name\": \"monk\", \"op\": \"AddClone\"}',) at monkTestWorker@2\n"
       ]
      },
      {
       "output_type": "stream",
       "stream": "stdout",
       "text": [
        "[2015-01-25 08:20:07,574][2845 ][monk.network.partitioner][DEBUG   ][38  ][partitioner.py] : key monk\n"
       ]
      },
      {
       "output_type": "stream",
       "stream": "stdout",
       "text": [
        "[2015-01-25 08:20:07,612][2845 ][monk.network.producer][INFO    ][66  ][producer.py] : sending message ('{\"turtleName\": \"movielens-binary\", \"follower\": \"mluser354\", \"name\": \"monk\", \"op\": \"AddClone\"}',) at monkTestWorker@2\n"
       ]
      },
      {
       "output_type": "stream",
       "stream": "stdout",
       "text": [
        "[2015-01-25 08:20:07,629][2845 ][monk.network.partitioner][DEBUG   ][38  ][partitioner.py] : key monk\n"
       ]
      },
      {
       "output_type": "stream",
       "stream": "stdout",
       "text": [
        "[2015-01-25 08:20:07,656][2845 ][monk.network.producer][INFO    ][66  ][producer.py] : sending message ('{\"turtleName\": \"movielens-binary\", \"follower\": \"mluser355\", \"name\": \"monk\", \"op\": \"AddClone\"}',) at monkTestWorker@2\n"
       ]
      },
      {
       "output_type": "stream",
       "stream": "stdout",
       "text": [
        "[2015-01-25 08:20:07,672][2845 ][monk.network.partitioner][DEBUG   ][38  ][partitioner.py] : key monk\n"
       ]
      },
      {
       "output_type": "stream",
       "stream": "stdout",
       "text": [
        "[2015-01-25 08:20:07,698][2845 ][monk.network.producer][INFO    ][66  ][producer.py] : sending message ('{\"turtleName\": \"movielens-binary\", \"follower\": \"mluser356\", \"name\": \"monk\", \"op\": \"AddClone\"}',) at monkTestWorker@2\n"
       ]
      },
      {
       "output_type": "stream",
       "stream": "stdout",
       "text": [
        "[2015-01-25 08:20:07,714][2845 ][monk.network.partitioner][DEBUG   ][38  ][partitioner.py] : key monk\n"
       ]
      },
      {
       "output_type": "stream",
       "stream": "stdout",
       "text": [
        "[2015-01-25 08:20:07,744][2845 ][monk.network.producer][INFO    ][66  ][producer.py] : sending message ('{\"turtleName\": \"movielens-binary\", \"follower\": \"mluser357\", \"name\": \"monk\", \"op\": \"AddClone\"}',) at monkTestWorker@2\n"
       ]
      },
      {
       "output_type": "stream",
       "stream": "stdout",
       "text": [
        "[2015-01-25 08:20:07,760][2845 ][monk.network.partitioner][DEBUG   ][38  ][partitioner.py] : key monk\n"
       ]
      },
      {
       "output_type": "stream",
       "stream": "stdout",
       "text": [
        "[2015-01-25 08:20:07,792][2845 ][monk.network.producer][INFO    ][66  ][producer.py] : sending message ('{\"turtleName\": \"movielens-binary\", \"follower\": \"mluser358\", \"name\": \"monk\", \"op\": \"AddClone\"}',) at monkTestWorker@2\n"
       ]
      },
      {
       "output_type": "stream",
       "stream": "stdout",
       "text": [
        "[2015-01-25 08:20:07,809][2845 ][monk.network.partitioner][DEBUG   ][38  ][partitioner.py] : key monk\n"
       ]
      },
      {
       "output_type": "stream",
       "stream": "stdout",
       "text": [
        "[2015-01-25 08:20:07,835][2845 ][monk.network.producer][INFO    ][66  ][producer.py] : sending message ('{\"turtleName\": \"movielens-binary\", \"follower\": \"mluser359\", \"name\": \"monk\", \"op\": \"AddClone\"}',) at monkTestWorker@2\n"
       ]
      },
      {
       "output_type": "stream",
       "stream": "stdout",
       "text": [
        "[2015-01-25 08:20:07,852][2845 ][monk.network.partitioner][DEBUG   ][38  ][partitioner.py] : key monk\n"
       ]
      },
      {
       "output_type": "stream",
       "stream": "stdout",
       "text": [
        "[2015-01-25 08:20:07,881][2845 ][monk.network.producer][INFO    ][66  ][producer.py] : sending message ('{\"turtleName\": \"movielens-binary\", \"follower\": \"mluser360\", \"name\": \"monk\", \"op\": \"AddClone\"}',) at monkTestWorker@2\n"
       ]
      },
      {
       "output_type": "stream",
       "stream": "stdout",
       "text": [
        "[2015-01-25 08:20:07,898][2845 ][monk.network.partitioner][DEBUG   ][38  ][partitioner.py] : key monk\n"
       ]
      },
      {
       "output_type": "stream",
       "stream": "stdout",
       "text": [
        "[2015-01-25 08:20:07,923][2845 ][monk.network.producer][INFO    ][66  ][producer.py] : sending message ('{\"turtleName\": \"movielens-binary\", \"follower\": \"mluser361\", \"name\": \"monk\", \"op\": \"AddClone\"}',) at monkTestWorker@2\n"
       ]
      },
      {
       "output_type": "stream",
       "stream": "stdout",
       "text": [
        "[2015-01-25 08:20:07,940][2845 ][monk.network.partitioner][DEBUG   ][38  ][partitioner.py] : key monk\n"
       ]
      },
      {
       "output_type": "stream",
       "stream": "stdout",
       "text": [
        "[2015-01-25 08:20:07,964][2845 ][monk.network.producer][INFO    ][66  ][producer.py] : sending message ('{\"turtleName\": \"movielens-binary\", \"follower\": \"mluser362\", \"name\": \"monk\", \"op\": \"AddClone\"}',) at monkTestWorker@2\n"
       ]
      },
      {
       "output_type": "stream",
       "stream": "stdout",
       "text": [
        "[2015-01-25 08:20:07,981][2845 ][monk.network.partitioner][DEBUG   ][38  ][partitioner.py] : key monk\n"
       ]
      },
      {
       "output_type": "stream",
       "stream": "stdout",
       "text": [
        "[2015-01-25 08:20:08,010][2845 ][monk.network.producer][INFO    ][66  ][producer.py] : sending message ('{\"turtleName\": \"movielens-binary\", \"follower\": \"mluser363\", \"name\": \"monk\", \"op\": \"AddClone\"}',) at monkTestWorker@2\n"
       ]
      },
      {
       "output_type": "stream",
       "stream": "stdout",
       "text": [
        "[2015-01-25 08:20:08,027][2845 ][monk.network.partitioner][DEBUG   ][38  ][partitioner.py] : key monk\n"
       ]
      },
      {
       "output_type": "stream",
       "stream": "stdout",
       "text": [
        "[2015-01-25 08:20:08,052][2845 ][monk.network.producer][INFO    ][66  ][producer.py] : sending message ('{\"turtleName\": \"movielens-binary\", \"follower\": \"mluser364\", \"name\": \"monk\", \"op\": \"AddClone\"}',) at monkTestWorker@2\n"
       ]
      },
      {
       "output_type": "stream",
       "stream": "stdout",
       "text": [
        "[2015-01-25 08:20:08,068][2845 ][monk.network.partitioner][DEBUG   ][38  ][partitioner.py] : key monk\n"
       ]
      },
      {
       "output_type": "stream",
       "stream": "stdout",
       "text": [
        "[2015-01-25 08:20:08,108][2845 ][monk.network.producer][INFO    ][66  ][producer.py] : sending message ('{\"turtleName\": \"movielens-binary\", \"follower\": \"mluser365\", \"name\": \"monk\", \"op\": \"AddClone\"}',) at monkTestWorker@2\n"
       ]
      },
      {
       "output_type": "stream",
       "stream": "stdout",
       "text": [
        "[2015-01-25 08:20:08,124][2845 ][monk.network.partitioner][DEBUG   ][38  ][partitioner.py] : key monk\n"
       ]
      },
      {
       "output_type": "stream",
       "stream": "stdout",
       "text": [
        "[2015-01-25 08:20:08,149][2845 ][monk.network.producer][INFO    ][66  ][producer.py] : sending message ('{\"turtleName\": \"movielens-binary\", \"follower\": \"mluser366\", \"name\": \"monk\", \"op\": \"AddClone\"}',) at monkTestWorker@2\n"
       ]
      },
      {
       "output_type": "stream",
       "stream": "stdout",
       "text": [
        "[2015-01-25 08:20:08,166][2845 ][monk.network.partitioner][DEBUG   ][38  ][partitioner.py] : key monk\n"
       ]
      },
      {
       "output_type": "stream",
       "stream": "stdout",
       "text": [
        "[2015-01-25 08:20:08,196][2845 ][monk.network.producer][INFO    ][66  ][producer.py] : sending message ('{\"turtleName\": \"movielens-binary\", \"follower\": \"mluser367\", \"name\": \"monk\", \"op\": \"AddClone\"}',) at monkTestWorker@2\n"
       ]
      },
      {
       "output_type": "stream",
       "stream": "stdout",
       "text": [
        "[2015-01-25 08:20:08,212][2845 ][monk.network.partitioner][DEBUG   ][38  ][partitioner.py] : key monk\n"
       ]
      },
      {
       "output_type": "stream",
       "stream": "stdout",
       "text": [
        "[2015-01-25 08:20:08,238][2845 ][monk.network.producer][INFO    ][66  ][producer.py] : sending message ('{\"turtleName\": \"movielens-binary\", \"follower\": \"mluser368\", \"name\": \"monk\", \"op\": \"AddClone\"}',) at monkTestWorker@2\n"
       ]
      },
      {
       "output_type": "stream",
       "stream": "stdout",
       "text": [
        "[2015-01-25 08:20:08,256][2845 ][monk.network.partitioner][DEBUG   ][38  ][partitioner.py] : key monk\n"
       ]
      },
      {
       "output_type": "stream",
       "stream": "stdout",
       "text": [
        "[2015-01-25 08:20:08,288][2845 ][monk.network.producer][INFO    ][66  ][producer.py] : sending message ('{\"turtleName\": \"movielens-binary\", \"follower\": \"mluser369\", \"name\": \"monk\", \"op\": \"AddClone\"}',) at monkTestWorker@2\n"
       ]
      },
      {
       "output_type": "stream",
       "stream": "stdout",
       "text": [
        "[2015-01-25 08:20:08,307][2845 ][monk.network.partitioner][DEBUG   ][38  ][partitioner.py] : key monk\n"
       ]
      },
      {
       "output_type": "stream",
       "stream": "stdout",
       "text": [
        "[2015-01-25 08:20:08,340][2845 ][monk.network.producer][INFO    ][66  ][producer.py] : sending message ('{\"turtleName\": \"movielens-binary\", \"follower\": \"mluser370\", \"name\": \"monk\", \"op\": \"AddClone\"}',) at monkTestWorker@2\n"
       ]
      },
      {
       "output_type": "stream",
       "stream": "stdout",
       "text": [
        "[2015-01-25 08:20:08,358][2845 ][monk.network.partitioner][DEBUG   ][38  ][partitioner.py] : key monk\n"
       ]
      },
      {
       "output_type": "stream",
       "stream": "stdout",
       "text": [
        "[2015-01-25 08:20:08,388][2845 ][monk.network.producer][INFO    ][66  ][producer.py] : sending message ('{\"turtleName\": \"movielens-binary\", \"follower\": \"mluser371\", \"name\": \"monk\", \"op\": \"AddClone\"}',) at monkTestWorker@2\n"
       ]
      },
      {
       "output_type": "stream",
       "stream": "stdout",
       "text": [
        "[2015-01-25 08:20:08,405][2845 ][monk.network.partitioner][DEBUG   ][38  ][partitioner.py] : key monk\n"
       ]
      },
      {
       "output_type": "stream",
       "stream": "stdout",
       "text": [
        "[2015-01-25 08:20:08,431][2845 ][monk.network.producer][INFO    ][66  ][producer.py] : sending message ('{\"turtleName\": \"movielens-binary\", \"follower\": \"mluser372\", \"name\": \"monk\", \"op\": \"AddClone\"}',) at monkTestWorker@2\n"
       ]
      },
      {
       "output_type": "stream",
       "stream": "stdout",
       "text": [
        "[2015-01-25 08:20:08,448][2845 ][monk.network.partitioner][DEBUG   ][38  ][partitioner.py] : key monk\n"
       ]
      },
      {
       "output_type": "stream",
       "stream": "stdout",
       "text": [
        "[2015-01-25 08:20:08,477][2845 ][monk.network.producer][INFO    ][66  ][producer.py] : sending message ('{\"turtleName\": \"movielens-binary\", \"follower\": \"mluser373\", \"name\": \"monk\", \"op\": \"AddClone\"}',) at monkTestWorker@2\n"
       ]
      },
      {
       "output_type": "stream",
       "stream": "stdout",
       "text": [
        "[2015-01-25 08:20:08,499][2845 ][monk.network.partitioner][DEBUG   ][38  ][partitioner.py] : key monk\n"
       ]
      },
      {
       "output_type": "stream",
       "stream": "stdout",
       "text": [
        "[2015-01-25 08:20:08,526][2845 ][monk.network.producer][INFO    ][66  ][producer.py] : sending message ('{\"turtleName\": \"movielens-binary\", \"follower\": \"mluser374\", \"name\": \"monk\", \"op\": \"AddClone\"}',) at monkTestWorker@2\n"
       ]
      },
      {
       "output_type": "stream",
       "stream": "stdout",
       "text": [
        "[2015-01-25 08:20:08,542][2845 ][monk.network.partitioner][DEBUG   ][38  ][partitioner.py] : key monk\n"
       ]
      },
      {
       "output_type": "stream",
       "stream": "stdout",
       "text": [
        "[2015-01-25 08:20:08,567][2845 ][monk.network.producer][INFO    ][66  ][producer.py] : sending message ('{\"turtleName\": \"movielens-binary\", \"follower\": \"mluser375\", \"name\": \"monk\", \"op\": \"AddClone\"}',) at monkTestWorker@2\n"
       ]
      },
      {
       "output_type": "stream",
       "stream": "stdout",
       "text": [
        "[2015-01-25 08:20:08,584][2845 ][monk.network.partitioner][DEBUG   ][38  ][partitioner.py] : key monk\n"
       ]
      },
      {
       "output_type": "stream",
       "stream": "stdout",
       "text": [
        "[2015-01-25 08:20:08,610][2845 ][monk.network.producer][INFO    ][66  ][producer.py] : sending message ('{\"turtleName\": \"movielens-binary\", \"follower\": \"mluser376\", \"name\": \"monk\", \"op\": \"AddClone\"}',) at monkTestWorker@2\n"
       ]
      },
      {
       "output_type": "stream",
       "stream": "stdout",
       "text": [
        "[2015-01-25 08:20:08,629][2845 ][monk.network.partitioner][DEBUG   ][38  ][partitioner.py] : key monk\n"
       ]
      },
      {
       "output_type": "stream",
       "stream": "stdout",
       "text": [
        "[2015-01-25 08:20:08,655][2845 ][monk.network.producer][INFO    ][66  ][producer.py] : sending message ('{\"turtleName\": \"movielens-binary\", \"follower\": \"mluser377\", \"name\": \"monk\", \"op\": \"AddClone\"}',) at monkTestWorker@2\n"
       ]
      },
      {
       "output_type": "stream",
       "stream": "stdout",
       "text": [
        "[2015-01-25 08:20:08,671][2845 ][monk.network.partitioner][DEBUG   ][38  ][partitioner.py] : key monk\n"
       ]
      },
      {
       "output_type": "stream",
       "stream": "stdout",
       "text": [
        "[2015-01-25 08:20:08,707][2845 ][monk.network.producer][INFO    ][66  ][producer.py] : sending message ('{\"turtleName\": \"movielens-binary\", \"follower\": \"mluser378\", \"name\": \"monk\", \"op\": \"AddClone\"}',) at monkTestWorker@2\n"
       ]
      },
      {
       "output_type": "stream",
       "stream": "stdout",
       "text": [
        "[2015-01-25 08:20:08,724][2845 ][monk.network.partitioner][DEBUG   ][38  ][partitioner.py] : key monk\n"
       ]
      },
      {
       "output_type": "stream",
       "stream": "stdout",
       "text": [
        "[2015-01-25 08:20:08,750][2845 ][monk.network.producer][INFO    ][66  ][producer.py] : sending message ('{\"turtleName\": \"movielens-binary\", \"follower\": \"mluser379\", \"name\": \"monk\", \"op\": \"AddClone\"}',) at monkTestWorker@2\n"
       ]
      },
      {
       "output_type": "stream",
       "stream": "stdout",
       "text": [
        "[2015-01-25 08:20:08,768][2845 ][monk.network.partitioner][DEBUG   ][38  ][partitioner.py] : key monk\n"
       ]
      },
      {
       "output_type": "stream",
       "stream": "stdout",
       "text": [
        "[2015-01-25 08:20:08,797][2845 ][monk.network.producer][INFO    ][66  ][producer.py] : sending message ('{\"turtleName\": \"movielens-binary\", \"follower\": \"mluser380\", \"name\": \"monk\", \"op\": \"AddClone\"}',) at monkTestWorker@2\n"
       ]
      },
      {
       "output_type": "stream",
       "stream": "stdout",
       "text": [
        "[2015-01-25 08:20:08,813][2845 ][monk.network.partitioner][DEBUG   ][38  ][partitioner.py] : key monk\n"
       ]
      },
      {
       "output_type": "stream",
       "stream": "stdout",
       "text": [
        "[2015-01-25 08:20:08,844][2845 ][monk.network.producer][INFO    ][66  ][producer.py] : sending message ('{\"turtleName\": \"movielens-binary\", \"follower\": \"mluser381\", \"name\": \"monk\", \"op\": \"AddClone\"}',) at monkTestWorker@2\n"
       ]
      },
      {
       "output_type": "stream",
       "stream": "stdout",
       "text": [
        "[2015-01-25 08:20:08,861][2845 ][monk.network.partitioner][DEBUG   ][38  ][partitioner.py] : key monk\n"
       ]
      },
      {
       "output_type": "stream",
       "stream": "stdout",
       "text": [
        "[2015-01-25 08:20:08,891][2845 ][monk.network.producer][INFO    ][66  ][producer.py] : sending message ('{\"turtleName\": \"movielens-binary\", \"follower\": \"mluser382\", \"name\": \"monk\", \"op\": \"AddClone\"}',) at monkTestWorker@2\n"
       ]
      },
      {
       "output_type": "stream",
       "stream": "stdout",
       "text": [
        "[2015-01-25 08:20:08,907][2845 ][monk.network.partitioner][DEBUG   ][38  ][partitioner.py] : key monk\n"
       ]
      },
      {
       "output_type": "stream",
       "stream": "stdout",
       "text": [
        "[2015-01-25 08:20:08,934][2845 ][monk.network.producer][INFO    ][66  ][producer.py] : sending message ('{\"turtleName\": \"movielens-binary\", \"follower\": \"mluser383\", \"name\": \"monk\", \"op\": \"AddClone\"}',) at monkTestWorker@2\n"
       ]
      },
      {
       "output_type": "stream",
       "stream": "stdout",
       "text": [
        "[2015-01-25 08:20:08,951][2845 ][monk.network.partitioner][DEBUG   ][38  ][partitioner.py] : key monk\n"
       ]
      },
      {
       "output_type": "stream",
       "stream": "stdout",
       "text": [
        "[2015-01-25 08:20:08,976][2845 ][monk.network.producer][INFO    ][66  ][producer.py] : sending message ('{\"turtleName\": \"movielens-binary\", \"follower\": \"mluser384\", \"name\": \"monk\", \"op\": \"AddClone\"}',) at monkTestWorker@2\n"
       ]
      },
      {
       "output_type": "stream",
       "stream": "stdout",
       "text": [
        "[2015-01-25 08:20:08,992][2845 ][monk.network.partitioner][DEBUG   ][38  ][partitioner.py] : key monk\n"
       ]
      },
      {
       "output_type": "stream",
       "stream": "stdout",
       "text": [
        "[2015-01-25 08:20:09,018][2845 ][monk.network.producer][INFO    ][66  ][producer.py] : sending message ('{\"turtleName\": \"movielens-binary\", \"follower\": \"mluser385\", \"name\": \"monk\", \"op\": \"AddClone\"}',) at monkTestWorker@2\n"
       ]
      },
      {
       "output_type": "stream",
       "stream": "stdout",
       "text": [
        "[2015-01-25 08:20:09,035][2845 ][monk.network.partitioner][DEBUG   ][38  ][partitioner.py] : key monk\n"
       ]
      },
      {
       "output_type": "stream",
       "stream": "stdout",
       "text": [
        "[2015-01-25 08:20:09,064][2845 ][monk.network.producer][INFO    ][66  ][producer.py] : sending message ('{\"turtleName\": \"movielens-binary\", \"follower\": \"mluser386\", \"name\": \"monk\", \"op\": \"AddClone\"}',) at monkTestWorker@2\n"
       ]
      },
      {
       "output_type": "stream",
       "stream": "stdout",
       "text": [
        "[2015-01-25 08:20:09,081][2845 ][monk.network.partitioner][DEBUG   ][38  ][partitioner.py] : key monk\n"
       ]
      },
      {
       "output_type": "stream",
       "stream": "stdout",
       "text": [
        "[2015-01-25 08:20:09,107][2845 ][monk.network.producer][INFO    ][66  ][producer.py] : sending message ('{\"turtleName\": \"movielens-binary\", \"follower\": \"mluser387\", \"name\": \"monk\", \"op\": \"AddClone\"}',) at monkTestWorker@2\n"
       ]
      },
      {
       "output_type": "stream",
       "stream": "stdout",
       "text": [
        "[2015-01-25 08:20:09,124][2845 ][monk.network.partitioner][DEBUG   ][38  ][partitioner.py] : key monk\n"
       ]
      },
      {
       "output_type": "stream",
       "stream": "stdout",
       "text": [
        "[2015-01-25 08:20:09,150][2845 ][monk.network.producer][INFO    ][66  ][producer.py] : sending message ('{\"turtleName\": \"movielens-binary\", \"follower\": \"mluser388\", \"name\": \"monk\", \"op\": \"AddClone\"}',) at monkTestWorker@2\n"
       ]
      },
      {
       "output_type": "stream",
       "stream": "stdout",
       "text": [
        "[2015-01-25 08:20:09,166][2845 ][monk.network.partitioner][DEBUG   ][38  ][partitioner.py] : key monk\n"
       ]
      },
      {
       "output_type": "stream",
       "stream": "stdout",
       "text": [
        "[2015-01-25 08:20:09,192][2845 ][monk.network.producer][INFO    ][66  ][producer.py] : sending message ('{\"turtleName\": \"movielens-binary\", \"follower\": \"mluser389\", \"name\": \"monk\", \"op\": \"AddClone\"}',) at monkTestWorker@2\n"
       ]
      },
      {
       "output_type": "stream",
       "stream": "stdout",
       "text": [
        "[2015-01-25 08:20:09,208][2845 ][monk.network.partitioner][DEBUG   ][38  ][partitioner.py] : key monk\n"
       ]
      },
      {
       "output_type": "stream",
       "stream": "stdout",
       "text": [
        "[2015-01-25 08:20:09,237][2845 ][monk.network.producer][INFO    ][66  ][producer.py] : sending message ('{\"turtleName\": \"movielens-binary\", \"follower\": \"mluser390\", \"name\": \"monk\", \"op\": \"AddClone\"}',) at monkTestWorker@2\n"
       ]
      },
      {
       "output_type": "stream",
       "stream": "stdout",
       "text": [
        "[2015-01-25 08:20:09,254][2845 ][monk.network.partitioner][DEBUG   ][38  ][partitioner.py] : key monk\n"
       ]
      },
      {
       "output_type": "stream",
       "stream": "stdout",
       "text": [
        "[2015-01-25 08:20:09,280][2845 ][monk.network.producer][INFO    ][66  ][producer.py] : sending message ('{\"turtleName\": \"movielens-binary\", \"follower\": \"mluser391\", \"name\": \"monk\", \"op\": \"AddClone\"}',) at monkTestWorker@2\n"
       ]
      },
      {
       "output_type": "stream",
       "stream": "stdout",
       "text": [
        "[2015-01-25 08:20:09,296][2845 ][monk.network.partitioner][DEBUG   ][38  ][partitioner.py] : key monk\n"
       ]
      },
      {
       "output_type": "stream",
       "stream": "stdout",
       "text": [
        "[2015-01-25 08:20:09,322][2845 ][monk.network.producer][INFO    ][66  ][producer.py] : sending message ('{\"turtleName\": \"movielens-binary\", \"follower\": \"mluser392\", \"name\": \"monk\", \"op\": \"AddClone\"}',) at monkTestWorker@2\n"
       ]
      },
      {
       "output_type": "stream",
       "stream": "stdout",
       "text": [
        "[2015-01-25 08:20:09,338][2845 ][monk.network.partitioner][DEBUG   ][38  ][partitioner.py] : key monk\n"
       ]
      },
      {
       "output_type": "stream",
       "stream": "stdout",
       "text": [
        "[2015-01-25 08:20:09,367][2845 ][monk.network.producer][INFO    ][66  ][producer.py] : sending message ('{\"turtleName\": \"movielens-binary\", \"follower\": \"mluser393\", \"name\": \"monk\", \"op\": \"AddClone\"}',) at monkTestWorker@2\n"
       ]
      },
      {
       "output_type": "stream",
       "stream": "stdout",
       "text": [
        "[2015-01-25 08:20:09,384][2845 ][monk.network.partitioner][DEBUG   ][38  ][partitioner.py] : key monk\n"
       ]
      },
      {
       "output_type": "stream",
       "stream": "stdout",
       "text": [
        "[2015-01-25 08:20:09,410][2845 ][monk.network.producer][INFO    ][66  ][producer.py] : sending message ('{\"turtleName\": \"movielens-binary\", \"follower\": \"mluser394\", \"name\": \"monk\", \"op\": \"AddClone\"}',) at monkTestWorker@2\n"
       ]
      },
      {
       "output_type": "stream",
       "stream": "stdout",
       "text": [
        "[2015-01-25 08:20:09,428][2845 ][monk.network.partitioner][DEBUG   ][38  ][partitioner.py] : key monk\n"
       ]
      },
      {
       "output_type": "stream",
       "stream": "stdout",
       "text": [
        "[2015-01-25 08:20:09,454][2845 ][monk.network.producer][INFO    ][66  ][producer.py] : sending message ('{\"turtleName\": \"movielens-binary\", \"follower\": \"mluser395\", \"name\": \"monk\", \"op\": \"AddClone\"}',) at monkTestWorker@2\n"
       ]
      },
      {
       "output_type": "stream",
       "stream": "stdout",
       "text": [
        "[2015-01-25 08:20:09,472][2845 ][monk.network.partitioner][DEBUG   ][38  ][partitioner.py] : key monk\n"
       ]
      },
      {
       "output_type": "stream",
       "stream": "stdout",
       "text": [
        "[2015-01-25 08:20:09,498][2845 ][monk.network.producer][INFO    ][66  ][producer.py] : sending message ('{\"turtleName\": \"movielens-binary\", \"follower\": \"mluser396\", \"name\": \"monk\", \"op\": \"AddClone\"}',) at monkTestWorker@2\n"
       ]
      },
      {
       "output_type": "stream",
       "stream": "stdout",
       "text": [
        "[2015-01-25 08:20:09,517][2845 ][monk.network.partitioner][DEBUG   ][38  ][partitioner.py] : key monk\n"
       ]
      },
      {
       "output_type": "stream",
       "stream": "stdout",
       "text": [
        "[2015-01-25 08:20:09,549][2845 ][monk.network.producer][INFO    ][66  ][producer.py] : sending message ('{\"turtleName\": \"movielens-binary\", \"follower\": \"mluser397\", \"name\": \"monk\", \"op\": \"AddClone\"}',) at monkTestWorker@2\n"
       ]
      },
      {
       "output_type": "stream",
       "stream": "stdout",
       "text": [
        "[2015-01-25 08:20:09,567][2845 ][monk.network.partitioner][DEBUG   ][38  ][partitioner.py] : key monk\n"
       ]
      },
      {
       "output_type": "stream",
       "stream": "stdout",
       "text": [
        "[2015-01-25 08:20:09,593][2845 ][monk.network.producer][INFO    ][66  ][producer.py] : sending message ('{\"turtleName\": \"movielens-binary\", \"follower\": \"mluser398\", \"name\": \"monk\", \"op\": \"AddClone\"}',) at monkTestWorker@2\n"
       ]
      },
      {
       "output_type": "stream",
       "stream": "stdout",
       "text": [
        "[2015-01-25 08:20:09,610][2845 ][monk.network.partitioner][DEBUG   ][38  ][partitioner.py] : key monk\n"
       ]
      },
      {
       "output_type": "stream",
       "stream": "stdout",
       "text": [
        "[2015-01-25 08:20:09,641][2845 ][monk.network.producer][INFO    ][66  ][producer.py] : sending message ('{\"turtleName\": \"movielens-binary\", \"follower\": \"mluser399\", \"name\": \"monk\", \"op\": \"AddClone\"}',) at monkTestWorker@2\n"
       ]
      },
      {
       "output_type": "stream",
       "stream": "stdout",
       "text": [
        "[2015-01-25 08:20:09,657][2845 ][monk.network.partitioner][DEBUG   ][38  ][partitioner.py] : key monk\n"
       ]
      },
      {
       "output_type": "stream",
       "stream": "stdout",
       "text": [
        "[2015-01-25 08:20:09,683][2845 ][monk.network.producer][INFO    ][66  ][producer.py] : sending message ('{\"turtleName\": \"movielens-binary\", \"follower\": \"mluser400\", \"name\": \"monk\", \"op\": \"AddClone\"}',) at monkTestWorker@2\n"
       ]
      },
      {
       "output_type": "stream",
       "stream": "stdout",
       "text": [
        "[2015-01-25 08:20:09,701][2845 ][monk.network.partitioner][DEBUG   ][38  ][partitioner.py] : key monk\n"
       ]
      },
      {
       "output_type": "stream",
       "stream": "stdout",
       "text": [
        "[2015-01-25 08:20:09,727][2845 ][monk.network.producer][INFO    ][66  ][producer.py] : sending message ('{\"turtleName\": \"movielens-binary\", \"follower\": \"mluser401\", \"name\": \"monk\", \"op\": \"AddClone\"}',) at monkTestWorker@2\n"
       ]
      },
      {
       "output_type": "stream",
       "stream": "stdout",
       "text": [
        "[2015-01-25 08:20:09,745][2845 ][monk.network.partitioner][DEBUG   ][38  ][partitioner.py] : key monk\n"
       ]
      },
      {
       "output_type": "stream",
       "stream": "stdout",
       "text": [
        "[2015-01-25 08:20:09,771][2845 ][monk.network.producer][INFO    ][66  ][producer.py] : sending message ('{\"turtleName\": \"movielens-binary\", \"follower\": \"mluser402\", \"name\": \"monk\", \"op\": \"AddClone\"}',) at monkTestWorker@2\n"
       ]
      },
      {
       "output_type": "stream",
       "stream": "stdout",
       "text": [
        "[2015-01-25 08:20:09,788][2845 ][monk.network.partitioner][DEBUG   ][38  ][partitioner.py] : key monk\n"
       ]
      },
      {
       "output_type": "stream",
       "stream": "stdout",
       "text": [
        "[2015-01-25 08:20:09,818][2845 ][monk.network.producer][INFO    ][66  ][producer.py] : sending message ('{\"turtleName\": \"movielens-binary\", \"follower\": \"mluser403\", \"name\": \"monk\", \"op\": \"AddClone\"}',) at monkTestWorker@2\n"
       ]
      },
      {
       "output_type": "stream",
       "stream": "stdout",
       "text": [
        "[2015-01-25 08:20:09,836][2845 ][monk.network.partitioner][DEBUG   ][38  ][partitioner.py] : key monk\n"
       ]
      },
      {
       "output_type": "stream",
       "stream": "stdout",
       "text": [
        "[2015-01-25 08:20:09,861][2845 ][monk.network.producer][INFO    ][66  ][producer.py] : sending message ('{\"turtleName\": \"movielens-binary\", \"follower\": \"mluser404\", \"name\": \"monk\", \"op\": \"AddClone\"}',) at monkTestWorker@2\n"
       ]
      },
      {
       "output_type": "stream",
       "stream": "stdout",
       "text": [
        "[2015-01-25 08:20:09,878][2845 ][monk.network.partitioner][DEBUG   ][38  ][partitioner.py] : key monk\n"
       ]
      },
      {
       "output_type": "stream",
       "stream": "stdout",
       "text": [
        "[2015-01-25 08:20:09,911][2845 ][monk.network.producer][INFO    ][66  ][producer.py] : sending message ('{\"turtleName\": \"movielens-binary\", \"follower\": \"mluser405\", \"name\": \"monk\", \"op\": \"AddClone\"}',) at monkTestWorker@2\n"
       ]
      },
      {
       "output_type": "stream",
       "stream": "stdout",
       "text": [
        "[2015-01-25 08:20:09,929][2845 ][monk.network.partitioner][DEBUG   ][38  ][partitioner.py] : key monk\n"
       ]
      },
      {
       "output_type": "stream",
       "stream": "stdout",
       "text": [
        "[2015-01-25 08:20:09,972][2845 ][monk.network.producer][INFO    ][66  ][producer.py] : sending message ('{\"turtleName\": \"movielens-binary\", \"follower\": \"mluser406\", \"name\": \"monk\", \"op\": \"AddClone\"}',) at monkTestWorker@2\n"
       ]
      },
      {
       "output_type": "stream",
       "stream": "stdout",
       "text": [
        "[2015-01-25 08:20:09,988][2845 ][monk.network.partitioner][DEBUG   ][38  ][partitioner.py] : key monk\n"
       ]
      },
      {
       "output_type": "stream",
       "stream": "stdout",
       "text": [
        "[2015-01-25 08:20:10,014][2845 ][monk.network.producer][INFO    ][66  ][producer.py] : sending message ('{\"turtleName\": \"movielens-binary\", \"follower\": \"mluser407\", \"name\": \"monk\", \"op\": \"AddClone\"}',) at monkTestWorker@2\n"
       ]
      },
      {
       "output_type": "stream",
       "stream": "stdout",
       "text": [
        "[2015-01-25 08:20:10,031][2845 ][monk.network.partitioner][DEBUG   ][38  ][partitioner.py] : key monk\n"
       ]
      },
      {
       "output_type": "stream",
       "stream": "stdout",
       "text": [
        "[2015-01-25 08:20:10,060][2845 ][monk.network.producer][INFO    ][66  ][producer.py] : sending message ('{\"turtleName\": \"movielens-binary\", \"follower\": \"mluser408\", \"name\": \"monk\", \"op\": \"AddClone\"}',) at monkTestWorker@2\n"
       ]
      },
      {
       "output_type": "stream",
       "stream": "stdout",
       "text": [
        "[2015-01-25 08:20:10,077][2845 ][monk.network.partitioner][DEBUG   ][38  ][partitioner.py] : key monk\n"
       ]
      },
      {
       "output_type": "stream",
       "stream": "stdout",
       "text": [
        "[2015-01-25 08:20:10,102][2845 ][monk.network.producer][INFO    ][66  ][producer.py] : sending message ('{\"turtleName\": \"movielens-binary\", \"follower\": \"mluser409\", \"name\": \"monk\", \"op\": \"AddClone\"}',) at monkTestWorker@2\n"
       ]
      },
      {
       "output_type": "stream",
       "stream": "stdout",
       "text": [
        "[2015-01-25 08:20:10,118][2845 ][monk.network.partitioner][DEBUG   ][38  ][partitioner.py] : key monk\n"
       ]
      },
      {
       "output_type": "stream",
       "stream": "stdout",
       "text": [
        "[2015-01-25 08:20:10,148][2845 ][monk.network.producer][INFO    ][66  ][producer.py] : sending message ('{\"turtleName\": \"movielens-binary\", \"follower\": \"mluser410\", \"name\": \"monk\", \"op\": \"AddClone\"}',) at monkTestWorker@2\n"
       ]
      },
      {
       "output_type": "stream",
       "stream": "stdout",
       "text": [
        "[2015-01-25 08:20:10,164][2845 ][monk.network.partitioner][DEBUG   ][38  ][partitioner.py] : key monk\n"
       ]
      },
      {
       "output_type": "stream",
       "stream": "stdout",
       "text": [
        "[2015-01-25 08:20:10,195][2845 ][monk.network.producer][INFO    ][66  ][producer.py] : sending message ('{\"turtleName\": \"movielens-binary\", \"follower\": \"mluser411\", \"name\": \"monk\", \"op\": \"AddClone\"}',) at monkTestWorker@2\n"
       ]
      },
      {
       "output_type": "stream",
       "stream": "stdout",
       "text": [
        "[2015-01-25 08:20:10,212][2845 ][monk.network.partitioner][DEBUG   ][38  ][partitioner.py] : key monk\n"
       ]
      },
      {
       "output_type": "stream",
       "stream": "stdout",
       "text": [
        "[2015-01-25 08:20:10,242][2845 ][monk.network.producer][INFO    ][66  ][producer.py] : sending message ('{\"turtleName\": \"movielens-binary\", \"follower\": \"mluser412\", \"name\": \"monk\", \"op\": \"AddClone\"}',) at monkTestWorker@2\n"
       ]
      },
      {
       "output_type": "stream",
       "stream": "stdout",
       "text": [
        "[2015-01-25 08:20:10,258][2845 ][monk.network.partitioner][DEBUG   ][38  ][partitioner.py] : key monk\n"
       ]
      },
      {
       "output_type": "stream",
       "stream": "stdout",
       "text": [
        "[2015-01-25 08:20:10,283][2845 ][monk.network.producer][INFO    ][66  ][producer.py] : sending message ('{\"turtleName\": \"movielens-binary\", \"follower\": \"mluser413\", \"name\": \"monk\", \"op\": \"AddClone\"}',) at monkTestWorker@2\n"
       ]
      },
      {
       "output_type": "stream",
       "stream": "stdout",
       "text": [
        "[2015-01-25 08:20:10,300][2845 ][monk.network.partitioner][DEBUG   ][38  ][partitioner.py] : key monk\n"
       ]
      },
      {
       "output_type": "stream",
       "stream": "stdout",
       "text": [
        "[2015-01-25 08:20:10,327][2845 ][monk.network.producer][INFO    ][66  ][producer.py] : sending message ('{\"turtleName\": \"movielens-binary\", \"follower\": \"mluser414\", \"name\": \"monk\", \"op\": \"AddClone\"}',) at monkTestWorker@2\n"
       ]
      },
      {
       "output_type": "stream",
       "stream": "stdout",
       "text": [
        "[2015-01-25 08:20:10,344][2845 ][monk.network.partitioner][DEBUG   ][38  ][partitioner.py] : key monk\n"
       ]
      },
      {
       "output_type": "stream",
       "stream": "stdout",
       "text": [
        "[2015-01-25 08:20:10,369][2845 ][monk.network.producer][INFO    ][66  ][producer.py] : sending message ('{\"turtleName\": \"movielens-binary\", \"follower\": \"mluser415\", \"name\": \"monk\", \"op\": \"AddClone\"}',) at monkTestWorker@2\n"
       ]
      },
      {
       "output_type": "stream",
       "stream": "stdout",
       "text": [
        "[2015-01-25 08:20:10,385][2845 ][monk.network.partitioner][DEBUG   ][38  ][partitioner.py] : key monk\n"
       ]
      },
      {
       "output_type": "stream",
       "stream": "stdout",
       "text": [
        "[2015-01-25 08:20:10,412][2845 ][monk.network.producer][INFO    ][66  ][producer.py] : sending message ('{\"turtleName\": \"movielens-binary\", \"follower\": \"mluser416\", \"name\": \"monk\", \"op\": \"AddClone\"}',) at monkTestWorker@2\n"
       ]
      },
      {
       "output_type": "stream",
       "stream": "stdout",
       "text": [
        "[2015-01-25 08:20:10,436][2845 ][monk.network.partitioner][DEBUG   ][38  ][partitioner.py] : key monk\n"
       ]
      },
      {
       "output_type": "stream",
       "stream": "stdout",
       "text": [
        "[2015-01-25 08:20:10,471][2845 ][monk.network.producer][INFO    ][66  ][producer.py] : sending message ('{\"turtleName\": \"movielens-binary\", \"follower\": \"mluser417\", \"name\": \"monk\", \"op\": \"AddClone\"}',) at monkTestWorker@2\n"
       ]
      },
      {
       "output_type": "stream",
       "stream": "stdout",
       "text": [
        "[2015-01-25 08:20:10,494][2845 ][monk.network.partitioner][DEBUG   ][38  ][partitioner.py] : key monk\n"
       ]
      },
      {
       "output_type": "stream",
       "stream": "stdout",
       "text": [
        "[2015-01-25 08:20:10,520][2845 ][monk.network.producer][INFO    ][66  ][producer.py] : sending message ('{\"turtleName\": \"movielens-binary\", \"follower\": \"mluser418\", \"name\": \"monk\", \"op\": \"AddClone\"}',) at monkTestWorker@2\n"
       ]
      },
      {
       "output_type": "stream",
       "stream": "stdout",
       "text": [
        "[2015-01-25 08:20:10,537][2845 ][monk.network.partitioner][DEBUG   ][38  ][partitioner.py] : key monk\n"
       ]
      },
      {
       "output_type": "stream",
       "stream": "stdout",
       "text": [
        "[2015-01-25 08:20:10,564][2845 ][monk.network.producer][INFO    ][66  ][producer.py] : sending message ('{\"turtleName\": \"movielens-binary\", \"follower\": \"mluser419\", \"name\": \"monk\", \"op\": \"AddClone\"}',) at monkTestWorker@2\n"
       ]
      },
      {
       "output_type": "stream",
       "stream": "stdout",
       "text": [
        "[2015-01-25 08:20:10,581][2845 ][monk.network.partitioner][DEBUG   ][38  ][partitioner.py] : key monk\n"
       ]
      },
      {
       "output_type": "stream",
       "stream": "stdout",
       "text": [
        "[2015-01-25 08:20:10,606][2845 ][monk.network.producer][INFO    ][66  ][producer.py] : sending message ('{\"turtleName\": \"movielens-binary\", \"follower\": \"mluser420\", \"name\": \"monk\", \"op\": \"AddClone\"}',) at monkTestWorker@2\n"
       ]
      },
      {
       "output_type": "stream",
       "stream": "stdout",
       "text": [
        "[2015-01-25 08:20:10,623][2845 ][monk.network.partitioner][DEBUG   ][38  ][partitioner.py] : key monk\n"
       ]
      },
      {
       "output_type": "stream",
       "stream": "stdout",
       "text": [
        "[2015-01-25 08:20:10,648][2845 ][monk.network.producer][INFO    ][66  ][producer.py] : sending message ('{\"turtleName\": \"movielens-binary\", \"follower\": \"mluser421\", \"name\": \"monk\", \"op\": \"AddClone\"}',) at monkTestWorker@2\n"
       ]
      },
      {
       "output_type": "stream",
       "stream": "stdout",
       "text": [
        "[2015-01-25 08:20:10,666][2845 ][monk.network.partitioner][DEBUG   ][38  ][partitioner.py] : key monk\n"
       ]
      },
      {
       "output_type": "stream",
       "stream": "stdout",
       "text": [
        "[2015-01-25 08:20:10,692][2845 ][monk.network.producer][INFO    ][66  ][producer.py] : sending message ('{\"turtleName\": \"movielens-binary\", \"follower\": \"mluser422\", \"name\": \"monk\", \"op\": \"AddClone\"}',) at monkTestWorker@2\n"
       ]
      },
      {
       "output_type": "stream",
       "stream": "stdout",
       "text": [
        "[2015-01-25 08:20:10,710][2845 ][monk.network.partitioner][DEBUG   ][38  ][partitioner.py] : key monk\n"
       ]
      },
      {
       "output_type": "stream",
       "stream": "stdout",
       "text": [
        "[2015-01-25 08:20:10,758][2845 ][monk.network.producer][INFO    ][66  ][producer.py] : sending message ('{\"turtleName\": \"movielens-binary\", \"follower\": \"mluser423\", \"name\": \"monk\", \"op\": \"AddClone\"}',) at monkTestWorker@2\n"
       ]
      },
      {
       "output_type": "stream",
       "stream": "stdout",
       "text": [
        "[2015-01-25 08:20:10,775][2845 ][monk.network.partitioner][DEBUG   ][38  ][partitioner.py] : key monk\n"
       ]
      },
      {
       "output_type": "stream",
       "stream": "stdout",
       "text": [
        "[2015-01-25 08:20:10,800][2845 ][monk.network.producer][INFO    ][66  ][producer.py] : sending message ('{\"turtleName\": \"movielens-binary\", \"follower\": \"mluser424\", \"name\": \"monk\", \"op\": \"AddClone\"}',) at monkTestWorker@2\n"
       ]
      },
      {
       "output_type": "stream",
       "stream": "stdout",
       "text": [
        "[2015-01-25 08:20:10,817][2845 ][monk.network.partitioner][DEBUG   ][38  ][partitioner.py] : key monk\n"
       ]
      },
      {
       "output_type": "stream",
       "stream": "stdout",
       "text": [
        "[2015-01-25 08:20:10,844][2845 ][monk.network.producer][INFO    ][66  ][producer.py] : sending message ('{\"turtleName\": \"movielens-binary\", \"follower\": \"mluser425\", \"name\": \"monk\", \"op\": \"AddClone\"}',) at monkTestWorker@2\n"
       ]
      },
      {
       "output_type": "stream",
       "stream": "stdout",
       "text": [
        "[2015-01-25 08:20:10,861][2845 ][monk.network.partitioner][DEBUG   ][38  ][partitioner.py] : key monk\n"
       ]
      },
      {
       "output_type": "stream",
       "stream": "stdout",
       "text": [
        "[2015-01-25 08:20:10,889][2845 ][monk.network.producer][INFO    ][66  ][producer.py] : sending message ('{\"turtleName\": \"movielens-binary\", \"follower\": \"mluser426\", \"name\": \"monk\", \"op\": \"AddClone\"}',) at monkTestWorker@2\n"
       ]
      },
      {
       "output_type": "stream",
       "stream": "stdout",
       "text": [
        "[2015-01-25 08:20:10,905][2845 ][monk.network.partitioner][DEBUG   ][38  ][partitioner.py] : key monk\n"
       ]
      },
      {
       "output_type": "stream",
       "stream": "stdout",
       "text": [
        "[2015-01-25 08:20:10,930][2845 ][monk.network.producer][INFO    ][66  ][producer.py] : sending message ('{\"turtleName\": \"movielens-binary\", \"follower\": \"mluser427\", \"name\": \"monk\", \"op\": \"AddClone\"}',) at monkTestWorker@2\n"
       ]
      },
      {
       "output_type": "stream",
       "stream": "stdout",
       "text": [
        "[2015-01-25 08:20:10,947][2845 ][monk.network.partitioner][DEBUG   ][38  ][partitioner.py] : key monk\n"
       ]
      },
      {
       "output_type": "stream",
       "stream": "stdout",
       "text": [
        "[2015-01-25 08:20:10,976][2845 ][monk.network.producer][INFO    ][66  ][producer.py] : sending message ('{\"turtleName\": \"movielens-binary\", \"follower\": \"mluser428\", \"name\": \"monk\", \"op\": \"AddClone\"}',) at monkTestWorker@2\n"
       ]
      },
      {
       "output_type": "stream",
       "stream": "stdout",
       "text": [
        "[2015-01-25 08:20:10,993][2845 ][monk.network.partitioner][DEBUG   ][38  ][partitioner.py] : key monk\n"
       ]
      },
      {
       "output_type": "stream",
       "stream": "stdout",
       "text": [
        "[2015-01-25 08:20:11,024][2845 ][monk.network.producer][INFO    ][66  ][producer.py] : sending message ('{\"turtleName\": \"movielens-binary\", \"follower\": \"mluser429\", \"name\": \"monk\", \"op\": \"AddClone\"}',) at monkTestWorker@2\n"
       ]
      },
      {
       "output_type": "stream",
       "stream": "stdout",
       "text": [
        "[2015-01-25 08:20:11,041][2845 ][monk.network.partitioner][DEBUG   ][38  ][partitioner.py] : key monk\n"
       ]
      },
      {
       "output_type": "stream",
       "stream": "stdout",
       "text": [
        "[2015-01-25 08:20:11,068][2845 ][monk.network.producer][INFO    ][66  ][producer.py] : sending message ('{\"turtleName\": \"movielens-binary\", \"follower\": \"mluser430\", \"name\": \"monk\", \"op\": \"AddClone\"}',) at monkTestWorker@2\n"
       ]
      },
      {
       "output_type": "stream",
       "stream": "stdout",
       "text": [
        "[2015-01-25 08:20:11,085][2845 ][monk.network.partitioner][DEBUG   ][38  ][partitioner.py] : key monk\n"
       ]
      },
      {
       "output_type": "stream",
       "stream": "stdout",
       "text": [
        "[2015-01-25 08:20:11,114][2845 ][monk.network.producer][INFO    ][66  ][producer.py] : sending message ('{\"turtleName\": \"movielens-binary\", \"follower\": \"mluser431\", \"name\": \"monk\", \"op\": \"AddClone\"}',) at monkTestWorker@2\n"
       ]
      },
      {
       "output_type": "stream",
       "stream": "stdout",
       "text": [
        "[2015-01-25 08:20:11,130][2845 ][monk.network.partitioner][DEBUG   ][38  ][partitioner.py] : key monk\n"
       ]
      },
      {
       "output_type": "stream",
       "stream": "stdout",
       "text": [
        "[2015-01-25 08:20:11,156][2845 ][monk.network.producer][INFO    ][66  ][producer.py] : sending message ('{\"turtleName\": \"movielens-binary\", \"follower\": \"mluser432\", \"name\": \"monk\", \"op\": \"AddClone\"}',) at monkTestWorker@2\n"
       ]
      },
      {
       "output_type": "stream",
       "stream": "stdout",
       "text": [
        "[2015-01-25 08:20:11,172][2845 ][monk.network.partitioner][DEBUG   ][38  ][partitioner.py] : key monk\n"
       ]
      },
      {
       "output_type": "stream",
       "stream": "stdout",
       "text": [
        "[2015-01-25 08:20:11,201][2845 ][monk.network.producer][INFO    ][66  ][producer.py] : sending message ('{\"turtleName\": \"movielens-binary\", \"follower\": \"mluser433\", \"name\": \"monk\", \"op\": \"AddClone\"}',) at monkTestWorker@2\n"
       ]
      },
      {
       "output_type": "stream",
       "stream": "stdout",
       "text": [
        "[2015-01-25 08:20:11,217][2845 ][monk.network.partitioner][DEBUG   ][38  ][partitioner.py] : key monk\n"
       ]
      },
      {
       "output_type": "stream",
       "stream": "stdout",
       "text": [
        "[2015-01-25 08:20:11,242][2845 ][monk.network.producer][INFO    ][66  ][producer.py] : sending message ('{\"turtleName\": \"movielens-binary\", \"follower\": \"mluser434\", \"name\": \"monk\", \"op\": \"AddClone\"}',) at monkTestWorker@2\n"
       ]
      },
      {
       "output_type": "stream",
       "stream": "stdout",
       "text": [
        "[2015-01-25 08:20:11,260][2845 ][monk.network.partitioner][DEBUG   ][38  ][partitioner.py] : key monk\n"
       ]
      },
      {
       "output_type": "stream",
       "stream": "stdout",
       "text": [
        "[2015-01-25 08:20:11,289][2845 ][monk.network.producer][INFO    ][66  ][producer.py] : sending message ('{\"turtleName\": \"movielens-binary\", \"follower\": \"mluser435\", \"name\": \"monk\", \"op\": \"AddClone\"}',) at monkTestWorker@2\n"
       ]
      },
      {
       "output_type": "stream",
       "stream": "stdout",
       "text": [
        "[2015-01-25 08:20:11,306][2845 ][monk.network.partitioner][DEBUG   ][38  ][partitioner.py] : key monk\n"
       ]
      },
      {
       "output_type": "stream",
       "stream": "stdout",
       "text": [
        "[2015-01-25 08:20:11,333][2845 ][monk.network.producer][INFO    ][66  ][producer.py] : sending message ('{\"turtleName\": \"movielens-binary\", \"follower\": \"mluser436\", \"name\": \"monk\", \"op\": \"AddClone\"}',) at monkTestWorker@2\n"
       ]
      },
      {
       "output_type": "stream",
       "stream": "stdout",
       "text": [
        "[2015-01-25 08:20:11,349][2845 ][monk.network.partitioner][DEBUG   ][38  ][partitioner.py] : key monk\n"
       ]
      },
      {
       "output_type": "stream",
       "stream": "stdout",
       "text": [
        "[2015-01-25 08:20:11,379][2845 ][monk.network.producer][INFO    ][66  ][producer.py] : sending message ('{\"turtleName\": \"movielens-binary\", \"follower\": \"mluser437\", \"name\": \"monk\", \"op\": \"AddClone\"}',) at monkTestWorker@2\n"
       ]
      },
      {
       "output_type": "stream",
       "stream": "stdout",
       "text": [
        "[2015-01-25 08:20:11,396][2845 ][monk.network.partitioner][DEBUG   ][38  ][partitioner.py] : key monk\n"
       ]
      },
      {
       "output_type": "stream",
       "stream": "stdout",
       "text": [
        "[2015-01-25 08:20:11,422][2845 ][monk.network.producer][INFO    ][66  ][producer.py] : sending message ('{\"turtleName\": \"movielens-binary\", \"follower\": \"mluser438\", \"name\": \"monk\", \"op\": \"AddClone\"}',) at monkTestWorker@2\n"
       ]
      },
      {
       "output_type": "stream",
       "stream": "stdout",
       "text": [
        "[2015-01-25 08:20:11,441][2845 ][monk.network.partitioner][DEBUG   ][38  ][partitioner.py] : key monk\n"
       ]
      },
      {
       "output_type": "stream",
       "stream": "stdout",
       "text": [
        "[2015-01-25 08:20:11,469][2845 ][monk.network.producer][INFO    ][66  ][producer.py] : sending message ('{\"turtleName\": \"movielens-binary\", \"follower\": \"mluser439\", \"name\": \"monk\", \"op\": \"AddClone\"}',) at monkTestWorker@2\n"
       ]
      },
      {
       "output_type": "stream",
       "stream": "stdout",
       "text": [
        "[2015-01-25 08:20:11,488][2845 ][monk.network.partitioner][DEBUG   ][38  ][partitioner.py] : key monk\n"
       ]
      },
      {
       "output_type": "stream",
       "stream": "stdout",
       "text": [
        "[2015-01-25 08:20:11,516][2845 ][monk.network.producer][INFO    ][66  ][producer.py] : sending message ('{\"turtleName\": \"movielens-binary\", \"follower\": \"mluser440\", \"name\": \"monk\", \"op\": \"AddClone\"}',) at monkTestWorker@2\n"
       ]
      },
      {
       "output_type": "stream",
       "stream": "stdout",
       "text": [
        "[2015-01-25 08:20:11,534][2845 ][monk.network.partitioner][DEBUG   ][38  ][partitioner.py] : key monk\n"
       ]
      },
      {
       "output_type": "stream",
       "stream": "stdout",
       "text": [
        "[2015-01-25 08:20:11,563][2845 ][monk.network.producer][INFO    ][66  ][producer.py] : sending message ('{\"turtleName\": \"movielens-binary\", \"follower\": \"mluser441\", \"name\": \"monk\", \"op\": \"AddClone\"}',) at monkTestWorker@2\n"
       ]
      },
      {
       "output_type": "stream",
       "stream": "stdout",
       "text": [
        "[2015-01-25 08:20:11,580][2845 ][monk.network.partitioner][DEBUG   ][38  ][partitioner.py] : key monk\n"
       ]
      },
      {
       "output_type": "stream",
       "stream": "stdout",
       "text": [
        "[2015-01-25 08:20:11,611][2845 ][monk.network.producer][INFO    ][66  ][producer.py] : sending message ('{\"turtleName\": \"movielens-binary\", \"follower\": \"mluser442\", \"name\": \"monk\", \"op\": \"AddClone\"}',) at monkTestWorker@2\n"
       ]
      },
      {
       "output_type": "stream",
       "stream": "stdout",
       "text": [
        "[2015-01-25 08:20:11,629][2845 ][monk.network.partitioner][DEBUG   ][38  ][partitioner.py] : key monk\n"
       ]
      },
      {
       "output_type": "stream",
       "stream": "stdout",
       "text": [
        "[2015-01-25 08:20:11,655][2845 ][monk.network.producer][INFO    ][66  ][producer.py] : sending message ('{\"turtleName\": \"movielens-binary\", \"follower\": \"mluser443\", \"name\": \"monk\", \"op\": \"AddClone\"}',) at monkTestWorker@2\n"
       ]
      },
      {
       "output_type": "stream",
       "stream": "stdout",
       "text": [
        "[2015-01-25 08:20:11,673][2845 ][monk.network.partitioner][DEBUG   ][38  ][partitioner.py] : key monk\n"
       ]
      },
      {
       "output_type": "stream",
       "stream": "stdout",
       "text": [
        "[2015-01-25 08:20:11,700][2845 ][monk.network.producer][INFO    ][66  ][producer.py] : sending message ('{\"turtleName\": \"movielens-binary\", \"follower\": \"mluser444\", \"name\": \"monk\", \"op\": \"AddClone\"}',) at monkTestWorker@2\n"
       ]
      },
      {
       "output_type": "stream",
       "stream": "stdout",
       "text": [
        "[2015-01-25 08:20:11,718][2845 ][monk.network.partitioner][DEBUG   ][38  ][partitioner.py] : key monk\n"
       ]
      },
      {
       "output_type": "stream",
       "stream": "stdout",
       "text": [
        "[2015-01-25 08:20:11,749][2845 ][monk.network.producer][INFO    ][66  ][producer.py] : sending message ('{\"turtleName\": \"movielens-binary\", \"follower\": \"mluser445\", \"name\": \"monk\", \"op\": \"AddClone\"}',) at monkTestWorker@2\n"
       ]
      },
      {
       "output_type": "stream",
       "stream": "stdout",
       "text": [
        "[2015-01-25 08:20:11,766][2845 ][monk.network.partitioner][DEBUG   ][38  ][partitioner.py] : key monk\n"
       ]
      },
      {
       "output_type": "stream",
       "stream": "stdout",
       "text": [
        "[2015-01-25 08:20:11,792][2845 ][monk.network.producer][INFO    ][66  ][producer.py] : sending message ('{\"turtleName\": \"movielens-binary\", \"follower\": \"mluser446\", \"name\": \"monk\", \"op\": \"AddClone\"}',) at monkTestWorker@2\n"
       ]
      },
      {
       "output_type": "stream",
       "stream": "stdout",
       "text": [
        "[2015-01-25 08:20:11,809][2845 ][monk.network.partitioner][DEBUG   ][38  ][partitioner.py] : key monk\n"
       ]
      },
      {
       "output_type": "stream",
       "stream": "stdout",
       "text": [
        "[2015-01-25 08:20:11,835][2845 ][monk.network.producer][INFO    ][66  ][producer.py] : sending message ('{\"turtleName\": \"movielens-binary\", \"follower\": \"mluser447\", \"name\": \"monk\", \"op\": \"AddClone\"}',) at monkTestWorker@2\n"
       ]
      },
      {
       "output_type": "stream",
       "stream": "stdout",
       "text": [
        "[2015-01-25 08:20:11,855][2845 ][monk.network.partitioner][DEBUG   ][38  ][partitioner.py] : key monk\n"
       ]
      },
      {
       "output_type": "stream",
       "stream": "stdout",
       "text": [
        "[2015-01-25 08:20:11,880][2845 ][monk.network.producer][INFO    ][66  ][producer.py] : sending message ('{\"turtleName\": \"movielens-binary\", \"follower\": \"mluser448\", \"name\": \"monk\", \"op\": \"AddClone\"}',) at monkTestWorker@2\n"
       ]
      },
      {
       "output_type": "stream",
       "stream": "stdout",
       "text": [
        "[2015-01-25 08:20:11,898][2845 ][monk.network.partitioner][DEBUG   ][38  ][partitioner.py] : key monk\n"
       ]
      },
      {
       "output_type": "stream",
       "stream": "stdout",
       "text": [
        "[2015-01-25 08:20:11,929][2845 ][monk.network.producer][INFO    ][66  ][producer.py] : sending message ('{\"turtleName\": \"movielens-binary\", \"follower\": \"mluser449\", \"name\": \"monk\", \"op\": \"AddClone\"}',) at monkTestWorker@2\n"
       ]
      },
      {
       "output_type": "stream",
       "stream": "stdout",
       "text": [
        "[2015-01-25 08:20:11,946][2845 ][monk.network.partitioner][DEBUG   ][38  ][partitioner.py] : key monk\n"
       ]
      },
      {
       "output_type": "stream",
       "stream": "stdout",
       "text": [
        "[2015-01-25 08:20:11,976][2845 ][monk.network.producer][INFO    ][66  ][producer.py] : sending message ('{\"turtleName\": \"movielens-binary\", \"follower\": \"mluser450\", \"name\": \"monk\", \"op\": \"AddClone\"}',) at monkTestWorker@2\n"
       ]
      },
      {
       "output_type": "stream",
       "stream": "stdout",
       "text": [
        "[2015-01-25 08:20:11,993][2845 ][monk.network.partitioner][DEBUG   ][38  ][partitioner.py] : key monk\n"
       ]
      },
      {
       "output_type": "stream",
       "stream": "stdout",
       "text": [
        "[2015-01-25 08:20:12,019][2845 ][monk.network.producer][INFO    ][66  ][producer.py] : sending message ('{\"turtleName\": \"movielens-binary\", \"follower\": \"mluser451\", \"name\": \"monk\", \"op\": \"AddClone\"}',) at monkTestWorker@2\n"
       ]
      },
      {
       "output_type": "stream",
       "stream": "stdout",
       "text": [
        "[2015-01-25 08:20:12,035][2845 ][monk.network.partitioner][DEBUG   ][38  ][partitioner.py] : key monk\n"
       ]
      },
      {
       "output_type": "stream",
       "stream": "stdout",
       "text": [
        "[2015-01-25 08:20:12,065][2845 ][monk.network.producer][INFO    ][66  ][producer.py] : sending message ('{\"turtleName\": \"movielens-binary\", \"follower\": \"mluser452\", \"name\": \"monk\", \"op\": \"AddClone\"}',) at monkTestWorker@2\n"
       ]
      },
      {
       "output_type": "stream",
       "stream": "stdout",
       "text": [
        "[2015-01-25 08:20:12,085][2845 ][monk.network.partitioner][DEBUG   ][38  ][partitioner.py] : key monk\n"
       ]
      },
      {
       "output_type": "stream",
       "stream": "stdout",
       "text": [
        "[2015-01-25 08:20:12,111][2845 ][monk.network.producer][INFO    ][66  ][producer.py] : sending message ('{\"turtleName\": \"movielens-binary\", \"follower\": \"mluser453\", \"name\": \"monk\", \"op\": \"AddClone\"}',) at monkTestWorker@2\n"
       ]
      },
      {
       "output_type": "stream",
       "stream": "stdout",
       "text": [
        "[2015-01-25 08:20:12,128][2845 ][monk.network.partitioner][DEBUG   ][38  ][partitioner.py] : key monk\n"
       ]
      },
      {
       "output_type": "stream",
       "stream": "stdout",
       "text": [
        "[2015-01-25 08:20:12,158][2845 ][monk.network.producer][INFO    ][66  ][producer.py] : sending message ('{\"turtleName\": \"movielens-binary\", \"follower\": \"mluser454\", \"name\": \"monk\", \"op\": \"AddClone\"}',) at monkTestWorker@2\n"
       ]
      },
      {
       "output_type": "stream",
       "stream": "stdout",
       "text": [
        "[2015-01-25 08:20:12,175][2845 ][monk.network.partitioner][DEBUG   ][38  ][partitioner.py] : key monk\n"
       ]
      },
      {
       "output_type": "stream",
       "stream": "stdout",
       "text": [
        "[2015-01-25 08:20:12,200][2845 ][monk.network.producer][INFO    ][66  ][producer.py] : sending message ('{\"turtleName\": \"movielens-binary\", \"follower\": \"mluser455\", \"name\": \"monk\", \"op\": \"AddClone\"}',) at monkTestWorker@2\n"
       ]
      },
      {
       "output_type": "stream",
       "stream": "stdout",
       "text": [
        "[2015-01-25 08:20:12,217][2845 ][monk.network.partitioner][DEBUG   ][38  ][partitioner.py] : key monk\n"
       ]
      },
      {
       "output_type": "stream",
       "stream": "stdout",
       "text": [
        "[2015-01-25 08:20:12,249][2845 ][monk.network.producer][INFO    ][66  ][producer.py] : sending message ('{\"turtleName\": \"movielens-binary\", \"follower\": \"mluser456\", \"name\": \"monk\", \"op\": \"AddClone\"}',) at monkTestWorker@2\n"
       ]
      },
      {
       "output_type": "stream",
       "stream": "stdout",
       "text": [
        "[2015-01-25 08:20:12,267][2845 ][monk.network.partitioner][DEBUG   ][38  ][partitioner.py] : key monk\n"
       ]
      },
      {
       "output_type": "stream",
       "stream": "stdout",
       "text": [
        "[2015-01-25 08:20:12,296][2845 ][monk.network.producer][INFO    ][66  ][producer.py] : sending message ('{\"turtleName\": \"movielens-binary\", \"follower\": \"mluser457\", \"name\": \"monk\", \"op\": \"AddClone\"}',) at monkTestWorker@2\n"
       ]
      },
      {
       "output_type": "stream",
       "stream": "stdout",
       "text": [
        "[2015-01-25 08:20:12,314][2845 ][monk.network.partitioner][DEBUG   ][38  ][partitioner.py] : key monk\n"
       ]
      },
      {
       "output_type": "stream",
       "stream": "stdout",
       "text": [
        "[2015-01-25 08:20:12,339][2845 ][monk.network.producer][INFO    ][66  ][producer.py] : sending message ('{\"turtleName\": \"movielens-binary\", \"follower\": \"mluser458\", \"name\": \"monk\", \"op\": \"AddClone\"}',) at monkTestWorker@2\n"
       ]
      },
      {
       "output_type": "stream",
       "stream": "stdout",
       "text": [
        "[2015-01-25 08:20:12,356][2845 ][monk.network.partitioner][DEBUG   ][38  ][partitioner.py] : key monk\n"
       ]
      },
      {
       "output_type": "stream",
       "stream": "stdout",
       "text": [
        "[2015-01-25 08:20:12,388][2845 ][monk.network.producer][INFO    ][66  ][producer.py] : sending message ('{\"turtleName\": \"movielens-binary\", \"follower\": \"mluser459\", \"name\": \"monk\", \"op\": \"AddClone\"}',) at monkTestWorker@2\n"
       ]
      },
      {
       "output_type": "stream",
       "stream": "stdout",
       "text": [
        "[2015-01-25 08:20:12,405][2845 ][monk.network.partitioner][DEBUG   ][38  ][partitioner.py] : key monk\n"
       ]
      },
      {
       "output_type": "stream",
       "stream": "stdout",
       "text": [
        "[2015-01-25 08:20:12,438][2845 ][monk.network.producer][INFO    ][66  ][producer.py] : sending message ('{\"turtleName\": \"movielens-binary\", \"follower\": \"mluser460\", \"name\": \"monk\", \"op\": \"AddClone\"}',) at monkTestWorker@2\n"
       ]
      },
      {
       "output_type": "stream",
       "stream": "stdout",
       "text": [
        "[2015-01-25 08:20:12,455][2845 ][monk.network.partitioner][DEBUG   ][38  ][partitioner.py] : key monk\n"
       ]
      },
      {
       "output_type": "stream",
       "stream": "stdout",
       "text": [
        "[2015-01-25 08:20:12,484][2845 ][monk.network.producer][INFO    ][66  ][producer.py] : sending message ('{\"turtleName\": \"movielens-binary\", \"follower\": \"mluser461\", \"name\": \"monk\", \"op\": \"AddClone\"}',) at monkTestWorker@2\n"
       ]
      },
      {
       "output_type": "stream",
       "stream": "stdout",
       "text": [
        "[2015-01-25 08:20:12,501][2845 ][monk.network.partitioner][DEBUG   ][38  ][partitioner.py] : key monk\n"
       ]
      },
      {
       "output_type": "stream",
       "stream": "stdout",
       "text": [
        "[2015-01-25 08:20:12,528][2845 ][monk.network.producer][INFO    ][66  ][producer.py] : sending message ('{\"turtleName\": \"movielens-binary\", \"follower\": \"mluser462\", \"name\": \"monk\", \"op\": \"AddClone\"}',) at monkTestWorker@2\n"
       ]
      },
      {
       "output_type": "stream",
       "stream": "stdout",
       "text": [
        "[2015-01-25 08:20:12,545][2845 ][monk.network.partitioner][DEBUG   ][38  ][partitioner.py] : key monk\n"
       ]
      },
      {
       "output_type": "stream",
       "stream": "stdout",
       "text": [
        "[2015-01-25 08:20:12,571][2845 ][monk.network.producer][INFO    ][66  ][producer.py] : sending message ('{\"turtleName\": \"movielens-binary\", \"follower\": \"mluser463\", \"name\": \"monk\", \"op\": \"AddClone\"}',) at monkTestWorker@2\n"
       ]
      },
      {
       "output_type": "stream",
       "stream": "stdout",
       "text": [
        "[2015-01-25 08:20:12,588][2845 ][monk.network.partitioner][DEBUG   ][38  ][partitioner.py] : key monk\n"
       ]
      },
      {
       "output_type": "stream",
       "stream": "stdout",
       "text": [
        "[2015-01-25 08:20:12,616][2845 ][monk.network.producer][INFO    ][66  ][producer.py] : sending message ('{\"turtleName\": \"movielens-binary\", \"follower\": \"mluser464\", \"name\": \"monk\", \"op\": \"AddClone\"}',) at monkTestWorker@2\n"
       ]
      },
      {
       "output_type": "stream",
       "stream": "stdout",
       "text": [
        "[2015-01-25 08:20:12,634][2845 ][monk.network.partitioner][DEBUG   ][38  ][partitioner.py] : key monk\n"
       ]
      },
      {
       "output_type": "stream",
       "stream": "stdout",
       "text": [
        "[2015-01-25 08:20:12,660][2845 ][monk.network.producer][INFO    ][66  ][producer.py] : sending message ('{\"turtleName\": \"movielens-binary\", \"follower\": \"mluser465\", \"name\": \"monk\", \"op\": \"AddClone\"}',) at monkTestWorker@2\n"
       ]
      },
      {
       "output_type": "stream",
       "stream": "stdout",
       "text": [
        "[2015-01-25 08:20:12,676][2845 ][monk.network.partitioner][DEBUG   ][38  ][partitioner.py] : key monk\n"
       ]
      },
      {
       "output_type": "stream",
       "stream": "stdout",
       "text": [
        "[2015-01-25 08:20:12,705][2845 ][monk.network.producer][INFO    ][66  ][producer.py] : sending message ('{\"turtleName\": \"movielens-binary\", \"follower\": \"mluser466\", \"name\": \"monk\", \"op\": \"AddClone\"}',) at monkTestWorker@2\n"
       ]
      },
      {
       "output_type": "stream",
       "stream": "stdout",
       "text": [
        "[2015-01-25 08:20:12,722][2845 ][monk.network.partitioner][DEBUG   ][38  ][partitioner.py] : key monk\n"
       ]
      },
      {
       "output_type": "stream",
       "stream": "stdout",
       "text": [
        "[2015-01-25 08:20:12,748][2845 ][monk.network.producer][INFO    ][66  ][producer.py] : sending message ('{\"turtleName\": \"movielens-binary\", \"follower\": \"mluser467\", \"name\": \"monk\", \"op\": \"AddClone\"}',) at monkTestWorker@2\n"
       ]
      },
      {
       "output_type": "stream",
       "stream": "stdout",
       "text": [
        "[2015-01-25 08:20:12,765][2845 ][monk.network.partitioner][DEBUG   ][38  ][partitioner.py] : key monk\n"
       ]
      },
      {
       "output_type": "stream",
       "stream": "stdout",
       "text": [
        "[2015-01-25 08:20:12,793][2845 ][monk.network.producer][INFO    ][66  ][producer.py] : sending message ('{\"turtleName\": \"movielens-binary\", \"follower\": \"mluser468\", \"name\": \"monk\", \"op\": \"AddClone\"}',) at monkTestWorker@2\n"
       ]
      },
      {
       "output_type": "stream",
       "stream": "stdout",
       "text": [
        "[2015-01-25 08:20:12,810][2845 ][monk.network.partitioner][DEBUG   ][38  ][partitioner.py] : key monk\n"
       ]
      },
      {
       "output_type": "stream",
       "stream": "stdout",
       "text": [
        "[2015-01-25 08:20:12,836][2845 ][monk.network.producer][INFO    ][66  ][producer.py] : sending message ('{\"turtleName\": \"movielens-binary\", \"follower\": \"mluser469\", \"name\": \"monk\", \"op\": \"AddClone\"}',) at monkTestWorker@2\n"
       ]
      },
      {
       "output_type": "stream",
       "stream": "stdout",
       "text": [
        "[2015-01-25 08:20:12,852][2845 ][monk.network.partitioner][DEBUG   ][38  ][partitioner.py] : key monk\n"
       ]
      },
      {
       "output_type": "stream",
       "stream": "stdout",
       "text": [
        "[2015-01-25 08:20:12,885][2845 ][monk.network.producer][INFO    ][66  ][producer.py] : sending message ('{\"turtleName\": \"movielens-binary\", \"follower\": \"mluser470\", \"name\": \"monk\", \"op\": \"AddClone\"}',) at monkTestWorker@2\n"
       ]
      },
      {
       "output_type": "stream",
       "stream": "stdout",
       "text": [
        "[2015-01-25 08:20:12,901][2845 ][monk.network.partitioner][DEBUG   ][38  ][partitioner.py] : key monk\n"
       ]
      },
      {
       "output_type": "stream",
       "stream": "stdout",
       "text": [
        "[2015-01-25 08:20:12,935][2845 ][monk.network.producer][INFO    ][66  ][producer.py] : sending message ('{\"turtleName\": \"movielens-binary\", \"follower\": \"mluser471\", \"name\": \"monk\", \"op\": \"AddClone\"}',) at monkTestWorker@2\n"
       ]
      },
      {
       "output_type": "stream",
       "stream": "stdout",
       "text": [
        "[2015-01-25 08:20:12,952][2845 ][monk.network.partitioner][DEBUG   ][38  ][partitioner.py] : key monk\n"
       ]
      },
      {
       "output_type": "stream",
       "stream": "stdout",
       "text": [
        "[2015-01-25 08:20:12,982][2845 ][monk.network.producer][INFO    ][66  ][producer.py] : sending message ('{\"turtleName\": \"movielens-binary\", \"follower\": \"mluser472\", \"name\": \"monk\", \"op\": \"AddClone\"}',) at monkTestWorker@2\n"
       ]
      },
      {
       "output_type": "stream",
       "stream": "stdout",
       "text": [
        "[2015-01-25 08:20:12,998][2845 ][monk.network.partitioner][DEBUG   ][38  ][partitioner.py] : key monk\n"
       ]
      },
      {
       "output_type": "stream",
       "stream": "stdout",
       "text": [
        "[2015-01-25 08:20:13,024][2845 ][monk.network.producer][INFO    ][66  ][producer.py] : sending message ('{\"turtleName\": \"movielens-binary\", \"follower\": \"mluser473\", \"name\": \"monk\", \"op\": \"AddClone\"}',) at monkTestWorker@2\n"
       ]
      },
      {
       "output_type": "stream",
       "stream": "stdout",
       "text": [
        "[2015-01-25 08:20:13,040][2845 ][monk.network.partitioner][DEBUG   ][38  ][partitioner.py] : key monk\n"
       ]
      },
      {
       "output_type": "stream",
       "stream": "stdout",
       "text": [
        "[2015-01-25 08:20:13,066][2845 ][monk.network.producer][INFO    ][66  ][producer.py] : sending message ('{\"turtleName\": \"movielens-binary\", \"follower\": \"mluser474\", \"name\": \"monk\", \"op\": \"AddClone\"}',) at monkTestWorker@2\n"
       ]
      },
      {
       "output_type": "stream",
       "stream": "stdout",
       "text": [
        "[2015-01-25 08:20:13,082][2845 ][monk.network.partitioner][DEBUG   ][38  ][partitioner.py] : key monk\n"
       ]
      },
      {
       "output_type": "stream",
       "stream": "stdout",
       "text": [
        "[2015-01-25 08:20:13,112][2845 ][monk.network.producer][INFO    ][66  ][producer.py] : sending message ('{\"turtleName\": \"movielens-binary\", \"follower\": \"mluser475\", \"name\": \"monk\", \"op\": \"AddClone\"}',) at monkTestWorker@2\n"
       ]
      },
      {
       "output_type": "stream",
       "stream": "stdout",
       "text": [
        "[2015-01-25 08:20:13,128][2845 ][monk.network.partitioner][DEBUG   ][38  ][partitioner.py] : key monk\n"
       ]
      },
      {
       "output_type": "stream",
       "stream": "stdout",
       "text": [
        "[2015-01-25 08:20:13,154][2845 ][monk.network.producer][INFO    ][66  ][producer.py] : sending message ('{\"turtleName\": \"movielens-binary\", \"follower\": \"mluser476\", \"name\": \"monk\", \"op\": \"AddClone\"}',) at monkTestWorker@2\n"
       ]
      },
      {
       "output_type": "stream",
       "stream": "stdout",
       "text": [
        "[2015-01-25 08:20:13,171][2845 ][monk.network.partitioner][DEBUG   ][38  ][partitioner.py] : key monk\n"
       ]
      },
      {
       "output_type": "stream",
       "stream": "stdout",
       "text": [
        "[2015-01-25 08:20:13,200][2845 ][monk.network.producer][INFO    ][66  ][producer.py] : sending message ('{\"turtleName\": \"movielens-binary\", \"follower\": \"mluser477\", \"name\": \"monk\", \"op\": \"AddClone\"}',) at monkTestWorker@2\n"
       ]
      },
      {
       "output_type": "stream",
       "stream": "stdout",
       "text": [
        "[2015-01-25 08:20:13,217][2845 ][monk.network.partitioner][DEBUG   ][38  ][partitioner.py] : key monk\n"
       ]
      },
      {
       "output_type": "stream",
       "stream": "stdout",
       "text": [
        "[2015-01-25 08:20:13,243][2845 ][monk.network.producer][INFO    ][66  ][producer.py] : sending message ('{\"turtleName\": \"movielens-binary\", \"follower\": \"mluser478\", \"name\": \"monk\", \"op\": \"AddClone\"}',) at monkTestWorker@2\n"
       ]
      },
      {
       "output_type": "stream",
       "stream": "stdout",
       "text": [
        "[2015-01-25 08:20:13,266][2845 ][monk.network.partitioner][DEBUG   ][38  ][partitioner.py] : key monk\n"
       ]
      },
      {
       "output_type": "stream",
       "stream": "stdout",
       "text": [
        "[2015-01-25 08:20:13,292][2845 ][monk.network.producer][INFO    ][66  ][producer.py] : sending message ('{\"turtleName\": \"movielens-binary\", \"follower\": \"mluser479\", \"name\": \"monk\", \"op\": \"AddClone\"}',) at monkTestWorker@2\n"
       ]
      },
      {
       "output_type": "stream",
       "stream": "stdout",
       "text": [
        "[2015-01-25 08:20:13,308][2845 ][monk.network.partitioner][DEBUG   ][38  ][partitioner.py] : key monk\n"
       ]
      },
      {
       "output_type": "stream",
       "stream": "stdout",
       "text": [
        "[2015-01-25 08:20:13,333][2845 ][monk.network.producer][INFO    ][66  ][producer.py] : sending message ('{\"turtleName\": \"movielens-binary\", \"follower\": \"mluser480\", \"name\": \"monk\", \"op\": \"AddClone\"}',) at monkTestWorker@2\n"
       ]
      },
      {
       "output_type": "stream",
       "stream": "stdout",
       "text": [
        "[2015-01-25 08:20:13,350][2845 ][monk.network.partitioner][DEBUG   ][38  ][partitioner.py] : key monk\n"
       ]
      },
      {
       "output_type": "stream",
       "stream": "stdout",
       "text": [
        "[2015-01-25 08:20:13,376][2845 ][monk.network.producer][INFO    ][66  ][producer.py] : sending message ('{\"turtleName\": \"movielens-binary\", \"follower\": \"mluser481\", \"name\": \"monk\", \"op\": \"AddClone\"}',) at monkTestWorker@2\n"
       ]
      },
      {
       "output_type": "stream",
       "stream": "stdout",
       "text": [
        "[2015-01-25 08:20:13,393][2845 ][monk.network.partitioner][DEBUG   ][38  ][partitioner.py] : key monk\n"
       ]
      },
      {
       "output_type": "stream",
       "stream": "stdout",
       "text": [
        "[2015-01-25 08:20:13,422][2845 ][monk.network.producer][INFO    ][66  ][producer.py] : sending message ('{\"turtleName\": \"movielens-binary\", \"follower\": \"mluser482\", \"name\": \"monk\", \"op\": \"AddClone\"}',) at monkTestWorker@2\n"
       ]
      },
      {
       "output_type": "stream",
       "stream": "stdout",
       "text": [
        "[2015-01-25 08:20:13,439][2845 ][monk.network.partitioner][DEBUG   ][38  ][partitioner.py] : key monk\n"
       ]
      }
     ]
    },
    {
     "cell_type": "code",
     "collapsed": false,
     "input": [
      "wb.add_clone(mlTurtle.creator, mlTurtle.name, 'mluser2')"
     ],
     "language": "python",
     "metadata": {},
     "outputs": [
      {
       "output_type": "stream",
       "stream": "stdout",
       "text": [
        "[2015-01-24 18:07:12,932][26733][monk.network.partitioner][DEBUG   ][38  ][partitioner.py] : key monk\n"
       ]
      },
      {
       "output_type": "stream",
       "stream": "stdout",
       "text": [
        "[2015-01-24 18:07:13,242][26733][monk.network.producer][INFO    ][66  ][producer.py] : sending message ('{\"turtleName\": \"movielens-binary\", \"follower\": \"mluser2\", \"name\": \"monk\", \"op\": \"AddClone\"}',) at monkTestWorker@2\n"
       ]
      }
     ],
     "prompt_number": 44
    },
    {
     "cell_type": "code",
     "collapsed": false,
     "input": [
      "ab.reconnect()"
     ],
     "language": "python",
     "metadata": {},
     "outputs": [],
     "prompt_number": 222
    },
    {
     "cell_type": "code",
     "collapsed": false,
     "input": [
      "ab.echo('notebook')"
     ],
     "language": "python",
     "metadata": {},
     "outputs": [
      {
       "output_type": "stream",
       "stream": "stdout",
       "text": [
        "[2015-01-21 18:45:54,884][6666 ][monk.network.producer][INFO    ][37  ][producer.py] : sending message ('{\"message\": \"notebook\", \"name\": \"testing\", \"op\": \"Echo\"}',) at monkTestAdmin@0\n"
       ]
      }
     ],
     "prompt_number": 224
    },
    {
     "cell_type": "code",
     "collapsed": false,
     "input": [
      "ab.add_user('monk')"
     ],
     "language": "python",
     "metadata": {},
     "outputs": [
      {
       "output_type": "stream",
       "stream": "stdout",
       "text": [
        "[2015-01-21 18:46:06,948][6666 ][monk.network.producer][INFO    ][37  ][producer.py] : sending message ('{\"password\": \"\", \"name\": \"monk\", \"op\": \"AddUser\"}',) at monkTestAdmin@0\n"
       ]
      }
     ],
     "prompt_number": 225
    },
    {
     "cell_type": "code",
     "collapsed": false,
     "input": [
      "monkapi.load_user('monk')"
     ],
     "language": "python",
     "metadata": {},
     "outputs": [
      {
       "metadata": {},
       "output_type": "pyout",
       "prompt_number": 226,
       "text": [
        "<monk.core.user.User at 0x7f648f8a42d0>"
       ]
      }
     ],
     "prompt_number": 226
    },
    {
     "cell_type": "code",
     "collapsed": false,
     "input": [
      "t1 = monkapi.load_turtle(mlTurtle.name, 'mluser1')"
     ],
     "language": "python",
     "metadata": {},
     "outputs": [],
     "prompt_number": 227
    },
    {
     "cell_type": "code",
     "collapsed": false,
     "input": [
      "t1"
     ],
     "language": "python",
     "metadata": {},
     "outputs": [
      {
       "metadata": {},
       "output_type": "pyout",
       "prompt_number": 228,
       "text": [
        "<monk.core.turtle.SingleTurtle at 0x7f649037c8d0>"
       ]
      }
     ],
     "prompt_number": 228
    },
    {
     "cell_type": "code",
     "collapsed": false,
     "input": [
      "t2 = monkapi.load_turtle(mlTurtle.name, 'mluser2')"
     ],
     "language": "python",
     "metadata": {},
     "outputs": [],
     "prompt_number": 20
    },
    {
     "cell_type": "code",
     "collapsed": false,
     "input": [
      "t2"
     ],
     "language": "python",
     "metadata": {},
     "outputs": [],
     "prompt_number": 21
    },
    {
     "cell_type": "code",
     "collapsed": false,
     "input": [
      "monkapi.clone_turtle(mlTurtle.name, mlTurtle.creator, 'mluser1')"
     ],
     "language": "python",
     "metadata": {},
     "outputs": [
      {
       "metadata": {},
       "output_type": "pyout",
       "prompt_number": 154,
       "text": [
        "<monk.core.turtle.SingleTurtle at 0x7f648f89e450>"
       ]
      }
     ],
     "prompt_number": 154
    },
    {
     "cell_type": "code",
     "collapsed": false,
     "input": [
      "monkapi.follow_turtle(mlTurtle.name, mlTurtle.creator, follower='mluser1')"
     ],
     "language": "python",
     "metadata": {},
     "outputs": [
      {
       "metadata": {},
       "output_type": "pyout",
       "prompt_number": 166,
       "text": [
        "True"
       ]
      }
     ],
     "prompt_number": 166
    },
    {
     "cell_type": "code",
     "collapsed": false,
     "input": [
      "t1.generic()"
     ],
     "language": "python",
     "metadata": {},
     "outputs": [
      {
       "metadata": {},
       "output_type": "pyout",
       "prompt_number": 168,
       "text": [
        "{'createdTime': datetime.datetime(2015, 1, 19, 8, 4, 48, 645000),\n",
        " 'creator': u'mluser1',\n",
        " 'description': u'classify if the user likes the movie (rating > 3 is like, otherwise unlike)',\n",
        " 'entityCollectionName': '',\n",
        " 'followers': [],\n",
        " 'lastModified': datetime.datetime(2015, 1, 19, 8, 17, 6, 5241),\n",
        " 'leader': u'monk',\n",
        " 'mapping': {u'like': [1]},\n",
        " 'monkType': u'SingleTurtle',\n",
        " 'name': u'movielens-binary',\n",
        " 'pEPS': 1e-06,\n",
        " 'pMaxInferenceSteps': 1000,\n",
        " 'pMaxPathLength': 1,\n",
        " 'pMergeClock': 0,\n",
        " 'pPartialBarrier': 50,\n",
        " 'pPenalty': 1.0,\n",
        " 'pTrainClock': 0,\n",
        " 'pandas': [{'creator': u'mluser1', 'name': u'movielens'}],\n",
        " 'requires': {u'uids': u'range(1,81)'},\n",
        " 'tigress': {'creator': u'mluser1', 'name': u'movielens-binary'}}"
       ]
      }
     ],
     "prompt_number": 168
    },
    {
     "cell_type": "code",
     "collapsed": false,
     "input": [
      "t0=monkapi.load_turtle(mlTurtle.name, mlTurtle.creator)"
     ],
     "language": "python",
     "metadata": {},
     "outputs": [],
     "prompt_number": 169
    },
    {
     "cell_type": "code",
     "collapsed": false,
     "input": [
      "t0.generic()"
     ],
     "language": "python",
     "metadata": {},
     "outputs": [
      {
       "metadata": {},
       "output_type": "pyout",
       "prompt_number": 170,
       "text": [
        "{'createdTime': datetime.datetime(2015, 1, 18, 11, 56, 22, 126000),\n",
        " 'creator': u'monk',\n",
        " 'description': u'classify if the user likes the movie (rating > 3 is like, otherwise unlike)',\n",
        " 'entityCollectionName': '',\n",
        " 'followers': ['mluser1'],\n",
        " 'lastModified': datetime.datetime(2015, 1, 19, 8, 17, 51, 971101),\n",
        " 'leader': None,\n",
        " 'mapping': {u'like': [1]},\n",
        " 'monkType': u'SingleTurtle',\n",
        " 'name': u'movielens-binary',\n",
        " 'pEPS': 1e-06,\n",
        " 'pMaxInferenceSteps': 1000,\n",
        " 'pMaxPathLength': 1,\n",
        " 'pMergeClock': 0,\n",
        " 'pPartialBarrier': 50,\n",
        " 'pPenalty': 1.0,\n",
        " 'pTrainClock': 0,\n",
        " 'pandas': [{'creator': u'monk', 'name': u'movielens'}],\n",
        " 'requires': {u'uids': u'range(1,81)'},\n",
        " 'tigress': {'creator': u'monk', 'name': u'movielens-binary'}}"
       ]
      }
     ],
     "prompt_number": 170
    },
    {
     "cell_type": "code",
     "collapsed": false,
     "input": [
      "monkapi.load_user('testing')"
     ],
     "language": "python",
     "metadata": {},
     "outputs": [
      {
       "output_type": "stream",
       "stream": "stdout",
       "text": [
        "[2015-01-19 10:22:38,660][6666 ][monk.api    ][ERROR   ][158 ][api.py  ] : user testing does not exists\n"
       ]
      }
     ],
     "prompt_number": 192
    },
    {
     "cell_type": "code",
     "collapsed": false,
     "input": [
      "wb.reconnect()"
     ],
     "language": "python",
     "metadata": {},
     "outputs": [],
     "prompt_number": 185
    },
    {
     "cell_type": "code",
     "collapsed": false,
     "input": [
      "wb.echo('notebook')"
     ],
     "language": "python",
     "metadata": {},
     "outputs": [
      {
       "output_type": "stream",
       "stream": "stdout",
       "text": [
        "[2015-01-19 10:22:08,359][6666 ][monk.network.broker][DEBUG   ][116 ][broker.py] : Sending {\"message\": \"notebook\", \"name\": \"testing\", \"op\": \"Echo\"} to testing at monkTestWorker\n"
       ]
      },
      {
       "output_type": "stream",
       "stream": "stdout",
       "text": [
        "[2015-01-19 10:22:08,360][6666 ][monk.network.partitioner][DEBUG   ][36  ][partitioner.py] : user is testing\n"
       ]
      },
      {
       "output_type": "stream",
       "stream": "stdout",
       "text": [
        "[2015-01-19 10:22:08,411][6666 ][monk.api    ][ERROR   ][158 ][api.py  ] : user testing does not exists\n"
       ]
      }
     ],
     "prompt_number": 189
    },
    {
     "cell_type": "code",
     "collapsed": false,
     "input": [
      "ab.reconnect()"
     ],
     "language": "python",
     "metadata": {},
     "outputs": [],
     "prompt_number": 196
    },
    {
     "cell_type": "code",
     "collapsed": false,
     "input": [
      "ab.add_user('mluser8000')"
     ],
     "language": "python",
     "metadata": {},
     "outputs": [
      {
       "output_type": "stream",
       "stream": "stdout",
       "text": [
        "[2015-01-19 10:43:23,439][6666 ][monk.network.producer][INFO    ][37  ][producer.py] : sending message ('{\"password\": \"\", \"name\": \"mluser8000\", \"op\": \"AddUser\"}',) at monkTestAdmin@0\n"
       ]
      }
     ],
     "prompt_number": 197
    },
    {
     "cell_type": "code",
     "collapsed": false,
     "input": [],
     "language": "python",
     "metadata": {},
     "outputs": []
    }
   ],
   "metadata": {}
  }
 ]
}