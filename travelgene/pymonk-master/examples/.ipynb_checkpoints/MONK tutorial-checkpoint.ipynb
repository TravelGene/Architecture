{
 "cells": [
  {
   "cell_type": "markdown",
   "metadata": {
    "slideshow": {
     "slide_type": "-"
    }
   },
   "source": [
    "#Initialization# "
   ]
  },
  {
   "cell_type": "code",
   "execution_count": 42,
   "metadata": {
    "collapsed": false
   },
   "outputs": [],
   "source": [
    "import monk.core.api as ms\n",
    "from monk.roles.configuration import default_config"
   ]
  },
  {
   "cell_type": "code",
   "execution_count": 43,
   "metadata": {
    "collapsed": false
   },
   "outputs": [
    {
     "name": "stdout",
     "output_type": "stream",
     "text": [
      "[2015-03-21 14:03:11,598][5328 ][monk.roles.configuration][INFO    ][93  ][configuration.py] : configuration done\n"
     ]
    }
   ],
   "source": [
    "config=default_config()"
   ]
  },
  {
   "cell_type": "code",
   "execution_count": 44,
   "metadata": {
    "collapsed": false
   },
   "outputs": [
    {
     "name": "stdout",
     "output_type": "stream",
     "text": [
      "[2015-03-21 14:03:18,301][5328 ][monk.roles.configuration][INFO    ][93  ][configuration.py] : configuration done\n"
     ]
    }
   ],
   "source": [
    "ms.initialize(default_config())"
   ]
  },
  {
   "cell_type": "markdown",
   "metadata": {},
   "source": [
    "#Convert entities to MONK objects#\n",
    "    convert_entities(collectionName=None)\n",
    "Parameters:\n",
    "\n",
    "- `collectionName`: the name of the collection."
   ]
  },
  {
   "cell_type": "code",
   "execution_count": 4,
   "metadata": {
    "collapsed": false
   },
   "outputs": [],
   "source": [
    "ents = ms.convert_entities()"
   ]
  },
  {
   "cell_type": "markdown",
   "metadata": {},
   "source": [
    "#An entity#\n",
    "+ `_raws` : this is a field that stores temporary features for MONK. Keys are in string, values can be any objects.\n",
    "+ `_features` : this is a field that stores the internal feature representations for MONK.\n",
    "+ `creator`, `createdTime`, `lastModified` : fields to keep version information\n",
    "+ `monkType` : type defined in MONK\n",
    "+ `generic` : convert a MONKObject to a json blob\n"
   ]
  },
  {
   "cell_type": "code",
   "execution_count": 5,
   "metadata": {
    "collapsed": false
   },
   "outputs": [
    {
     "data": {
      "text/plain": [
       "{'_features': [],\n",
       " '_raws': {},\n",
       " u'address': u'\\n\\t\\t\\t1620 BroadwaySeattle, WA 98122\\n\\t\\t',\n",
       " u'category_str_list': [u'Ice Cream & Frozen Yogurt'],\n",
       " u'comment': u'I love all those options for yogurt flavors and toppings.',\n",
       " 'createdTime': datetime.datetime(2015, 3, 21, 6, 32, 51, 571000),\n",
       " 'creator': u'monk',\n",
       " u'desc': u'Yogurtland',\n",
       " u'google_geometry': [{u'address_components': [{u'long_name': u'1620',\n",
       "     u'short_name': u'1620',\n",
       "     u'types': [u'street_number']},\n",
       "    {u'long_name': u'Broadway',\n",
       "     u'short_name': u'Broadway',\n",
       "     u'types': [u'route']},\n",
       "    {u'long_name': u'Capitol Hill',\n",
       "     u'short_name': u'Capitol Hill',\n",
       "     u'types': [u'neighborhood', u'political']},\n",
       "    {u'long_name': u'Seattle',\n",
       "     u'short_name': u'Seattle',\n",
       "     u'types': [u'locality', u'political']},\n",
       "    {u'long_name': u'Seattle',\n",
       "     u'short_name': u'Seattle',\n",
       "     u'types': [u'administrative_area_level_3', u'political']},\n",
       "    {u'long_name': u'King',\n",
       "     u'short_name': u'King',\n",
       "     u'types': [u'administrative_area_level_2', u'political']},\n",
       "    {u'long_name': u'Washington',\n",
       "     u'short_name': u'WA',\n",
       "     u'types': [u'administrative_area_level_1', u'political']},\n",
       "    {u'long_name': u'United States',\n",
       "     u'short_name': u'US',\n",
       "     u'types': [u'country', u'political']},\n",
       "    {u'long_name': u'98122',\n",
       "     u'short_name': u'98122',\n",
       "     u'types': [u'postal_code']}],\n",
       "   u'formatted_address': u'1620 Broadway, Seattle, WA 98122, USA',\n",
       "   u'geometry': {u'location': {u'lat': 47.6162747, u'lng': -122.3205492},\n",
       "    u'location_type': u'ROOFTOP',\n",
       "    u'viewport': {u'northeast': {u'lat': 47.6176236802915,\n",
       "      u'lng': -122.3192002197085},\n",
       "     u'southwest': {u'lat': 47.6149257197085, u'lng': -122.3218981802915}}},\n",
       "   u'types': [u'street_address']}],\n",
       " 'lastModified': datetime.datetime(2015, 3, 21, 6, 34, 41, 806844),\n",
       " u'link': u'/biz/yogurtland-seattle',\n",
       " 'monkType': 'Entity',\n",
       " 'name': u'',\n",
       " u'price_range': 1,\n",
       " u'rating_string': u'4.5',\n",
       " u'review_count': u'275',\n",
       " u'title': u'Yogurtland'}"
      ]
     },
     "execution_count": 5,
     "metadata": {},
     "output_type": "execute_result"
    }
   ],
   "source": [
    "ents[0].generic()"
   ]
  },
  {
   "cell_type": "markdown",
   "metadata": {},
   "source": [
    "#MONK Types#\n",
    "##Turtle##\n",
    "Turtle is a collection of base models, i.e., Panda."
   ]
  },
  {
   "cell_type": "code",
   "execution_count": 6,
   "metadata": {
    "collapsed": false
   },
   "outputs": [
    {
     "data": {
      "text/plain": [
       "['UniGramTurtle',\n",
       " 'StemTurtle',\n",
       " 'POSTurtle',\n",
       " 'SPNTurtle',\n",
       " 'DictionaryTurtle',\n",
       " 'Turtle',\n",
       " 'RankingTurtle',\n",
       " 'SingleTurtle',\n",
       " 'MultiLabelTurtle']"
      ]
     },
     "execution_count": 6,
     "metadata": {},
     "output_type": "execute_result"
    }
   ],
   "source": [
    "ms.find_type('Turtle')"
   ]
  },
  {
   "cell_type": "markdown",
   "metadata": {},
   "source": [
    "##Panda##\n",
    "Panda is the base model in MONK. Currently, it is a linear SVC."
   ]
  },
  {
   "cell_type": "code",
   "execution_count": 7,
   "metadata": {
    "collapsed": false
   },
   "outputs": [
    {
     "data": {
      "text/plain": [
       "['RegexPanda', 'Panda', 'LinearPanda', 'ExistPanda']"
      ]
     },
     "execution_count": 7,
     "metadata": {},
     "output_type": "execute_result"
    }
   ],
   "source": [
    "ms.find_type('Panda')"
   ]
  },
  {
   "cell_type": "markdown",
   "metadata": {},
   "source": [
    "##Tigress##\n",
    "\n",
    "Tigress is the superviser to train the models(Pandas). The major funcations include:\n",
    "\n",
    "- Extract ground truth from data\n",
    "- Create training example, i.e., (input, output, weight) for each panda\n",
    "- Measure the accuracies of turtle's prediction\n"
   ]
  },
  {
   "cell_type": "code",
   "execution_count": 8,
   "metadata": {
    "collapsed": false
   },
   "outputs": [
    {
     "data": {
      "text/plain": [
       "['Tigress',\n",
       " 'MultiLabelTigress',\n",
       " 'SPNTigress',\n",
       " 'PatternTigress',\n",
       " 'SelfTigress',\n",
       " 'LexiconTigress',\n",
       " 'CoTigress']"
      ]
     },
     "execution_count": 8,
     "metadata": {},
     "output_type": "execute_result"
    }
   ],
   "source": [
    "ms.find_type('Tigress')"
   ]
  },
  {
   "cell_type": "markdown",
   "metadata": {},
   "source": [
    "#Create a Unigram Turtle#\n",
    "Unigram turtle extracts word frequency features from specified fields"
   ]
  },
  {
   "cell_type": "code",
   "execution_count": 4,
   "metadata": {
    "collapsed": false
   },
   "outputs": [],
   "source": [
    "unigramTS = ms.yaml2json('turtle_scripts/turtle_unigram.yml')"
   ]
  },
  {
   "cell_type": "code",
   "execution_count": 5,
   "metadata": {
    "collapsed": false
   },
   "outputs": [
    {
     "data": {
      "text/plain": [
       "{'description': 'extract unigram features',\n",
       " 'monkType': 'UniGramTurtle',\n",
       " 'name': 'travel_unigram'}"
      ]
     },
     "execution_count": 5,
     "metadata": {},
     "output_type": "execute_result"
    }
   ],
   "source": [
    "unigramTS"
   ]
  },
  {
   "cell_type": "code",
   "execution_count": 7,
   "metadata": {
    "collapsed": false
   },
   "outputs": [],
   "source": [
    "unigramT = ms.create_turtle(unigramTS)"
   ]
  },
  {
   "cell_type": "markdown",
   "metadata": {},
   "source": [
    "#Create a Stemming Turtle#\n",
    "Stemming turtle extracts word frequency features from specified fields but with stemming functionality"
   ]
  },
  {
   "cell_type": "code",
   "execution_count": 8,
   "metadata": {
    "collapsed": false
   },
   "outputs": [],
   "source": [
    "stemTS = ms.yaml2json('turtle_scripts/turtle_stem.yml')"
   ]
  },
  {
   "cell_type": "code",
   "execution_count": 9,
   "metadata": {
    "collapsed": false
   },
   "outputs": [],
   "source": [
    "stemT = ms.create_turtle(stemTS)"
   ]
  },
  {
   "cell_type": "markdown",
   "metadata": {},
   "source": [
    "#Feature Extraction#"
   ]
  },
  {
   "cell_type": "code",
   "execution_count": 10,
   "metadata": {
    "collapsed": false
   },
   "outputs": [
    {
     "data": {
      "text/plain": [
       "{'createdTime': datetime.datetime(2015, 3, 21, 7, 23, 10, 22000),\n",
       " 'creator': u'monk',\n",
       " 'description': u'extract stemmed features',\n",
       " 'entityCollectionName': u'',\n",
       " 'followers': [],\n",
       " 'lastModified': datetime.datetime(2015, 3, 21, 7, 35, 35, 412223),\n",
       " 'leader': None,\n",
       " 'mapping': {},\n",
       " 'monkType': u'StemTurtle',\n",
       " 'name': u'travel_stem',\n",
       " 'pEPS': 1e-06,\n",
       " 'pMaxInferenceSteps': 1000,\n",
       " 'pMaxPathLength': 1,\n",
       " 'pMergeClock': 0,\n",
       " 'pPartialBarrier': 50,\n",
       " 'pPenalty': 1.0,\n",
       " 'pTrainClock': 0,\n",
       " 'pandas': [],\n",
       " 'requires': {}}"
      ]
     },
     "execution_count": 10,
     "metadata": {},
     "output_type": "execute_result"
    }
   ],
   "source": [
    "stemT = ms.load_turtle('travel_stem','monk')\n",
    "stemT.generic()"
   ]
  },
  {
   "cell_type": "markdown",
   "metadata": {},
   "source": [
    "##load some data##"
   ]
  },
  {
   "cell_type": "markdown",
   "metadata": {},
   "source": [
    "    load_entities(query={}, skip=0, num=100, collectionName=None)\n",
    "Parameters:\n",
    "\n",
    "- `query`: MongoDB style query spec, e.g., `{'tag':{'$in':['Shopping','Wine']}}`.\n",
    "- `skip`: the index to start the retrieval\n",
    "- `num`: the number of documents to retrieve\n",
    "- `collectionName`: the name of the collection."
   ]
  },
  {
   "cell_type": "code",
   "execution_count": 4,
   "metadata": {
    "collapsed": false
   },
   "outputs": [
    {
     "name": "stdout",
     "output_type": "stream",
     "text": [
      "100\n"
     ]
    },
    {
     "data": {
      "text/plain": [
       "{'_features': [(4097, 1.0),\n",
       "  (4098, 1.0),\n",
       "  (4099, 1.0),\n",
       "  (4100, 1.0),\n",
       "  (4101, 1.0),\n",
       "  (4102, 1.0)],\n",
       " '_raws': {u'flavor': 1,\n",
       "  u'love': 1,\n",
       "  u'option': 1,\n",
       "  u'top': 1,\n",
       "  u'yogurt': 1,\n",
       "  u'yogurtland': 1},\n",
       " u'address': u'\\n\\t\\t\\t1620 BroadwaySeattle, WA 98122\\n\\t\\t',\n",
       " u'category_str_list': [u'Ice Cream & Frozen Yogurt'],\n",
       " u'comment': u'I love all those options for yogurt flavors and toppings.',\n",
       " 'createdTime': datetime.datetime(2015, 3, 21, 6, 32, 51, 571000),\n",
       " 'creator': u'monk',\n",
       " u'desc': u'Yogurtland',\n",
       " u'google_geometry': [{u'address_components': [{u'long_name': u'1620',\n",
       "     u'short_name': u'1620',\n",
       "     u'types': [u'street_number']},\n",
       "    {u'long_name': u'Broadway',\n",
       "     u'short_name': u'Broadway',\n",
       "     u'types': [u'route']},\n",
       "    {u'long_name': u'Capitol Hill',\n",
       "     u'short_name': u'Capitol Hill',\n",
       "     u'types': [u'neighborhood', u'political']},\n",
       "    {u'long_name': u'Seattle',\n",
       "     u'short_name': u'Seattle',\n",
       "     u'types': [u'locality', u'political']},\n",
       "    {u'long_name': u'Seattle',\n",
       "     u'short_name': u'Seattle',\n",
       "     u'types': [u'administrative_area_level_3', u'political']},\n",
       "    {u'long_name': u'King',\n",
       "     u'short_name': u'King',\n",
       "     u'types': [u'administrative_area_level_2', u'political']},\n",
       "    {u'long_name': u'Washington',\n",
       "     u'short_name': u'WA',\n",
       "     u'types': [u'administrative_area_level_1', u'political']},\n",
       "    {u'long_name': u'United States',\n",
       "     u'short_name': u'US',\n",
       "     u'types': [u'country', u'political']},\n",
       "    {u'long_name': u'98122',\n",
       "     u'short_name': u'98122',\n",
       "     u'types': [u'postal_code']}],\n",
       "   u'formatted_address': u'1620 Broadway, Seattle, WA 98122, USA',\n",
       "   u'geometry': {u'location': {u'lat': 47.6162747, u'lng': -122.3205492},\n",
       "    u'location_type': u'ROOFTOP',\n",
       "    u'viewport': {u'northeast': {u'lat': 47.6176236802915,\n",
       "      u'lng': -122.3192002197085},\n",
       "     u'southwest': {u'lat': 47.6149257197085, u'lng': -122.3218981802915}}},\n",
       "   u'types': [u'street_address']}],\n",
       " 'lastModified': datetime.datetime(2015, 3, 21, 8, 51, 27, 437800),\n",
       " u'link': u'/biz/yogurtland-seattle',\n",
       " 'monkType': u'Entity',\n",
       " 'name': u'',\n",
       " u'price_range': 1,\n",
       " u'rating_string': u'4.5',\n",
       " u'review_count': u'275',\n",
       " u'title': u'Yogurtland'}"
      ]
     },
     "execution_count": 4,
     "metadata": {},
     "output_type": "execute_result"
    }
   ],
   "source": [
    "ents = ms.load_entities()\n",
    "print len(ents)\n",
    "ents[0].generic()"
   ]
  },
  {
   "cell_type": "code",
   "execution_count": 7,
   "metadata": {
    "collapsed": false
   },
   "outputs": [],
   "source": [
    "fields=['title', 'comment', 'desc']"
   ]
  },
  {
   "cell_type": "code",
   "execution_count": 11,
   "metadata": {
    "collapsed": false
   },
   "outputs": [
    {
     "name": "stdout",
     "output_type": "stream",
     "text": [
      "[2015-03-21 07:35:47,311][4736 ][monk.turtle ][DEBUG   ][463 ][turtle.py] : [u'Yogurtland']\n",
      "[2015-03-21 07:35:47,314][4736 ][monk.turtle ][DEBUG   ][469 ][turtle.py] : yogurtland\n",
      "[2015-03-21 07:35:47,319][4736 ][monk.turtle ][DEBUG   ][463 ][turtle.py] : [u'I love all those options for yogurt flavors and toppings.']\n",
      "[2015-03-21 07:35:47,320][4736 ][monk.turtle ][DEBUG   ][469 ][turtle.py] : yogurt flavor top love option\n",
      "[2015-03-21 07:35:47,325][4736 ][monk.turtle ][DEBUG   ][463 ][turtle.py] : [u'Yogurtland']\n",
      "[2015-03-21 07:35:47,326][4736 ][monk.turtle ][DEBUG   ][469 ][turtle.py] : yogurtland\n",
      "[2015-03-21 07:35:47,327][4736 ][monk.turtle ][DEBUG   ][463 ][turtle.py] : [u'List']\n",
      "[2015-03-21 07:35:47,328][4736 ][monk.turtle ][DEBUG   ][469 ][turtle.py] : list\n",
      "[2015-03-21 07:35:47,330][4736 ][monk.turtle ][DEBUG   ][463 ][turtle.py] : [u'I LOVE LOVE LOVE the gnocchi with black truffle cream.']\n",
      "[2015-03-21 07:35:47,331][4736 ][monk.turtle ][DEBUG   ][469 ][turtle.py] : black cream love gnocchi truffl\n",
      "[2015-03-21 07:35:47,335][4736 ][monk.turtle ][DEBUG   ][463 ][turtle.py] : [u'List']\n",
      "[2015-03-21 07:35:47,336][4736 ][monk.turtle ][DEBUG   ][469 ][turtle.py] : list\n",
      "[2015-03-21 07:35:47,339][4736 ][monk.turtle ][DEBUG   ][463 ][turtle.py] : [u'Hiram M. Chittenden Locks']\n",
      "[2015-03-21 07:35:47,341][4736 ][monk.turtle ][DEBUG   ][469 ][turtle.py] : lock chittenden hiram\n",
      "[2015-03-21 07:35:47,345][4736 ][monk.turtle ][DEBUG   ][463 ][turtle.py] : [u'Make sure to check out the salmon at the fish ladder.']\n",
      "[2015-03-21 07:35:47,347][4736 ][monk.turtle ][DEBUG   ][469 ][turtle.py] : sure fish ladder salmon check make\n",
      "[2015-03-21 07:35:47,358][4736 ][monk.turtle ][DEBUG   ][463 ][turtle.py] : [u'Hiram M. Chittenden Locks']\n",
      "[2015-03-21 07:35:47,359][4736 ][monk.turtle ][DEBUG   ][469 ][turtle.py] : lock chittenden hiram\n",
      "[2015-03-21 07:35:47,362][4736 ][monk.turtle ][DEBUG   ][463 ][turtle.py] : [u'Laura Bee Designs']\n",
      "[2015-03-21 07:35:47,364][4736 ][monk.turtle ][DEBUG   ][469 ][turtle.py] : laura design bee\n",
      "[2015-03-21 07:35:47,369][4736 ][monk.turtle ][DEBUG   ][463 ][turtle.py] : [u'with such a great assortment of unique purses and jewelry.']\n",
      "[2015-03-21 07:35:47,371][4736 ][monk.turtle ][DEBUG   ][469 ][turtle.py] : purs jewelri great assort uniqu\n",
      "[2015-03-21 07:35:47,377][4736 ][monk.turtle ][DEBUG   ][463 ][turtle.py] : [u'Laura Bee Designs']\n",
      "[2015-03-21 07:35:47,379][4736 ][monk.turtle ][DEBUG   ][469 ][turtle.py] : laura design bee\n",
      "[2015-03-21 07:35:47,379][4736 ][monk.turtle ][DEBUG   ][463 ][turtle.py] : [u'Radar Hair & Records']\n",
      "[2015-03-21 07:35:47,381][4736 ][monk.turtle ][DEBUG   ][469 ][turtle.py] : hair radar record &\n",
      "[2015-03-21 07:35:47,384][4736 ][monk.turtle ][DEBUG   ][463 ][turtle.py] : [u'If you need a top notch guy hair cut, Martin is your guy.']\n",
      "[2015-03-21 07:35:47,386][4736 ][monk.turtle ][DEBUG   ][469 ][turtle.py] : cut top , hair martin need guy notch\n",
      "[2015-03-21 07:35:47,392][4736 ][monk.turtle ][DEBUG   ][463 ][turtle.py] : [u'Radar Hair & Records']\n",
      "[2015-03-21 07:35:47,393][4736 ][monk.turtle ][DEBUG   ][469 ][turtle.py] : hair radar record &\n",
      "[2015-03-21 07:35:47,394][4736 ][monk.turtle ][DEBUG   ][463 ][turtle.py] : [u'Hotel 1000']\n",
      "[2015-03-21 07:35:47,395][4736 ][monk.turtle ][DEBUG   ][469 ][turtle.py] : hotel 1000\n",
      "[2015-03-21 07:35:47,397][4736 ][monk.turtle ][DEBUG   ][463 ][turtle.py] : [u'Floor to ceiling windows facing the bay and the stadiums.']\n",
      "[2015-03-21 07:35:47,399][4736 ][monk.turtle ][DEBUG   ][469 ][turtle.py] : floor ceil bay window stadium face\n",
      "[2015-03-21 07:35:47,404][4736 ][monk.turtle ][DEBUG   ][463 ][turtle.py] : [u'Hotel 1000']\n",
      "[2015-03-21 07:35:47,405][4736 ][monk.turtle ][DEBUG   ][469 ][turtle.py] : hotel 1000\n",
      "[2015-03-21 07:35:47,406][4736 ][monk.turtle ][DEBUG   ][463 ][turtle.py] : [u'Mr. Gyros']\n",
      "[2015-03-21 07:35:47,406][4736 ][monk.turtle ][DEBUG   ][469 ][turtle.py] : gyro\n",
      "[2015-03-21 07:35:47,408][4736 ][monk.turtle ][DEBUG   ][463 ][turtle.py] : [u'A must try for anyone who loves a good Gyro.']\n",
      "[2015-03-21 07:35:47,409][4736 ][monk.turtle ][DEBUG   ][469 ][turtle.py] : tri good love gyro anyon must\n",
      "[2015-03-21 07:35:47,413][4736 ][monk.turtle ][DEBUG   ][463 ][turtle.py] : [u'Mr. Gyros']\n",
      "[2015-03-21 07:35:47,415][4736 ][monk.turtle ][DEBUG   ][469 ][turtle.py] : gyro\n",
      "[2015-03-21 07:35:47,417][4736 ][monk.turtle ][DEBUG   ][463 ][turtle.py] : [u'Chihuly Garden and Glass']\n",
      "[2015-03-21 07:35:47,419][4736 ][monk.turtle ][DEBUG   ][469 ][turtle.py] : glass chihuli garden\n",
      "[2015-03-21 07:35:47,429][4736 ][monk.turtle ][DEBUG   ][463 ][turtle.py] : [u\"It's a great area, right near the Space Needle and EMP museum.\"]\n",
      "[2015-03-21 07:35:47,431][4736 ][monk.turtle ][DEBUG   ][469 ][turtle.py] : great right 's area museum space , near emp needl\n",
      "[2015-03-21 07:35:47,439][4736 ][monk.turtle ][DEBUG   ][463 ][turtle.py] : [u'Chihuly Garden and Glass']\n",
      "[2015-03-21 07:35:47,440][4736 ][monk.turtle ][DEBUG   ][469 ][turtle.py] : glass chihuli garden\n",
      "[2015-03-21 07:35:47,440][4736 ][monk.turtle ][DEBUG   ][463 ][turtle.py] : [u'Salumi Artisan Cured Meats']\n",
      "[2015-03-21 07:35:47,442][4736 ][monk.turtle ][DEBUG   ][469 ][turtle.py] : cure meat salumi artisan\n",
      "[2015-03-21 07:35:47,446][4736 ][monk.turtle ][DEBUG   ][463 ][turtle.py] : [u'I enjoyed both, but the porchetta was the hands down fave.']\n",
      "[2015-03-21 07:35:47,447][4736 ][monk.turtle ][DEBUG   ][469 ][turtle.py] : enjoy porchetta fave , hand\n",
      "[2015-03-21 07:35:47,451][4736 ][monk.turtle ][DEBUG   ][463 ][turtle.py] : [u'Salumi Artisan Cured Meats']\n",
      "[2015-03-21 07:35:47,453][4736 ][monk.turtle ][DEBUG   ][469 ][turtle.py] : cure meat salumi artisan\n",
      "[2015-03-21 07:35:47,453][4736 ][monk.turtle ][DEBUG   ][463 ][turtle.py] : [u'Theo Chocolate']\n",
      "[2015-03-21 07:35:47,455][4736 ][monk.turtle ][DEBUG   ][469 ][turtle.py] : theo chocol\n",
      "[2015-03-21 07:35:47,458][4736 ][monk.turtle ][DEBUG   ][463 ][turtle.py] : [u'I thought the tour was very informative and interesting.']\n",
      "[2015-03-21 07:35:47,460][4736 ][monk.turtle ][DEBUG   ][469 ][turtle.py] : thought inform tour interest\n",
      "[2015-03-21 07:35:47,464][4736 ][monk.turtle ][DEBUG   ][463 ][turtle.py] : [u'Theo Chocolate']\n",
      "[2015-03-21 07:35:47,465][4736 ][monk.turtle ][DEBUG   ][469 ][turtle.py] : theo chocol\n",
      "[2015-03-21 07:35:47,466][4736 ][monk.turtle ][DEBUG   ][463 ][turtle.py] : [u'Babeland']\n",
      "[2015-03-21 07:35:47,466][4736 ][monk.turtle ][DEBUG   ][469 ][turtle.py] : babeland\n",
      "[2015-03-21 07:35:47,468][4736 ][monk.turtle ][DEBUG   ][463 ][turtle.py] : [u'Sex positive, excellent selection, friendly and helpful staff.']\n",
      "[2015-03-21 07:35:47,469][4736 ][monk.turtle ][DEBUG   ][469 ][turtle.py] : help excel friendli , posit sex select staff\n",
      "[2015-03-21 07:35:47,476][4736 ][monk.turtle ][DEBUG   ][463 ][turtle.py] : [u'Babeland']\n",
      "[2015-03-21 07:35:47,477][4736 ][monk.turtle ][DEBUG   ][469 ][turtle.py] : babeland\n",
      "[2015-03-21 07:35:47,477][4736 ][monk.turtle ][DEBUG   ][463 ][turtle.py] : [u'Pike Place Chowder']\n",
      "[2015-03-21 07:35:47,478][4736 ][monk.turtle ][DEBUG   ][469 ][turtle.py] : pike chowder place\n",
      "[2015-03-21 07:35:47,481][4736 ][monk.turtle ][DEBUG   ][463 ][turtle.py] : [u\"Quite easily the BEST New England style clam chowder I've had.\"]\n",
      "[2015-03-21 07:35:47,482][4736 ][monk.turtle ][DEBUG   ][469 ][turtle.py] : quit style clam england 've easili chowder new best\n",
      "[2015-03-21 07:35:47,491][4736 ][monk.turtle ][DEBUG   ][463 ][turtle.py] : [u'Pike Place Chowder']\n",
      "[2015-03-21 07:35:47,492][4736 ][monk.turtle ][DEBUG   ][469 ][turtle.py] : pike chowder place\n",
      "[2015-03-21 07:35:47,493][4736 ][monk.turtle ][DEBUG   ][463 ][turtle.py] : [u'Daily Dozen Doughnut Company']\n",
      "[2015-03-21 07:35:47,494][4736 ][monk.turtle ][DEBUG   ][469 ][turtle.py] : doughnut compani daili dozen\n",
      "[2015-03-21 07:35:47,498][4736 ][monk.turtle ][DEBUG   ][463 ][turtle.py] : [u'I wish we had these wonderful powdered doughnuts in San Jose.']\n",
      "[2015-03-21 07:35:47,500][4736 ][monk.turtle ][DEBUG   ][469 ][turtle.py] : jose san wish powder doughnut wonder\n",
      "[2015-03-21 07:35:47,504][4736 ][monk.turtle ][DEBUG   ][463 ][turtle.py] : [u'Daily Dozen Doughnut Company']\n",
      "[2015-03-21 07:35:47,505][4736 ][monk.turtle ][DEBUG   ][469 ][turtle.py] : doughnut compani daili dozen\n",
      "[2015-03-21 07:35:47,506][4736 ][monk.turtle ][DEBUG   ][463 ][turtle.py] : [u'Mighty-O Donuts']\n",
      "[2015-03-21 07:35:47,507][4736 ][monk.turtle ][DEBUG   ][469 ][turtle.py] : donut mighty-o\n",
      "[2015-03-21 07:35:47,509][4736 ][monk.turtle ][DEBUG   ][463 ][turtle.py] : [u'I loved the raspberry glaze over vanilla cake donut.']\n",
      "[2015-03-21 07:35:47,510][4736 ][monk.turtle ][DEBUG   ][469 ][turtle.py] : love vanilla raspberri glaze donut cake\n",
      "[2015-03-21 07:35:47,514][4736 ][monk.turtle ][DEBUG   ][463 ][turtle.py] : [u'Mighty-O Donuts']\n",
      "[2015-03-21 07:35:47,515][4736 ][monk.turtle ][DEBUG   ][469 ][turtle.py] : donut mighty-o\n",
      "[2015-03-21 07:35:47,516][4736 ][monk.turtle ][DEBUG   ][463 ][turtle.py] : [u'Remedy Teas']\n",
      "[2015-03-21 07:35:47,517][4736 ][monk.turtle ][DEBUG   ][469 ][turtle.py] : tea remedi\n",
      "[2015-03-21 07:35:47,520][4736 ][monk.turtle ][DEBUG   ][463 ][turtle.py] : [u'I love this place and I love that all the teas are organic.']\n",
      "[2015-03-21 07:35:47,521][4736 ][monk.turtle ][DEBUG   ][469 ][turtle.py] : place love organ tea\n",
      "[2015-03-21 07:35:47,523][4736 ][monk.turtle ][DEBUG   ][463 ][turtle.py] : [u'Remedy Teas']\n",
      "[2015-03-21 07:35:47,524][4736 ][monk.turtle ][DEBUG   ][469 ][turtle.py] : tea remedi\n",
      "[2015-03-21 07:35:47,524][4736 ][monk.turtle ][DEBUG   ][463 ][turtle.py] : [u'Tacos El Asadero']\n",
      "[2015-03-21 07:35:47,525][4736 ][monk.turtle ][DEBUG   ][469 ][turtle.py] : el asadero taco\n",
      "[2015-03-21 07:35:47,529][4736 ][monk.turtle ][DEBUG   ][463 ][turtle.py] : [u'i abso-effing-lutely LOVE this taco bus.']\n",
      "[2015-03-21 07:35:47,530][4736 ][monk.turtle ][DEBUG   ][469 ][turtle.py] : love bu abso-effing-lut taco\n",
      "[2015-03-21 07:35:47,533][4736 ][monk.turtle ][DEBUG   ][463 ][turtle.py] : [u'Tacos El Asadero']\n",
      "[2015-03-21 07:35:47,534][4736 ][monk.turtle ][DEBUG   ][469 ][turtle.py] : el asadero taco\n",
      "[2015-03-21 07:35:47,535][4736 ][monk.turtle ][DEBUG   ][463 ][turtle.py] : [u'Bottlehouse']\n",
      "[2015-03-21 07:35:47,536][4736 ][monk.turtle ][DEBUG   ][469 ][turtle.py] : bottlehous\n",
      "[2015-03-21 07:35:47,537][4736 ][monk.turtle ][DEBUG   ][463 ][turtle.py] : [u'We also had the pleasure of meeting Henri, the owner.']\n",
      "[2015-03-21 07:35:47,538][4736 ][monk.turtle ][DEBUG   ][469 ][turtle.py] : henri , also owner meet pleasur\n",
      "[2015-03-21 07:35:47,543][4736 ][monk.turtle ][DEBUG   ][463 ][turtle.py] : [u'Bottlehouse']\n",
      "[2015-03-21 07:35:47,544][4736 ][monk.turtle ][DEBUG   ][469 ][turtle.py] : bottlehous\n",
      "[2015-03-21 07:35:47,545][4736 ][monk.turtle ][DEBUG   ][463 ][turtle.py] : [u'Art of The Table']\n",
      "[2015-03-21 07:35:47,546][4736 ][monk.turtle ][DEBUG   ][469 ][turtle.py] : art tabl\n",
      "[2015-03-21 07:35:47,548][4736 ][monk.turtle ][DEBUG   ][463 ][turtle.py] : [u'It also gave us a chance to chat with Chef Dustin.']\n",
      "[2015-03-21 07:35:47,549][4736 ][monk.turtle ][DEBUG   ][469 ][turtle.py] : us chef also chat dustin chanc gave\n",
      "[2015-03-21 07:35:47,555][4736 ][monk.turtle ][DEBUG   ][463 ][turtle.py] : [u'Art of The Table']\n",
      "[2015-03-21 07:35:47,556][4736 ][monk.turtle ][DEBUG   ][469 ][turtle.py] : art tabl\n",
      "[2015-03-21 07:35:47,556][4736 ][monk.turtle ][DEBUG   ][463 ][turtle.py] : [u'Monorail Espresso']\n",
      "[2015-03-21 07:35:47,557][4736 ][monk.turtle ][DEBUG   ][469 ][turtle.py] : espresso monorail\n",
      "[2015-03-21 07:35:47,560][4736 ][monk.turtle ][DEBUG   ][463 ][turtle.py] : [u'I am even sipping the most amazing Egg Nog Latte right now.']\n",
      "[2015-03-21 07:35:47,561][4736 ][monk.turtle ][DEBUG   ][469 ][turtle.py] : even latt sip nog right egg amaz\n",
      "[2015-03-21 07:35:47,566][4736 ][monk.turtle ][DEBUG   ][463 ][turtle.py] : [u'Monorail Espresso']\n",
      "[2015-03-21 07:35:47,567][4736 ][monk.turtle ][DEBUG   ][469 ][turtle.py] : espresso monorail\n",
      "[2015-03-21 07:35:47,567][4736 ][monk.turtle ][DEBUG   ][463 ][turtle.py] : [u'The Elliott Bay Book Company']\n",
      "[2015-03-21 07:35:47,568][4736 ][monk.turtle ][DEBUG   ][469 ][turtle.py] : elliott book compani bay\n",
      "[2015-03-21 07:35:47,571][4736 ][monk.turtle ][DEBUG   ][463 ][turtle.py] : [u'is classic Seattle, and simply the best bookstore in town.']\n",
      "[2015-03-21 07:35:47,572][4736 ][monk.turtle ][DEBUG   ][469 ][turtle.py] : town simpli classic , seattl bookstor best\n",
      "[2015-03-21 07:35:47,576][4736 ][monk.turtle ][DEBUG   ][463 ][turtle.py] : [u'The Elliott Bay Book Company']\n",
      "[2015-03-21 07:35:47,577][4736 ][monk.turtle ][DEBUG   ][469 ][turtle.py] : elliott book compani bay\n",
      "[2015-03-21 07:35:47,577][4736 ][monk.turtle ][DEBUG   ][463 ][turtle.py] : [u\"Super Jock 'n Jill\"]\n",
      "[2015-03-21 07:35:47,578][4736 ][monk.turtle ][DEBUG   ][469 ][turtle.py] : 'n jill super jock\n",
      "[2015-03-21 07:35:47,583][4736 ][monk.turtle ][DEBUG   ][463 ][turtle.py] : [u\"I'll be coming back here for my next pair of running shoes.\"]\n",
      "[2015-03-21 07:35:47,584][4736 ][monk.turtle ][DEBUG   ][469 ][turtle.py] : run back next shoe pair 'll come\n",
      "[2015-03-21 07:35:47,592][4736 ][monk.turtle ][DEBUG   ][463 ][turtle.py] : [u\"Super Jock 'n Jill\"]\n",
      "[2015-03-21 07:35:47,593][4736 ][monk.turtle ][DEBUG   ][469 ][turtle.py] : 'n jill super jock\n",
      "[2015-03-21 07:35:47,594][4736 ][monk.turtle ][DEBUG   ][463 ][turtle.py] : [u'The Crumpet Shop']\n",
      "[2015-03-21 07:35:47,595][4736 ][monk.turtle ][DEBUG   ][469 ][turtle.py] : shop crumpet\n",
      "[2015-03-21 07:35:47,598][4736 ][monk.turtle ][DEBUG   ][463 ][turtle.py] : [u'What a great little gem right outside Pike Place Market.']\n",
      "[2015-03-21 07:35:47,599][4736 ][monk.turtle ][DEBUG   ][469 ][turtle.py] : pike great right littl place market outsid gem\n",
      "[2015-03-21 07:35:47,606][4736 ][monk.turtle ][DEBUG   ][463 ][turtle.py] : [u'The Crumpet Shop']\n",
      "[2015-03-21 07:35:47,607][4736 ][monk.turtle ][DEBUG   ][469 ][turtle.py] : shop crumpet\n",
      "[2015-03-21 07:35:47,608][4736 ][monk.turtle ][DEBUG   ][463 ][turtle.py] : [u'Uwajimaya']\n",
      "[2015-03-21 07:35:47,609][4736 ][monk.turtle ][DEBUG   ][469 ][turtle.py] : uwajimaya\n",
      "[2015-03-21 07:35:47,611][4736 ][monk.turtle ][DEBUG   ][463 ][turtle.py] : [u'Incredible market with an added bonus of a delicious food court.']\n",
      "[2015-03-21 07:35:47,613][4736 ][monk.turtle ][DEBUG   ][469 ][turtle.py] : court ad incred food bonu delici market\n",
      "[2015-03-21 07:35:47,621][4736 ][monk.turtle ][DEBUG   ][463 ][turtle.py] : [u'Uwajimaya']\n",
      "[2015-03-21 07:35:47,622][4736 ][monk.turtle ][DEBUG   ][469 ][turtle.py] : uwajimaya\n",
      "[2015-03-21 07:35:47,623][4736 ][monk.turtle ][DEBUG   ][463 ][turtle.py] : [u\"D'Ambrosio Gelato\"]\n",
      "[2015-03-21 07:35:47,624][4736 ][monk.turtle ][DEBUG   ][469 ][turtle.py] : gelato d'ambrosio\n",
      "[2015-03-21 07:35:47,626][4736 ][monk.turtle ][DEBUG   ][463 ][turtle.py] : [u'I loved the pistachio, and my friend loved the lavender.']\n",
      "[2015-03-21 07:35:47,627][4736 ][monk.turtle ][DEBUG   ][469 ][turtle.py] : lavend pistachio love , friend\n",
      "[2015-03-21 07:35:47,631][4736 ][monk.turtle ][DEBUG   ][463 ][turtle.py] : [u\"D'Ambrosio Gelato\"]\n",
      "[2015-03-21 07:35:47,632][4736 ][monk.turtle ][DEBUG   ][469 ][turtle.py] : gelato d'ambrosio\n",
      "[2015-03-21 07:35:47,632][4736 ][monk.turtle ][DEBUG   ][463 ][turtle.py] : [u'Le Panier French Bakery']\n",
      "[2015-03-21 07:35:47,633][4736 ][monk.turtle ][DEBUG   ][469 ][turtle.py] : panier bakeri le french\n",
      "[2015-03-21 07:35:47,638][4736 ][monk.turtle ][DEBUG   ][463 ][turtle.py] : [u'The fruit tarts and mini-pastries are equally delicious.']\n",
      "[2015-03-21 07:35:47,640][4736 ][monk.turtle ][DEBUG   ][469 ][turtle.py] : delici fruit equal mini-pastri tart\n",
      "[2015-03-21 07:35:47,646][4736 ][monk.turtle ][DEBUG   ][463 ][turtle.py] : [u'Le Panier French Bakery']\n",
      "[2015-03-21 07:35:47,647][4736 ][monk.turtle ][DEBUG   ][469 ][turtle.py] : panier bakeri le french\n",
      "[2015-03-21 07:35:47,647][4736 ][monk.turtle ][DEBUG   ][463 ][turtle.py] : [u\"Beecher's Handmade Cheese\"]\n",
      "[2015-03-21 07:35:47,648][4736 ][monk.turtle ][DEBUG   ][469 ][turtle.py] : handmad beecher 's chees\n",
      "[2015-03-21 07:35:47,652][4736 ][monk.turtle ][DEBUG   ][463 ][turtle.py] : [u\"I can't wait to come back and have the Mac & Cheese again.\"]\n",
      "[2015-03-21 07:35:47,653][4736 ][monk.turtle ][DEBUG   ][469 ][turtle.py] : & ca back n't mac chees come wait\n",
      "[2015-03-21 07:35:47,657][4736 ][monk.turtle ][DEBUG   ][463 ][turtle.py] : [u\"Beecher's Handmade Cheese\"]\n",
      "[2015-03-21 07:35:47,657][4736 ][monk.turtle ][DEBUG   ][469 ][turtle.py] : handmad beecher 's chees\n",
      "[2015-03-21 07:35:47,658][4736 ][monk.turtle ][DEBUG   ][463 ][turtle.py] : [u'Archie McPhee']\n",
      "[2015-03-21 07:35:47,659][4736 ][monk.turtle ][DEBUG   ][469 ][turtle.py] : mcphee archi\n",
      "[2015-03-21 07:35:47,661][4736 ][monk.turtle ][DEBUG   ][463 ][turtle.py] : [u'...set, crazy cat lady action figure, corndog air freshener, and my...']\n",
      "[2015-03-21 07:35:47,661][4736 ][monk.turtle ][DEBUG   ][469 ][turtle.py] : set figur ladi , cat crazi air action freshen corndog\n",
      "[2015-03-21 07:35:47,669][4736 ][monk.turtle ][DEBUG   ][463 ][turtle.py] : [u'Archie McPhee']\n",
      "[2015-03-21 07:35:47,669][4736 ][monk.turtle ][DEBUG   ][469 ][turtle.py] : mcphee archi\n",
      "[2015-03-21 07:35:47,670][4736 ][monk.turtle ][DEBUG   ][463 ][turtle.py] : [u'Sun Liquor']\n",
      "[2015-03-21 07:35:47,670][4736 ][monk.turtle ][DEBUG   ][469 ][turtle.py] : sun liquor\n",
      "[2015-03-21 07:35:47,673][4736 ][monk.turtle ][DEBUG   ][463 ][turtle.py] : [u'FRESH SQUEEZED FRUIT JUICES (performed with an old timey juicer.']\n",
      "[2015-03-21 07:35:47,675][4736 ][monk.turtle ][DEBUG   ][469 ][turtle.py] : old timey perform juicer fruit squeez fresh juic\n",
      "[2015-03-21 07:35:47,681][4736 ][monk.turtle ][DEBUG   ][463 ][turtle.py] : [u'Sun Liquor']\n",
      "[2015-03-21 07:35:47,682][4736 ][monk.turtle ][DEBUG   ][469 ][turtle.py] : sun liquor\n",
      "[2015-03-21 07:35:47,683][4736 ][monk.turtle ][DEBUG   ][463 ][turtle.py] : [u'Pike Place Market']\n",
      "[2015-03-21 07:35:47,683][4736 ][monk.turtle ][DEBUG   ][469 ][turtle.py] : pike place market\n",
      "[2015-03-21 07:35:47,684][4736 ][monk.turtle ][DEBUG   ][463 ][turtle.py] : [u'Not to mention all the lovely flowers and neat little art stands.']\n",
      "[2015-03-21 07:35:47,684][4736 ][monk.turtle ][DEBUG   ][469 ][turtle.py] : flower art littl mention neat stand love\n",
      "[2015-03-21 07:35:47,688][4736 ][monk.turtle ][DEBUG   ][463 ][turtle.py] : [u'Pike Place Market']\n",
      "[2015-03-21 07:35:47,689][4736 ][monk.turtle ][DEBUG   ][469 ][turtle.py] : pike place market\n",
      "[2015-03-21 07:35:47,689][4736 ][monk.turtle ][DEBUG   ][463 ][turtle.py] : [u'Buckets']\n",
      "[2015-03-21 07:35:47,690][4736 ][monk.turtle ][DEBUG   ][469 ][turtle.py] : bucket\n",
      "[2015-03-21 07:35:47,691][4736 ][monk.turtle ][DEBUG   ][463 ][turtle.py] : [u'Michael has done an amazing job every time I used him.']\n",
      "[2015-03-21 07:35:47,692][4736 ][monk.turtle ][DEBUG   ][469 ][turtle.py] : use everi michael job done time amaz\n",
      "[2015-03-21 07:35:47,697][4736 ][monk.turtle ][DEBUG   ][463 ][turtle.py] : [u'Buckets']\n",
      "[2015-03-21 07:35:47,698][4736 ][monk.turtle ][DEBUG   ][469 ][turtle.py] : bucket\n",
      "[2015-03-21 07:35:47,698][4736 ][monk.turtle ][DEBUG   ][463 ][turtle.py] : [u'Scarecrow Video']\n",
      "[2015-03-21 07:35:47,699][4736 ][monk.turtle ][DEBUG   ][469 ][turtle.py] : video scarecrow\n",
      "[2015-03-21 07:35:47,701][4736 ][monk.turtle ][DEBUG   ][463 ][turtle.py] : [u'Well worth a visit if you like more obscure movies.']\n",
      "[2015-03-21 07:35:47,704][4736 ][monk.turtle ][DEBUG   ][469 ][turtle.py] : like movi well visit obscur worth\n",
      "[2015-03-21 07:35:47,710][4736 ][monk.turtle ][DEBUG   ][463 ][turtle.py] : [u'Scarecrow Video']\n",
      "[2015-03-21 07:35:47,711][4736 ][monk.turtle ][DEBUG   ][469 ][turtle.py] : video scarecrow\n",
      "[2015-03-21 07:35:47,712][4736 ][monk.turtle ][DEBUG   ][463 ][turtle.py] : [u'Georgetown Brewing Company']\n",
      "[2015-03-21 07:35:47,713][4736 ][monk.turtle ][DEBUG   ][469 ][turtle.py] : brew georgetown compani\n",
      "[2015-03-21 07:35:47,715][4736 ][monk.turtle ][DEBUG   ][463 ][turtle.py] : [u\"I really love both the Manny's and 9llb Porter Beers.\"]\n",
      "[2015-03-21 07:35:47,716][4736 ][monk.turtle ][DEBUG   ][469 ][turtle.py] : manni 's 9llb realli beer love porter\n",
      "[2015-03-21 07:35:47,720][4736 ][monk.turtle ][DEBUG   ][463 ][turtle.py] : [u'Georgetown Brewing Company']\n",
      "[2015-03-21 07:35:47,721][4736 ][monk.turtle ][DEBUG   ][469 ][turtle.py] : brew georgetown compani\n",
      "[2015-03-21 07:35:47,722][4736 ][monk.turtle ][DEBUG   ][463 ][turtle.py] : [u\"Tat's Delicatessen\"]\n",
      "[2015-03-21 07:35:47,723][4736 ][monk.turtle ][DEBUG   ][469 ][turtle.py] : tat delicatessen 's\n",
      "[2015-03-21 07:35:47,725][4736 ][monk.turtle ][DEBUG   ][463 ][turtle.py] : [u'where they showed how they make their delicious pastrami.']\n",
      "[2015-03-21 07:35:47,726][4736 ][monk.turtle ][DEBUG   ][469 ][turtle.py] : make delici pastrami show\n",
      "[2015-03-21 07:35:47,728][4736 ][monk.turtle ][DEBUG   ][463 ][turtle.py] : [u\"Tat's Delicatessen\"]\n",
      "[2015-03-21 07:35:47,729][4736 ][monk.turtle ][DEBUG   ][469 ][turtle.py] : tat delicatessen 's\n",
      "[2015-03-21 07:35:47,729][4736 ][monk.turtle ][DEBUG   ][463 ][turtle.py] : [u'The Museum of Flight']\n",
      "[2015-03-21 07:35:47,730][4736 ][monk.turtle ][DEBUG   ][469 ][turtle.py] : museum flight\n",
      "[2015-03-21 07:35:47,731][4736 ][monk.turtle ][DEBUG   ][463 ][turtle.py] : [u'You even get to walk through a Concorde and an old air force one.']\n",
      "[2015-03-21 07:35:47,732][4736 ][monk.turtle ][DEBUG   ][469 ][turtle.py] : even one old concord forc get air walk\n",
      "[2015-03-21 07:35:47,739][4736 ][monk.turtle ][DEBUG   ][463 ][turtle.py] : [u'The Museum of Flight']\n",
      "[2015-03-21 07:35:47,740][4736 ][monk.turtle ][DEBUG   ][469 ][turtle.py] : museum flight\n",
      "[2015-03-21 07:35:47,741][4736 ][monk.turtle ][DEBUG   ][463 ][turtle.py] : [u'Paseo']\n",
      "[2015-03-21 07:35:47,742][4736 ][monk.turtle ][DEBUG   ][469 ][turtle.py] : paseo\n",
      "[2015-03-21 07:35:47,743][4736 ][monk.turtle ][DEBUG   ][463 ][turtle.py] : [u\"I can't stop thinking about their Midnight Cuban Press sandwich.\"]\n",
      "[2015-03-21 07:35:47,745][4736 ][monk.turtle ][DEBUG   ][469 ][turtle.py] : cuban sandwich stop ca midnight n't press think\n",
      "[2015-03-21 07:35:47,751][4736 ][monk.turtle ][DEBUG   ][463 ][turtle.py] : [u'Paseo']\n",
      "[2015-03-21 07:35:47,752][4736 ][monk.turtle ][DEBUG   ][469 ][turtle.py] : paseo\n",
      "[2015-03-21 07:35:47,753][4736 ][monk.turtle ][DEBUG   ][463 ][turtle.py] : [u'The Beer Junction']\n",
      "[2015-03-21 07:35:47,754][4736 ][monk.turtle ][DEBUG   ][469 ][turtle.py] : beer junction\n",
      "[2015-03-21 07:35:47,756][4736 ][monk.turtle ][DEBUG   ][463 ][turtle.py] : [u'Morgan has done such an amazing job with this place.']\n",
      "[2015-03-21 07:35:47,757][4736 ][monk.turtle ][DEBUG   ][469 ][turtle.py] : place job done morgan amaz\n",
      "[2015-03-21 07:35:47,758][4736 ][monk.turtle ][DEBUG   ][463 ][turtle.py] : [u'The Beer Junction']\n",
      "[2015-03-21 07:35:47,759][4736 ][monk.turtle ][DEBUG   ][469 ][turtle.py] : beer junction\n",
      "[2015-03-21 07:35:47,760][4736 ][monk.turtle ][DEBUG   ][463 ][turtle.py] : [u'Bakery Nouveau']\n",
      "[2015-03-21 07:35:47,761][4736 ][monk.turtle ][DEBUG   ][469 ][turtle.py] : nouveau bakeri\n",
      "[2015-03-21 07:35:47,762][4736 ][monk.turtle ][DEBUG   ][463 ][turtle.py] : [u'love love love love their twice baked almond croissant.']\n",
      "[2015-03-21 07:35:47,764][4736 ][monk.turtle ][DEBUG   ][469 ][turtle.py] : twice bake love almond croissant\n",
      "[2015-03-21 07:35:47,769][4736 ][monk.turtle ][DEBUG   ][463 ][turtle.py] : [u'Bakery Nouveau']\n",
      "[2015-03-21 07:35:47,770][4736 ][monk.turtle ][DEBUG   ][469 ][turtle.py] : nouveau bakeri\n",
      "[2015-03-21 07:35:47,771][4736 ][monk.turtle ][DEBUG   ][463 ][turtle.py] : [u'Paseo']\n",
      "[2015-03-21 07:35:47,772][4736 ][monk.turtle ][DEBUG   ][469 ][turtle.py] : paseo\n",
      "[2015-03-21 07:35:47,773][4736 ][monk.turtle ][DEBUG   ][463 ][turtle.py] : [u\"I can't wait to go to the new spot by golden gardens this summer.\"]\n",
      "[2015-03-21 07:35:47,774][4736 ][monk.turtle ][DEBUG   ][469 ][turtle.py] : golden garden summer ca spot n't go new wait\n",
      "[2015-03-21 07:35:47,779][4736 ][monk.turtle ][DEBUG   ][463 ][turtle.py] : [u'Paseo']\n",
      "[2015-03-21 07:35:47,779][4736 ][monk.turtle ][DEBUG   ][469 ][turtle.py] : paseo\n",
      "[2015-03-21 07:35:47,780][4736 ][monk.turtle ][DEBUG   ][463 ][turtle.py] : [u'Espresso Vivace Sidewalk Bar']\n",
      "[2015-03-21 07:35:47,781][4736 ][monk.turtle ][DEBUG   ][469 ][turtle.py] : bar vivac espresso sidewalk\n",
      "[2015-03-21 07:35:47,785][4736 ][monk.turtle ][DEBUG   ][463 ][turtle.py] : [u\"I've had white mochas before, but their white velvet was amazing.\"]\n",
      "[2015-03-21 07:35:47,786][4736 ][monk.turtle ][DEBUG   ][469 ][turtle.py] : velvet , mocha white 've amaz\n",
      "[2015-03-21 07:35:47,790][4736 ][monk.turtle ][DEBUG   ][463 ][turtle.py] : [u'Espresso Vivace Sidewalk Bar']\n",
      "[2015-03-21 07:35:47,791][4736 ][monk.turtle ][DEBUG   ][469 ][turtle.py] : bar vivac espresso sidewalk\n",
      "[2015-03-21 07:35:47,791][4736 ][monk.turtle ][DEBUG   ][463 ][turtle.py] : [u'Ballard Sunday Farmers Market']\n",
      "[2015-03-21 07:35:47,792][4736 ][monk.turtle ][DEBUG   ][469 ][turtle.py] : ballard sunday market farmer\n",
      "[2015-03-21 07:35:47,797][4736 ][monk.turtle ][DEBUG   ][463 ][turtle.py] : [u\"Seattle's best year round farmers market.\"]\n",
      "[2015-03-21 07:35:47,798][4736 ][monk.turtle ][DEBUG   ][469 ][turtle.py] : 's year market seattl farmer round best\n",
      "[2015-03-21 07:35:47,801][4736 ][monk.turtle ][DEBUG   ][463 ][turtle.py] : [u'Ballard Sunday Farmers Market']\n",
      "[2015-03-21 07:35:47,802][4736 ][monk.turtle ][DEBUG   ][469 ][turtle.py] : ballard sunday market farmer\n",
      "[2015-03-21 07:35:47,803][4736 ][monk.turtle ][DEBUG   ][463 ][turtle.py] : [u'Piroshky Piroshky']\n",
      "[2015-03-21 07:35:47,804][4736 ][monk.turtle ][DEBUG   ][469 ][turtle.py] : piroshki\n",
      "[2015-03-21 07:35:47,806][4736 ][monk.turtle ][DEBUG   ][463 ][turtle.py] : [u'LOVE LOVE LOVE the Beef and Cheese Piroshky here.']\n",
      "[2015-03-21 07:35:47,807][4736 ][monk.turtle ][DEBUG   ][469 ][turtle.py] : chees love piroshki beef\n",
      "[2015-03-21 07:35:47,809][4736 ][monk.turtle ][DEBUG   ][463 ][turtle.py] : [u'Piroshky Piroshky']\n",
      "[2015-03-21 07:35:47,810][4736 ][monk.turtle ][DEBUG   ][469 ][turtle.py] : piroshki\n",
      "[2015-03-21 07:35:47,810][4736 ][monk.turtle ][DEBUG   ][463 ][turtle.py] : [u'Slave To The Needle']\n",
      "[2015-03-21 07:35:47,811][4736 ][monk.turtle ][DEBUG   ][469 ][turtle.py] : slave needl\n",
      "[2015-03-21 07:35:47,813][4736 ][monk.turtle ][DEBUG   ][463 ][turtle.py] : [u'Slave To The Needle']\n",
      "[2015-03-21 07:35:47,814][4736 ][monk.turtle ][DEBUG   ][469 ][turtle.py] : slave needl\n",
      "[2015-03-21 07:35:47,814][4736 ][monk.turtle ][DEBUG   ][463 ][turtle.py] : [u\"MacPherson's Fruit & Produce\"]\n",
      "[2015-03-21 07:35:47,815][4736 ][monk.turtle ][DEBUG   ][469 ][turtle.py] : fruit 's produc macpherson &\n",
      "[2015-03-21 07:35:47,818][4736 ][monk.turtle ][DEBUG   ][463 ][turtle.py] : [u'Great produce (much local), great prices, easy parking.']\n",
      "[2015-03-21 07:35:47,820][4736 ][monk.turtle ][DEBUG   ][469 ][turtle.py] : great easi price park , much local produc\n",
      "[2015-03-21 07:35:47,826][4736 ][monk.turtle ][DEBUG   ][463 ][turtle.py] : [u\"MacPherson's Fruit & Produce\"]\n",
      "[2015-03-21 07:35:47,827][4736 ][monk.turtle ][DEBUG   ][469 ][turtle.py] : fruit 's produc macpherson &\n",
      "[2015-03-21 07:35:47,828][4736 ][monk.turtle ][DEBUG   ][463 ][turtle.py] : [u'Card Kingdom']\n",
      "[2015-03-21 07:35:47,829][4736 ][monk.turtle ][DEBUG   ][469 ][turtle.py] : kingdom card\n",
      "[2015-03-21 07:35:47,832][4736 ][monk.turtle ][DEBUG   ][463 ][turtle.py] : [u'I love everything about this place and Cafe Mox, too.']\n",
      "[2015-03-21 07:35:47,833][4736 ][monk.turtle ][DEBUG   ][469 ][turtle.py] : mox love , place everyth cafe\n",
      "[2015-03-21 07:35:47,837][4736 ][monk.turtle ][DEBUG   ][463 ][turtle.py] : [u'Card Kingdom']\n",
      "[2015-03-21 07:35:47,838][4736 ][monk.turtle ][DEBUG   ][469 ][turtle.py] : kingdom card\n",
      "[2015-03-21 07:35:47,838][4736 ][monk.turtle ][DEBUG   ][463 ][turtle.py] : [u'Vegan Haven']\n",
      "[2015-03-21 07:35:47,839][4736 ][monk.turtle ][DEBUG   ][469 ][turtle.py] : haven vegan\n",
      "[2015-03-21 07:35:47,842][4736 ][monk.turtle ][DEBUG   ][463 ][turtle.py] : [u\"Sidecar is still totally #%&@*-n' awesome.\"]\n",
      "[2015-03-21 07:35:47,843][4736 ][monk.turtle ][DEBUG   ][469 ][turtle.py] : @ still % & *-n awesom total sidecar\n",
      "[2015-03-21 07:35:47,851][4736 ][monk.turtle ][DEBUG   ][463 ][turtle.py] : [u'Vegan Haven']\n",
      "[2015-03-21 07:35:47,852][4736 ][monk.turtle ][DEBUG   ][469 ][turtle.py] : haven vegan\n",
      "[2015-03-21 07:35:47,852][4736 ][monk.turtle ][DEBUG   ][463 ][turtle.py] : [u'The Walrus and the Carpenter']\n",
      "[2015-03-21 07:35:47,853][4736 ][monk.turtle ][DEBUG   ][469 ][turtle.py] : carpent walru\n",
      "[2015-03-21 07:35:47,856][4736 ][monk.turtle ][DEBUG   ][463 ][turtle.py] : [u\"I can't wait to return for some more delicious oysters.\"]\n",
      "[2015-03-21 07:35:47,858][4736 ][monk.turtle ][DEBUG   ][469 ][turtle.py] : return ca n't delici oyster wait\n",
      "[2015-03-21 07:35:47,861][4736 ][monk.turtle ][DEBUG   ][463 ][turtle.py] : [u'The Walrus and the Carpenter']\n",
      "[2015-03-21 07:35:47,862][4736 ][monk.turtle ][DEBUG   ][469 ][turtle.py] : carpent walru\n",
      "[2015-03-21 07:35:47,863][4736 ][monk.turtle ][DEBUG   ][463 ][turtle.py] : [u'Metropolitan Grill']\n",
      "[2015-03-21 07:35:47,864][4736 ][monk.turtle ][DEBUG   ][469 ][turtle.py] : grill metropolitan\n",
      "[2015-03-21 07:35:47,866][4736 ][monk.turtle ][DEBUG   ][463 ][turtle.py] : [u'Wagyu is pricey but so worth it as a rare treat.']\n",
      "[2015-03-21 07:35:47,868][4736 ][monk.turtle ][DEBUG   ][469 ][turtle.py] : wagyu pricey rare worth treat\n",
      "[2015-03-21 07:35:47,872][4736 ][monk.turtle ][DEBUG   ][463 ][turtle.py] : [u'Metropolitan Grill']\n",
      "[2015-03-21 07:35:47,873][4736 ][monk.turtle ][DEBUG   ][469 ][turtle.py] : grill metropolitan\n",
      "[2015-03-21 07:35:47,874][4736 ][monk.turtle ][DEBUG   ][463 ][turtle.py] : [u'Honore Artisan Bakery']\n",
      "[2015-03-21 07:35:47,875][4736 ][monk.turtle ][DEBUG   ][469 ][turtle.py] : bakeri honor artisan\n",
      "[2015-03-21 07:35:47,877][4736 ][monk.turtle ][DEBUG   ][463 ][turtle.py] : [u'Definitely will go back when I have a craving for Kouign Amann.']\n",
      "[2015-03-21 07:35:47,878][4736 ][monk.turtle ][DEBUG   ][469 ][turtle.py] : amann definit back crave go kouign\n",
      "[2015-03-21 07:35:47,882][4736 ][monk.turtle ][DEBUG   ][463 ][turtle.py] : [u'Honore Artisan Bakery']\n",
      "[2015-03-21 07:35:47,883][4736 ][monk.turtle ][DEBUG   ][469 ][turtle.py] : bakeri honor artisan\n",
      "[2015-03-21 07:35:47,884][4736 ][monk.turtle ][DEBUG   ][463 ][turtle.py] : [u'Artist & Craftsman Supply']\n",
      "[2015-03-21 07:35:47,885][4736 ][monk.turtle ][DEBUG   ][469 ][turtle.py] : suppli & craftsman artist\n",
      "[2015-03-21 07:35:47,889][4736 ][monk.turtle ][DEBUG   ][463 ][turtle.py] : [u'Lots more canvases here and lots more sizes as well.']\n",
      "[2015-03-21 07:35:47,891][4736 ][monk.turtle ][DEBUG   ][469 ][turtle.py] : canvas well lot size\n",
      "[2015-03-21 07:35:47,895][4736 ][monk.turtle ][DEBUG   ][463 ][turtle.py] : [u'Artist & Craftsman Supply']\n",
      "[2015-03-21 07:35:47,896][4736 ][monk.turtle ][DEBUG   ][469 ][turtle.py] : suppli & craftsman artist\n",
      "[2015-03-21 07:35:47,897][4736 ][monk.turtle ][DEBUG   ][463 ][turtle.py] : [u\"Shiro's\"]\n",
      "[2015-03-21 07:35:47,898][4736 ][monk.turtle ][DEBUG   ][469 ][turtle.py] : 's shiro\n",
      "[2015-03-21 07:35:47,899][4736 ][monk.turtle ][DEBUG   ][463 ][turtle.py] : [u'The omakase was amazing and well worth the wait.']\n",
      "[2015-03-21 07:35:47,901][4736 ][monk.turtle ][DEBUG   ][469 ][turtle.py] : wait well worth omakas amaz\n",
      "[2015-03-21 07:35:47,902][4736 ][monk.turtle ][DEBUG   ][463 ][turtle.py] : [u\"Shiro's\"]\n",
      "[2015-03-21 07:35:47,903][4736 ][monk.turtle ][DEBUG   ][469 ][turtle.py] : 's shiro\n",
      "[2015-03-21 07:35:47,904][4736 ][monk.turtle ][DEBUG   ][463 ][turtle.py] : [u'Espresso Vivace Alley 24']\n",
      "[2015-03-21 07:35:47,905][4736 ][monk.turtle ][DEBUG   ][469 ][turtle.py] : 24 vivac espresso alley\n",
      "[2015-03-21 07:35:47,907][4736 ][monk.turtle ][DEBUG   ][463 ][turtle.py] : [u'The Vivace latte was smooth from start to finish.']\n",
      "[2015-03-21 07:35:47,909][4736 ][monk.turtle ][DEBUG   ][469 ][turtle.py] : latt vivac finish smooth start\n",
      "[2015-03-21 07:35:47,912][4736 ][monk.turtle ][DEBUG   ][463 ][turtle.py] : [u'Espresso Vivace Alley 24']\n",
      "[2015-03-21 07:35:47,913][4736 ][monk.turtle ][DEBUG   ][469 ][turtle.py] : 24 vivac espresso alley\n",
      "[2015-03-21 07:35:47,914][4736 ][monk.turtle ][DEBUG   ][463 ][turtle.py] : [u\"Calozzi's\"]\n",
      "[2015-03-21 07:35:47,914][4736 ][monk.turtle ][DEBUG   ][469 ][turtle.py] : 's calozzi\n",
      "[2015-03-21 07:35:47,916][4736 ][monk.turtle ][DEBUG   ][463 ][turtle.py] : [u'Very flavorful beef w/ lots of whiz and tiny grilled onions.']\n",
      "[2015-03-21 07:35:47,917][4736 ][monk.turtle ][DEBUG   ][469 ][turtle.py] : grill onion beef w/ whiz lot flavor tini\n",
      "[2015-03-21 07:35:47,923][4736 ][monk.turtle ][DEBUG   ][463 ][turtle.py] : [u\"Calozzi's\"]\n",
      "[2015-03-21 07:35:47,924][4736 ][monk.turtle ][DEBUG   ][469 ][turtle.py] : 's calozzi\n",
      "[2015-03-21 07:35:47,925][4736 ][monk.turtle ][DEBUG   ][463 ][turtle.py] : [u'The Confectional']\n",
      "[2015-03-21 07:35:47,926][4736 ][monk.turtle ][DEBUG   ][469 ][turtle.py] : confect\n",
      "[2015-03-21 07:35:47,928][4736 ][monk.turtle ][DEBUG   ][463 ][turtle.py] : [u'This cheesecake is sooo creamy and rich yet not at all heavy.']\n",
      "[2015-03-21 07:35:47,929][4736 ][monk.turtle ][DEBUG   ][469 ][turtle.py] : creami cheesecak sooo heavi rich yet\n",
      "[2015-03-21 07:35:47,934][4736 ][monk.turtle ][DEBUG   ][463 ][turtle.py] : [u'The Confectional']\n",
      "[2015-03-21 07:35:47,936][4736 ][monk.turtle ][DEBUG   ][469 ][turtle.py] : confect\n",
      "[2015-03-21 07:35:47,936][4736 ][monk.turtle ][DEBUG   ][463 ][turtle.py] : [u'MarketSpice']\n",
      "[2015-03-21 07:35:47,937][4736 ][monk.turtle ][DEBUG   ][469 ][turtle.py] : marketspic\n",
      "[2015-03-21 07:35:47,938][4736 ][monk.turtle ][DEBUG   ][463 ][turtle.py] : [u'Like others, the cinnamon orange blend is to die for.']\n",
      "[2015-03-21 07:35:47,939][4736 ][monk.turtle ][DEBUG   ][469 ][turtle.py] : like die orang , other cinnamon blend\n",
      "[2015-03-21 07:35:47,945][4736 ][monk.turtle ][DEBUG   ][463 ][turtle.py] : [u'MarketSpice']\n",
      "[2015-03-21 07:35:47,945][4736 ][monk.turtle ][DEBUG   ][469 ][turtle.py] : marketspic\n",
      "[2015-03-21 07:35:47,946][4736 ][monk.turtle ][DEBUG   ][463 ][turtle.py] : [u'Metsker Maps']\n",
      "[2015-03-21 07:35:47,947][4736 ][monk.turtle ][DEBUG   ][469 ][turtle.py] : map metsker\n",
      "[2015-03-21 07:35:47,950][4736 ][monk.turtle ][DEBUG   ][463 ][turtle.py] : [u'Everywhere you turn is another awesome map or globe.']\n",
      "[2015-03-21 07:35:47,951][4736 ][monk.turtle ][DEBUG   ][469 ][turtle.py] : everywher map anoth globe turn awesom\n",
      "[2015-03-21 07:35:47,959][4736 ][monk.turtle ][DEBUG   ][463 ][turtle.py] : [u'Metsker Maps']\n",
      "[2015-03-21 07:35:47,960][4736 ][monk.turtle ][DEBUG   ][469 ][turtle.py] : map metsker\n",
      "[2015-03-21 07:35:47,961][4736 ][monk.turtle ][DEBUG   ][463 ][turtle.py] : [u\"Bob's Quality Meats\"]\n",
      "[2015-03-21 07:35:47,962][4736 ][monk.turtle ][DEBUG   ][469 ][turtle.py] : qualiti bob 's meat\n",
      "[2015-03-21 07:35:47,964][4736 ][monk.turtle ][DEBUG   ][463 ][turtle.py] : [u'I saw Duck, Rabbit, Goat and great selection of sausages.']\n",
      "[2015-03-21 07:35:47,965][4736 ][monk.turtle ][DEBUG   ][469 ][turtle.py] : great sausag , rabbit duck saw goat select\n",
      "[2015-03-21 07:35:47,970][4736 ][monk.turtle ][DEBUG   ][463 ][turtle.py] : [u\"Bob's Quality Meats\"]\n",
      "[2015-03-21 07:35:47,971][4736 ][monk.turtle ][DEBUG   ][469 ][turtle.py] : qualiti bob 's meat\n",
      "[2015-03-21 07:35:47,972][4736 ][monk.turtle ][DEBUG   ][463 ][turtle.py] : [u'Nishino']\n",
      "[2015-03-21 07:35:47,972][4736 ][monk.turtle ][DEBUG   ][469 ][turtle.py] : nishino\n",
      "[2015-03-21 07:35:47,974][4736 ][monk.turtle ][DEBUG   ][463 ][turtle.py] : [u\"I get an omakase every time, and it's always quite delicious.\"]\n",
      "[2015-03-21 07:35:47,975][4736 ][monk.turtle ][DEBUG   ][469 ][turtle.py] : quit 's get , alway time everi delici omakas\n",
      "[2015-03-21 07:35:47,977][4736 ][monk.turtle ][DEBUG   ][463 ][turtle.py] : [u'Nishino']\n",
      "[2015-03-21 07:35:47,977][4736 ][monk.turtle ][DEBUG   ][469 ][turtle.py] : nishino\n",
      "[2015-03-21 07:35:47,978][4736 ][monk.turtle ][DEBUG   ][463 ][turtle.py] : [u'Cascina Spinasse']\n",
      "[2015-03-21 07:35:47,979][4736 ][monk.turtle ][DEBUG   ][469 ][turtle.py] : spinass cascina\n",
      "[2015-03-21 07:35:47,981][4736 ][monk.turtle ][DEBUG   ][463 ][turtle.py] : [u'Tajarin with butter and sage sauce - DELICIOUS.']\n",
      "[2015-03-21 07:35:47,982][4736 ][monk.turtle ][DEBUG   ][469 ][turtle.py] : butter tajarin sage - sauc delici\n",
      "[2015-03-21 07:35:47,988][4736 ][monk.turtle ][DEBUG   ][463 ][turtle.py] : [u'Cascina Spinasse']\n",
      "[2015-03-21 07:35:47,989][4736 ][monk.turtle ][DEBUG   ][469 ][turtle.py] : spinass cascina\n",
      "[2015-03-21 07:35:47,989][4736 ][monk.turtle ][DEBUG   ][463 ][turtle.py] : [u'Sutra']\n",
      "[2015-03-21 07:35:47,990][4736 ][monk.turtle ][DEBUG   ][469 ][turtle.py] : sutra\n",
      "[2015-03-21 07:35:47,991][4736 ][monk.turtle ][DEBUG   ][463 ][turtle.py] : [u'i added the non-alcoholic paring to the menu.']\n",
      "[2015-03-21 07:35:47,992][4736 ][monk.turtle ][DEBUG   ][469 ][turtle.py] : menu pare non-alcohol ad\n",
      "[2015-03-21 07:35:47,996][4736 ][monk.turtle ][DEBUG   ][463 ][turtle.py] : [u'Sutra']\n",
      "[2015-03-21 07:35:47,996][4736 ][monk.turtle ][DEBUG   ][469 ][turtle.py] : sutra\n",
      "[2015-03-21 07:35:47,997][4736 ][monk.turtle ][DEBUG   ][463 ][turtle.py] : [u'Seattle Coffee Works']\n",
      "[2015-03-21 07:35:47,998][4736 ][monk.turtle ][DEBUG   ][469 ][turtle.py] : work seattl coffe\n",
      "[2015-03-21 07:35:48,000][4736 ][monk.turtle ][DEBUG   ][463 ][turtle.py] : [u'The slow bar is a fairly unique experience in this city, and they...']\n",
      "[2015-03-21 07:35:48,001][4736 ][monk.turtle ][DEBUG   ][469 ][turtle.py] : slow bar citi uniqu , fairli experi\n",
      "[2015-03-21 07:35:48,005][4736 ][monk.turtle ][DEBUG   ][463 ][turtle.py] : [u'Seattle Coffee Works']\n",
      "[2015-03-21 07:35:48,006][4736 ][monk.turtle ][DEBUG   ][469 ][turtle.py] : work seattl coffe\n",
      "[2015-03-21 07:35:48,007][4736 ][monk.turtle ][DEBUG   ][463 ][turtle.py] : [u'The Harvest Vine']\n",
      "[2015-03-21 07:35:48,008][4736 ][monk.turtle ][DEBUG   ][469 ][turtle.py] : vine harvest\n",
      "[2015-03-21 07:35:48,011][4736 ][monk.turtle ][DEBUG   ][463 ][turtle.py] : [u'Intimate and romantic setting with more seating downstairs.']\n",
      "[2015-03-21 07:35:48,012][4736 ][monk.turtle ][DEBUG   ][469 ][turtle.py] : intim set seat downstair romant\n",
      "[2015-03-21 07:35:48,016][4736 ][monk.turtle ][DEBUG   ][463 ][turtle.py] : [u'The Harvest Vine']\n",
      "[2015-03-21 07:35:48,017][4736 ][monk.turtle ][DEBUG   ][469 ][turtle.py] : vine harvest\n",
      "[2015-03-21 07:35:48,018][4736 ][monk.turtle ][DEBUG   ][463 ][turtle.py] : [u'Il Corvo Pasta']\n",
      "[2015-03-21 07:35:48,019][4736 ][monk.turtle ][DEBUG   ][469 ][turtle.py] : corvo pasta il\n",
      "[2015-03-21 07:35:48,022][4736 ][monk.turtle ][DEBUG   ][463 ][turtle.py] : [u'The pasta is prepared perfectly, just slight al dente.']\n",
      "[2015-03-21 07:35:48,023][4736 ][monk.turtle ][DEBUG   ][469 ][turtle.py] : slight prepar perfectli al , pasta dent\n",
      "[2015-03-21 07:35:48,028][4736 ][monk.turtle ][DEBUG   ][463 ][turtle.py] : [u'Il Corvo Pasta']\n",
      "[2015-03-21 07:35:48,029][4736 ][monk.turtle ][DEBUG   ][469 ][turtle.py] : corvo pasta il\n",
      "[2015-03-21 07:35:48,029][4736 ][monk.turtle ][DEBUG   ][463 ][turtle.py] : [u'The Fremont Troll']\n",
      "[2015-03-21 07:35:48,030][4736 ][monk.turtle ][DEBUG   ][469 ][turtle.py] : troll fremont\n",
      "[2015-03-21 07:35:48,033][4736 ][monk.turtle ][DEBUG   ][463 ][turtle.py] : [u'The Fremont troll is a must-see for anyone living in Seattle.']\n",
      "[2015-03-21 07:35:48,034][4736 ][monk.turtle ][DEBUG   ][469 ][turtle.py] : troll fremont live anyon seattl must-se\n",
      "[2015-03-21 07:35:48,036][4736 ][monk.turtle ][DEBUG   ][463 ][turtle.py] : [u'The Fremont Troll']\n",
      "[2015-03-21 07:35:48,037][4736 ][monk.turtle ][DEBUG   ][469 ][turtle.py] : troll fremont\n",
      "[2015-03-21 07:35:48,037][4736 ][monk.turtle ][DEBUG   ][463 ][turtle.py] : [u'Full Tilt Ice Cream']\n",
      "[2015-03-21 07:35:48,038][4736 ][monk.turtle ][DEBUG   ][469 ][turtle.py] : tilt full ice cream\n",
      "[2015-03-21 07:35:48,043][4736 ][monk.turtle ][DEBUG   ][463 ][turtle.py] : [u'Vintage arcade games + delicious home made ice cream.']\n",
      "[2015-03-21 07:35:48,044][4736 ][monk.turtle ][DEBUG   ][469 ][turtle.py] : made + game ice arcad home delici cream vintag\n",
      "[2015-03-21 07:35:48,050][4736 ][monk.turtle ][DEBUG   ][463 ][turtle.py] : [u'Full Tilt Ice Cream']\n",
      "[2015-03-21 07:35:48,051][4736 ][monk.turtle ][DEBUG   ][469 ][turtle.py] : tilt full ice cream\n",
      "[2015-03-21 07:35:48,052][4736 ][monk.turtle ][DEBUG   ][463 ][turtle.py] : [u'Blue Highway Games']\n",
      "[2015-03-21 07:35:48,053][4736 ][monk.turtle ][DEBUG   ][469 ][turtle.py] : blue game highway\n",
      "[2015-03-21 07:35:48,055][4736 ][monk.turtle ][DEBUG   ][463 ][turtle.py] : [u'This is my personnel favorite board game store in Seattle.']\n",
      "[2015-03-21 07:35:48,056][4736 ][monk.turtle ][DEBUG   ][469 ][turtle.py] : personnel favorit game board store seattl\n",
      "[2015-03-21 07:35:48,060][4736 ][monk.turtle ][DEBUG   ][463 ][turtle.py] : [u'Blue Highway Games']\n",
      "[2015-03-21 07:35:48,061][4736 ][monk.turtle ][DEBUG   ][469 ][turtle.py] : blue game highway\n",
      "[2015-03-21 07:35:48,062][4736 ][monk.turtle ][DEBUG   ][463 ][turtle.py] : [u'El Gaucho']\n",
      "[2015-03-21 07:35:48,062][4736 ][monk.turtle ][DEBUG   ][469 ][turtle.py] : el gaucho\n",
      "[2015-03-21 07:35:48,064][4736 ][monk.turtle ][DEBUG   ][463 ][turtle.py] : [u'Make sure you try the AMAZING BANANAS FOSTER.']\n",
      "[2015-03-21 07:35:48,065][4736 ][monk.turtle ][DEBUG   ][469 ][turtle.py] : tri sure make foster banana amaz\n",
      "[2015-03-21 07:35:48,068][4736 ][monk.turtle ][DEBUG   ][463 ][turtle.py] : [u'El Gaucho']\n",
      "[2015-03-21 07:35:48,068][4736 ][monk.turtle ][DEBUG   ][469 ][turtle.py] : el gaucho\n",
      "[2015-03-21 07:35:48,069][4736 ][monk.turtle ][DEBUG   ][463 ][turtle.py] : [u'Grand Hyatt Seattle']\n",
      "[2015-03-21 07:35:48,070][4736 ][monk.turtle ][DEBUG   ][469 ][turtle.py] : hyatt seattl grand\n",
      "[2015-03-21 07:35:48,073][4736 ][monk.turtle ][DEBUG   ][463 ][turtle.py] : [u'You are about six blocks directly north of Pike Place Market.']\n",
      "[2015-03-21 07:35:48,073][4736 ][monk.turtle ][DEBUG   ][469 ][turtle.py] : pike north directli six place market block\n",
      "[2015-03-21 07:35:48,078][4736 ][monk.turtle ][DEBUG   ][463 ][turtle.py] : [u'Grand Hyatt Seattle']\n",
      "[2015-03-21 07:35:48,078][4736 ][monk.turtle ][DEBUG   ][469 ][turtle.py] : hyatt seattl grand\n",
      "[2015-03-21 07:35:48,079][4736 ][monk.turtle ][DEBUG   ][463 ][turtle.py] : [u'Lick Pure Cream']\n",
      "[2015-03-21 07:35:48,080][4736 ][monk.turtle ][DEBUG   ][469 ][turtle.py] : lick pure cream\n",
      "[2015-03-21 07:35:48,082][4736 ][monk.turtle ][DEBUG   ][463 ][turtle.py] : [u'But Michael will let you test try all his wonderful flavors.']\n",
      "[2015-03-21 07:35:48,083][4736 ][monk.turtle ][DEBUG   ][469 ][turtle.py] : tri michael let test flavor wonder\n",
      "[2015-03-21 07:35:48,085][4736 ][monk.turtle ][DEBUG   ][463 ][turtle.py] : [u'Lick Pure Cream']\n",
      "[2015-03-21 07:35:48,086][4736 ][monk.turtle ][DEBUG   ][469 ][turtle.py] : lick pure cream\n",
      "[2015-03-21 07:35:48,086][4736 ][monk.turtle ][DEBUG   ][463 ][turtle.py] : [u'Saigon Deli']\n",
      "[2015-03-21 07:35:48,087][4736 ][monk.turtle ][DEBUG   ][469 ][turtle.py] : deli saigon\n",
      "[2015-03-21 07:35:48,089][4736 ][monk.turtle ][DEBUG   ][463 ][turtle.py] : [u'I love love love the Banh Mi Ga (chicken) and Banh Mi Heo (pork.']\n",
      "[2015-03-21 07:35:48,090][4736 ][monk.turtle ][DEBUG   ][469 ][turtle.py] : pork love mi ga chicken heo banh\n",
      "[2015-03-21 07:35:48,095][4736 ][monk.turtle ][DEBUG   ][463 ][turtle.py] : [u'Saigon Deli']\n",
      "[2015-03-21 07:35:48,096][4736 ][monk.turtle ][DEBUG   ][469 ][turtle.py] : deli saigon\n",
      "[2015-03-21 07:35:48,097][4736 ][monk.turtle ][DEBUG   ][463 ][turtle.py] : [u'Moore Coffee Shop']\n",
      "[2015-03-21 07:35:48,097][4736 ][monk.turtle ][DEBUG   ][469 ][turtle.py] : shop moor coffe\n",
      "[2015-03-21 07:35:48,098][4736 ][monk.turtle ][DEBUG   ][463 ][turtle.py] : [u'The Mexican Mocha was amazing too.']\n",
      "[2015-03-21 07:35:48,099][4736 ][monk.turtle ][DEBUG   ][469 ][turtle.py] : amaz mexican mocha\n",
      "[2015-03-21 07:35:48,100][4736 ][monk.turtle ][DEBUG   ][463 ][turtle.py] : [u'Moore Coffee Shop']\n",
      "[2015-03-21 07:35:48,101][4736 ][monk.turtle ][DEBUG   ][469 ][turtle.py] : shop moor coffe\n",
      "[2015-03-21 07:35:48,102][4736 ][monk.turtle ][DEBUG   ][463 ][turtle.py] : [u'Tacos Chukis']\n",
      "[2015-03-21 07:35:48,103][4736 ][monk.turtle ][DEBUG   ][469 ][turtle.py] : chuki taco\n",
      "[2015-03-21 07:35:48,105][4736 ][monk.turtle ][DEBUG   ][463 ][turtle.py] : [u'The carne asada and pollo are all solid winners.']\n",
      "[2015-03-21 07:35:48,105][4736 ][monk.turtle ][DEBUG   ][469 ][turtle.py] : solid asada winner carn pollo\n",
      "[2015-03-21 07:35:48,111][4736 ][monk.turtle ][DEBUG   ][463 ][turtle.py] : [u'Tacos Chukis']\n",
      "[2015-03-21 07:35:48,112][4736 ][monk.turtle ][DEBUG   ][469 ][turtle.py] : chuki taco\n",
      "[2015-03-21 07:35:48,112][4736 ][monk.turtle ][DEBUG   ][463 ][turtle.py] : [u'Petra Mediterranean Bistro']\n",
      "[2015-03-21 07:35:48,113][4736 ][monk.turtle ][DEBUG   ][469 ][turtle.py] : bistro mediterranean petra\n",
      "[2015-03-21 07:35:48,116][4736 ][monk.turtle ][DEBUG   ][463 ][turtle.py] : [u'Hummus for appetizer - Excellent choice to start off the meal.']\n",
      "[2015-03-21 07:35:48,116][4736 ][monk.turtle ][DEBUG   ][469 ][turtle.py] : choic hummu appet - excel start meal\n",
      "[2015-03-21 07:35:48,120][4736 ][monk.turtle ][DEBUG   ][463 ][turtle.py] : [u'Petra Mediterranean Bistro']\n",
      "[2015-03-21 07:35:48,121][4736 ][monk.turtle ][DEBUG   ][469 ][turtle.py] : bistro mediterranean petra\n",
      "[2015-03-21 07:35:48,122][4736 ][monk.turtle ][DEBUG   ][463 ][turtle.py] : [u'Serious Pie']\n",
      "[2015-03-21 07:35:48,122][4736 ][monk.turtle ][DEBUG   ][469 ][turtle.py] : seriou pie\n",
      "[2015-03-21 07:35:48,124][4736 ][monk.turtle ][DEBUG   ][463 ][turtle.py] : [u'roasted chanterelle mushrooms, truffle cheese: DELICIOUS.']\n",
      "[2015-03-21 07:35:48,125][4736 ][monk.turtle ][DEBUG   ][469 ][turtle.py] : mushroom chanterel , truffl chees roast delici :\n",
      "[2015-03-21 07:35:48,129][4736 ][monk.turtle ][DEBUG   ][463 ][turtle.py] : [u'Serious Pie']\n",
      "[2015-03-21 07:35:48,130][4736 ][monk.turtle ][DEBUG   ][469 ][turtle.py] : seriou pie\n",
      "[2015-03-21 07:35:48,130][4736 ][monk.turtle ][DEBUG   ][463 ][turtle.py] : [u'Green Leaf Vietnamese Restaurant']\n",
      "[2015-03-21 07:35:48,131][4736 ][monk.turtle ][DEBUG   ][469 ][turtle.py] : leaf green restaur vietnames\n",
      "[2015-03-21 07:35:48,136][4736 ][monk.turtle ][DEBUG   ][463 ][turtle.py] : [u'Oh and dont forget to try the fresh spring rolls with shrimp.']\n",
      "[2015-03-21 07:35:48,137][4736 ][monk.turtle ][DEBUG   ][469 ][turtle.py] : tri forget oh spring shrimp fresh roll dont\n",
      "[2015-03-21 07:35:48,143][4736 ][monk.turtle ][DEBUG   ][463 ][turtle.py] : [u'Green Leaf Vietnamese Restaurant']\n",
      "[2015-03-21 07:35:48,144][4736 ][monk.turtle ][DEBUG   ][469 ][turtle.py] : leaf green restaur vietnames\n",
      "[2015-03-21 07:35:48,144][4736 ][monk.turtle ][DEBUG   ][463 ][turtle.py] : [u'The Calf and Kid']\n",
      "[2015-03-21 07:35:48,145][4736 ][monk.turtle ][DEBUG   ][469 ][turtle.py] : calf kid\n",
      "[2015-03-21 07:35:48,147][4736 ][monk.turtle ][DEBUG   ][463 ][turtle.py] : [u'They were all delicious cheeses and made for a great picnic.']\n",
      "[2015-03-21 07:35:48,148][4736 ][monk.turtle ][DEBUG   ][469 ][turtle.py] : delici chees picnic great made\n",
      "[2015-03-21 07:35:48,149][4736 ][monk.turtle ][DEBUG   ][463 ][turtle.py] : [u'The Calf and Kid']\n",
      "[2015-03-21 07:35:48,150][4736 ][monk.turtle ][DEBUG   ][469 ][turtle.py] : calf kid\n",
      "[2015-03-21 07:35:48,150][4736 ][monk.turtle ][DEBUG   ][463 ][turtle.py] : [u'Umi Sake House']\n",
      "[2015-03-21 07:35:48,151][4736 ][monk.turtle ][DEBUG   ][469 ][turtle.py] : sake umi hous\n",
      "[2015-03-21 07:35:48,154][4736 ][monk.turtle ][DEBUG   ][463 ][turtle.py] : [u'I highly recommend the Casanova Roll and the Bad boy roll.']\n",
      "[2015-03-21 07:35:48,155][4736 ][monk.turtle ][DEBUG   ][469 ][turtle.py] : boy casanova bad recommend roll highli\n",
      "[2015-03-21 07:35:48,159][4736 ][monk.turtle ][DEBUG   ][463 ][turtle.py] : [u'Umi Sake House']\n",
      "[2015-03-21 07:35:48,160][4736 ][monk.turtle ][DEBUG   ][469 ][turtle.py] : sake umi hous\n",
      "[2015-03-21 07:35:48,160][4736 ][monk.turtle ][DEBUG   ][463 ][turtle.py] : [u\"Shorty's\"]\n",
      "[2015-03-21 07:35:48,161][4736 ][monk.turtle ][DEBUG   ][469 ][turtle.py] : 's shorti\n",
      "[2015-03-21 07:35:48,164][4736 ][monk.turtle ][DEBUG   ][463 ][turtle.py] : [u\"Shorty's is hands down the best pinball hall in the city.\"]\n",
      "[2015-03-21 07:35:48,165][4736 ][monk.turtle ][DEBUG   ][469 ][turtle.py] : 's shorti citi pinbal hand hall best\n",
      "[2015-03-21 07:35:48,167][4736 ][monk.turtle ][DEBUG   ][463 ][turtle.py] : [u\"Shorty's\"]\n",
      "[2015-03-21 07:35:48,168][4736 ][monk.turtle ][DEBUG   ][469 ][turtle.py] : 's shorti\n",
      "[2015-03-21 07:35:48,168][4736 ][monk.turtle ][DEBUG   ][463 ][turtle.py] : [u\"Uli's Famous Sausage\"]\n",
      "[2015-03-21 07:35:48,169][4736 ][monk.turtle ][DEBUG   ][469 ][turtle.py] : famou uli 's sausag\n",
      "[2015-03-21 07:35:48,171][4736 ][monk.turtle ][DEBUG   ][463 ][turtle.py] : [u'But they have huge selection of great sausages at great price.']\n",
      "[2015-03-21 07:35:48,172][4736 ][monk.turtle ][DEBUG   ][469 ][turtle.py] : price huge great sausag select\n",
      "[2015-03-21 07:35:48,174][4736 ][monk.turtle ][DEBUG   ][463 ][turtle.py] : [u\"Uli's Famous Sausage\"]\n",
      "[2015-03-21 07:35:48,174][4736 ][monk.turtle ][DEBUG   ][469 ][turtle.py] : famou uli 's sausag\n",
      "[2015-03-21 07:35:48,175][4736 ][monk.turtle ][DEBUG   ][463 ][turtle.py] : [u'Frye Art Museum']\n",
      "[2015-03-21 07:35:48,175][4736 ][monk.turtle ][DEBUG   ][469 ][turtle.py] : frye art museum\n",
      "[2015-03-21 07:35:48,176][4736 ][monk.turtle ][DEBUG   ][463 ][turtle.py] : [u'Cool exhibits, Cool old school paintings, a variety of genre.']\n",
      "[2015-03-21 07:35:48,177][4736 ][monk.turtle ][DEBUG   ][469 ][turtle.py] : exhibit school old genr , paint varieti cool\n",
      "[2015-03-21 07:35:48,183][4736 ][monk.turtle ][DEBUG   ][463 ][turtle.py] : [u'Frye Art Museum']\n",
      "[2015-03-21 07:35:48,184][4736 ][monk.turtle ][DEBUG   ][469 ][turtle.py] : frye art museum\n",
      "[2015-03-21 07:35:48,185][4736 ][monk.turtle ][DEBUG   ][463 ][turtle.py] : [u'Fainting Goat Gelato']\n",
      "[2015-03-21 07:35:48,185][4736 ][monk.turtle ][DEBUG   ][469 ][turtle.py] : gelato faint goat\n",
      "[2015-03-21 07:35:48,187][4736 ][monk.turtle ][DEBUG   ][463 ][turtle.py] : [u'The Nutella and Salted Caramel are really great too.']\n",
      "[2015-03-21 07:35:48,187][4736 ][monk.turtle ][DEBUG   ][469 ][turtle.py] : salt great caramel nutella realli\n",
      "[2015-03-21 07:35:48,190][4736 ][monk.turtle ][DEBUG   ][463 ][turtle.py] : [u'Fainting Goat Gelato']\n",
      "[2015-03-21 07:35:48,191][4736 ][monk.turtle ][DEBUG   ][469 ][turtle.py] : gelato faint goat\n",
      "[2015-03-21 07:35:48,191][4736 ][monk.turtle ][DEBUG   ][463 ][turtle.py] : [u'Rachel the Pig @ Pike Place Market']\n",
      "[2015-03-21 07:35:48,193][4736 ][monk.turtle ][DEBUG   ][469 ][turtle.py] : @ pike rachel pig place market\n",
      "[2015-03-21 07:35:48,196][4736 ][monk.turtle ][DEBUG   ][463 ][turtle.py] : [u'Rachel the Pig is easily the coolest piggy bank in the world.']\n",
      "[2015-03-21 07:35:48,197][4736 ][monk.turtle ][DEBUG   ][469 ][turtle.py] : piggi rachel pig easili coolest world bank\n",
      "[2015-03-21 07:35:48,201][4736 ][monk.turtle ][DEBUG   ][463 ][turtle.py] : [u'Rachel the Pig @ Pike Place Market']\n",
      "[2015-03-21 07:35:48,202][4736 ][monk.turtle ][DEBUG   ][469 ][turtle.py] : @ pike rachel pig place market\n",
      "[2015-03-21 07:35:48,202][4736 ][monk.turtle ][DEBUG   ][463 ][turtle.py] : [u'Altaye Ethiopian Restaurant']\n",
      "[2015-03-21 07:35:48,203][4736 ][monk.turtle ][DEBUG   ][469 ][turtle.py] : altay ethiopian restaur\n",
      "[2015-03-21 07:35:48,205][4736 ][monk.turtle ][DEBUG   ][463 ][turtle.py] : [u'The injera is made fresh every day, and it comes with your order.']\n",
      "[2015-03-21 07:35:48,206][4736 ][monk.turtle ][DEBUG   ][469 ][turtle.py] : made everi , order injera fresh come day\n",
      "[2015-03-21 07:35:48,209][4736 ][monk.turtle ][DEBUG   ][463 ][turtle.py] : [u'Altaye Ethiopian Restaurant']\n",
      "[2015-03-21 07:35:48,210][4736 ][monk.turtle ][DEBUG   ][469 ][turtle.py] : altay ethiopian restaur\n",
      "[2015-03-21 07:35:48,210][4736 ][monk.turtle ][DEBUG   ][463 ][turtle.py] : [u'Altura']\n",
      "[2015-03-21 07:35:48,211][4736 ][monk.turtle ][DEBUG   ][469 ][turtle.py] : altura\n",
      "[2015-03-21 07:35:48,212][4736 ][monk.turtle ][DEBUG   ][463 ][turtle.py] : [u'Love the fact that the tasting menu is SO flexible.']\n",
      "[2015-03-21 07:35:48,213][4736 ][monk.turtle ][DEBUG   ][469 ][turtle.py] : tast flexibl love fact menu\n",
      "[2015-03-21 07:35:48,216][4736 ][monk.turtle ][DEBUG   ][463 ][turtle.py] : [u'Altura']\n",
      "[2015-03-21 07:35:48,217][4736 ][monk.turtle ][DEBUG   ][469 ][turtle.py] : altura\n",
      "[2015-03-21 07:35:48,217][4736 ][monk.turtle ][DEBUG   ][463 ][turtle.py] : [u'Aladdin Falafel Corner']\n",
      "[2015-03-21 07:35:48,218][4736 ][monk.turtle ][DEBUG   ][469 ][turtle.py] : falafel corner aladdin\n",
      "[2015-03-21 07:35:48,221][4736 ][monk.turtle ][DEBUG   ][463 ][turtle.py] : [u'Open late, awesome and friendly staff, and a great gyro.']\n",
      "[2015-03-21 07:35:48,222][4736 ][monk.turtle ][DEBUG   ][469 ][turtle.py] : great gyro , friendli late open awesom staff\n",
      "[2015-03-21 07:35:48,225][4736 ][monk.turtle ][DEBUG   ][463 ][turtle.py] : [u'Aladdin Falafel Corner']\n",
      "[2015-03-21 07:35:48,226][4736 ][monk.turtle ][DEBUG   ][469 ][turtle.py] : falafel corner aladdin\n",
      "[2015-03-21 07:35:48,227][4736 ][monk.turtle ][DEBUG   ][463 ][turtle.py] : [u'Columbia Center Observation Deck']\n",
      "[2015-03-21 07:35:48,227][4736 ][monk.turtle ][DEBUG   ][469 ][turtle.py] : deck columbia center observ\n",
      "[2015-03-21 07:35:48,232][4736 ][monk.turtle ][DEBUG   ][463 ][turtle.py] : [u\"I haven't been up the Space Needle, so can't compare.\"]\n",
      "[2015-03-21 07:35:48,233][4736 ][monk.turtle ][DEBUG   ][469 ][turtle.py] : compar space ca , n't needl\n",
      "[2015-03-21 07:35:48,234][4736 ][monk.turtle ][DEBUG   ][463 ][turtle.py] : [u'Columbia Center Observation Deck']\n",
      "[2015-03-21 07:35:48,235][4736 ][monk.turtle ][DEBUG   ][469 ][turtle.py] : deck columbia center observ\n",
      "[2015-03-21 07:35:48,235][4736 ][monk.turtle ][DEBUG   ][463 ][turtle.py] : [u'Street Bean Espresso']\n",
      "[2015-03-21 07:35:48,236][4736 ][monk.turtle ][DEBUG   ][469 ][turtle.py] : bean street espresso\n",
      "[2015-03-21 07:35:48,238][4736 ][monk.turtle ][DEBUG   ][463 ][turtle.py] : [u'Consistently awesome drinks, great cause (and the latte art is always...']\n",
      "[2015-03-21 07:35:48,239][4736 ][monk.turtle ][DEBUG   ][469 ][turtle.py] : latt great art consist drink , caus alway awesom\n",
      "[2015-03-21 07:35:48,242][4736 ][monk.turtle ][DEBUG   ][463 ][turtle.py] : [u'Street Bean Espresso']\n",
      "[2015-03-21 07:35:48,243][4736 ][monk.turtle ][DEBUG   ][469 ][turtle.py] : bean street espresso\n",
      "[2015-03-21 07:35:48,243][4736 ][monk.turtle ][DEBUG   ][463 ][turtle.py] : [u\"Quinn's\"]\n",
      "[2015-03-21 07:35:48,244][4736 ][monk.turtle ][DEBUG   ][469 ][turtle.py] : 's quinn\n",
      "[2015-03-21 07:35:48,245][4736 ][monk.turtle ][DEBUG   ][463 ][turtle.py] : [u'Who ever heard of \"wild boar sloppy joe & crispy sage leaves.']\n",
      "[2015-03-21 07:35:48,246][4736 ][monk.turtle ][DEBUG   ][469 ][turtle.py] : `` & sage crispi heard leav joe wild ever boar sloppi\n",
      "[2015-03-21 07:35:48,256][4736 ][monk.turtle ][DEBUG   ][463 ][turtle.py] : [u\"Quinn's\"]\n",
      "[2015-03-21 07:35:48,256][4736 ][monk.turtle ][DEBUG   ][469 ][turtle.py] : 's quinn\n",
      "[2015-03-21 07:35:48,257][4736 ][monk.turtle ][DEBUG   ][463 ][turtle.py] : [u'Envy On Alki Skin Boutique']\n",
      "[2015-03-21 07:35:48,258][4736 ][monk.turtle ][DEBUG   ][469 ][turtle.py] : envi skin boutiqu alki\n",
      "[2015-03-21 07:35:48,262][4736 ][monk.turtle ][DEBUG   ][463 ][turtle.py] : [u'Nothing but great experiences so far!']\n",
      "[2015-03-21 07:35:48,263][4736 ][monk.turtle ][DEBUG   ][469 ][turtle.py] : far ! great experi noth\n",
      "[2015-03-21 07:35:48,266][4736 ][monk.turtle ][DEBUG   ][463 ][turtle.py] : [u'Envy On Alki Skin Boutique']\n",
      "[2015-03-21 07:35:48,266][4736 ][monk.turtle ][DEBUG   ][469 ][turtle.py] : envi skin boutiqu alki\n",
      "[2015-03-21 07:35:48,267][4736 ][monk.turtle ][DEBUG   ][463 ][turtle.py] : [u'Taylor Shellfish Farms']\n",
      "[2015-03-21 07:35:48,267][4736 ][monk.turtle ][DEBUG   ][469 ][turtle.py] : farm taylor shellfish\n",
      "[2015-03-21 07:35:48,271][4736 ][monk.turtle ][DEBUG   ][463 ][turtle.py] : [u'Some ponzu would have made the geoduck next level eating.']\n",
      "[2015-03-21 07:35:48,272][4736 ][monk.turtle ][DEBUG   ][469 ][turtle.py] : made would level geoduck next ponzu eat\n",
      "[2015-03-21 07:35:48,277][4736 ][monk.turtle ][DEBUG   ][463 ][turtle.py] : [u'Taylor Shellfish Farms']\n",
      "[2015-03-21 07:35:48,277][4736 ][monk.turtle ][DEBUG   ][469 ][turtle.py] : farm taylor shellfish\n",
      "[2015-03-21 07:35:48,278][4736 ][monk.turtle ][DEBUG   ][463 ][turtle.py] : [u'The Pink Door']\n",
      "[2015-03-21 07:35:48,279][4736 ][monk.turtle ][DEBUG   ][469 ][turtle.py] : pink door\n",
      "[2015-03-21 07:35:48,281][4736 ][monk.turtle ][DEBUG   ][463 ][turtle.py] : [u'The trapeze artist makes the evening just zany enough.']\n",
      "[2015-03-21 07:35:48,282][4736 ][monk.turtle ][DEBUG   ][469 ][turtle.py] : even zani artist make enough trapez\n",
      "[2015-03-21 07:35:48,287][4736 ][monk.turtle ][DEBUG   ][463 ][turtle.py] : [u'The Pink Door']\n",
      "[2015-03-21 07:35:48,288][4736 ][monk.turtle ][DEBUG   ][469 ][turtle.py] : pink door\n",
      "[2015-03-21 07:35:48,289][4736 ][monk.turtle ][DEBUG   ][463 ][turtle.py] : [u'Dahlia Bakery']\n",
      "[2015-03-21 07:35:48,289][4736 ][monk.turtle ][DEBUG   ][469 ][turtle.py] : dahlia bakeri\n",
      "[2015-03-21 07:35:48,291][4736 ][monk.turtle ][DEBUG   ][463 ][turtle.py] : [u'I love love love the coconut cream pie at Palace Kitchen.']\n",
      "[2015-03-21 07:35:48,292][4736 ][monk.turtle ][DEBUG   ][469 ][turtle.py] : coconut love pie palac cream kitchen\n",
      "[2015-03-21 07:35:48,295][4736 ][monk.turtle ][DEBUG   ][463 ][turtle.py] : [u'Dahlia Bakery']\n",
      "[2015-03-21 07:35:48,296][4736 ][monk.turtle ][DEBUG   ][469 ][turtle.py] : dahlia bakeri\n",
      "[2015-03-21 07:35:48,296][4736 ][monk.turtle ][DEBUG   ][463 ][turtle.py] : [u'Bavarian Meats']\n",
      "[2015-03-21 07:35:48,297][4736 ][monk.turtle ][DEBUG   ][469 ][turtle.py] : bavarian meat\n",
      "[2015-03-21 07:35:48,298][4736 ][monk.turtle ][DEBUG   ][463 ][turtle.py] : [u'This little gem has the best sausages in town.']\n",
      "[2015-03-21 07:35:48,299][4736 ][monk.turtle ][DEBUG   ][469 ][turtle.py] : best town sausag gem littl\n",
      "[2015-03-21 07:35:48,299][4736 ][monk.turtle ][DEBUG   ][463 ][turtle.py] : [u'Bavarian Meats']\n",
      "[2015-03-21 07:35:48,300][4736 ][monk.turtle ][DEBUG   ][469 ][turtle.py] : bavarian meat\n",
      "[2015-03-21 07:35:48,300][4736 ][monk.turtle ][DEBUG   ][463 ][turtle.py] : [u'Lola']\n",
      "[2015-03-21 07:35:48,300][4736 ][monk.turtle ][DEBUG   ][469 ][turtle.py] : lola\n",
      "[2015-03-21 07:35:48,302][4736 ][monk.turtle ][DEBUG   ][463 ][turtle.py] : [u'She opened my eyes to amazing greek food and tom douglas.']\n",
      "[2015-03-21 07:35:48,303][4736 ][monk.turtle ][DEBUG   ][469 ][turtle.py] : eye food greek tom dougla open amaz\n",
      "[2015-03-21 07:35:48,307][4736 ][monk.turtle ][DEBUG   ][463 ][turtle.py] : [u'Lola']\n",
      "[2015-03-21 07:35:48,308][4736 ][monk.turtle ][DEBUG   ][469 ][turtle.py] : lola\n",
      "[2015-03-21 07:35:48,308][4736 ][monk.turtle ][DEBUG   ][463 ][turtle.py] : [u'Trophy Cupcakes and Party']\n",
      "[2015-03-21 07:35:48,309][4736 ][monk.turtle ][DEBUG   ][469 ][turtle.py] : trophi cupcak parti\n",
      "[2015-03-21 07:35:48,312][4736 ][monk.turtle ][DEBUG   ][463 ][turtle.py] : [u\"Hands down the best cupcake I've tried in Seattle.\"]\n",
      "[2015-03-21 07:35:48,312][4736 ][monk.turtle ][DEBUG   ][469 ][turtle.py] : tri cupcak 've seattl hand best\n",
      "[2015-03-21 07:35:48,313][4736 ][monk.turtle ][DEBUG   ][463 ][turtle.py] : [u'Trophy Cupcakes and Party']\n",
      "[2015-03-21 07:35:48,313][4736 ][monk.turtle ][DEBUG   ][469 ][turtle.py] : trophi cupcak parti\n",
      "[2015-03-21 07:35:48,314][4736 ][monk.turtle ][DEBUG   ][463 ][turtle.py] : [u'Michou']\n",
      "[2015-03-21 07:35:48,315][4736 ][monk.turtle ][DEBUG   ][469 ][turtle.py] : michou\n",
      "[2015-03-21 07:35:48,317][4736 ][monk.turtle ][DEBUG   ][463 ][turtle.py] : [u'The Sierra Chicken is perfection paired with the Quinoa salad.']\n",
      "[2015-03-21 07:35:48,317][4736 ][monk.turtle ][DEBUG   ][469 ][turtle.py] : perfect salad quinoa pair sierra chicken\n",
      "[2015-03-21 07:35:48,322][4736 ][monk.turtle ][DEBUG   ][463 ][turtle.py] : [u'Michou']\n",
      "[2015-03-21 07:35:48,323][4736 ][monk.turtle ][DEBUG   ][469 ][turtle.py] : michou\n",
      "[2015-03-21 07:35:48,323][4736 ][monk.turtle ][DEBUG   ][463 ][turtle.py] : [u\"Chuck's Hop Shop\"]\n",
      "[2015-03-21 07:35:48,324][4736 ][monk.turtle ][DEBUG   ][469 ][turtle.py] : shop 's chuck hop\n",
      "[2015-03-21 07:35:48,326][4736 ][monk.turtle ][DEBUG   ][463 ][turtle.py] : [u'...the atmosphere is so unique: convenience store meets great craft beer...']\n",
      "[2015-03-21 07:35:48,327][4736 ][monk.turtle ][DEBUG   ][469 ][turtle.py] : great : atmospher uniqu beer craft meet conveni store\n",
      "[2015-03-21 07:35:48,330][4736 ][monk.turtle ][DEBUG   ][463 ][turtle.py] : [u\"Chuck's Hop Shop\"]\n",
      "[2015-03-21 07:35:48,331][4736 ][monk.turtle ][DEBUG   ][469 ][turtle.py] : shop 's chuck hop\n",
      "[2015-03-21 07:35:48,331][4736 ][monk.turtle ][DEBUG   ][463 ][turtle.py] : [u'Gelatiamo']\n",
      "[2015-03-21 07:35:48,332][4736 ][monk.turtle ][DEBUG   ][469 ][turtle.py] : gelatiamo\n",
      "[2015-03-21 07:35:48,333][4736 ][monk.turtle ][DEBUG   ][463 ][turtle.py] : [u'I also got a pistachio cream puff which was delicious and unique.']\n",
      "[2015-03-21 07:35:48,334][4736 ][monk.turtle ][DEBUG   ][469 ][turtle.py] : pistachio uniqu also got puff delici cream\n",
      "[2015-03-21 07:35:48,336][4736 ][monk.turtle ][DEBUG   ][463 ][turtle.py] : [u'Gelatiamo']\n",
      "[2015-03-21 07:35:48,337][4736 ][monk.turtle ][DEBUG   ][469 ][turtle.py] : gelatiamo\n",
      "[2015-03-21 07:35:48,338][4736 ][monk.turtle ][DEBUG   ][463 ][turtle.py] : [u'La Buona Tavola']\n",
      "[2015-03-21 07:35:48,338][4736 ][monk.turtle ][DEBUG   ][469 ][turtle.py] : buona tavola la\n",
      "[2015-03-21 07:35:48,341][4736 ][monk.turtle ][DEBUG   ][463 ][turtle.py] : [u'Truffle oil, truffle salt, truffle spread, truffle galore.']\n",
      "[2015-03-21 07:35:48,342][4736 ][monk.turtle ][DEBUG   ][469 ][turtle.py] : oil galor , truffl spread salt\n",
      "[2015-03-21 07:35:48,347][4736 ][monk.turtle ][DEBUG   ][463 ][turtle.py] : [u'La Buona Tavola']\n",
      "[2015-03-21 07:35:48,348][4736 ][monk.turtle ][DEBUG   ][469 ][turtle.py] : buona tavola la\n",
      "[2015-03-21 07:35:48,349][4736 ][monk.turtle ][DEBUG   ][463 ][turtle.py] : [u'Empire Espresso']\n",
      "[2015-03-21 07:35:48,349][4736 ][monk.turtle ][DEBUG   ][469 ][turtle.py] : espresso empir\n",
      "[2015-03-21 07:35:48,351][4736 ][monk.turtle ][DEBUG   ][463 ][turtle.py] : [u'Will definitely return to eat more ham waffles.']\n",
      "[2015-03-21 07:35:48,352][4736 ][monk.turtle ][DEBUG   ][469 ][turtle.py] : return waffl definit eat ham\n",
      "[2015-03-21 07:35:48,355][4736 ][monk.turtle ][DEBUG   ][463 ][turtle.py] : [u'Empire Espresso']\n",
      "[2015-03-21 07:35:48,355][4736 ][monk.turtle ][DEBUG   ][469 ][turtle.py] : espresso empir\n",
      "[2015-03-21 07:35:48,356][4736 ][monk.turtle ][DEBUG   ][463 ][turtle.py] : [u'The Station']\n",
      "[2015-03-21 07:35:48,356][4736 ][monk.turtle ][DEBUG   ][469 ][turtle.py] : station\n",
      "[2015-03-21 07:35:48,358][4736 ][monk.turtle ][DEBUG   ][463 ][turtle.py] : [u'Great location near the light rail too.']\n",
      "[2015-03-21 07:35:48,359][4736 ][monk.turtle ][DEBUG   ][469 ][turtle.py] : light great locat near rail\n",
      "[2015-03-21 07:35:48,362][4736 ][monk.turtle ][DEBUG   ][463 ][turtle.py] : [u'The Station']\n",
      "[2015-03-21 07:35:48,362][4736 ][monk.turtle ][DEBUG   ][469 ][turtle.py] : station\n"
     ]
    },
    {
     "data": {
      "text/plain": [
       "[7,\n",
       " 7,\n",
       " 12,\n",
       " 11,\n",
       " 16,\n",
       " 10,\n",
       " 8,\n",
       " 16,\n",
       " 13,\n",
       " 8,\n",
       " 10,\n",
       " 15,\n",
       " 14,\n",
       " 10,\n",
       " 8,\n",
       " 10,\n",
       " 8,\n",
       " 11,\n",
       " 11,\n",
       " 15,\n",
       " 15,\n",
       " 12,\n",
       " 9,\n",
       " 9,\n",
       " 13,\n",
       " 16,\n",
       " 14,\n",
       " 12,\n",
       " 13,\n",
       " 9,\n",
       " 10,\n",
       " 13,\n",
       " 10,\n",
       " 12,\n",
       " 10,\n",
       " 9,\n",
       " 9,\n",
       " 11,\n",
       " 14,\n",
       " 15,\n",
       " 6,\n",
       " 4,\n",
       " 18,\n",
       " 10,\n",
       " 12,\n",
       " 10,\n",
       " 9,\n",
       " 12,\n",
       " 12,\n",
       " 9,\n",
       " 13,\n",
       " 12,\n",
       " 8,\n",
       " 9,\n",
       " 10,\n",
       " 16,\n",
       " 11,\n",
       " 10,\n",
       " 6,\n",
       " 13,\n",
       " 9,\n",
       " 13,\n",
       " 10,\n",
       " 17,\n",
       " 12,\n",
       " 10,\n",
       " 13,\n",
       " 12,\n",
       " 11,\n",
       " 9,\n",
       " 9,\n",
       " 13,\n",
       " 12,\n",
       " 16,\n",
       " 9,\n",
       " 12,\n",
       " 11,\n",
       " 13,\n",
       " 14,\n",
       " 11,\n",
       " 19,\n",
       " 14,\n",
       " 7,\n",
       " 14,\n",
       " 14,\n",
       " 15,\n",
       " 15,\n",
       " 13,\n",
       " 13,\n",
       " 10,\n",
       " 10,\n",
       " 9,\n",
       " 9,\n",
       " 12,\n",
       " 8,\n",
       " 17,\n",
       " 9,\n",
       " 12,\n",
       " 9,\n",
       " 7]"
      ]
     },
     "execution_count": 11,
     "metadata": {},
     "output_type": "execute_result"
    }
   ],
   "source": [
    "[stemT.predict(ent, fields) for ent in ents]"
   ]
  },
  {
   "cell_type": "code",
   "execution_count": 12,
   "metadata": {
    "collapsed": false
   },
   "outputs": [],
   "source": [
    "stemT.save()"
   ]
  },
  {
   "cell_type": "code",
   "execution_count": 13,
   "metadata": {
    "collapsed": false
   },
   "outputs": [
    {
     "data": {
      "text/plain": [
       "[None,\n",
       " None,\n",
       " None,\n",
       " None,\n",
       " None,\n",
       " None,\n",
       " None,\n",
       " None,\n",
       " None,\n",
       " None,\n",
       " None,\n",
       " None,\n",
       " None,\n",
       " None,\n",
       " None,\n",
       " None,\n",
       " None,\n",
       " None,\n",
       " None,\n",
       " None,\n",
       " None,\n",
       " None,\n",
       " None,\n",
       " None,\n",
       " None,\n",
       " None,\n",
       " None,\n",
       " None,\n",
       " None,\n",
       " None,\n",
       " None,\n",
       " None,\n",
       " None,\n",
       " None,\n",
       " None,\n",
       " None,\n",
       " None,\n",
       " None,\n",
       " None,\n",
       " None,\n",
       " None,\n",
       " None,\n",
       " None,\n",
       " None,\n",
       " None,\n",
       " None,\n",
       " None,\n",
       " None,\n",
       " None,\n",
       " None,\n",
       " None,\n",
       " None,\n",
       " None,\n",
       " None,\n",
       " None,\n",
       " None,\n",
       " None,\n",
       " None,\n",
       " None,\n",
       " None,\n",
       " None,\n",
       " None,\n",
       " None,\n",
       " None,\n",
       " None,\n",
       " None,\n",
       " None,\n",
       " None,\n",
       " None,\n",
       " None,\n",
       " None,\n",
       " None,\n",
       " None,\n",
       " None,\n",
       " None,\n",
       " None,\n",
       " None,\n",
       " None,\n",
       " None,\n",
       " None,\n",
       " None,\n",
       " None,\n",
       " None,\n",
       " None,\n",
       " None,\n",
       " None,\n",
       " None,\n",
       " None,\n",
       " None,\n",
       " None,\n",
       " None,\n",
       " None,\n",
       " None,\n",
       " None,\n",
       " None,\n",
       " None,\n",
       " None,\n",
       " None,\n",
       " None,\n",
       " None]"
      ]
     },
     "execution_count": 13,
     "metadata": {},
     "output_type": "execute_result"
    }
   ],
   "source": [
    "[ent.save() for ent in ents]"
   ]
  },
  {
   "cell_type": "markdown",
   "metadata": {},
   "source": [
    "#Create new turtle#\n",
    "\n",
    "Turtle provides a solution for a specific problem.\n",
    "\n",
    "| Parameters | Definitions | Examples |\n",
    "|:---------- |:----------- |:-------- |\n",
    "| monkType | Turtle type | `MultiLabelTurtle`\n",
    "| name | A unique string | `flydragon_tagger` |\n",
    "| description | Detailed project description can help others understand | `Used to predict first level tags for activities stored in flydragon` |\n",
    "| mapping | An encoder that encodes the targets into internal pandas structures. It is not useful for multilabel turtle. But, it is useful for multi-class Turtle. Encoding strategies can be very tricky since it will affect the final accuracies. For example, **Error Correcting Output Code** can be of a good choice, but a random binary coding can be bad. For **Sum-Product-Network Turtle**, smart coding will be learned from data, which will relieve the coding burden from scientists | `{'dinning':[0000001000], 'hotel':[100000000]}` |\n",
    "| entityCollectionName | The data collection name to work on, assuming the database is given in MONK's configuration | `activities`|\n",
    "| requires | The field defines the turtle's dependencies, or which features to use. It can be **uids** or **turtle_ids**. When **turtle_ids** used, the pandas' uids in those turtles will all be the features for this turtle | `{'requires': {'turtleIds':[<id1>, <id2>]}}` |\n",
    "| pMaxPathLength | Inference will employ **Beam Search** algorithm, this parameter will be the maximum length of a search path before it stops | `1`|\n",
    "| pMaxInferenceSteps | The maximum number of inferences before it gives up. | `1`|\n",
    "||||\n",
    "|tigress | A tigress as the superviser to train the turtles and measure the performances | see below |\n",
    "|pandas | A list of panda that are employed to solve the problem | see below |\n",
    "\n",
    "Tigress provides functionalities to supervise and measure the performance of a turtle.\n",
    "\n",
    "| Parameters | Definitions | Examples |\n",
    "| :--------- | :---------- | :------- |\n",
    "| monkType | Tigress type | `MultiLabelTigress` |\n",
    "| name | A string | `flydragon_tagger` |\n",
    "| description | Detailed discriptions | `Equal weighted multilabel classifiers` |\n",
    "| costs | The cost of each tag/label being incorrectly predicted, if not defined, defaultCost will be used | `{'dinning':1.0, 'boating':0.2}`|\n",
    "| defaultCost | If cost of a tag is not specified, defaultCost will be used. If defaultCost is not defined, it will be the smallest value in the costs | `1.0`|\n",
    "||||\n",
    "| displayTextFields | The fields for the entity to be displayed when doing inter-active learning | `['title','reviews']`|\n",
    "| displayImageField | If possible, display an image (url) | `photo_url`|\n",
    "| activeBatchSize | For each active learning stage, how many uncertain examples to scan through, default to 100 | `100`|\n",
    "| pCuriosity | The factor of the active learning to trade off between **exploitation** and **exploration**. 0.0 means no **exploitation** | `0.0`|\n",
    "||||\n",
    "| patterns | For PatternTigress and children, each target has a pattern to search. If the pattern matches, the tag is on, otherwise the tag is off | `{'dinning':'dinning'}` |\n",
    "| fields | In which fields, the tigress is supposed to search through | `['title', 'description', ...]`|\n",
    "| mutualExclusive | True for only one target existing in the fields, False otherwise | `False`|\n",
    "| defaulting | True for using default tag when nothing found in the fields. False for ignoring this example | `False`|\n",
    "\n",
    "Panda is a basic classifier/regressor.\n",
    "\n",
    "| Parameters | Definitions | Examples |\n",
    "| :--------- | :---------- | :------- |\n",
    "| monkType | Panda type | `LinearPanda`|\n",
    "| name | A unique string | `dinning` |\n",
    "| mantis | A learning algorithm | see below |\n",
    "\n",
    "Mantis is a basic learning algorithm.\n",
    "\n",
    "| Parameters | Definitions | Examples |\n",
    "| :--------- | :---------- | :------- |\n",
    "| monkType | Mantis type | `Mantis` |\n",
    "| maxNumIters | Maximum number of iterations to perform optimization | `100`|\n",
    "| maxNumInstances | Maximum number of instances for each user | `1000` |\n",
    "| eps | Convergence interval | 1e-4|\n",
    "| lam | Lambda that controls the regularization strength | 1 |\n",
    "| rho | Personalization strength, the smaller the higher the personalization | 1 |"
   ]
  },
  {
   "cell_type": "code",
   "execution_count": 5,
   "metadata": {
    "collapsed": false
   },
   "outputs": [
    {
     "name": "stdout",
     "output_type": "stream",
     "text": [
      "{'tigress': {'patterns': {'Y': 'likeTravel'}, 'name': 'likeTravel', 'fields': ['likeTravel'], 'monkType': 'PatternTigress', 'defaulting': True, 'description': 'binary like or dislike classifier'}, 'name': 'likeTravel', 'monkType': 'SingleTurtle', 'description': 'predicting if one likes the item or not', 'requires': {'turtles': ['travel_stem']}, 'mapping': {'likeTravel': [1]}, 'pandas': [{'monkType': 'LinearPanda', 'name': 'likeTravel', 'mantis': {'monkType': 'Mantis'}}]}\n"
     ]
    }
   ],
   "source": [
    "likeTS = ms.yaml2json('turtle_scripts/turtle_like.yml')\n",
    "print likeTS"
   ]
  },
  {
   "cell_type": "code",
   "execution_count": 6,
   "metadata": {
    "collapsed": false
   },
   "outputs": [],
   "source": [
    "likeT = ms.create_turtle(likeTS)"
   ]
  },
  {
   "cell_type": "code",
   "execution_count": 7,
   "metadata": {
    "collapsed": false
   },
   "outputs": [],
   "source": [
    "likeT.save()"
   ]
  },
  {
   "cell_type": "code",
   "execution_count": 45,
   "metadata": {
    "collapsed": false
   },
   "outputs": [],
   "source": [
    "ent = ents[0]"
   ]
  },
  {
   "cell_type": "code",
   "execution_count": 32,
   "metadata": {
    "collapsed": false
   },
   "outputs": [
    {
     "data": {
      "text/plain": [
       "{'_features': [(4097, 1.0),\n",
       "  (4098, 1.0),\n",
       "  (4099, 1.0),\n",
       "  (4100, 1.0),\n",
       "  (4101, 1.0),\n",
       "  (4102, 1.0)],\n",
       " '_raws': {u'flavor': 1,\n",
       "  u'love': 1,\n",
       "  u'option': 1,\n",
       "  u'top': 1,\n",
       "  u'yogurt': 1,\n",
       "  u'yogurtland': 1},\n",
       " u'address': u'\\n\\t\\t\\t1620 BroadwaySeattle, WA 98122\\n\\t\\t',\n",
       " u'category_str_list': [u'Ice Cream & Frozen Yogurt'],\n",
       " u'comment': u'I love all those options for yogurt flavors and toppings.',\n",
       " 'createdTime': datetime.datetime(2015, 3, 21, 6, 32, 51, 571000),\n",
       " 'creator': u'monk',\n",
       " u'desc': u'Yogurtland',\n",
       " u'google_geometry': [{u'address_components': [{u'long_name': u'1620',\n",
       "     u'short_name': u'1620',\n",
       "     u'types': [u'street_number']},\n",
       "    {u'long_name': u'Broadway',\n",
       "     u'short_name': u'Broadway',\n",
       "     u'types': [u'route']},\n",
       "    {u'long_name': u'Capitol Hill',\n",
       "     u'short_name': u'Capitol Hill',\n",
       "     u'types': [u'neighborhood', u'political']},\n",
       "    {u'long_name': u'Seattle',\n",
       "     u'short_name': u'Seattle',\n",
       "     u'types': [u'locality', u'political']},\n",
       "    {u'long_name': u'Seattle',\n",
       "     u'short_name': u'Seattle',\n",
       "     u'types': [u'administrative_area_level_3', u'political']},\n",
       "    {u'long_name': u'King',\n",
       "     u'short_name': u'King',\n",
       "     u'types': [u'administrative_area_level_2', u'political']},\n",
       "    {u'long_name': u'Washington',\n",
       "     u'short_name': u'WA',\n",
       "     u'types': [u'administrative_area_level_1', u'political']},\n",
       "    {u'long_name': u'United States',\n",
       "     u'short_name': u'US',\n",
       "     u'types': [u'country', u'political']},\n",
       "    {u'long_name': u'98122',\n",
       "     u'short_name': u'98122',\n",
       "     u'types': [u'postal_code']}],\n",
       "   u'formatted_address': u'1620 Broadway, Seattle, WA 98122, USA',\n",
       "   u'geometry': {u'location': {u'lat': 47.6162747, u'lng': -122.3205492},\n",
       "    u'location_type': u'ROOFTOP',\n",
       "    u'viewport': {u'northeast': {u'lat': 47.6176236802915,\n",
       "      u'lng': -122.3192002197085},\n",
       "     u'southwest': {u'lat': 47.6149257197085, u'lng': -122.3218981802915}}},\n",
       "   u'types': [u'street_address']}],\n",
       " 'lastModified': datetime.datetime(2015, 3, 21, 8, 25, 55, 493265),\n",
       " u'link': u'/biz/yogurtland-seattle',\n",
       " 'monkType': u'Entity',\n",
       " 'name': u'',\n",
       " u'price_range': 1,\n",
       " u'rating_string': u'4.5',\n",
       " u'review_count': u'275',\n",
       " u'title': u'Yogurtland'}"
      ]
     },
     "execution_count": 32,
     "metadata": {},
     "output_type": "execute_result"
    }
   ],
   "source": [
    "ents[0].generic()"
   ]
  },
  {
   "cell_type": "markdown",
   "metadata": {},
   "source": [
    "##Add label##\n",
    "Flask API:\n",
    "    add_label(ent_id, field, value)"
   ]
  },
  {
   "cell_type": "code",
   "execution_count": 12,
   "metadata": {
    "collapsed": false
   },
   "outputs": [],
   "source": [
    "ent._setattr('likeTravel', 'Y')\n",
    "ms.crane.entityStore.save(ent)"
   ]
  },
  {
   "cell_type": "code",
   "execution_count": 13,
   "metadata": {
    "collapsed": false
   },
   "outputs": [
    {
     "data": {
      "text/plain": [
       "{'_features': [(4097, 1.0),\n",
       "  (4098, 1.0),\n",
       "  (4099, 1.0),\n",
       "  (4100, 1.0),\n",
       "  (4101, 1.0),\n",
       "  (4102, 1.0)],\n",
       " '_raws': {u'flavor': 1,\n",
       "  u'love': 1,\n",
       "  u'option': 1,\n",
       "  u'top': 1,\n",
       "  u'yogurt': 1,\n",
       "  u'yogurtland': 1},\n",
       " u'address': u'\\n\\t\\t\\t1620 BroadwaySeattle, WA 98122\\n\\t\\t',\n",
       " u'category_str_list': [u'Ice Cream & Frozen Yogurt'],\n",
       " u'comment': u'I love all those options for yogurt flavors and toppings.',\n",
       " 'createdTime': datetime.datetime(2015, 3, 21, 6, 32, 51, 571000),\n",
       " 'creator': u'monk',\n",
       " u'desc': u'Yogurtland',\n",
       " u'google_geometry': [{u'address_components': [{u'long_name': u'1620',\n",
       "     u'short_name': u'1620',\n",
       "     u'types': [u'street_number']},\n",
       "    {u'long_name': u'Broadway',\n",
       "     u'short_name': u'Broadway',\n",
       "     u'types': [u'route']},\n",
       "    {u'long_name': u'Capitol Hill',\n",
       "     u'short_name': u'Capitol Hill',\n",
       "     u'types': [u'neighborhood', u'political']},\n",
       "    {u'long_name': u'Seattle',\n",
       "     u'short_name': u'Seattle',\n",
       "     u'types': [u'locality', u'political']},\n",
       "    {u'long_name': u'Seattle',\n",
       "     u'short_name': u'Seattle',\n",
       "     u'types': [u'administrative_area_level_3', u'political']},\n",
       "    {u'long_name': u'King',\n",
       "     u'short_name': u'King',\n",
       "     u'types': [u'administrative_area_level_2', u'political']},\n",
       "    {u'long_name': u'Washington',\n",
       "     u'short_name': u'WA',\n",
       "     u'types': [u'administrative_area_level_1', u'political']},\n",
       "    {u'long_name': u'United States',\n",
       "     u'short_name': u'US',\n",
       "     u'types': [u'country', u'political']},\n",
       "    {u'long_name': u'98122',\n",
       "     u'short_name': u'98122',\n",
       "     u'types': [u'postal_code']}],\n",
       "   u'formatted_address': u'1620 Broadway, Seattle, WA 98122, USA',\n",
       "   u'geometry': {u'location': {u'lat': 47.6162747, u'lng': -122.3205492},\n",
       "    u'location_type': u'ROOFTOP',\n",
       "    u'viewport': {u'northeast': {u'lat': 47.6176236802915,\n",
       "      u'lng': -122.3192002197085},\n",
       "     u'southwest': {u'lat': 47.6149257197085, u'lng': -122.3218981802915}}},\n",
       "   u'types': [u'street_address']}],\n",
       " 'lastModified': datetime.datetime(2015, 3, 21, 8, 53, 40, 297716),\n",
       " 'likeTravel': 'Y',\n",
       " u'link': u'/biz/yogurtland-seattle',\n",
       " 'monkType': u'Entity',\n",
       " 'name': u'',\n",
       " u'price_range': 1,\n",
       " u'rating_string': u'4.5',\n",
       " u'review_count': u'275',\n",
       " u'title': u'Yogurtland'}"
      ]
     },
     "execution_count": 13,
     "metadata": {},
     "output_type": "execute_result"
    }
   ],
   "source": [
    "ents[0].generic()"
   ]
  },
  {
   "cell_type": "code",
   "execution_count": 10,
   "metadata": {
    "collapsed": false
   },
   "outputs": [
    {
     "data": {
      "text/plain": [
       "<monk.core.mantis.Mantis at 0x7f4c4d85dfd0>"
      ]
     },
     "execution_count": 10,
     "metadata": {},
     "output_type": "execute_result"
    }
   ],
   "source": [
    "likeT.pandas[0].mantis"
   ]
  },
  {
   "cell_type": "markdown",
   "metadata": {},
   "source": [
    "##Add data to turtle##\n",
    "Flask API\n",
    "    add_data_to_model(turtleName, creator, ent_id)\n",
    "    \n",
    "   - ent_id is a string\n",
    "    \n",
    "   - creator defaults to 'monk'"
   ]
  },
  {
   "cell_type": "code",
   "execution_count": 19,
   "metadata": {
    "collapsed": false
   },
   "outputs": [
    {
     "name": "stdout",
     "output_type": "stream",
     "text": [
      "[2015-03-21 08:54:35,149][5328 ][monk.tigress][DEBUG   ][109 ][tigress.py] : combinedField Y\n"
     ]
    },
    {
     "data": {
      "text/plain": [
       "True"
      ]
     },
     "execution_count": 19,
     "metadata": {},
     "output_type": "execute_result"
    }
   ],
   "source": [
    "ms.add_data('lieTravkel', 'monk', str(ents[0]._id))"
   ]
  },
  {
   "cell_type": "code",
   "execution_count": 26,
   "metadata": {
    "collapsed": false
   },
   "outputs": [
    {
     "data": {
      "text/plain": [
       "{re.compile(r'likeTravel'): 'Y'}"
      ]
     },
     "execution_count": 26,
     "metadata": {},
     "output_type": "execute_result"
    }
   ],
   "source": [
    "likeT.tigress.p"
   ]
  },
  {
   "cell_type": "code",
   "execution_count": 22,
   "metadata": {
    "collapsed": false
   },
   "outputs": [
    {
     "data": {
      "text/plain": [
       "{ObjectId('524c04c4e291973e1136496c'): (0, -1, 1.0),\n",
       " ObjectId('524c04c4e291973e1136496d'): (1, -1, 1.0)}"
      ]
     },
     "execution_count": 22,
     "metadata": {},
     "output_type": "execute_result"
    }
   ],
   "source": [
    "likeT.pandas[0].mantis.data"
   ]
  },
  {
   "cell_type": "code",
   "execution_count": 17,
   "metadata": {
    "collapsed": false
   },
   "outputs": [
    {
     "name": "stdout",
     "output_type": "stream",
     "text": [
      "[2015-03-21 08:54:18,879][5328 ][monk.tigress][DEBUG   ][109 ][tigress.py] : combinedField \n"
     ]
    },
    {
     "data": {
      "text/plain": [
       "True"
      ]
     },
     "execution_count": 17,
     "metadata": {},
     "output_type": "execute_result"
    }
   ],
   "source": [
    "ms.add_data('likeTravel', 'monk', str(ents[1]._id))"
   ]
  },
  {
   "cell_type": "code",
   "execution_count": 57,
   "metadata": {
    "collapsed": false
   },
   "outputs": [],
   "source": [
    "likeT.tigress.defaulting=True"
   ]
  },
  {
   "cell_type": "code",
   "execution_count": 18,
   "metadata": {
    "collapsed": false
   },
   "outputs": [
    {
     "data": {
      "text/plain": [
       "{ObjectId('524c04c4e291973e1136496c'): (0, -1, 1.0),\n",
       " ObjectId('524c04c4e291973e1136496d'): (1, -1, 1.0)}"
      ]
     },
     "execution_count": 18,
     "metadata": {},
     "output_type": "execute_result"
    }
   ],
   "source": [
    "likeT.pandas[0].mantis.data"
   ]
  },
  {
   "cell_type": "markdown",
   "metadata": {},
   "source": [
    "##Training##\n",
    "Flask API:\n",
    "   - train(turtleName, creator)"
   ]
  },
  {
   "cell_type": "code",
   "execution_count": 47,
   "metadata": {
    "collapsed": false
   },
   "outputs": [],
   "source": [
    "likeT = ms.load_turtle('likeTrave','monk')"
   ]
  },
  {
   "cell_type": "code",
   "execution_count": 27,
   "metadata": {
    "collapsed": false
   },
   "outputs": [
    {
     "name": "stdout",
     "output_type": "stream",
     "text": [
      "[2015-03-21 09:01:20,946][5328 ][monk.mantis ][DEBUG   ][102 ][mantis.py] : gamma in mantis 1\n",
      "[2015-03-21 09:01:20,949][5328 ][monk.svm_solver_dual][DEBUG   ][138 ][mantis.py] : rho0 in svm_solver_dual.trainModel 0.25\n",
      "[2015-03-21 09:01:20,950][5328 ][monk.svm_solver_dual][DEBUG   ][138 ][mantis.py] : num_instances 2\n",
      "[2015-03-21 09:01:20,950][5328 ][monk.mantis ][DEBUG   ][155 ][mantis.py] : q = * * 4097:-0.06896 4098:-0.06896 4099:-0.06896 4100:-0.06896 ...\n",
      "[4101:-0.137930035591,4108:0.0]\n",
      "[2015-03-21 09:01:20,951][5328 ][monk.mantis ][DEBUG   ][156 ][mantis.py] : w = * 4097:-0.1379 4098:-0.1379 4099:-0.1379 4100:-0.1379 ...\n",
      "[4101:-0.275860071182,4108:0.0]\n",
      "[2015-03-21 09:01:20,964][5328 ][monk.turtle ][DEBUG   ][230 ][turtle.py] : training clock 1\n"
     ]
    }
   ],
   "source": [
    "likeT.train()"
   ]
  },
  {
   "cell_type": "code",
   "execution_count": 40,
   "metadata": {
    "collapsed": false
   },
   "outputs": [],
   "source": [
    "from monk.math.cmath import sign0"
   ]
  },
  {
   "cell_type": "markdown",
   "metadata": {},
   "source": [
    "##Prediction##\n",
    "Flask API:\n",
    "- predict(turtleName, creator, ent_id)\n",
    "- creator defaults to 'monk'\n",
    "- ent_id string"
   ]
  },
  {
   "cell_type": "code",
   "execution_count": null,
   "metadata": {
    "collapsed": false
   },
   "outputs": [],
   "source": [
    "likeT = ms.load_turtle(turtleName, creator)\n",
    "ent = ms.load_entity(ent_id)\n",
    "return likeT.pandas[0].predict(ent)\n"
   ]
  },
  {
   "cell_type": "code",
   "execution_count": 41,
   "metadata": {
    "collapsed": false
   },
   "outputs": [
    {
     "data": {
      "text/plain": [
       "0"
      ]
     },
     "execution_count": 41,
     "metadata": {},
     "output_type": "execute_result"
    }
   ],
   "source": [
    "sign0(likeT.pandas[0].predict(ents[3]))"
   ]
  },
  {
   "cell_type": "code",
   "execution_count": null,
   "metadata": {
    "collapsed": false
   },
   "outputs": [],
   "source": []
  }
 ],
 "metadata": {
  "kernelspec": {
   "display_name": "Python 2",
   "language": "python",
   "name": "python2"
  },
  "language_info": {
   "codemirror_mode": {
    "name": "ipython",
    "version": 2
   },
   "file_extension": ".py",
   "mimetype": "text/x-python",
   "name": "python",
   "nbconvert_exporter": "python",
   "pygments_lexer": "ipython2",
   "version": "2.7.6"
  }
 },
 "nbformat": 4,
 "nbformat_minor": 0
}
